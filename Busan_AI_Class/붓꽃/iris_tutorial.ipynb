{
 "cells": [
  {
   "cell_type": "code",
   "execution_count": 1,
   "metadata": {},
   "outputs": [],
   "source": [
    "from sklearn.tree import DecisionTreeClassifier\n",
    "from sklearn.datasets import load_iris\n",
    "from sklearn.model_selection import train_test_split"
   ]
  },
  {
   "cell_type": "code",
   "execution_count": 2,
   "metadata": {},
   "outputs": [
    {
     "data": {
      "text/html": [
       "<div>\n",
       "<style scoped>\n",
       "    .dataframe tbody tr th:only-of-type {\n",
       "        vertical-align: middle;\n",
       "    }\n",
       "\n",
       "    .dataframe tbody tr th {\n",
       "        vertical-align: top;\n",
       "    }\n",
       "\n",
       "    .dataframe thead th {\n",
       "        text-align: right;\n",
       "    }\n",
       "</style>\n",
       "<table border=\"1\" class=\"dataframe\">\n",
       "  <thead>\n",
       "    <tr style=\"text-align: right;\">\n",
       "      <th></th>\n",
       "      <th>sepal length (cm)</th>\n",
       "      <th>sepal width (cm)</th>\n",
       "      <th>petal length (cm)</th>\n",
       "      <th>petal width (cm)</th>\n",
       "    </tr>\n",
       "  </thead>\n",
       "  <tbody>\n",
       "    <tr>\n",
       "      <th>0</th>\n",
       "      <td>5.1</td>\n",
       "      <td>3.5</td>\n",
       "      <td>1.4</td>\n",
       "      <td>0.2</td>\n",
       "    </tr>\n",
       "    <tr>\n",
       "      <th>1</th>\n",
       "      <td>4.9</td>\n",
       "      <td>3.0</td>\n",
       "      <td>1.4</td>\n",
       "      <td>0.2</td>\n",
       "    </tr>\n",
       "    <tr>\n",
       "      <th>2</th>\n",
       "      <td>4.7</td>\n",
       "      <td>3.2</td>\n",
       "      <td>1.3</td>\n",
       "      <td>0.2</td>\n",
       "    </tr>\n",
       "  </tbody>\n",
       "</table>\n",
       "</div>"
      ],
      "text/plain": [
       "   sepal length (cm)  sepal width (cm)  petal length (cm)  petal width (cm)\n",
       "0                5.1               3.5                1.4               0.2\n",
       "1                4.9               3.0                1.4               0.2\n",
       "2                4.7               3.2                1.3               0.2"
      ]
     },
     "execution_count": 2,
     "metadata": {},
     "output_type": "execute_result"
    }
   ],
   "source": [
    "import pandas as pd\n",
    "\n",
    "iris=load_iris()\n",
    "#iris.keys()\n",
    "iris_data = iris.data\n",
    "\n",
    "iris_label = iris.target\n",
    "\n",
    "iris_df = pd.DataFrame(data = iris_data, columns = iris.feature_names)\n",
    "iris_df.head(3)\n",
    "#iris_df['label'] = iris.target\n",
    "#iris_df.head(11)"
   ]
  },
  {
   "cell_type": "code",
   "execution_count": 3,
   "metadata": {},
   "outputs": [
    {
     "data": {
      "text/html": [
       "<div>\n",
       "<style scoped>\n",
       "    .dataframe tbody tr th:only-of-type {\n",
       "        vertical-align: middle;\n",
       "    }\n",
       "\n",
       "    .dataframe tbody tr th {\n",
       "        vertical-align: top;\n",
       "    }\n",
       "\n",
       "    .dataframe thead th {\n",
       "        text-align: right;\n",
       "    }\n",
       "</style>\n",
       "<table border=\"1\" class=\"dataframe\">\n",
       "  <thead>\n",
       "    <tr style=\"text-align: right;\">\n",
       "      <th></th>\n",
       "      <th>sepal length (cm)</th>\n",
       "      <th>sepal width (cm)</th>\n",
       "      <th>petal length (cm)</th>\n",
       "      <th>petal width (cm)</th>\n",
       "    </tr>\n",
       "  </thead>\n",
       "  <tbody>\n",
       "    <tr>\n",
       "      <th>118</th>\n",
       "      <td>7.7</td>\n",
       "      <td>2.6</td>\n",
       "      <td>6.9</td>\n",
       "      <td>2.3</td>\n",
       "    </tr>\n",
       "    <tr>\n",
       "      <th>33</th>\n",
       "      <td>5.5</td>\n",
       "      <td>4.2</td>\n",
       "      <td>1.4</td>\n",
       "      <td>0.2</td>\n",
       "    </tr>\n",
       "    <tr>\n",
       "      <th>127</th>\n",
       "      <td>6.1</td>\n",
       "      <td>3.0</td>\n",
       "      <td>4.9</td>\n",
       "      <td>1.8</td>\n",
       "    </tr>\n",
       "    <tr>\n",
       "      <th>54</th>\n",
       "      <td>6.5</td>\n",
       "      <td>2.8</td>\n",
       "      <td>4.6</td>\n",
       "      <td>1.5</td>\n",
       "    </tr>\n",
       "    <tr>\n",
       "      <th>49</th>\n",
       "      <td>5.0</td>\n",
       "      <td>3.3</td>\n",
       "      <td>1.4</td>\n",
       "      <td>0.2</td>\n",
       "    </tr>\n",
       "  </tbody>\n",
       "</table>\n",
       "</div>"
      ],
      "text/plain": [
       "     sepal length (cm)  sepal width (cm)  petal length (cm)  petal width (cm)\n",
       "118                7.7               2.6                6.9               2.3\n",
       "33                 5.5               4.2                1.4               0.2\n",
       "127                6.1               3.0                4.9               1.8\n",
       "54                 6.5               2.8                4.6               1.5\n",
       "49                 5.0               3.3                1.4               0.2"
      ]
     },
     "execution_count": 3,
     "metadata": {},
     "output_type": "execute_result"
    }
   ],
   "source": [
    "iris_train_X, iris_test_X, iris_train_Y, iris_test_Y = train_test_split(iris_df, iris_label, test_size=0.3, random_state=15000)\n",
    "\n",
    "iris_train_X.head(5)"
   ]
  },
  {
   "cell_type": "code",
   "execution_count": 4,
   "metadata": {},
   "outputs": [
    {
     "data": {
      "text/plain": [
       "DecisionTreeClassifier(random_state=11)"
      ]
     },
     "execution_count": 4,
     "metadata": {},
     "output_type": "execute_result"
    }
   ],
   "source": [
    "dt_clf = DecisionTreeClassifier(random_state=11) #DecisionTree_Classifier -> dt_clf\n",
    "\n",
    "dt_clf.fit(iris_train_X, iris_train_Y)"
   ]
  },
  {
   "cell_type": "code",
   "execution_count": 5,
   "metadata": {},
   "outputs": [],
   "source": [
    "pred = dt_clf.predict(iris_test_X)"
   ]
  },
  {
   "cell_type": "code",
   "execution_count": 6,
   "metadata": {},
   "outputs": [
    {
     "name": "stdout",
     "output_type": "stream",
     "text": [
      "accuracy: 0.9778\n"
     ]
    }
   ],
   "source": [
    "from sklearn.metrics import accuracy_score\n",
    "print('accuracy: {0:.4f}'.format(accuracy_score(iris_test_Y,pred)))"
   ]
  },
  {
   "cell_type": "code",
   "execution_count": 7,
   "metadata": {},
   "outputs": [
    {
     "name": "stdout",
     "output_type": "stream",
     "text": [
      "DecisionTreeClassifier 정확도: 0.9778\n",
      "RandomForestClassifier 정확도:0.9556\n",
      "LogisticRegression 정확도: 0.9778\n"
     ]
    }
   ],
   "source": [
    "from sklearn.tree import DecisionTreeClassifier\n",
    "from sklearn.ensemble import RandomForestClassifier\n",
    "from sklearn.linear_model import LogisticRegression\n",
    "from sklearn.metrics import accuracy_score\n",
    "\n",
    "# 결정트리, Random Forest, 로지스틱 회귀를 위한 사이킷런 Classifier 클래스 생성\n",
    "dt_clf = DecisionTreeClassifier(random_state=11)\n",
    "rf_clf = RandomForestClassifier(random_state=11)\n",
    "lr_clf = LogisticRegression()\n",
    "\n",
    "# DecisionTreeClassifier 학습/예측/평가\n",
    "dt_clf.fit(iris_train_X , iris_train_Y)\n",
    "dt_pred = dt_clf.predict(iris_test_X)\n",
    "print('DecisionTreeClassifier 정확도: {0:.4f}'.format(accuracy_score(iris_test_Y, dt_pred)))\n",
    "\n",
    "# RandomForestClassifier 학습/예측/평가\n",
    "rf_clf.fit(iris_train_X , iris_train_Y)\n",
    "rf_pred = rf_clf.predict(iris_test_X)\n",
    "print('RandomForestClassifier 정확도:{0:.4f}'.format(accuracy_score(iris_test_Y, rf_pred)))\n",
    "\n",
    "# LogisticRegression 학습/예측/평가\n",
    "lr_clf.fit(iris_train_X , iris_train_Y)\n",
    "lr_pred = lr_clf.predict(iris_test_X)\n",
    "print('LogisticRegression 정확도: {0:.4f}'.format(accuracy_score(iris_test_Y, lr_pred)))\n"
   ]
  },
  {
   "cell_type": "markdown",
   "metadata": {
    "id": "eFwy0Vz1UpMz"
   },
   "source": [
    "## Decision tree training and visualization"
   ]
  },
  {
   "cell_type": "markdown",
   "metadata": {
    "id": "iFSz9ctCg3-W"
   },
   "source": [
    "sklearn => sci-kit learn module <br>\n",
    "DecisionTree Classifier : 의사결정트리"
   ]
  },
  {
   "cell_type": "code",
   "execution_count": 7,
   "metadata": {
    "id": "igGmROcTUpMz"
   },
   "outputs": [],
   "source": [
    "from sklearn.tree import DecisionTreeClassifier\n",
    "tree_clf = DecisionTreeClassifier(criterion='entropy', max_depth=2)"
   ]
  },
  {
   "cell_type": "code",
   "execution_count": 13,
   "metadata": {
    "colab": {
     "base_uri": "https://localhost:8080/",
     "height": 251
    },
    "id": "Grr9ZivBUpM1",
    "outputId": "c1c4cc3d-10af-4485-e699-a3b4996e232f"
   },
   "outputs": [
    {
     "data": {
      "text/plain": [
       "['sepal length (cm)', 'sepal width (cm)', 'petal length (cm)']"
      ]
     },
     "execution_count": 13,
     "metadata": {},
     "output_type": "execute_result"
    }
   ],
   "source": [
    "features = list(iris_train_X.columns[:-1])\n",
    "features"
   ]
  },
  {
   "cell_type": "code",
   "execution_count": 16,
   "metadata": {
    "id": "uklL-wWMUpM4"
   },
   "outputs": [],
   "source": [
    "X = iris_train_X[features]\n",
    "# y = iris_train_Y['target']\n",
    "y = iris_train_Y"
   ]
  },
  {
   "cell_type": "code",
   "execution_count": 17,
   "metadata": {
    "colab": {
     "base_uri": "https://localhost:8080/",
     "height": 125
    },
    "id": "IMIVgiR2UpM6",
    "outputId": "938a6e11-925e-4047-e42d-0f64fdcabce7"
   },
   "outputs": [
    {
     "data": {
      "text/plain": [
       "DecisionTreeClassifier(criterion='entropy', max_depth=2)"
      ]
     },
     "execution_count": 17,
     "metadata": {},
     "output_type": "execute_result"
    }
   ],
   "source": [
    "tree_clf.fit(X,y)"
   ]
  },
  {
   "cell_type": "code",
   "execution_count": 18,
   "metadata": {
    "id": "E66ocAtrUpM8"
   },
   "outputs": [],
   "source": [
    "from sklearn.tree import export_graphviz\n",
    "export_graphviz(\n",
    "    tree_clf,\n",
    "    out_file='Decision_tree.dot',\n",
    "    feature_names=features,\n",
    "    rounded=True,\n",
    "    filled=True\n",
    ")"
   ]
  },
  {
   "cell_type": "code",
   "execution_count": 19,
   "metadata": {
    "colab": {
     "base_uri": "https://localhost:8080/",
     "height": 379
    },
    "id": "AC3GJSVEUpM-",
    "outputId": "bebd3700-abdf-44dd-801e-a79e78e63a24"
   },
   "outputs": [
    {
     "data": {
      "image/svg+xml": [
       "<?xml version=\"1.0\" encoding=\"UTF-8\" standalone=\"no\"?>\r\n",
       "<!DOCTYPE svg PUBLIC \"-//W3C//DTD SVG 1.1//EN\"\r\n",
       " \"http://www.w3.org/Graphics/SVG/1.1/DTD/svg11.dtd\">\r\n",
       "<!-- Generated by graphviz version 2.47.1 (20210417.1919)\r\n",
       " -->\r\n",
       "<!-- Title: Tree Pages: 1 -->\r\n",
       "<svg width=\"364pt\" height=\"269pt\"\r\n",
       " viewBox=\"0.00 0.00 364.00 269.00\" xmlns=\"http://www.w3.org/2000/svg\" xmlns:xlink=\"http://www.w3.org/1999/xlink\">\r\n",
       "<g id=\"graph0\" class=\"graph\" transform=\"scale(1 1) rotate(0) translate(4 265)\">\r\n",
       "<title>Tree</title>\r\n",
       "<polygon fill=\"white\" stroke=\"transparent\" points=\"-4,4 -4,-265 360,-265 360,4 -4,4\"/>\r\n",
       "<!-- 0 -->\r\n",
       "<g id=\"node1\" class=\"node\">\r\n",
       "<title>0</title>\r\n",
       "<path fill=\"#fffdfc\" stroke=\"black\" d=\"M214.5,-261C214.5,-261 72.5,-261 72.5,-261 66.5,-261 60.5,-255 60.5,-249 60.5,-249 60.5,-205 60.5,-205 60.5,-199 66.5,-193 72.5,-193 72.5,-193 214.5,-193 214.5,-193 220.5,-193 226.5,-199 226.5,-205 226.5,-205 226.5,-249 226.5,-249 226.5,-255 220.5,-261 214.5,-261\"/>\r\n",
       "<text text-anchor=\"middle\" x=\"143.5\" y=\"-245.8\" font-family=\"Helvetica,sans-Serif\" font-size=\"14.00\">petal length (cm) &lt;= 2.6</text>\r\n",
       "<text text-anchor=\"middle\" x=\"143.5\" y=\"-230.8\" font-family=\"Helvetica,sans-Serif\" font-size=\"14.00\">entropy = 1.582</text>\r\n",
       "<text text-anchor=\"middle\" x=\"143.5\" y=\"-215.8\" font-family=\"Helvetica,sans-Serif\" font-size=\"14.00\">samples = 105</text>\r\n",
       "<text text-anchor=\"middle\" x=\"143.5\" y=\"-200.8\" font-family=\"Helvetica,sans-Serif\" font-size=\"14.00\">value = [37, 32, 36]</text>\r\n",
       "</g>\r\n",
       "<!-- 1 -->\r\n",
       "<g id=\"node2\" class=\"node\">\r\n",
       "<title>1</title>\r\n",
       "<path fill=\"#e58139\" stroke=\"black\" d=\"M109,-149.5C109,-149.5 12,-149.5 12,-149.5 6,-149.5 0,-143.5 0,-137.5 0,-137.5 0,-108.5 0,-108.5 0,-102.5 6,-96.5 12,-96.5 12,-96.5 109,-96.5 109,-96.5 115,-96.5 121,-102.5 121,-108.5 121,-108.5 121,-137.5 121,-137.5 121,-143.5 115,-149.5 109,-149.5\"/>\r\n",
       "<text text-anchor=\"middle\" x=\"60.5\" y=\"-134.3\" font-family=\"Helvetica,sans-Serif\" font-size=\"14.00\">entropy = 0.0</text>\r\n",
       "<text text-anchor=\"middle\" x=\"60.5\" y=\"-119.3\" font-family=\"Helvetica,sans-Serif\" font-size=\"14.00\">samples = 37</text>\r\n",
       "<text text-anchor=\"middle\" x=\"60.5\" y=\"-104.3\" font-family=\"Helvetica,sans-Serif\" font-size=\"14.00\">value = [37, 0, 0]</text>\r\n",
       "</g>\r\n",
       "<!-- 0&#45;&gt;1 -->\r\n",
       "<g id=\"edge1\" class=\"edge\">\r\n",
       "<title>0&#45;&gt;1</title>\r\n",
       "<path fill=\"none\" stroke=\"black\" d=\"M116.55,-192.88C107.33,-181.56 97.02,-168.88 87.78,-157.52\"/>\r\n",
       "<polygon fill=\"black\" stroke=\"black\" points=\"90.29,-155.07 81.27,-149.52 84.86,-159.49 90.29,-155.07\"/>\r\n",
       "<text text-anchor=\"middle\" x=\"78.71\" y=\"-170.69\" font-family=\"Helvetica,sans-Serif\" font-size=\"14.00\">True</text>\r\n",
       "</g>\r\n",
       "<!-- 2 -->\r\n",
       "<g id=\"node3\" class=\"node\">\r\n",
       "<title>2</title>\r\n",
       "<path fill=\"#f1e9fc\" stroke=\"black\" d=\"M301.5,-157C301.5,-157 151.5,-157 151.5,-157 145.5,-157 139.5,-151 139.5,-145 139.5,-145 139.5,-101 139.5,-101 139.5,-95 145.5,-89 151.5,-89 151.5,-89 301.5,-89 301.5,-89 307.5,-89 313.5,-95 313.5,-101 313.5,-101 313.5,-145 313.5,-145 313.5,-151 307.5,-157 301.5,-157\"/>\r\n",
       "<text text-anchor=\"middle\" x=\"226.5\" y=\"-141.8\" font-family=\"Helvetica,sans-Serif\" font-size=\"14.00\">petal length (cm) &lt;= 4.75</text>\r\n",
       "<text text-anchor=\"middle\" x=\"226.5\" y=\"-126.8\" font-family=\"Helvetica,sans-Serif\" font-size=\"14.00\">entropy = 0.998</text>\r\n",
       "<text text-anchor=\"middle\" x=\"226.5\" y=\"-111.8\" font-family=\"Helvetica,sans-Serif\" font-size=\"14.00\">samples = 68</text>\r\n",
       "<text text-anchor=\"middle\" x=\"226.5\" y=\"-96.8\" font-family=\"Helvetica,sans-Serif\" font-size=\"14.00\">value = [0, 32, 36]</text>\r\n",
       "</g>\r\n",
       "<!-- 0&#45;&gt;2 -->\r\n",
       "<g id=\"edge2\" class=\"edge\">\r\n",
       "<title>0&#45;&gt;2</title>\r\n",
       "<path fill=\"none\" stroke=\"black\" d=\"M170.45,-192.88C177.62,-184.07 185.46,-174.43 192.95,-165.24\"/>\r\n",
       "<polygon fill=\"black\" stroke=\"black\" points=\"195.81,-167.26 199.4,-157.3 190.38,-162.85 195.81,-167.26\"/>\r\n",
       "<text text-anchor=\"middle\" x=\"201.96\" y=\"-178.47\" font-family=\"Helvetica,sans-Serif\" font-size=\"14.00\">False</text>\r\n",
       "</g>\r\n",
       "<!-- 3 -->\r\n",
       "<g id=\"node4\" class=\"node\">\r\n",
       "<title>3</title>\r\n",
       "<path fill=\"#40e685\" stroke=\"black\" d=\"M205,-53C205,-53 108,-53 108,-53 102,-53 96,-47 96,-41 96,-41 96,-12 96,-12 96,-6 102,0 108,0 108,0 205,0 205,0 211,0 217,-6 217,-12 217,-12 217,-41 217,-41 217,-47 211,-53 205,-53\"/>\r\n",
       "<text text-anchor=\"middle\" x=\"156.5\" y=\"-37.8\" font-family=\"Helvetica,sans-Serif\" font-size=\"14.00\">entropy = 0.211</text>\r\n",
       "<text text-anchor=\"middle\" x=\"156.5\" y=\"-22.8\" font-family=\"Helvetica,sans-Serif\" font-size=\"14.00\">samples = 30</text>\r\n",
       "<text text-anchor=\"middle\" x=\"156.5\" y=\"-7.8\" font-family=\"Helvetica,sans-Serif\" font-size=\"14.00\">value = [0, 29, 1]</text>\r\n",
       "</g>\r\n",
       "<!-- 2&#45;&gt;3 -->\r\n",
       "<g id=\"edge3\" class=\"edge\">\r\n",
       "<title>2&#45;&gt;3</title>\r\n",
       "<path fill=\"none\" stroke=\"black\" d=\"M202.02,-88.95C195.44,-80.07 188.33,-70.46 181.71,-61.54\"/>\r\n",
       "<polygon fill=\"black\" stroke=\"black\" points=\"184.33,-59.19 175.56,-53.24 178.7,-63.36 184.33,-59.19\"/>\r\n",
       "</g>\r\n",
       "<!-- 4 -->\r\n",
       "<g id=\"node5\" class=\"node\">\r\n",
       "<title>4</title>\r\n",
       "<path fill=\"#8c4ae7\" stroke=\"black\" d=\"M344,-53C344,-53 247,-53 247,-53 241,-53 235,-47 235,-41 235,-41 235,-12 235,-12 235,-6 241,0 247,0 247,0 344,0 344,0 350,0 356,-6 356,-12 356,-12 356,-41 356,-41 356,-47 350,-53 344,-53\"/>\r\n",
       "<text text-anchor=\"middle\" x=\"295.5\" y=\"-37.8\" font-family=\"Helvetica,sans-Serif\" font-size=\"14.00\">entropy = 0.398</text>\r\n",
       "<text text-anchor=\"middle\" x=\"295.5\" y=\"-22.8\" font-family=\"Helvetica,sans-Serif\" font-size=\"14.00\">samples = 38</text>\r\n",
       "<text text-anchor=\"middle\" x=\"295.5\" y=\"-7.8\" font-family=\"Helvetica,sans-Serif\" font-size=\"14.00\">value = [0, 3, 35]</text>\r\n",
       "</g>\r\n",
       "<!-- 2&#45;&gt;4 -->\r\n",
       "<g id=\"edge4\" class=\"edge\">\r\n",
       "<title>2&#45;&gt;4</title>\r\n",
       "<path fill=\"none\" stroke=\"black\" d=\"M250.63,-88.95C257.11,-80.07 264.13,-70.46 270.65,-61.54\"/>\r\n",
       "<polygon fill=\"black\" stroke=\"black\" points=\"273.64,-63.38 276.71,-53.24 267.98,-59.25 273.64,-63.38\"/>\r\n",
       "</g>\r\n",
       "</g>\r\n",
       "</svg>\r\n"
      ],
      "text/plain": [
       "<graphviz.files.Source at 0x233db56c910>"
      ]
     },
     "metadata": {},
     "output_type": "display_data"
    }
   ],
   "source": [
    "import graphviz\n",
    "from IPython.display import display\n",
    "with open('wine_tree.dot') as f:\n",
    "    dot_graph = f.read()\n",
    "dot = graphviz.Source(dot_graph)\n",
    "dot.format = 'png'\n",
    "dot.render(filename='wine_tree', directory='./',cleanup=True)\n",
    "display(dot)"
   ]
  },
  {
   "cell_type": "markdown",
   "metadata": {
    "id": "M0AQGZNXUpNA"
   },
   "source": [
    "## Result of Decision Tree"
   ]
  },
  {
   "cell_type": "code",
   "execution_count": 22,
   "metadata": {
    "id": "raHIuG_8UpNA"
   },
   "outputs": [],
   "source": [
    "X_test = iris_test_X[features]\n",
    "y_test = iris_test_Y"
   ]
  },
  {
   "cell_type": "code",
   "execution_count": 23,
   "metadata": {
    "id": "smwS4DBPUpNC"
   },
   "outputs": [],
   "source": [
    "y_pred = tree_clf.predict(X_test)"
   ]
  },
  {
   "cell_type": "code",
   "execution_count": 24,
   "metadata": {
    "colab": {
     "base_uri": "https://localhost:8080/",
     "height": 251
    },
    "id": "Xa7IMsPsUpNE",
    "outputId": "526b497a-c183-43fa-faf4-b0c0387bdd7e"
   },
   "outputs": [
    {
     "name": "stdout",
     "output_type": "stream",
     "text": [
      "[[13  0  0]\n",
      " [ 0 15  3]\n",
      " [ 0  0 14]]\n",
      "              precision    recall  f1-score   support\n",
      "\n",
      "           0       1.00      1.00      1.00        13\n",
      "           1       1.00      0.83      0.91        18\n",
      "           2       0.82      1.00      0.90        14\n",
      "\n",
      "    accuracy                           0.93        45\n",
      "   macro avg       0.94      0.94      0.94        45\n",
      "weighted avg       0.95      0.93      0.93        45\n",
      "\n"
     ]
    }
   ],
   "source": [
    "from sklearn.metrics import classification_report, confusion_matrix\n",
    "print(confusion_matrix(y_test, y_pred))\n",
    "print(classification_report(y_test,y_pred))\n",
    "# precision : 정밀도\n",
    "# recall : 재현율\n",
    "# https://ko.wikipedia.org/wiki/%EC%A0%95%EB%B0%80%EB%8F%84%EC%99%80_%EC%9E%AC%ED%98%84%EC%9C%A8"
   ]
  },
  {
   "cell_type": "markdown",
   "metadata": {
    "id": "dzfdTUu_OqNf"
   },
   "source": [
    "<hr>\n",
    "\n",
    "## <h1> gini index vs entropy"
   ]
  },
  {
   "cell_type": "markdown",
   "metadata": {
    "id": "4jxwPtnEFHGl"
   },
   "source": [
    "Decision Tree에서 탐색기준을 Gini index vs Entropy를 사용한다.\n",
    "Gini SCORE는 지니계수의 계산식을 차용하여 정보이득량(불순도)을 계산하며\n",
    "\n",
    "```\n",
    "#Gini SCORE\n",
    "def giniscore(node):\n",
    "    nodesum, percents = calcpercent(node)\n",
    "    score = round(1 - sum([i**2 for i in percents.values()]), 3) #node의 개수:3\n",
    "    print('Gini Score for node {} : {}'.format(node, score))\n",
    "    return score\n",
    "```\n",
    "Entropy SCORE는 열역학에서의 엔트로피의 계산식을 차용하여 정보이득량(불순도)을 계산한다. \n",
    "\n",
    "```\n",
    "#Entropy SCORE\n",
    "\n",
    "def entropyscore(node):\n",
    "    nodesum, percents = calcpercent(node)\n",
    "    score = round(sum([-i*log(i,2) for i in percents.values()]), 3) #node의 개수:3\n",
    "    print('Entropy Score for node {} : {}'.format(node, score))\n",
    "    return score\n",
    "```\n",
    "코드 출처 : https://thatascience.com/learn-machine-learning/gini-entropy/\n",
    "\n"
   ]
  },
  {
   "cell_type": "markdown",
   "metadata": {
    "id": "f65wqoEbmZ0o"
   },
   "source": [
    "# 의사결정트리 training with iris Data\n",
    "\n"
   ]
  },
  {
   "cell_type": "markdown",
   "metadata": {
    "id": "eiJVJ5hknKnn"
   },
   "source": [
    "iris데이터에 대해\n",
    "<br>criterion는 'entropy' / 'gini' 둘다 수행  \n",
    "max_depth는 2\\~4까지 수행\n",
    "<p>Iris data sets consists of 3 different types of irises’<br> (Setosa, Versicolour, and Virginica) petal and sepal length, <br> stored in a 150x4 numpy.ndarray</p>"
   ]
  },
  {
   "cell_type": "markdown",
   "metadata": {
    "id": "CGUPjhTa8Bff"
   },
   "source": [
    "## <h1>DATA LOAD</h1>"
   ]
  },
  {
   "cell_type": "code",
   "execution_count": 25,
   "metadata": {
    "colab": {
     "base_uri": "https://localhost:8080/",
     "height": 35
    },
    "id": "a9vg6XXSnUz-",
    "outputId": "71f4af06-6a52-4934-84ff-07a81a5f4add"
   },
   "outputs": [
    {
     "data": {
      "text/plain": [
       "dict_keys(['data', 'target', 'frame', 'target_names', 'DESCR', 'feature_names', 'filename'])"
      ]
     },
     "execution_count": 25,
     "metadata": {},
     "output_type": "execute_result"
    }
   ],
   "source": [
    "from sklearn.datasets import load_iris\n",
    "iris=load_iris()\n",
    "iris.keys()"
   ]
  },
  {
   "cell_type": "code",
   "execution_count": 26,
   "metadata": {
    "colab": {
     "base_uri": "https://localhost:8080/",
     "height": 35
    },
    "id": "_UEP84Jq42dR",
    "outputId": "7b902128-ec2c-46bd-d382-395a1ca23f72"
   },
   "outputs": [
    {
     "data": {
      "text/plain": [
       "array(['setosa', 'versicolor', 'virginica'], dtype='<U10')"
      ]
     },
     "execution_count": 26,
     "metadata": {},
     "output_type": "execute_result"
    }
   ],
   "source": [
    "iris['target_names']"
   ]
  },
  {
   "cell_type": "markdown",
   "metadata": {
    "id": "AIMyRkGl7RzH"
   },
   "source": [
    "pd : Panda Module, np : numpy module"
   ]
  },
  {
   "cell_type": "code",
   "execution_count": 28,
   "metadata": {
    "colab": {
     "base_uri": "https://localhost:8080/",
     "height": 233
    },
    "id": "xa1CYNYJ6PiZ",
    "outputId": "a258b16b-7442-421e-dbff-d37ecd768d62"
   },
   "outputs": [
    {
     "name": "stdout",
     "output_type": "stream",
     "text": [
      "<class 'pandas.core.frame.DataFrame'>\n",
      "RangeIndex: 150 entries, 0 to 149\n",
      "Data columns (total 5 columns):\n",
      " #   Column             Non-Null Count  Dtype  \n",
      "---  ------             --------------  -----  \n",
      " 0   sepal length (cm)  150 non-null    float64\n",
      " 1   sepal width (cm)   150 non-null    float64\n",
      " 2   petal length (cm)  150 non-null    float64\n",
      " 3   petal width (cm)   150 non-null    float64\n",
      " 4   target             150 non-null    float64\n",
      "dtypes: float64(5)\n",
      "memory usage: 6.0 KB\n"
     ]
    }
   ],
   "source": [
    "import numpy as np\n",
    "iris_pd = pd.DataFrame(data= np.c_[iris['data'], iris['target']],\n",
    "                      columns= iris['feature_names']+['target'])\n",
    "iris_pd.info()"
   ]
  },
  {
   "cell_type": "markdown",
   "metadata": {
    "id": "jeDpYrWz60J_"
   },
   "source": [
    "## <h1>SPLIT</h1>"
   ]
  },
  {
   "cell_type": "markdown",
   "metadata": {
    "id": "gKq4RncW7YxP"
   },
   "source": [
    "<p>iris의 데이터들을 학습용 데이터셋과 학습결과 확인용 데이터 셋으로 나눈다.</p>"
   ]
  },
  {
   "cell_type": "code",
   "execution_count": 29,
   "metadata": {
    "colab": {
     "base_uri": "https://localhost:8080/",
     "height": 485
    },
    "id": "Ysuu5NAl6wwo",
    "outputId": "ee4e54e3-3d16-4907-f3e7-8a4babf1f1cb"
   },
   "outputs": [
    {
     "name": "stdout",
     "output_type": "stream",
     "text": [
      "<class 'pandas.core.frame.DataFrame'>\n",
      "Int64Index: 120 entries, 130 to 109\n",
      "Data columns (total 5 columns):\n",
      " #   Column             Non-Null Count  Dtype  \n",
      "---  ------             --------------  -----  \n",
      " 0   sepal length (cm)  120 non-null    float64\n",
      " 1   sepal width (cm)   120 non-null    float64\n",
      " 2   petal length (cm)  120 non-null    float64\n",
      " 3   petal width (cm)   120 non-null    float64\n",
      " 4   target             120 non-null    float64\n",
      "dtypes: float64(5)\n",
      "memory usage: 5.6 KB\n",
      "None\n",
      "<class 'pandas.core.frame.DataFrame'>\n",
      "Int64Index: 30 entries, 72 to 4\n",
      "Data columns (total 5 columns):\n",
      " #   Column             Non-Null Count  Dtype  \n",
      "---  ------             --------------  -----  \n",
      " 0   sepal length (cm)  30 non-null     float64\n",
      " 1   sepal width (cm)   30 non-null     float64\n",
      " 2   petal length (cm)  30 non-null     float64\n",
      " 3   petal width (cm)   30 non-null     float64\n",
      " 4   target             30 non-null     float64\n",
      "dtypes: float64(5)\n",
      "memory usage: 1.4 KB\n",
      "None\n"
     ]
    }
   ],
   "source": [
    "from sklearn.model_selection import train_test_split\n",
    "iris_train_set, iris_test_set = train_test_split(iris_pd, test_size=0.2, random_state=123)\n",
    "print(iris_train_set.info())\n",
    "print(iris_test_set.info())"
   ]
  },
  {
   "cell_type": "markdown",
   "metadata": {
    "id": "Wu1lwM2G8TMk"
   },
   "source": [
    "<p>학습데이터 중 가장 상단의 30개의 데이터를 출력(앞에서 30개)</p>"
   ]
  },
  {
   "cell_type": "code",
   "execution_count": 30,
   "metadata": {
    "colab": {
     "base_uri": "https://localhost:8080/",
     "height": 979
    },
    "id": "JdnRh-jm7I1p",
    "outputId": "02bcb718-6374-4ce2-a672-910d19ec53e2"
   },
   "outputs": [
    {
     "data": {
      "text/html": [
       "<div>\n",
       "<style scoped>\n",
       "    .dataframe tbody tr th:only-of-type {\n",
       "        vertical-align: middle;\n",
       "    }\n",
       "\n",
       "    .dataframe tbody tr th {\n",
       "        vertical-align: top;\n",
       "    }\n",
       "\n",
       "    .dataframe thead th {\n",
       "        text-align: right;\n",
       "    }\n",
       "</style>\n",
       "<table border=\"1\" class=\"dataframe\">\n",
       "  <thead>\n",
       "    <tr style=\"text-align: right;\">\n",
       "      <th></th>\n",
       "      <th>sepal length (cm)</th>\n",
       "      <th>sepal width (cm)</th>\n",
       "      <th>petal length (cm)</th>\n",
       "      <th>petal width (cm)</th>\n",
       "      <th>target</th>\n",
       "    </tr>\n",
       "  </thead>\n",
       "  <tbody>\n",
       "    <tr>\n",
       "      <th>130</th>\n",
       "      <td>7.4</td>\n",
       "      <td>2.8</td>\n",
       "      <td>6.1</td>\n",
       "      <td>1.9</td>\n",
       "      <td>2.0</td>\n",
       "    </tr>\n",
       "    <tr>\n",
       "      <th>119</th>\n",
       "      <td>6.0</td>\n",
       "      <td>2.2</td>\n",
       "      <td>5.0</td>\n",
       "      <td>1.5</td>\n",
       "      <td>2.0</td>\n",
       "    </tr>\n",
       "    <tr>\n",
       "      <th>29</th>\n",
       "      <td>4.7</td>\n",
       "      <td>3.2</td>\n",
       "      <td>1.6</td>\n",
       "      <td>0.2</td>\n",
       "      <td>0.0</td>\n",
       "    </tr>\n",
       "    <tr>\n",
       "      <th>0</th>\n",
       "      <td>5.1</td>\n",
       "      <td>3.5</td>\n",
       "      <td>1.4</td>\n",
       "      <td>0.2</td>\n",
       "      <td>0.0</td>\n",
       "    </tr>\n",
       "    <tr>\n",
       "      <th>62</th>\n",
       "      <td>6.0</td>\n",
       "      <td>2.2</td>\n",
       "      <td>4.0</td>\n",
       "      <td>1.0</td>\n",
       "      <td>1.0</td>\n",
       "    </tr>\n",
       "    <tr>\n",
       "      <th>93</th>\n",
       "      <td>5.0</td>\n",
       "      <td>2.3</td>\n",
       "      <td>3.3</td>\n",
       "      <td>1.0</td>\n",
       "      <td>1.0</td>\n",
       "    </tr>\n",
       "    <tr>\n",
       "      <th>131</th>\n",
       "      <td>7.9</td>\n",
       "      <td>3.8</td>\n",
       "      <td>6.4</td>\n",
       "      <td>2.0</td>\n",
       "      <td>2.0</td>\n",
       "    </tr>\n",
       "    <tr>\n",
       "      <th>5</th>\n",
       "      <td>5.4</td>\n",
       "      <td>3.9</td>\n",
       "      <td>1.7</td>\n",
       "      <td>0.4</td>\n",
       "      <td>0.0</td>\n",
       "    </tr>\n",
       "    <tr>\n",
       "      <th>16</th>\n",
       "      <td>5.4</td>\n",
       "      <td>3.9</td>\n",
       "      <td>1.3</td>\n",
       "      <td>0.4</td>\n",
       "      <td>0.0</td>\n",
       "    </tr>\n",
       "    <tr>\n",
       "      <th>82</th>\n",
       "      <td>5.8</td>\n",
       "      <td>2.7</td>\n",
       "      <td>3.9</td>\n",
       "      <td>1.2</td>\n",
       "      <td>1.0</td>\n",
       "    </tr>\n",
       "    <tr>\n",
       "      <th>60</th>\n",
       "      <td>5.0</td>\n",
       "      <td>2.0</td>\n",
       "      <td>3.5</td>\n",
       "      <td>1.0</td>\n",
       "      <td>1.0</td>\n",
       "    </tr>\n",
       "    <tr>\n",
       "      <th>35</th>\n",
       "      <td>5.0</td>\n",
       "      <td>3.2</td>\n",
       "      <td>1.2</td>\n",
       "      <td>0.2</td>\n",
       "      <td>0.0</td>\n",
       "    </tr>\n",
       "    <tr>\n",
       "      <th>143</th>\n",
       "      <td>6.8</td>\n",
       "      <td>3.2</td>\n",
       "      <td>5.9</td>\n",
       "      <td>2.3</td>\n",
       "      <td>2.0</td>\n",
       "    </tr>\n",
       "    <tr>\n",
       "      <th>145</th>\n",
       "      <td>6.7</td>\n",
       "      <td>3.0</td>\n",
       "      <td>5.2</td>\n",
       "      <td>2.3</td>\n",
       "      <td>2.0</td>\n",
       "    </tr>\n",
       "    <tr>\n",
       "      <th>142</th>\n",
       "      <td>5.8</td>\n",
       "      <td>2.7</td>\n",
       "      <td>5.1</td>\n",
       "      <td>1.9</td>\n",
       "      <td>2.0</td>\n",
       "    </tr>\n",
       "    <tr>\n",
       "      <th>114</th>\n",
       "      <td>5.8</td>\n",
       "      <td>2.8</td>\n",
       "      <td>5.1</td>\n",
       "      <td>2.4</td>\n",
       "      <td>2.0</td>\n",
       "    </tr>\n",
       "    <tr>\n",
       "      <th>136</th>\n",
       "      <td>6.3</td>\n",
       "      <td>3.4</td>\n",
       "      <td>5.6</td>\n",
       "      <td>2.4</td>\n",
       "      <td>2.0</td>\n",
       "    </tr>\n",
       "    <tr>\n",
       "      <th>53</th>\n",
       "      <td>5.5</td>\n",
       "      <td>2.3</td>\n",
       "      <td>4.0</td>\n",
       "      <td>1.3</td>\n",
       "      <td>1.0</td>\n",
       "    </tr>\n",
       "    <tr>\n",
       "      <th>19</th>\n",
       "      <td>5.1</td>\n",
       "      <td>3.8</td>\n",
       "      <td>1.5</td>\n",
       "      <td>0.3</td>\n",
       "      <td>0.0</td>\n",
       "    </tr>\n",
       "    <tr>\n",
       "      <th>38</th>\n",
       "      <td>4.4</td>\n",
       "      <td>3.0</td>\n",
       "      <td>1.3</td>\n",
       "      <td>0.2</td>\n",
       "      <td>0.0</td>\n",
       "    </tr>\n",
       "    <tr>\n",
       "      <th>110</th>\n",
       "      <td>6.5</td>\n",
       "      <td>3.2</td>\n",
       "      <td>5.1</td>\n",
       "      <td>2.0</td>\n",
       "      <td>2.0</td>\n",
       "    </tr>\n",
       "    <tr>\n",
       "      <th>23</th>\n",
       "      <td>5.1</td>\n",
       "      <td>3.3</td>\n",
       "      <td>1.7</td>\n",
       "      <td>0.5</td>\n",
       "      <td>0.0</td>\n",
       "    </tr>\n",
       "    <tr>\n",
       "      <th>9</th>\n",
       "      <td>4.9</td>\n",
       "      <td>3.1</td>\n",
       "      <td>1.5</td>\n",
       "      <td>0.1</td>\n",
       "      <td>0.0</td>\n",
       "    </tr>\n",
       "    <tr>\n",
       "      <th>86</th>\n",
       "      <td>6.7</td>\n",
       "      <td>3.1</td>\n",
       "      <td>4.7</td>\n",
       "      <td>1.5</td>\n",
       "      <td>1.0</td>\n",
       "    </tr>\n",
       "    <tr>\n",
       "      <th>91</th>\n",
       "      <td>6.1</td>\n",
       "      <td>3.0</td>\n",
       "      <td>4.6</td>\n",
       "      <td>1.4</td>\n",
       "      <td>1.0</td>\n",
       "    </tr>\n",
       "    <tr>\n",
       "      <th>89</th>\n",
       "      <td>5.5</td>\n",
       "      <td>2.5</td>\n",
       "      <td>4.0</td>\n",
       "      <td>1.3</td>\n",
       "      <td>1.0</td>\n",
       "    </tr>\n",
       "    <tr>\n",
       "      <th>79</th>\n",
       "      <td>5.7</td>\n",
       "      <td>2.6</td>\n",
       "      <td>3.5</td>\n",
       "      <td>1.0</td>\n",
       "      <td>1.0</td>\n",
       "    </tr>\n",
       "    <tr>\n",
       "      <th>101</th>\n",
       "      <td>5.8</td>\n",
       "      <td>2.7</td>\n",
       "      <td>5.1</td>\n",
       "      <td>1.9</td>\n",
       "      <td>2.0</td>\n",
       "    </tr>\n",
       "    <tr>\n",
       "      <th>65</th>\n",
       "      <td>6.7</td>\n",
       "      <td>3.1</td>\n",
       "      <td>4.4</td>\n",
       "      <td>1.4</td>\n",
       "      <td>1.0</td>\n",
       "    </tr>\n",
       "    <tr>\n",
       "      <th>115</th>\n",
       "      <td>6.4</td>\n",
       "      <td>3.2</td>\n",
       "      <td>5.3</td>\n",
       "      <td>2.3</td>\n",
       "      <td>2.0</td>\n",
       "    </tr>\n",
       "  </tbody>\n",
       "</table>\n",
       "</div>"
      ],
      "text/plain": [
       "     sepal length (cm)  sepal width (cm)  petal length (cm)  petal width (cm)  \\\n",
       "130                7.4               2.8                6.1               1.9   \n",
       "119                6.0               2.2                5.0               1.5   \n",
       "29                 4.7               3.2                1.6               0.2   \n",
       "0                  5.1               3.5                1.4               0.2   \n",
       "62                 6.0               2.2                4.0               1.0   \n",
       "93                 5.0               2.3                3.3               1.0   \n",
       "131                7.9               3.8                6.4               2.0   \n",
       "5                  5.4               3.9                1.7               0.4   \n",
       "16                 5.4               3.9                1.3               0.4   \n",
       "82                 5.8               2.7                3.9               1.2   \n",
       "60                 5.0               2.0                3.5               1.0   \n",
       "35                 5.0               3.2                1.2               0.2   \n",
       "143                6.8               3.2                5.9               2.3   \n",
       "145                6.7               3.0                5.2               2.3   \n",
       "142                5.8               2.7                5.1               1.9   \n",
       "114                5.8               2.8                5.1               2.4   \n",
       "136                6.3               3.4                5.6               2.4   \n",
       "53                 5.5               2.3                4.0               1.3   \n",
       "19                 5.1               3.8                1.5               0.3   \n",
       "38                 4.4               3.0                1.3               0.2   \n",
       "110                6.5               3.2                5.1               2.0   \n",
       "23                 5.1               3.3                1.7               0.5   \n",
       "9                  4.9               3.1                1.5               0.1   \n",
       "86                 6.7               3.1                4.7               1.5   \n",
       "91                 6.1               3.0                4.6               1.4   \n",
       "89                 5.5               2.5                4.0               1.3   \n",
       "79                 5.7               2.6                3.5               1.0   \n",
       "101                5.8               2.7                5.1               1.9   \n",
       "65                 6.7               3.1                4.4               1.4   \n",
       "115                6.4               3.2                5.3               2.3   \n",
       "\n",
       "     target  \n",
       "130     2.0  \n",
       "119     2.0  \n",
       "29      0.0  \n",
       "0       0.0  \n",
       "62      1.0  \n",
       "93      1.0  \n",
       "131     2.0  \n",
       "5       0.0  \n",
       "16      0.0  \n",
       "82      1.0  \n",
       "60      1.0  \n",
       "35      0.0  \n",
       "143     2.0  \n",
       "145     2.0  \n",
       "142     2.0  \n",
       "114     2.0  \n",
       "136     2.0  \n",
       "53      1.0  \n",
       "19      0.0  \n",
       "38      0.0  \n",
       "110     2.0  \n",
       "23      0.0  \n",
       "9       0.0  \n",
       "86      1.0  \n",
       "91      1.0  \n",
       "89      1.0  \n",
       "79      1.0  \n",
       "101     2.0  \n",
       "65      1.0  \n",
       "115     2.0  "
      ]
     },
     "execution_count": 30,
     "metadata": {},
     "output_type": "execute_result"
    }
   ],
   "source": [
    "iris_train_set.head(30)"
   ]
  },
  {
   "cell_type": "markdown",
   "metadata": {
    "id": "zEIlMaDL89VB"
   },
   "source": [
    "##<h1>TRAIN with Decision Tree(Entropy)</h1>"
   ]
  },
  {
   "cell_type": "markdown",
   "metadata": {
    "id": "q3cNk65FEFrd"
   },
   "source": [
    "공통 import 사항"
   ]
  },
  {
   "cell_type": "code",
   "execution_count": 31,
   "metadata": {
    "id": "CjlwdE8T9y0m"
   },
   "outputs": [],
   "source": [
    "from sklearn.tree import DecisionTreeClassifier\n",
    "from sklearn.tree import export_graphviz"
   ]
  },
  {
   "cell_type": "markdown",
   "metadata": {
    "id": "7BFEN0ueEI4d"
   },
   "source": [
    "iris 데이터에서 학습에 필요한 데이터셋으로 나누기<br>\n",
    "fit 함수에서는 데이터와 판단 데이터를 나눠서 넣어야 하기 때문"
   ]
  },
  {
   "cell_type": "code",
   "execution_count": 32,
   "metadata": {
    "id": "DQqyMn3C9KtE"
   },
   "outputs": [],
   "source": [
    "iris_features = list(iris_train_set.columns[:-1])\n",
    "iris_features\n",
    "iris_x = iris_train_set[iris_features]\n",
    "iris_y = iris_train_set['target']"
   ]
  },
  {
   "cell_type": "markdown",
   "metadata": {
    "id": "Z_GDHpDK9N8V"
   },
   "source": [
    "탐색 기준이 entropy(정보 증가량)"
   ]
  },
  {
   "cell_type": "markdown",
   "metadata": {
    "id": "smdm1qscEAx9"
   },
   "source": [
    "case 1) 탐색 기준이 entropy(정보 증가량)이고 최대 node의 깊이가 2인 경우"
   ]
  },
  {
   "cell_type": "code",
   "execution_count": 33,
   "metadata": {
    "id": "jQJfeS7VADeM"
   },
   "outputs": [],
   "source": [
    "tree_1_clf = DecisionTreeClassifier(criterion='entropy', max_depth=2)"
   ]
  },
  {
   "cell_type": "code",
   "execution_count": 34,
   "metadata": {
    "colab": {
     "base_uri": "https://localhost:8080/",
     "height": 125
    },
    "id": "SqcXIgjEACIl",
    "outputId": "be14d8b8-4762-4eb0-fe39-2dfc89ad33c6"
   },
   "outputs": [
    {
     "data": {
      "text/plain": [
       "DecisionTreeClassifier(criterion='entropy', max_depth=2)"
      ]
     },
     "execution_count": 34,
     "metadata": {},
     "output_type": "execute_result"
    }
   ],
   "source": [
    "tree_1_clf.fit(iris_x,iris_y)"
   ]
  },
  {
   "cell_type": "code",
   "execution_count": 35,
   "metadata": {
    "id": "70tUG-fJ-_in"
   },
   "outputs": [],
   "source": [
    "export_graphviz(\n",
    "    tree_1_clf,\n",
    "    out_file='iris_tree_1.dot',\n",
    "    feature_names=iris_features,\n",
    "    rounded=True,\n",
    "    filled=True\n",
    ")"
   ]
  },
  {
   "cell_type": "code",
   "execution_count": 36,
   "metadata": {
    "colab": {
     "base_uri": "https://localhost:8080/",
     "height": 379
    },
    "id": "4RffgYb-_W-p",
    "outputId": "1e9ae8bf-14f3-427e-e86a-8d3b27e67a2b"
   },
   "outputs": [
    {
     "data": {
      "image/svg+xml": [
       "<?xml version=\"1.0\" encoding=\"UTF-8\" standalone=\"no\"?>\r\n",
       "<!DOCTYPE svg PUBLIC \"-//W3C//DTD SVG 1.1//EN\"\r\n",
       " \"http://www.w3.org/Graphics/SVG/1.1/DTD/svg11.dtd\">\r\n",
       "<!-- Generated by graphviz version 2.47.1 (20210417.1919)\r\n",
       " -->\r\n",
       "<!-- Title: Tree Pages: 1 -->\r\n",
       "<svg width=\"361pt\" height=\"269pt\"\r\n",
       " viewBox=\"0.00 0.00 361.00 269.00\" xmlns=\"http://www.w3.org/2000/svg\" xmlns:xlink=\"http://www.w3.org/1999/xlink\">\r\n",
       "<g id=\"graph0\" class=\"graph\" transform=\"scale(1 1) rotate(0) translate(4 265)\">\r\n",
       "<title>Tree</title>\r\n",
       "<polygon fill=\"white\" stroke=\"transparent\" points=\"-4,4 -4,-265 357,-265 357,4 -4,4\"/>\r\n",
       "<!-- 0 -->\r\n",
       "<g id=\"node1\" class=\"node\">\r\n",
       "<title>0</title>\r\n",
       "<path fill=\"#f3fdf7\" stroke=\"black\" d=\"M209.5,-261C209.5,-261 73.5,-261 73.5,-261 67.5,-261 61.5,-255 61.5,-249 61.5,-249 61.5,-205 61.5,-205 61.5,-199 67.5,-193 73.5,-193 73.5,-193 209.5,-193 209.5,-193 215.5,-193 221.5,-199 221.5,-205 221.5,-205 221.5,-249 221.5,-249 221.5,-255 215.5,-261 209.5,-261\"/>\r\n",
       "<text text-anchor=\"middle\" x=\"141.5\" y=\"-245.8\" font-family=\"Helvetica,sans-Serif\" font-size=\"14.00\">petal width (cm) &lt;= 0.8</text>\r\n",
       "<text text-anchor=\"middle\" x=\"141.5\" y=\"-230.8\" font-family=\"Helvetica,sans-Serif\" font-size=\"14.00\">entropy = 1.581</text>\r\n",
       "<text text-anchor=\"middle\" x=\"141.5\" y=\"-215.8\" font-family=\"Helvetica,sans-Serif\" font-size=\"14.00\">samples = 120</text>\r\n",
       "<text text-anchor=\"middle\" x=\"141.5\" y=\"-200.8\" font-family=\"Helvetica,sans-Serif\" font-size=\"14.00\">value = [37, 44, 39]</text>\r\n",
       "</g>\r\n",
       "<!-- 1 -->\r\n",
       "<g id=\"node2\" class=\"node\">\r\n",
       "<title>1</title>\r\n",
       "<path fill=\"#e58139\" stroke=\"black\" d=\"M109,-149.5C109,-149.5 12,-149.5 12,-149.5 6,-149.5 0,-143.5 0,-137.5 0,-137.5 0,-108.5 0,-108.5 0,-102.5 6,-96.5 12,-96.5 12,-96.5 109,-96.5 109,-96.5 115,-96.5 121,-102.5 121,-108.5 121,-108.5 121,-137.5 121,-137.5 121,-143.5 115,-149.5 109,-149.5\"/>\r\n",
       "<text text-anchor=\"middle\" x=\"60.5\" y=\"-134.3\" font-family=\"Helvetica,sans-Serif\" font-size=\"14.00\">entropy = 0.0</text>\r\n",
       "<text text-anchor=\"middle\" x=\"60.5\" y=\"-119.3\" font-family=\"Helvetica,sans-Serif\" font-size=\"14.00\">samples = 37</text>\r\n",
       "<text text-anchor=\"middle\" x=\"60.5\" y=\"-104.3\" font-family=\"Helvetica,sans-Serif\" font-size=\"14.00\">value = [37, 0, 0]</text>\r\n",
       "</g>\r\n",
       "<!-- 0&#45;&gt;1 -->\r\n",
       "<g id=\"edge1\" class=\"edge\">\r\n",
       "<title>0&#45;&gt;1</title>\r\n",
       "<path fill=\"none\" stroke=\"black\" d=\"M115.2,-192.88C106.21,-181.56 96.14,-168.88 87.12,-157.52\"/>\r\n",
       "<polygon fill=\"black\" stroke=\"black\" points=\"89.73,-155.17 80.77,-149.52 84.24,-159.53 89.73,-155.17\"/>\r\n",
       "<text text-anchor=\"middle\" x=\"77.92\" y=\"-170.66\" font-family=\"Helvetica,sans-Serif\" font-size=\"14.00\">True</text>\r\n",
       "</g>\r\n",
       "<!-- 2 -->\r\n",
       "<g id=\"node3\" class=\"node\">\r\n",
       "<title>2</title>\r\n",
       "<path fill=\"#e8fcf1\" stroke=\"black\" d=\"M295.5,-157C295.5,-157 151.5,-157 151.5,-157 145.5,-157 139.5,-151 139.5,-145 139.5,-145 139.5,-101 139.5,-101 139.5,-95 145.5,-89 151.5,-89 151.5,-89 295.5,-89 295.5,-89 301.5,-89 307.5,-95 307.5,-101 307.5,-101 307.5,-145 307.5,-145 307.5,-151 301.5,-157 295.5,-157\"/>\r\n",
       "<text text-anchor=\"middle\" x=\"223.5\" y=\"-141.8\" font-family=\"Helvetica,sans-Serif\" font-size=\"14.00\">petal width (cm) &lt;= 1.75</text>\r\n",
       "<text text-anchor=\"middle\" x=\"223.5\" y=\"-126.8\" font-family=\"Helvetica,sans-Serif\" font-size=\"14.00\">entropy = 0.997</text>\r\n",
       "<text text-anchor=\"middle\" x=\"223.5\" y=\"-111.8\" font-family=\"Helvetica,sans-Serif\" font-size=\"14.00\">samples = 83</text>\r\n",
       "<text text-anchor=\"middle\" x=\"223.5\" y=\"-96.8\" font-family=\"Helvetica,sans-Serif\" font-size=\"14.00\">value = [0, 44, 39]</text>\r\n",
       "</g>\r\n",
       "<!-- 0&#45;&gt;2 -->\r\n",
       "<g id=\"edge2\" class=\"edge\">\r\n",
       "<title>0&#45;&gt;2</title>\r\n",
       "<path fill=\"none\" stroke=\"black\" d=\"M168.12,-192.88C175.21,-184.07 182.96,-174.43 190.35,-165.24\"/>\r\n",
       "<polygon fill=\"black\" stroke=\"black\" points=\"193.19,-167.29 196.73,-157.3 187.74,-162.9 193.19,-167.29\"/>\r\n",
       "<text text-anchor=\"middle\" x=\"199.43\" y=\"-178.45\" font-family=\"Helvetica,sans-Serif\" font-size=\"14.00\">False</text>\r\n",
       "</g>\r\n",
       "<!-- 3 -->\r\n",
       "<g id=\"node4\" class=\"node\">\r\n",
       "<title>3</title>\r\n",
       "<path fill=\"#4be78d\" stroke=\"black\" d=\"M202,-53C202,-53 105,-53 105,-53 99,-53 93,-47 93,-41 93,-41 93,-12 93,-12 93,-6 99,0 105,0 105,0 202,0 202,0 208,0 214,-6 214,-12 214,-12 214,-41 214,-41 214,-47 208,-53 202,-53\"/>\r\n",
       "<text text-anchor=\"middle\" x=\"153.5\" y=\"-37.8\" font-family=\"Helvetica,sans-Serif\" font-size=\"14.00\">entropy = 0.42</text>\r\n",
       "<text text-anchor=\"middle\" x=\"153.5\" y=\"-22.8\" font-family=\"Helvetica,sans-Serif\" font-size=\"14.00\">samples = 47</text>\r\n",
       "<text text-anchor=\"middle\" x=\"153.5\" y=\"-7.8\" font-family=\"Helvetica,sans-Serif\" font-size=\"14.00\">value = [0, 43, 4]</text>\r\n",
       "</g>\r\n",
       "<!-- 2&#45;&gt;3 -->\r\n",
       "<g id=\"edge3\" class=\"edge\">\r\n",
       "<title>2&#45;&gt;3</title>\r\n",
       "<path fill=\"none\" stroke=\"black\" d=\"M199.02,-88.95C192.44,-80.07 185.33,-70.46 178.71,-61.54\"/>\r\n",
       "<polygon fill=\"black\" stroke=\"black\" points=\"181.33,-59.19 172.56,-53.24 175.7,-63.36 181.33,-59.19\"/>\r\n",
       "</g>\r\n",
       "<!-- 4 -->\r\n",
       "<g id=\"node5\" class=\"node\">\r\n",
       "<title>4</title>\r\n",
       "<path fill=\"#853fe6\" stroke=\"black\" d=\"M341,-53C341,-53 244,-53 244,-53 238,-53 232,-47 232,-41 232,-41 232,-12 232,-12 232,-6 238,0 244,0 244,0 341,0 341,0 347,0 353,-6 353,-12 353,-12 353,-41 353,-41 353,-47 347,-53 341,-53\"/>\r\n",
       "<text text-anchor=\"middle\" x=\"292.5\" y=\"-37.8\" font-family=\"Helvetica,sans-Serif\" font-size=\"14.00\">entropy = 0.183</text>\r\n",
       "<text text-anchor=\"middle\" x=\"292.5\" y=\"-22.8\" font-family=\"Helvetica,sans-Serif\" font-size=\"14.00\">samples = 36</text>\r\n",
       "<text text-anchor=\"middle\" x=\"292.5\" y=\"-7.8\" font-family=\"Helvetica,sans-Serif\" font-size=\"14.00\">value = [0, 1, 35]</text>\r\n",
       "</g>\r\n",
       "<!-- 2&#45;&gt;4 -->\r\n",
       "<g id=\"edge4\" class=\"edge\">\r\n",
       "<title>2&#45;&gt;4</title>\r\n",
       "<path fill=\"none\" stroke=\"black\" d=\"M247.63,-88.95C254.11,-80.07 261.13,-70.46 267.65,-61.54\"/>\r\n",
       "<polygon fill=\"black\" stroke=\"black\" points=\"270.64,-63.38 273.71,-53.24 264.98,-59.25 270.64,-63.38\"/>\r\n",
       "</g>\r\n",
       "</g>\r\n",
       "</svg>\r\n"
      ],
      "text/plain": [
       "<graphviz.files.Source at 0x233f2f483d0>"
      ]
     },
     "metadata": {},
     "output_type": "display_data"
    }
   ],
   "source": [
    "import graphviz\n",
    "from IPython.display import display\n",
    "with open('iris_tree_1.dot') as f1:\n",
    "    dot_graph_1 = f1.read()\n",
    "dot_1 = graphviz.Source(dot_graph_1)\n",
    "dot_1.format = 'png'\n",
    "dot_1.render(filename='iris_tree_1', directory='./',cleanup=True)\n",
    "display(dot_1)"
   ]
  },
  {
   "cell_type": "markdown",
   "metadata": {
    "id": "Wa_XPctCD6jl"
   },
   "source": [
    "case 2) 탐색 기준이 entropy(정보 증가량)이고 최대 node의 깊이가 3인 경우"
   ]
  },
  {
   "cell_type": "code",
   "execution_count": 38,
   "metadata": {
    "id": "zVITf4mI9K31"
   },
   "outputs": [],
   "source": [
    "tree_2_clf = DecisionTreeClassifier(criterion='entropy', max_depth=3)"
   ]
  },
  {
   "cell_type": "code",
   "execution_count": 39,
   "metadata": {
    "colab": {
     "base_uri": "https://localhost:8080/",
     "height": 125
    },
    "id": "ss0Rs1An93sV",
    "outputId": "2d9f5a9a-ef31-447b-c5c5-12789d5ce460"
   },
   "outputs": [
    {
     "data": {
      "text/plain": [
       "DecisionTreeClassifier(criterion='entropy', max_depth=3)"
      ]
     },
     "execution_count": 39,
     "metadata": {},
     "output_type": "execute_result"
    }
   ],
   "source": [
    "tree_2_clf.fit(iris_x,iris_y)"
   ]
  },
  {
   "cell_type": "code",
   "execution_count": 40,
   "metadata": {
    "id": "hB7CTl95_D3O"
   },
   "outputs": [],
   "source": [
    "export_graphviz(\n",
    "    tree_2_clf,\n",
    "    out_file='iris_tree_2.dot',\n",
    "    feature_names=iris_features,\n",
    "    rounded=True,\n",
    "    filled=True\n",
    ")"
   ]
  },
  {
   "cell_type": "code",
   "execution_count": 41,
   "metadata": {
    "colab": {
     "base_uri": "https://localhost:8080/",
     "height": 517
    },
    "id": "oFMr8C4f_kDF",
    "outputId": "e4f35d8e-3d09-4715-afad-637ec5bca07a"
   },
   "outputs": [
    {
     "data": {
      "image/svg+xml": [
       "<?xml version=\"1.0\" encoding=\"UTF-8\" standalone=\"no\"?>\r\n",
       "<!DOCTYPE svg PUBLIC \"-//W3C//DTD SVG 1.1//EN\"\r\n",
       " \"http://www.w3.org/Graphics/SVG/1.1/DTD/svg11.dtd\">\r\n",
       "<!-- Generated by graphviz version 2.47.1 (20210417.1919)\r\n",
       " -->\r\n",
       "<!-- Title: Tree Pages: 1 -->\r\n",
       "<svg width=\"563pt\" height=\"373pt\"\r\n",
       " viewBox=\"0.00 0.00 563.00 373.00\" xmlns=\"http://www.w3.org/2000/svg\" xmlns:xlink=\"http://www.w3.org/1999/xlink\">\r\n",
       "<g id=\"graph0\" class=\"graph\" transform=\"scale(1 1) rotate(0) translate(4 369)\">\r\n",
       "<title>Tree</title>\r\n",
       "<polygon fill=\"white\" stroke=\"transparent\" points=\"-4,4 -4,-369 559,-369 559,4 -4,4\"/>\r\n",
       "<!-- 0 -->\r\n",
       "<g id=\"node1\" class=\"node\">\r\n",
       "<title>0</title>\r\n",
       "<path fill=\"#f3fdf7\" stroke=\"black\" d=\"M271.5,-365C271.5,-365 121.5,-365 121.5,-365 115.5,-365 109.5,-359 109.5,-353 109.5,-353 109.5,-309 109.5,-309 109.5,-303 115.5,-297 121.5,-297 121.5,-297 271.5,-297 271.5,-297 277.5,-297 283.5,-303 283.5,-309 283.5,-309 283.5,-353 283.5,-353 283.5,-359 277.5,-365 271.5,-365\"/>\r\n",
       "<text text-anchor=\"middle\" x=\"196.5\" y=\"-349.8\" font-family=\"Helvetica,sans-Serif\" font-size=\"14.00\">petal length (cm) &lt;= 2.45</text>\r\n",
       "<text text-anchor=\"middle\" x=\"196.5\" y=\"-334.8\" font-family=\"Helvetica,sans-Serif\" font-size=\"14.00\">entropy = 1.581</text>\r\n",
       "<text text-anchor=\"middle\" x=\"196.5\" y=\"-319.8\" font-family=\"Helvetica,sans-Serif\" font-size=\"14.00\">samples = 120</text>\r\n",
       "<text text-anchor=\"middle\" x=\"196.5\" y=\"-304.8\" font-family=\"Helvetica,sans-Serif\" font-size=\"14.00\">value = [37, 44, 39]</text>\r\n",
       "</g>\r\n",
       "<!-- 1 -->\r\n",
       "<g id=\"node2\" class=\"node\">\r\n",
       "<title>1</title>\r\n",
       "<path fill=\"#e58139\" stroke=\"black\" d=\"M164,-253.5C164,-253.5 67,-253.5 67,-253.5 61,-253.5 55,-247.5 55,-241.5 55,-241.5 55,-212.5 55,-212.5 55,-206.5 61,-200.5 67,-200.5 67,-200.5 164,-200.5 164,-200.5 170,-200.5 176,-206.5 176,-212.5 176,-212.5 176,-241.5 176,-241.5 176,-247.5 170,-253.5 164,-253.5\"/>\r\n",
       "<text text-anchor=\"middle\" x=\"115.5\" y=\"-238.3\" font-family=\"Helvetica,sans-Serif\" font-size=\"14.00\">entropy = 0.0</text>\r\n",
       "<text text-anchor=\"middle\" x=\"115.5\" y=\"-223.3\" font-family=\"Helvetica,sans-Serif\" font-size=\"14.00\">samples = 37</text>\r\n",
       "<text text-anchor=\"middle\" x=\"115.5\" y=\"-208.3\" font-family=\"Helvetica,sans-Serif\" font-size=\"14.00\">value = [37, 0, 0]</text>\r\n",
       "</g>\r\n",
       "<!-- 0&#45;&gt;1 -->\r\n",
       "<g id=\"edge1\" class=\"edge\">\r\n",
       "<title>0&#45;&gt;1</title>\r\n",
       "<path fill=\"none\" stroke=\"black\" d=\"M170.2,-296.88C161.21,-285.56 151.14,-272.88 142.12,-261.52\"/>\r\n",
       "<polygon fill=\"black\" stroke=\"black\" points=\"144.73,-259.17 135.77,-253.52 139.24,-263.53 144.73,-259.17\"/>\r\n",
       "<text text-anchor=\"middle\" x=\"132.92\" y=\"-274.66\" font-family=\"Helvetica,sans-Serif\" font-size=\"14.00\">True</text>\r\n",
       "</g>\r\n",
       "<!-- 2 -->\r\n",
       "<g id=\"node3\" class=\"node\">\r\n",
       "<title>2</title>\r\n",
       "<path fill=\"#e8fcf1\" stroke=\"black\" d=\"M350.5,-261C350.5,-261 206.5,-261 206.5,-261 200.5,-261 194.5,-255 194.5,-249 194.5,-249 194.5,-205 194.5,-205 194.5,-199 200.5,-193 206.5,-193 206.5,-193 350.5,-193 350.5,-193 356.5,-193 362.5,-199 362.5,-205 362.5,-205 362.5,-249 362.5,-249 362.5,-255 356.5,-261 350.5,-261\"/>\r\n",
       "<text text-anchor=\"middle\" x=\"278.5\" y=\"-245.8\" font-family=\"Helvetica,sans-Serif\" font-size=\"14.00\">petal width (cm) &lt;= 1.75</text>\r\n",
       "<text text-anchor=\"middle\" x=\"278.5\" y=\"-230.8\" font-family=\"Helvetica,sans-Serif\" font-size=\"14.00\">entropy = 0.997</text>\r\n",
       "<text text-anchor=\"middle\" x=\"278.5\" y=\"-215.8\" font-family=\"Helvetica,sans-Serif\" font-size=\"14.00\">samples = 83</text>\r\n",
       "<text text-anchor=\"middle\" x=\"278.5\" y=\"-200.8\" font-family=\"Helvetica,sans-Serif\" font-size=\"14.00\">value = [0, 44, 39]</text>\r\n",
       "</g>\r\n",
       "<!-- 0&#45;&gt;2 -->\r\n",
       "<g id=\"edge2\" class=\"edge\">\r\n",
       "<title>0&#45;&gt;2</title>\r\n",
       "<path fill=\"none\" stroke=\"black\" d=\"M223.12,-296.88C230.21,-288.07 237.96,-278.43 245.35,-269.24\"/>\r\n",
       "<polygon fill=\"black\" stroke=\"black\" points=\"248.19,-271.29 251.73,-261.3 242.74,-266.9 248.19,-271.29\"/>\r\n",
       "<text text-anchor=\"middle\" x=\"254.43\" y=\"-282.45\" font-family=\"Helvetica,sans-Serif\" font-size=\"14.00\">False</text>\r\n",
       "</g>\r\n",
       "<!-- 3 -->\r\n",
       "<g id=\"node4\" class=\"node\">\r\n",
       "<title>3</title>\r\n",
       "<path fill=\"#4be78d\" stroke=\"black\" d=\"M257.5,-157C257.5,-157 107.5,-157 107.5,-157 101.5,-157 95.5,-151 95.5,-145 95.5,-145 95.5,-101 95.5,-101 95.5,-95 101.5,-89 107.5,-89 107.5,-89 257.5,-89 257.5,-89 263.5,-89 269.5,-95 269.5,-101 269.5,-101 269.5,-145 269.5,-145 269.5,-151 263.5,-157 257.5,-157\"/>\r\n",
       "<text text-anchor=\"middle\" x=\"182.5\" y=\"-141.8\" font-family=\"Helvetica,sans-Serif\" font-size=\"14.00\">petal length (cm) &lt;= 4.95</text>\r\n",
       "<text text-anchor=\"middle\" x=\"182.5\" y=\"-126.8\" font-family=\"Helvetica,sans-Serif\" font-size=\"14.00\">entropy = 0.42</text>\r\n",
       "<text text-anchor=\"middle\" x=\"182.5\" y=\"-111.8\" font-family=\"Helvetica,sans-Serif\" font-size=\"14.00\">samples = 47</text>\r\n",
       "<text text-anchor=\"middle\" x=\"182.5\" y=\"-96.8\" font-family=\"Helvetica,sans-Serif\" font-size=\"14.00\">value = [0, 43, 4]</text>\r\n",
       "</g>\r\n",
       "<!-- 2&#45;&gt;3 -->\r\n",
       "<g id=\"edge3\" class=\"edge\">\r\n",
       "<title>2&#45;&gt;3</title>\r\n",
       "<path fill=\"none\" stroke=\"black\" d=\"M247.33,-192.88C238.86,-183.89 229.6,-174.04 220.79,-164.68\"/>\r\n",
       "<polygon fill=\"black\" stroke=\"black\" points=\"223.24,-162.18 213.84,-157.3 218.15,-166.98 223.24,-162.18\"/>\r\n",
       "</g>\r\n",
       "<!-- 6 -->\r\n",
       "<g id=\"node7\" class=\"node\">\r\n",
       "<title>6</title>\r\n",
       "<path fill=\"#853fe6\" stroke=\"black\" d=\"M449.5,-157C449.5,-157 299.5,-157 299.5,-157 293.5,-157 287.5,-151 287.5,-145 287.5,-145 287.5,-101 287.5,-101 287.5,-95 293.5,-89 299.5,-89 299.5,-89 449.5,-89 449.5,-89 455.5,-89 461.5,-95 461.5,-101 461.5,-101 461.5,-145 461.5,-145 461.5,-151 455.5,-157 449.5,-157\"/>\r\n",
       "<text text-anchor=\"middle\" x=\"374.5\" y=\"-141.8\" font-family=\"Helvetica,sans-Serif\" font-size=\"14.00\">petal length (cm) &lt;= 4.85</text>\r\n",
       "<text text-anchor=\"middle\" x=\"374.5\" y=\"-126.8\" font-family=\"Helvetica,sans-Serif\" font-size=\"14.00\">entropy = 0.183</text>\r\n",
       "<text text-anchor=\"middle\" x=\"374.5\" y=\"-111.8\" font-family=\"Helvetica,sans-Serif\" font-size=\"14.00\">samples = 36</text>\r\n",
       "<text text-anchor=\"middle\" x=\"374.5\" y=\"-96.8\" font-family=\"Helvetica,sans-Serif\" font-size=\"14.00\">value = [0, 1, 35]</text>\r\n",
       "</g>\r\n",
       "<!-- 2&#45;&gt;6 -->\r\n",
       "<g id=\"edge6\" class=\"edge\">\r\n",
       "<title>2&#45;&gt;6</title>\r\n",
       "<path fill=\"none\" stroke=\"black\" d=\"M309.67,-192.88C318.14,-183.89 327.4,-174.04 336.21,-164.68\"/>\r\n",
       "<polygon fill=\"black\" stroke=\"black\" points=\"338.85,-166.98 343.16,-157.3 333.76,-162.18 338.85,-166.98\"/>\r\n",
       "</g>\r\n",
       "<!-- 4 -->\r\n",
       "<g id=\"node5\" class=\"node\">\r\n",
       "<title>4</title>\r\n",
       "<path fill=\"#3ee684\" stroke=\"black\" d=\"M109,-53C109,-53 12,-53 12,-53 6,-53 0,-47 0,-41 0,-41 0,-12 0,-12 0,-6 6,0 12,0 12,0 109,0 109,0 115,0 121,-6 121,-12 121,-12 121,-41 121,-41 121,-47 115,-53 109,-53\"/>\r\n",
       "<text text-anchor=\"middle\" x=\"60.5\" y=\"-37.8\" font-family=\"Helvetica,sans-Serif\" font-size=\"14.00\">entropy = 0.162</text>\r\n",
       "<text text-anchor=\"middle\" x=\"60.5\" y=\"-22.8\" font-family=\"Helvetica,sans-Serif\" font-size=\"14.00\">samples = 42</text>\r\n",
       "<text text-anchor=\"middle\" x=\"60.5\" y=\"-7.8\" font-family=\"Helvetica,sans-Serif\" font-size=\"14.00\">value = [0, 41, 1]</text>\r\n",
       "</g>\r\n",
       "<!-- 3&#45;&gt;4 -->\r\n",
       "<g id=\"edge4\" class=\"edge\">\r\n",
       "<title>3&#45;&gt;4</title>\r\n",
       "<path fill=\"none\" stroke=\"black\" d=\"M139.83,-88.95C127.55,-79.43 114.17,-69.07 101.96,-59.62\"/>\r\n",
       "<polygon fill=\"black\" stroke=\"black\" points=\"103.78,-56.59 93.73,-53.24 99.49,-62.13 103.78,-56.59\"/>\r\n",
       "</g>\r\n",
       "<!-- 5 -->\r\n",
       "<g id=\"node6\" class=\"node\">\r\n",
       "<title>5</title>\r\n",
       "<path fill=\"#d5bdf6\" stroke=\"black\" d=\"M243.5,-53C243.5,-53 151.5,-53 151.5,-53 145.5,-53 139.5,-47 139.5,-41 139.5,-41 139.5,-12 139.5,-12 139.5,-6 145.5,0 151.5,0 151.5,0 243.5,0 243.5,0 249.5,0 255.5,-6 255.5,-12 255.5,-12 255.5,-41 255.5,-41 255.5,-47 249.5,-53 243.5,-53\"/>\r\n",
       "<text text-anchor=\"middle\" x=\"197.5\" y=\"-37.8\" font-family=\"Helvetica,sans-Serif\" font-size=\"14.00\">entropy = 0.971</text>\r\n",
       "<text text-anchor=\"middle\" x=\"197.5\" y=\"-22.8\" font-family=\"Helvetica,sans-Serif\" font-size=\"14.00\">samples = 5</text>\r\n",
       "<text text-anchor=\"middle\" x=\"197.5\" y=\"-7.8\" font-family=\"Helvetica,sans-Serif\" font-size=\"14.00\">value = [0, 2, 3]</text>\r\n",
       "</g>\r\n",
       "<!-- 3&#45;&gt;5 -->\r\n",
       "<g id=\"edge5\" class=\"edge\">\r\n",
       "<title>3&#45;&gt;5</title>\r\n",
       "<path fill=\"none\" stroke=\"black\" d=\"M187.75,-88.95C189.07,-80.62 190.49,-71.65 191.83,-63.2\"/>\r\n",
       "<polygon fill=\"black\" stroke=\"black\" points=\"195.3,-63.66 193.41,-53.24 188.39,-62.56 195.3,-63.66\"/>\r\n",
       "</g>\r\n",
       "<!-- 7 -->\r\n",
       "<g id=\"node8\" class=\"node\">\r\n",
       "<title>7</title>\r\n",
       "<path fill=\"#ffffff\" stroke=\"black\" d=\"M404,-53C404,-53 315,-53 315,-53 309,-53 303,-47 303,-41 303,-41 303,-12 303,-12 303,-6 309,0 315,0 315,0 404,0 404,0 410,0 416,-6 416,-12 416,-12 416,-41 416,-41 416,-47 410,-53 404,-53\"/>\r\n",
       "<text text-anchor=\"middle\" x=\"359.5\" y=\"-37.8\" font-family=\"Helvetica,sans-Serif\" font-size=\"14.00\">entropy = 1.0</text>\r\n",
       "<text text-anchor=\"middle\" x=\"359.5\" y=\"-22.8\" font-family=\"Helvetica,sans-Serif\" font-size=\"14.00\">samples = 2</text>\r\n",
       "<text text-anchor=\"middle\" x=\"359.5\" y=\"-7.8\" font-family=\"Helvetica,sans-Serif\" font-size=\"14.00\">value = [0, 1, 1]</text>\r\n",
       "</g>\r\n",
       "<!-- 6&#45;&gt;7 -->\r\n",
       "<g id=\"edge7\" class=\"edge\">\r\n",
       "<title>6&#45;&gt;7</title>\r\n",
       "<path fill=\"none\" stroke=\"black\" d=\"M369.25,-88.95C367.93,-80.62 366.51,-71.65 365.17,-63.2\"/>\r\n",
       "<polygon fill=\"black\" stroke=\"black\" points=\"368.61,-62.56 363.59,-53.24 361.7,-63.66 368.61,-62.56\"/>\r\n",
       "</g>\r\n",
       "<!-- 8 -->\r\n",
       "<g id=\"node9\" class=\"node\">\r\n",
       "<title>8</title>\r\n",
       "<path fill=\"#8139e5\" stroke=\"black\" d=\"M543,-53C543,-53 446,-53 446,-53 440,-53 434,-47 434,-41 434,-41 434,-12 434,-12 434,-6 440,0 446,0 446,0 543,0 543,0 549,0 555,-6 555,-12 555,-12 555,-41 555,-41 555,-47 549,-53 543,-53\"/>\r\n",
       "<text text-anchor=\"middle\" x=\"494.5\" y=\"-37.8\" font-family=\"Helvetica,sans-Serif\" font-size=\"14.00\">entropy = 0.0</text>\r\n",
       "<text text-anchor=\"middle\" x=\"494.5\" y=\"-22.8\" font-family=\"Helvetica,sans-Serif\" font-size=\"14.00\">samples = 34</text>\r\n",
       "<text text-anchor=\"middle\" x=\"494.5\" y=\"-7.8\" font-family=\"Helvetica,sans-Serif\" font-size=\"14.00\">value = [0, 0, 34]</text>\r\n",
       "</g>\r\n",
       "<!-- 6&#45;&gt;8 -->\r\n",
       "<g id=\"edge8\" class=\"edge\">\r\n",
       "<title>6&#45;&gt;8</title>\r\n",
       "<path fill=\"none\" stroke=\"black\" d=\"M416.47,-88.95C428.55,-79.43 441.71,-69.07 453.72,-59.62\"/>\r\n",
       "<polygon fill=\"black\" stroke=\"black\" points=\"456.13,-62.17 461.82,-53.24 451.8,-56.67 456.13,-62.17\"/>\r\n",
       "</g>\r\n",
       "</g>\r\n",
       "</svg>\r\n"
      ],
      "text/plain": [
       "<graphviz.files.Source at 0x233f30a7fd0>"
      ]
     },
     "metadata": {},
     "output_type": "display_data"
    }
   ],
   "source": [
    "import graphviz\n",
    "from IPython.display import display\n",
    "with open('iris_tree_2.dot') as f2:\n",
    "    dot_graph_2 = f2.read()\n",
    "dot_2 = graphviz.Source(dot_graph_2)\n",
    "dot_2.format = 'png'\n",
    "dot_2.render(filename='iris_tree_2', directory='./',cleanup=True)\n",
    "display(dot_2)"
   ]
  },
  {
   "cell_type": "markdown",
   "metadata": {
    "id": "ZXvxEwHvDsWd"
   },
   "source": [
    "case 3) 탐색 기준이 entropy(정보 증가량)이고 최대 node의 깊이가 4인 경우"
   ]
  },
  {
   "cell_type": "code",
   "execution_count": 42,
   "metadata": {
    "id": "WKUcBpMHAKKd"
   },
   "outputs": [],
   "source": [
    "tree_3_clf = DecisionTreeClassifier(criterion='entropy', max_depth=4)"
   ]
  },
  {
   "cell_type": "code",
   "execution_count": 43,
   "metadata": {
    "colab": {
     "base_uri": "https://localhost:8080/",
     "height": 125
    },
    "id": "12XPJUZXALpl",
    "outputId": "85ff6838-5297-4d08-d927-9bf5b9ec35f0"
   },
   "outputs": [
    {
     "data": {
      "text/plain": [
       "DecisionTreeClassifier(criterion='entropy', max_depth=4)"
      ]
     },
     "execution_count": 43,
     "metadata": {},
     "output_type": "execute_result"
    }
   ],
   "source": [
    "tree_3_clf.fit(iris_x,iris_y)"
   ]
  },
  {
   "cell_type": "code",
   "execution_count": 44,
   "metadata": {
    "id": "CCCHqhUZ_DqN"
   },
   "outputs": [],
   "source": [
    "export_graphviz(\n",
    "    tree_3_clf,\n",
    "    out_file='iris_tree_3.dot',\n",
    "    feature_names=iris_features,\n",
    "    rounded=True,\n",
    "    filled=True\n",
    ")"
   ]
  },
  {
   "cell_type": "code",
   "execution_count": 45,
   "metadata": {
    "colab": {
     "base_uri": "https://localhost:8080/",
     "height": 676
    },
    "id": "PrAimiqf_kae",
    "outputId": "eb155ecd-e2af-4c33-b660-3e5e6db7988c"
   },
   "outputs": [
    {
     "data": {
      "image/svg+xml": [
       "<?xml version=\"1.0\" encoding=\"UTF-8\" standalone=\"no\"?>\r\n",
       "<!DOCTYPE svg PUBLIC \"-//W3C//DTD SVG 1.1//EN\"\r\n",
       " \"http://www.w3.org/Graphics/SVG/1.1/DTD/svg11.dtd\">\r\n",
       "<!-- Generated by graphviz version 2.47.1 (20210417.1919)\r\n",
       " -->\r\n",
       "<!-- Title: Tree Pages: 1 -->\r\n",
       "<svg width=\"822pt\" height=\"477pt\"\r\n",
       " viewBox=\"0.00 0.00 822.00 477.00\" xmlns=\"http://www.w3.org/2000/svg\" xmlns:xlink=\"http://www.w3.org/1999/xlink\">\r\n",
       "<g id=\"graph0\" class=\"graph\" transform=\"scale(1 1) rotate(0) translate(4 473)\">\r\n",
       "<title>Tree</title>\r\n",
       "<polygon fill=\"white\" stroke=\"transparent\" points=\"-4,4 -4,-473 818,-473 818,4 -4,4\"/>\r\n",
       "<!-- 0 -->\r\n",
       "<g id=\"node1\" class=\"node\">\r\n",
       "<title>0</title>\r\n",
       "<path fill=\"#f3fdf7\" stroke=\"black\" d=\"M484.5,-469C484.5,-469 334.5,-469 334.5,-469 328.5,-469 322.5,-463 322.5,-457 322.5,-457 322.5,-413 322.5,-413 322.5,-407 328.5,-401 334.5,-401 334.5,-401 484.5,-401 484.5,-401 490.5,-401 496.5,-407 496.5,-413 496.5,-413 496.5,-457 496.5,-457 496.5,-463 490.5,-469 484.5,-469\"/>\r\n",
       "<text text-anchor=\"middle\" x=\"409.5\" y=\"-453.8\" font-family=\"Helvetica,sans-Serif\" font-size=\"14.00\">petal length (cm) &lt;= 2.45</text>\r\n",
       "<text text-anchor=\"middle\" x=\"409.5\" y=\"-438.8\" font-family=\"Helvetica,sans-Serif\" font-size=\"14.00\">entropy = 1.581</text>\r\n",
       "<text text-anchor=\"middle\" x=\"409.5\" y=\"-423.8\" font-family=\"Helvetica,sans-Serif\" font-size=\"14.00\">samples = 120</text>\r\n",
       "<text text-anchor=\"middle\" x=\"409.5\" y=\"-408.8\" font-family=\"Helvetica,sans-Serif\" font-size=\"14.00\">value = [37, 44, 39]</text>\r\n",
       "</g>\r\n",
       "<!-- 1 -->\r\n",
       "<g id=\"node2\" class=\"node\">\r\n",
       "<title>1</title>\r\n",
       "<path fill=\"#e58139\" stroke=\"black\" d=\"M377,-357.5C377,-357.5 280,-357.5 280,-357.5 274,-357.5 268,-351.5 268,-345.5 268,-345.5 268,-316.5 268,-316.5 268,-310.5 274,-304.5 280,-304.5 280,-304.5 377,-304.5 377,-304.5 383,-304.5 389,-310.5 389,-316.5 389,-316.5 389,-345.5 389,-345.5 389,-351.5 383,-357.5 377,-357.5\"/>\r\n",
       "<text text-anchor=\"middle\" x=\"328.5\" y=\"-342.3\" font-family=\"Helvetica,sans-Serif\" font-size=\"14.00\">entropy = 0.0</text>\r\n",
       "<text text-anchor=\"middle\" x=\"328.5\" y=\"-327.3\" font-family=\"Helvetica,sans-Serif\" font-size=\"14.00\">samples = 37</text>\r\n",
       "<text text-anchor=\"middle\" x=\"328.5\" y=\"-312.3\" font-family=\"Helvetica,sans-Serif\" font-size=\"14.00\">value = [37, 0, 0]</text>\r\n",
       "</g>\r\n",
       "<!-- 0&#45;&gt;1 -->\r\n",
       "<g id=\"edge1\" class=\"edge\">\r\n",
       "<title>0&#45;&gt;1</title>\r\n",
       "<path fill=\"none\" stroke=\"black\" d=\"M383.2,-400.88C374.21,-389.56 364.14,-376.88 355.12,-365.52\"/>\r\n",
       "<polygon fill=\"black\" stroke=\"black\" points=\"357.73,-363.17 348.77,-357.52 352.24,-367.53 357.73,-363.17\"/>\r\n",
       "<text text-anchor=\"middle\" x=\"345.92\" y=\"-378.66\" font-family=\"Helvetica,sans-Serif\" font-size=\"14.00\">True</text>\r\n",
       "</g>\r\n",
       "<!-- 2 -->\r\n",
       "<g id=\"node3\" class=\"node\">\r\n",
       "<title>2</title>\r\n",
       "<path fill=\"#e8fcf1\" stroke=\"black\" d=\"M563.5,-365C563.5,-365 419.5,-365 419.5,-365 413.5,-365 407.5,-359 407.5,-353 407.5,-353 407.5,-309 407.5,-309 407.5,-303 413.5,-297 419.5,-297 419.5,-297 563.5,-297 563.5,-297 569.5,-297 575.5,-303 575.5,-309 575.5,-309 575.5,-353 575.5,-353 575.5,-359 569.5,-365 563.5,-365\"/>\r\n",
       "<text text-anchor=\"middle\" x=\"491.5\" y=\"-349.8\" font-family=\"Helvetica,sans-Serif\" font-size=\"14.00\">petal width (cm) &lt;= 1.75</text>\r\n",
       "<text text-anchor=\"middle\" x=\"491.5\" y=\"-334.8\" font-family=\"Helvetica,sans-Serif\" font-size=\"14.00\">entropy = 0.997</text>\r\n",
       "<text text-anchor=\"middle\" x=\"491.5\" y=\"-319.8\" font-family=\"Helvetica,sans-Serif\" font-size=\"14.00\">samples = 83</text>\r\n",
       "<text text-anchor=\"middle\" x=\"491.5\" y=\"-304.8\" font-family=\"Helvetica,sans-Serif\" font-size=\"14.00\">value = [0, 44, 39]</text>\r\n",
       "</g>\r\n",
       "<!-- 0&#45;&gt;2 -->\r\n",
       "<g id=\"edge2\" class=\"edge\">\r\n",
       "<title>0&#45;&gt;2</title>\r\n",
       "<path fill=\"none\" stroke=\"black\" d=\"M436.12,-400.88C443.21,-392.07 450.96,-382.43 458.35,-373.24\"/>\r\n",
       "<polygon fill=\"black\" stroke=\"black\" points=\"461.19,-375.29 464.73,-365.3 455.74,-370.9 461.19,-375.29\"/>\r\n",
       "<text text-anchor=\"middle\" x=\"467.43\" y=\"-386.45\" font-family=\"Helvetica,sans-Serif\" font-size=\"14.00\">False</text>\r\n",
       "</g>\r\n",
       "<!-- 3 -->\r\n",
       "<g id=\"node4\" class=\"node\">\r\n",
       "<title>3</title>\r\n",
       "<path fill=\"#4be78d\" stroke=\"black\" d=\"M466.5,-261C466.5,-261 316.5,-261 316.5,-261 310.5,-261 304.5,-255 304.5,-249 304.5,-249 304.5,-205 304.5,-205 304.5,-199 310.5,-193 316.5,-193 316.5,-193 466.5,-193 466.5,-193 472.5,-193 478.5,-199 478.5,-205 478.5,-205 478.5,-249 478.5,-249 478.5,-255 472.5,-261 466.5,-261\"/>\r\n",
       "<text text-anchor=\"middle\" x=\"391.5\" y=\"-245.8\" font-family=\"Helvetica,sans-Serif\" font-size=\"14.00\">petal length (cm) &lt;= 4.95</text>\r\n",
       "<text text-anchor=\"middle\" x=\"391.5\" y=\"-230.8\" font-family=\"Helvetica,sans-Serif\" font-size=\"14.00\">entropy = 0.42</text>\r\n",
       "<text text-anchor=\"middle\" x=\"391.5\" y=\"-215.8\" font-family=\"Helvetica,sans-Serif\" font-size=\"14.00\">samples = 47</text>\r\n",
       "<text text-anchor=\"middle\" x=\"391.5\" y=\"-200.8\" font-family=\"Helvetica,sans-Serif\" font-size=\"14.00\">value = [0, 43, 4]</text>\r\n",
       "</g>\r\n",
       "<!-- 2&#45;&gt;3 -->\r\n",
       "<g id=\"edge3\" class=\"edge\">\r\n",
       "<title>2&#45;&gt;3</title>\r\n",
       "<path fill=\"none\" stroke=\"black\" d=\"M459.03,-296.88C450.21,-287.89 440.56,-278.04 431.38,-268.68\"/>\r\n",
       "<polygon fill=\"black\" stroke=\"black\" points=\"433.65,-265.99 424.15,-261.3 428.65,-270.89 433.65,-265.99\"/>\r\n",
       "</g>\r\n",
       "<!-- 10 -->\r\n",
       "<g id=\"node11\" class=\"node\">\r\n",
       "<title>10</title>\r\n",
       "<path fill=\"#853fe6\" stroke=\"black\" d=\"M667.5,-261C667.5,-261 517.5,-261 517.5,-261 511.5,-261 505.5,-255 505.5,-249 505.5,-249 505.5,-205 505.5,-205 505.5,-199 511.5,-193 517.5,-193 517.5,-193 667.5,-193 667.5,-193 673.5,-193 679.5,-199 679.5,-205 679.5,-205 679.5,-249 679.5,-249 679.5,-255 673.5,-261 667.5,-261\"/>\r\n",
       "<text text-anchor=\"middle\" x=\"592.5\" y=\"-245.8\" font-family=\"Helvetica,sans-Serif\" font-size=\"14.00\">petal length (cm) &lt;= 4.85</text>\r\n",
       "<text text-anchor=\"middle\" x=\"592.5\" y=\"-230.8\" font-family=\"Helvetica,sans-Serif\" font-size=\"14.00\">entropy = 0.183</text>\r\n",
       "<text text-anchor=\"middle\" x=\"592.5\" y=\"-215.8\" font-family=\"Helvetica,sans-Serif\" font-size=\"14.00\">samples = 36</text>\r\n",
       "<text text-anchor=\"middle\" x=\"592.5\" y=\"-200.8\" font-family=\"Helvetica,sans-Serif\" font-size=\"14.00\">value = [0, 1, 35]</text>\r\n",
       "</g>\r\n",
       "<!-- 2&#45;&gt;10 -->\r\n",
       "<g id=\"edge10\" class=\"edge\">\r\n",
       "<title>2&#45;&gt;10</title>\r\n",
       "<path fill=\"none\" stroke=\"black\" d=\"M524.29,-296.88C533.2,-287.89 542.95,-278.04 552.22,-268.68\"/>\r\n",
       "<polygon fill=\"black\" stroke=\"black\" points=\"554.98,-270.87 559.53,-261.3 550,-265.94 554.98,-270.87\"/>\r\n",
       "</g>\r\n",
       "<!-- 4 -->\r\n",
       "<g id=\"node5\" class=\"node\">\r\n",
       "<title>4</title>\r\n",
       "<path fill=\"#3ee684\" stroke=\"black\" d=\"M267.5,-157C267.5,-157 123.5,-157 123.5,-157 117.5,-157 111.5,-151 111.5,-145 111.5,-145 111.5,-101 111.5,-101 111.5,-95 117.5,-89 123.5,-89 123.5,-89 267.5,-89 267.5,-89 273.5,-89 279.5,-95 279.5,-101 279.5,-101 279.5,-145 279.5,-145 279.5,-151 273.5,-157 267.5,-157\"/>\r\n",
       "<text text-anchor=\"middle\" x=\"195.5\" y=\"-141.8\" font-family=\"Helvetica,sans-Serif\" font-size=\"14.00\">petal width (cm) &lt;= 1.65</text>\r\n",
       "<text text-anchor=\"middle\" x=\"195.5\" y=\"-126.8\" font-family=\"Helvetica,sans-Serif\" font-size=\"14.00\">entropy = 0.162</text>\r\n",
       "<text text-anchor=\"middle\" x=\"195.5\" y=\"-111.8\" font-family=\"Helvetica,sans-Serif\" font-size=\"14.00\">samples = 42</text>\r\n",
       "<text text-anchor=\"middle\" x=\"195.5\" y=\"-96.8\" font-family=\"Helvetica,sans-Serif\" font-size=\"14.00\">value = [0, 41, 1]</text>\r\n",
       "</g>\r\n",
       "<!-- 3&#45;&gt;4 -->\r\n",
       "<g id=\"edge4\" class=\"edge\">\r\n",
       "<title>3&#45;&gt;4</title>\r\n",
       "<path fill=\"none\" stroke=\"black\" d=\"M327.86,-192.88C308.77,-182.95 287.68,-171.97 268.05,-161.76\"/>\r\n",
       "<polygon fill=\"black\" stroke=\"black\" points=\"269.64,-158.64 259.15,-157.12 266.41,-164.85 269.64,-158.64\"/>\r\n",
       "</g>\r\n",
       "<!-- 7 -->\r\n",
       "<g id=\"node8\" class=\"node\">\r\n",
       "<title>7</title>\r\n",
       "<path fill=\"#d5bdf6\" stroke=\"black\" d=\"M465.5,-157C465.5,-157 317.5,-157 317.5,-157 311.5,-157 305.5,-151 305.5,-145 305.5,-145 305.5,-101 305.5,-101 305.5,-95 311.5,-89 317.5,-89 317.5,-89 465.5,-89 465.5,-89 471.5,-89 477.5,-95 477.5,-101 477.5,-101 477.5,-145 477.5,-145 477.5,-151 471.5,-157 465.5,-157\"/>\r\n",
       "<text text-anchor=\"middle\" x=\"391.5\" y=\"-141.8\" font-family=\"Helvetica,sans-Serif\" font-size=\"14.00\">sepal width (cm) &lt;= 2.65</text>\r\n",
       "<text text-anchor=\"middle\" x=\"391.5\" y=\"-126.8\" font-family=\"Helvetica,sans-Serif\" font-size=\"14.00\">entropy = 0.971</text>\r\n",
       "<text text-anchor=\"middle\" x=\"391.5\" y=\"-111.8\" font-family=\"Helvetica,sans-Serif\" font-size=\"14.00\">samples = 5</text>\r\n",
       "<text text-anchor=\"middle\" x=\"391.5\" y=\"-96.8\" font-family=\"Helvetica,sans-Serif\" font-size=\"14.00\">value = [0, 2, 3]</text>\r\n",
       "</g>\r\n",
       "<!-- 3&#45;&gt;7 -->\r\n",
       "<g id=\"edge7\" class=\"edge\">\r\n",
       "<title>3&#45;&gt;7</title>\r\n",
       "<path fill=\"none\" stroke=\"black\" d=\"M391.5,-192.88C391.5,-184.78 391.5,-175.98 391.5,-167.47\"/>\r\n",
       "<polygon fill=\"black\" stroke=\"black\" points=\"395,-167.3 391.5,-157.3 388,-167.3 395,-167.3\"/>\r\n",
       "</g>\r\n",
       "<!-- 5 -->\r\n",
       "<g id=\"node6\" class=\"node\">\r\n",
       "<title>5</title>\r\n",
       "<path fill=\"#39e581\" stroke=\"black\" d=\"M109,-53C109,-53 12,-53 12,-53 6,-53 0,-47 0,-41 0,-41 0,-12 0,-12 0,-6 6,0 12,0 12,0 109,0 109,0 115,0 121,-6 121,-12 121,-12 121,-41 121,-41 121,-47 115,-53 109,-53\"/>\r\n",
       "<text text-anchor=\"middle\" x=\"60.5\" y=\"-37.8\" font-family=\"Helvetica,sans-Serif\" font-size=\"14.00\">entropy = 0.0</text>\r\n",
       "<text text-anchor=\"middle\" x=\"60.5\" y=\"-22.8\" font-family=\"Helvetica,sans-Serif\" font-size=\"14.00\">samples = 41</text>\r\n",
       "<text text-anchor=\"middle\" x=\"60.5\" y=\"-7.8\" font-family=\"Helvetica,sans-Serif\" font-size=\"14.00\">value = [0, 41, 0]</text>\r\n",
       "</g>\r\n",
       "<!-- 4&#45;&gt;5 -->\r\n",
       "<g id=\"edge5\" class=\"edge\">\r\n",
       "<title>4&#45;&gt;5</title>\r\n",
       "<path fill=\"none\" stroke=\"black\" d=\"M148.28,-88.95C134.43,-79.25 119.32,-68.68 105.6,-59.07\"/>\r\n",
       "<polygon fill=\"black\" stroke=\"black\" points=\"107.47,-56.1 97.27,-53.24 103.45,-61.84 107.47,-56.1\"/>\r\n",
       "</g>\r\n",
       "<!-- 6 -->\r\n",
       "<g id=\"node7\" class=\"node\">\r\n",
       "<title>6</title>\r\n",
       "<path fill=\"#8139e5\" stroke=\"black\" d=\"M240,-53C240,-53 151,-53 151,-53 145,-53 139,-47 139,-41 139,-41 139,-12 139,-12 139,-6 145,0 151,0 151,0 240,0 240,0 246,0 252,-6 252,-12 252,-12 252,-41 252,-41 252,-47 246,-53 240,-53\"/>\r\n",
       "<text text-anchor=\"middle\" x=\"195.5\" y=\"-37.8\" font-family=\"Helvetica,sans-Serif\" font-size=\"14.00\">entropy = 0.0</text>\r\n",
       "<text text-anchor=\"middle\" x=\"195.5\" y=\"-22.8\" font-family=\"Helvetica,sans-Serif\" font-size=\"14.00\">samples = 1</text>\r\n",
       "<text text-anchor=\"middle\" x=\"195.5\" y=\"-7.8\" font-family=\"Helvetica,sans-Serif\" font-size=\"14.00\">value = [0, 0, 1]</text>\r\n",
       "</g>\r\n",
       "<!-- 4&#45;&gt;6 -->\r\n",
       "<g id=\"edge6\" class=\"edge\">\r\n",
       "<title>4&#45;&gt;6</title>\r\n",
       "<path fill=\"none\" stroke=\"black\" d=\"M195.5,-88.95C195.5,-80.72 195.5,-71.85 195.5,-63.48\"/>\r\n",
       "<polygon fill=\"black\" stroke=\"black\" points=\"199,-63.24 195.5,-53.24 192,-63.24 199,-63.24\"/>\r\n",
       "</g>\r\n",
       "<!-- 8 -->\r\n",
       "<g id=\"node9\" class=\"node\">\r\n",
       "<title>8</title>\r\n",
       "<path fill=\"#8139e5\" stroke=\"black\" d=\"M371,-53C371,-53 282,-53 282,-53 276,-53 270,-47 270,-41 270,-41 270,-12 270,-12 270,-6 276,0 282,0 282,0 371,0 371,0 377,0 383,-6 383,-12 383,-12 383,-41 383,-41 383,-47 377,-53 371,-53\"/>\r\n",
       "<text text-anchor=\"middle\" x=\"326.5\" y=\"-37.8\" font-family=\"Helvetica,sans-Serif\" font-size=\"14.00\">entropy = 0.0</text>\r\n",
       "<text text-anchor=\"middle\" x=\"326.5\" y=\"-22.8\" font-family=\"Helvetica,sans-Serif\" font-size=\"14.00\">samples = 2</text>\r\n",
       "<text text-anchor=\"middle\" x=\"326.5\" y=\"-7.8\" font-family=\"Helvetica,sans-Serif\" font-size=\"14.00\">value = [0, 0, 2]</text>\r\n",
       "</g>\r\n",
       "<!-- 7&#45;&gt;8 -->\r\n",
       "<g id=\"edge8\" class=\"edge\">\r\n",
       "<title>7&#45;&gt;8</title>\r\n",
       "<path fill=\"none\" stroke=\"black\" d=\"M368.77,-88.95C362.66,-80.07 356.05,-70.46 349.91,-61.54\"/>\r\n",
       "<polygon fill=\"black\" stroke=\"black\" points=\"352.75,-59.49 344.2,-53.24 346.99,-63.46 352.75,-59.49\"/>\r\n",
       "</g>\r\n",
       "<!-- 9 -->\r\n",
       "<g id=\"node10\" class=\"node\">\r\n",
       "<title>9</title>\r\n",
       "<path fill=\"#9cf2c0\" stroke=\"black\" d=\"M505.5,-53C505.5,-53 413.5,-53 413.5,-53 407.5,-53 401.5,-47 401.5,-41 401.5,-41 401.5,-12 401.5,-12 401.5,-6 407.5,0 413.5,0 413.5,0 505.5,0 505.5,0 511.5,0 517.5,-6 517.5,-12 517.5,-12 517.5,-41 517.5,-41 517.5,-47 511.5,-53 505.5,-53\"/>\r\n",
       "<text text-anchor=\"middle\" x=\"459.5\" y=\"-37.8\" font-family=\"Helvetica,sans-Serif\" font-size=\"14.00\">entropy = 0.918</text>\r\n",
       "<text text-anchor=\"middle\" x=\"459.5\" y=\"-22.8\" font-family=\"Helvetica,sans-Serif\" font-size=\"14.00\">samples = 3</text>\r\n",
       "<text text-anchor=\"middle\" x=\"459.5\" y=\"-7.8\" font-family=\"Helvetica,sans-Serif\" font-size=\"14.00\">value = [0, 2, 1]</text>\r\n",
       "</g>\r\n",
       "<!-- 7&#45;&gt;9 -->\r\n",
       "<g id=\"edge9\" class=\"edge\">\r\n",
       "<title>7&#45;&gt;9</title>\r\n",
       "<path fill=\"none\" stroke=\"black\" d=\"M415.28,-88.95C421.67,-80.07 428.58,-70.46 435.01,-61.54\"/>\r\n",
       "<polygon fill=\"black\" stroke=\"black\" points=\"437.98,-63.4 440.98,-53.24 432.3,-59.31 437.98,-63.4\"/>\r\n",
       "</g>\r\n",
       "<!-- 11 -->\r\n",
       "<g id=\"node12\" class=\"node\">\r\n",
       "<title>11</title>\r\n",
       "<path fill=\"#ffffff\" stroke=\"black\" d=\"M662.5,-157C662.5,-157 522.5,-157 522.5,-157 516.5,-157 510.5,-151 510.5,-145 510.5,-145 510.5,-101 510.5,-101 510.5,-95 516.5,-89 522.5,-89 522.5,-89 662.5,-89 662.5,-89 668.5,-89 674.5,-95 674.5,-101 674.5,-101 674.5,-145 674.5,-145 674.5,-151 668.5,-157 662.5,-157\"/>\r\n",
       "<text text-anchor=\"middle\" x=\"592.5\" y=\"-141.8\" font-family=\"Helvetica,sans-Serif\" font-size=\"14.00\">sepal width (cm) &lt;= 3.0</text>\r\n",
       "<text text-anchor=\"middle\" x=\"592.5\" y=\"-126.8\" font-family=\"Helvetica,sans-Serif\" font-size=\"14.00\">entropy = 1.0</text>\r\n",
       "<text text-anchor=\"middle\" x=\"592.5\" y=\"-111.8\" font-family=\"Helvetica,sans-Serif\" font-size=\"14.00\">samples = 2</text>\r\n",
       "<text text-anchor=\"middle\" x=\"592.5\" y=\"-96.8\" font-family=\"Helvetica,sans-Serif\" font-size=\"14.00\">value = [0, 1, 1]</text>\r\n",
       "</g>\r\n",
       "<!-- 10&#45;&gt;11 -->\r\n",
       "<g id=\"edge11\" class=\"edge\">\r\n",
       "<title>10&#45;&gt;11</title>\r\n",
       "<path fill=\"none\" stroke=\"black\" d=\"M592.5,-192.88C592.5,-184.78 592.5,-175.98 592.5,-167.47\"/>\r\n",
       "<polygon fill=\"black\" stroke=\"black\" points=\"596,-167.3 592.5,-157.3 589,-167.3 596,-167.3\"/>\r\n",
       "</g>\r\n",
       "<!-- 14 -->\r\n",
       "<g id=\"node15\" class=\"node\">\r\n",
       "<title>14</title>\r\n",
       "<path fill=\"#8139e5\" stroke=\"black\" d=\"M802,-149.5C802,-149.5 705,-149.5 705,-149.5 699,-149.5 693,-143.5 693,-137.5 693,-137.5 693,-108.5 693,-108.5 693,-102.5 699,-96.5 705,-96.5 705,-96.5 802,-96.5 802,-96.5 808,-96.5 814,-102.5 814,-108.5 814,-108.5 814,-137.5 814,-137.5 814,-143.5 808,-149.5 802,-149.5\"/>\r\n",
       "<text text-anchor=\"middle\" x=\"753.5\" y=\"-134.3\" font-family=\"Helvetica,sans-Serif\" font-size=\"14.00\">entropy = 0.0</text>\r\n",
       "<text text-anchor=\"middle\" x=\"753.5\" y=\"-119.3\" font-family=\"Helvetica,sans-Serif\" font-size=\"14.00\">samples = 34</text>\r\n",
       "<text text-anchor=\"middle\" x=\"753.5\" y=\"-104.3\" font-family=\"Helvetica,sans-Serif\" font-size=\"14.00\">value = [0, 0, 34]</text>\r\n",
       "</g>\r\n",
       "<!-- 10&#45;&gt;14 -->\r\n",
       "<g id=\"edge14\" class=\"edge\">\r\n",
       "<title>10&#45;&gt;14</title>\r\n",
       "<path fill=\"none\" stroke=\"black\" d=\"M644.77,-192.88C664.04,-180.68 685.78,-166.9 704.73,-154.9\"/>\r\n",
       "<polygon fill=\"black\" stroke=\"black\" points=\"706.64,-157.83 713.22,-149.52 702.9,-151.92 706.64,-157.83\"/>\r\n",
       "</g>\r\n",
       "<!-- 12 -->\r\n",
       "<g id=\"node13\" class=\"node\">\r\n",
       "<title>12</title>\r\n",
       "<path fill=\"#8139e5\" stroke=\"black\" d=\"M637,-53C637,-53 548,-53 548,-53 542,-53 536,-47 536,-41 536,-41 536,-12 536,-12 536,-6 542,0 548,0 548,0 637,0 637,0 643,0 649,-6 649,-12 649,-12 649,-41 649,-41 649,-47 643,-53 637,-53\"/>\r\n",
       "<text text-anchor=\"middle\" x=\"592.5\" y=\"-37.8\" font-family=\"Helvetica,sans-Serif\" font-size=\"14.00\">entropy = 0.0</text>\r\n",
       "<text text-anchor=\"middle\" x=\"592.5\" y=\"-22.8\" font-family=\"Helvetica,sans-Serif\" font-size=\"14.00\">samples = 1</text>\r\n",
       "<text text-anchor=\"middle\" x=\"592.5\" y=\"-7.8\" font-family=\"Helvetica,sans-Serif\" font-size=\"14.00\">value = [0, 0, 1]</text>\r\n",
       "</g>\r\n",
       "<!-- 11&#45;&gt;12 -->\r\n",
       "<g id=\"edge12\" class=\"edge\">\r\n",
       "<title>11&#45;&gt;12</title>\r\n",
       "<path fill=\"none\" stroke=\"black\" d=\"M592.5,-88.95C592.5,-80.72 592.5,-71.85 592.5,-63.48\"/>\r\n",
       "<polygon fill=\"black\" stroke=\"black\" points=\"596,-63.24 592.5,-53.24 589,-63.24 596,-63.24\"/>\r\n",
       "</g>\r\n",
       "<!-- 13 -->\r\n",
       "<g id=\"node14\" class=\"node\">\r\n",
       "<title>13</title>\r\n",
       "<path fill=\"#39e581\" stroke=\"black\" d=\"M768,-53C768,-53 679,-53 679,-53 673,-53 667,-47 667,-41 667,-41 667,-12 667,-12 667,-6 673,0 679,0 679,0 768,0 768,0 774,0 780,-6 780,-12 780,-12 780,-41 780,-41 780,-47 774,-53 768,-53\"/>\r\n",
       "<text text-anchor=\"middle\" x=\"723.5\" y=\"-37.8\" font-family=\"Helvetica,sans-Serif\" font-size=\"14.00\">entropy = 0.0</text>\r\n",
       "<text text-anchor=\"middle\" x=\"723.5\" y=\"-22.8\" font-family=\"Helvetica,sans-Serif\" font-size=\"14.00\">samples = 1</text>\r\n",
       "<text text-anchor=\"middle\" x=\"723.5\" y=\"-7.8\" font-family=\"Helvetica,sans-Serif\" font-size=\"14.00\">value = [0, 1, 0]</text>\r\n",
       "</g>\r\n",
       "<!-- 11&#45;&gt;13 -->\r\n",
       "<g id=\"edge13\" class=\"edge\">\r\n",
       "<title>11&#45;&gt;13</title>\r\n",
       "<path fill=\"none\" stroke=\"black\" d=\"M638.32,-88.95C651.63,-79.34 666.14,-68.87 679.36,-59.34\"/>\r\n",
       "<polygon fill=\"black\" stroke=\"black\" points=\"681.76,-61.93 687.82,-53.24 677.66,-56.25 681.76,-61.93\"/>\r\n",
       "</g>\r\n",
       "</g>\r\n",
       "</svg>\r\n"
      ],
      "text/plain": [
       "<graphviz.files.Source at 0x233f30bff70>"
      ]
     },
     "metadata": {},
     "output_type": "display_data"
    }
   ],
   "source": [
    "import graphviz\n",
    "from IPython.display import display\n",
    "with open('iris_tree_3.dot') as f3:\n",
    "    dot_graph_3 = f3.read()\n",
    "dot_3 = graphviz.Source(dot_graph_3)\n",
    "dot_3.format = 'png'\n",
    "dot_3.render(filename='iris_tree_3', directory='./',cleanup=True)\n",
    "display(dot_3)"
   ]
  },
  {
   "cell_type": "markdown",
   "metadata": {
    "id": "VjFpAIl89E12"
   },
   "source": [
    "## <h1>TRAIN with Decision Tree(Gini)</h1>"
   ]
  },
  {
   "cell_type": "code",
   "execution_count": 46,
   "metadata": {
    "id": "N7URHbku9yjg"
   },
   "outputs": [],
   "source": [
    "from sklearn.tree import DecisionTreeClassifier"
   ]
  },
  {
   "cell_type": "markdown",
   "metadata": {
    "id": "oXV93cTm9Mft"
   },
   "source": [
    "탐색 기준이 gini"
   ]
  },
  {
   "cell_type": "code",
   "execution_count": 47,
   "metadata": {
    "id": "zr9_ri2q9LnI"
   },
   "outputs": [],
   "source": [
    "tree_4_clf = DecisionTreeClassifier(criterion='gini', max_depth=2)"
   ]
  },
  {
   "cell_type": "code",
   "execution_count": 48,
   "metadata": {
    "colab": {
     "base_uri": "https://localhost:8080/",
     "height": 125
    },
    "id": "NSbKRrf69Led",
    "outputId": "8c2e516f-f5b9-4259-b01a-655b7cf7d809"
   },
   "outputs": [
    {
     "data": {
      "text/plain": [
       "DecisionTreeClassifier(max_depth=2)"
      ]
     },
     "execution_count": 48,
     "metadata": {},
     "output_type": "execute_result"
    }
   ],
   "source": [
    "tree_4_clf.fit(iris_x,iris_y)"
   ]
  },
  {
   "cell_type": "code",
   "execution_count": 49,
   "metadata": {
    "id": "P2NAghZ7A6R-"
   },
   "outputs": [],
   "source": [
    "export_graphviz(\n",
    "    tree_4_clf,\n",
    "    out_file='iris_tree_4.dot',\n",
    "    feature_names=iris_features,\n",
    "    rounded=True,\n",
    "    filled=True\n",
    ")"
   ]
  },
  {
   "cell_type": "code",
   "execution_count": 50,
   "metadata": {
    "colab": {
     "base_uri": "https://localhost:8080/",
     "height": 379
    },
    "id": "0hTmd3AYA9fX",
    "outputId": "e6aecd2c-78e4-489d-f5aa-36d374e595e0"
   },
   "outputs": [
    {
     "data": {
      "image/svg+xml": [
       "<?xml version=\"1.0\" encoding=\"UTF-8\" standalone=\"no\"?>\r\n",
       "<!DOCTYPE svg PUBLIC \"-//W3C//DTD SVG 1.1//EN\"\r\n",
       " \"http://www.w3.org/Graphics/SVG/1.1/DTD/svg11.dtd\">\r\n",
       "<!-- Generated by graphviz version 2.47.1 (20210417.1919)\r\n",
       " -->\r\n",
       "<!-- Title: Tree Pages: 1 -->\r\n",
       "<svg width=\"361pt\" height=\"269pt\"\r\n",
       " viewBox=\"0.00 0.00 361.00 269.00\" xmlns=\"http://www.w3.org/2000/svg\" xmlns:xlink=\"http://www.w3.org/1999/xlink\">\r\n",
       "<g id=\"graph0\" class=\"graph\" transform=\"scale(1 1) rotate(0) translate(4 265)\">\r\n",
       "<title>Tree</title>\r\n",
       "<polygon fill=\"white\" stroke=\"transparent\" points=\"-4,4 -4,-265 357,-265 357,4 -4,4\"/>\r\n",
       "<!-- 0 -->\r\n",
       "<g id=\"node1\" class=\"node\">\r\n",
       "<title>0</title>\r\n",
       "<path fill=\"#f3fdf7\" stroke=\"black\" d=\"M209.5,-261C209.5,-261 73.5,-261 73.5,-261 67.5,-261 61.5,-255 61.5,-249 61.5,-249 61.5,-205 61.5,-205 61.5,-199 67.5,-193 73.5,-193 73.5,-193 209.5,-193 209.5,-193 215.5,-193 221.5,-199 221.5,-205 221.5,-205 221.5,-249 221.5,-249 221.5,-255 215.5,-261 209.5,-261\"/>\r\n",
       "<text text-anchor=\"middle\" x=\"141.5\" y=\"-245.8\" font-family=\"Helvetica,sans-Serif\" font-size=\"14.00\">petal width (cm) &lt;= 0.8</text>\r\n",
       "<text text-anchor=\"middle\" x=\"141.5\" y=\"-230.8\" font-family=\"Helvetica,sans-Serif\" font-size=\"14.00\">gini = 0.665</text>\r\n",
       "<text text-anchor=\"middle\" x=\"141.5\" y=\"-215.8\" font-family=\"Helvetica,sans-Serif\" font-size=\"14.00\">samples = 120</text>\r\n",
       "<text text-anchor=\"middle\" x=\"141.5\" y=\"-200.8\" font-family=\"Helvetica,sans-Serif\" font-size=\"14.00\">value = [37, 44, 39]</text>\r\n",
       "</g>\r\n",
       "<!-- 1 -->\r\n",
       "<g id=\"node2\" class=\"node\">\r\n",
       "<title>1</title>\r\n",
       "<path fill=\"#e58139\" stroke=\"black\" d=\"M109,-149.5C109,-149.5 12,-149.5 12,-149.5 6,-149.5 0,-143.5 0,-137.5 0,-137.5 0,-108.5 0,-108.5 0,-102.5 6,-96.5 12,-96.5 12,-96.5 109,-96.5 109,-96.5 115,-96.5 121,-102.5 121,-108.5 121,-108.5 121,-137.5 121,-137.5 121,-143.5 115,-149.5 109,-149.5\"/>\r\n",
       "<text text-anchor=\"middle\" x=\"60.5\" y=\"-134.3\" font-family=\"Helvetica,sans-Serif\" font-size=\"14.00\">gini = 0.0</text>\r\n",
       "<text text-anchor=\"middle\" x=\"60.5\" y=\"-119.3\" font-family=\"Helvetica,sans-Serif\" font-size=\"14.00\">samples = 37</text>\r\n",
       "<text text-anchor=\"middle\" x=\"60.5\" y=\"-104.3\" font-family=\"Helvetica,sans-Serif\" font-size=\"14.00\">value = [37, 0, 0]</text>\r\n",
       "</g>\r\n",
       "<!-- 0&#45;&gt;1 -->\r\n",
       "<g id=\"edge1\" class=\"edge\">\r\n",
       "<title>0&#45;&gt;1</title>\r\n",
       "<path fill=\"none\" stroke=\"black\" d=\"M115.2,-192.88C106.21,-181.56 96.14,-168.88 87.12,-157.52\"/>\r\n",
       "<polygon fill=\"black\" stroke=\"black\" points=\"89.73,-155.17 80.77,-149.52 84.24,-159.53 89.73,-155.17\"/>\r\n",
       "<text text-anchor=\"middle\" x=\"77.92\" y=\"-170.66\" font-family=\"Helvetica,sans-Serif\" font-size=\"14.00\">True</text>\r\n",
       "</g>\r\n",
       "<!-- 2 -->\r\n",
       "<g id=\"node3\" class=\"node\">\r\n",
       "<title>2</title>\r\n",
       "<path fill=\"#e8fcf1\" stroke=\"black\" d=\"M295.5,-157C295.5,-157 151.5,-157 151.5,-157 145.5,-157 139.5,-151 139.5,-145 139.5,-145 139.5,-101 139.5,-101 139.5,-95 145.5,-89 151.5,-89 151.5,-89 295.5,-89 295.5,-89 301.5,-89 307.5,-95 307.5,-101 307.5,-101 307.5,-145 307.5,-145 307.5,-151 301.5,-157 295.5,-157\"/>\r\n",
       "<text text-anchor=\"middle\" x=\"223.5\" y=\"-141.8\" font-family=\"Helvetica,sans-Serif\" font-size=\"14.00\">petal width (cm) &lt;= 1.75</text>\r\n",
       "<text text-anchor=\"middle\" x=\"223.5\" y=\"-126.8\" font-family=\"Helvetica,sans-Serif\" font-size=\"14.00\">gini = 0.498</text>\r\n",
       "<text text-anchor=\"middle\" x=\"223.5\" y=\"-111.8\" font-family=\"Helvetica,sans-Serif\" font-size=\"14.00\">samples = 83</text>\r\n",
       "<text text-anchor=\"middle\" x=\"223.5\" y=\"-96.8\" font-family=\"Helvetica,sans-Serif\" font-size=\"14.00\">value = [0, 44, 39]</text>\r\n",
       "</g>\r\n",
       "<!-- 0&#45;&gt;2 -->\r\n",
       "<g id=\"edge2\" class=\"edge\">\r\n",
       "<title>0&#45;&gt;2</title>\r\n",
       "<path fill=\"none\" stroke=\"black\" d=\"M168.12,-192.88C175.21,-184.07 182.96,-174.43 190.35,-165.24\"/>\r\n",
       "<polygon fill=\"black\" stroke=\"black\" points=\"193.19,-167.29 196.73,-157.3 187.74,-162.9 193.19,-167.29\"/>\r\n",
       "<text text-anchor=\"middle\" x=\"199.43\" y=\"-178.45\" font-family=\"Helvetica,sans-Serif\" font-size=\"14.00\">False</text>\r\n",
       "</g>\r\n",
       "<!-- 3 -->\r\n",
       "<g id=\"node4\" class=\"node\">\r\n",
       "<title>3</title>\r\n",
       "<path fill=\"#4be78d\" stroke=\"black\" d=\"M202,-53C202,-53 105,-53 105,-53 99,-53 93,-47 93,-41 93,-41 93,-12 93,-12 93,-6 99,0 105,0 105,0 202,0 202,0 208,0 214,-6 214,-12 214,-12 214,-41 214,-41 214,-47 208,-53 202,-53\"/>\r\n",
       "<text text-anchor=\"middle\" x=\"153.5\" y=\"-37.8\" font-family=\"Helvetica,sans-Serif\" font-size=\"14.00\">gini = 0.156</text>\r\n",
       "<text text-anchor=\"middle\" x=\"153.5\" y=\"-22.8\" font-family=\"Helvetica,sans-Serif\" font-size=\"14.00\">samples = 47</text>\r\n",
       "<text text-anchor=\"middle\" x=\"153.5\" y=\"-7.8\" font-family=\"Helvetica,sans-Serif\" font-size=\"14.00\">value = [0, 43, 4]</text>\r\n",
       "</g>\r\n",
       "<!-- 2&#45;&gt;3 -->\r\n",
       "<g id=\"edge3\" class=\"edge\">\r\n",
       "<title>2&#45;&gt;3</title>\r\n",
       "<path fill=\"none\" stroke=\"black\" d=\"M199.02,-88.95C192.44,-80.07 185.33,-70.46 178.71,-61.54\"/>\r\n",
       "<polygon fill=\"black\" stroke=\"black\" points=\"181.33,-59.19 172.56,-53.24 175.7,-63.36 181.33,-59.19\"/>\r\n",
       "</g>\r\n",
       "<!-- 4 -->\r\n",
       "<g id=\"node5\" class=\"node\">\r\n",
       "<title>4</title>\r\n",
       "<path fill=\"#853fe6\" stroke=\"black\" d=\"M341,-53C341,-53 244,-53 244,-53 238,-53 232,-47 232,-41 232,-41 232,-12 232,-12 232,-6 238,0 244,0 244,0 341,0 341,0 347,0 353,-6 353,-12 353,-12 353,-41 353,-41 353,-47 347,-53 341,-53\"/>\r\n",
       "<text text-anchor=\"middle\" x=\"292.5\" y=\"-37.8\" font-family=\"Helvetica,sans-Serif\" font-size=\"14.00\">gini = 0.054</text>\r\n",
       "<text text-anchor=\"middle\" x=\"292.5\" y=\"-22.8\" font-family=\"Helvetica,sans-Serif\" font-size=\"14.00\">samples = 36</text>\r\n",
       "<text text-anchor=\"middle\" x=\"292.5\" y=\"-7.8\" font-family=\"Helvetica,sans-Serif\" font-size=\"14.00\">value = [0, 1, 35]</text>\r\n",
       "</g>\r\n",
       "<!-- 2&#45;&gt;4 -->\r\n",
       "<g id=\"edge4\" class=\"edge\">\r\n",
       "<title>2&#45;&gt;4</title>\r\n",
       "<path fill=\"none\" stroke=\"black\" d=\"M247.63,-88.95C254.11,-80.07 261.13,-70.46 267.65,-61.54\"/>\r\n",
       "<polygon fill=\"black\" stroke=\"black\" points=\"270.64,-63.38 273.71,-53.24 264.98,-59.25 270.64,-63.38\"/>\r\n",
       "</g>\r\n",
       "</g>\r\n",
       "</svg>\r\n"
      ],
      "text/plain": [
       "<graphviz.files.Source at 0x233f30a7880>"
      ]
     },
     "metadata": {},
     "output_type": "display_data"
    }
   ],
   "source": [
    "import graphviz\n",
    "from IPython.display import display\n",
    "with open('iris_tree_4.dot') as f4:\n",
    "    dot_graph_4 = f4.read()\n",
    "dot_4 = graphviz.Source(dot_graph_4)\n",
    "dot_4.format = 'png'\n",
    "dot_4.render(filename='iris_tree_4', directory='./',cleanup=True)\n",
    "display(dot_4)"
   ]
  },
  {
   "cell_type": "code",
   "execution_count": 51,
   "metadata": {
    "id": "iTeTAs57KSAc"
   },
   "outputs": [],
   "source": [
    "tree_5_clf = DecisionTreeClassifier(criterion='gini', max_depth=3)"
   ]
  },
  {
   "cell_type": "code",
   "execution_count": 52,
   "metadata": {
    "colab": {
     "base_uri": "https://localhost:8080/",
     "height": 125
    },
    "id": "jVnmz7miKU3G",
    "outputId": "e198d531-1888-4ee9-f343-b7e15a744f9a"
   },
   "outputs": [
    {
     "data": {
      "text/plain": [
       "DecisionTreeClassifier(max_depth=3)"
      ]
     },
     "execution_count": 52,
     "metadata": {},
     "output_type": "execute_result"
    }
   ],
   "source": [
    "tree_5_clf.fit(iris_x,iris_y)"
   ]
  },
  {
   "cell_type": "code",
   "execution_count": 53,
   "metadata": {
    "id": "ibufdarLKGzD"
   },
   "outputs": [],
   "source": [
    "export_graphviz(\n",
    "    tree_5_clf,\n",
    "    out_file='iris_tree_5.dot',\n",
    "    feature_names=iris_features,\n",
    "    rounded=True,\n",
    "    filled=True\n",
    ")"
   ]
  },
  {
   "cell_type": "code",
   "execution_count": 54,
   "metadata": {
    "colab": {
     "base_uri": "https://localhost:8080/",
     "height": 517
    },
    "id": "k7bY5EtUKKm0",
    "outputId": "0fe07e4d-25a2-4408-d0bb-7dd377ea7bc9"
   },
   "outputs": [
    {
     "data": {
      "image/svg+xml": [
       "<?xml version=\"1.0\" encoding=\"UTF-8\" standalone=\"no\"?>\r\n",
       "<!DOCTYPE svg PUBLIC \"-//W3C//DTD SVG 1.1//EN\"\r\n",
       " \"http://www.w3.org/Graphics/SVG/1.1/DTD/svg11.dtd\">\r\n",
       "<!-- Generated by graphviz version 2.47.1 (20210417.1919)\r\n",
       " -->\r\n",
       "<!-- Title: Tree Pages: 1 -->\r\n",
       "<svg width=\"560pt\" height=\"373pt\"\r\n",
       " viewBox=\"0.00 0.00 560.00 373.00\" xmlns=\"http://www.w3.org/2000/svg\" xmlns:xlink=\"http://www.w3.org/1999/xlink\">\r\n",
       "<g id=\"graph0\" class=\"graph\" transform=\"scale(1 1) rotate(0) translate(4 369)\">\r\n",
       "<title>Tree</title>\r\n",
       "<polygon fill=\"white\" stroke=\"transparent\" points=\"-4,4 -4,-369 556,-369 556,4 -4,4\"/>\r\n",
       "<!-- 0 -->\r\n",
       "<g id=\"node1\" class=\"node\">\r\n",
       "<title>0</title>\r\n",
       "<path fill=\"#f3fdf7\" stroke=\"black\" d=\"M268.5,-365C268.5,-365 118.5,-365 118.5,-365 112.5,-365 106.5,-359 106.5,-353 106.5,-353 106.5,-309 106.5,-309 106.5,-303 112.5,-297 118.5,-297 118.5,-297 268.5,-297 268.5,-297 274.5,-297 280.5,-303 280.5,-309 280.5,-309 280.5,-353 280.5,-353 280.5,-359 274.5,-365 268.5,-365\"/>\r\n",
       "<text text-anchor=\"middle\" x=\"193.5\" y=\"-349.8\" font-family=\"Helvetica,sans-Serif\" font-size=\"14.00\">petal length (cm) &lt;= 2.45</text>\r\n",
       "<text text-anchor=\"middle\" x=\"193.5\" y=\"-334.8\" font-family=\"Helvetica,sans-Serif\" font-size=\"14.00\">gini = 0.665</text>\r\n",
       "<text text-anchor=\"middle\" x=\"193.5\" y=\"-319.8\" font-family=\"Helvetica,sans-Serif\" font-size=\"14.00\">samples = 120</text>\r\n",
       "<text text-anchor=\"middle\" x=\"193.5\" y=\"-304.8\" font-family=\"Helvetica,sans-Serif\" font-size=\"14.00\">value = [37, 44, 39]</text>\r\n",
       "</g>\r\n",
       "<!-- 1 -->\r\n",
       "<g id=\"node2\" class=\"node\">\r\n",
       "<title>1</title>\r\n",
       "<path fill=\"#e58139\" stroke=\"black\" d=\"M161,-253.5C161,-253.5 64,-253.5 64,-253.5 58,-253.5 52,-247.5 52,-241.5 52,-241.5 52,-212.5 52,-212.5 52,-206.5 58,-200.5 64,-200.5 64,-200.5 161,-200.5 161,-200.5 167,-200.5 173,-206.5 173,-212.5 173,-212.5 173,-241.5 173,-241.5 173,-247.5 167,-253.5 161,-253.5\"/>\r\n",
       "<text text-anchor=\"middle\" x=\"112.5\" y=\"-238.3\" font-family=\"Helvetica,sans-Serif\" font-size=\"14.00\">gini = 0.0</text>\r\n",
       "<text text-anchor=\"middle\" x=\"112.5\" y=\"-223.3\" font-family=\"Helvetica,sans-Serif\" font-size=\"14.00\">samples = 37</text>\r\n",
       "<text text-anchor=\"middle\" x=\"112.5\" y=\"-208.3\" font-family=\"Helvetica,sans-Serif\" font-size=\"14.00\">value = [37, 0, 0]</text>\r\n",
       "</g>\r\n",
       "<!-- 0&#45;&gt;1 -->\r\n",
       "<g id=\"edge1\" class=\"edge\">\r\n",
       "<title>0&#45;&gt;1</title>\r\n",
       "<path fill=\"none\" stroke=\"black\" d=\"M167.2,-296.88C158.21,-285.56 148.14,-272.88 139.12,-261.52\"/>\r\n",
       "<polygon fill=\"black\" stroke=\"black\" points=\"141.73,-259.17 132.77,-253.52 136.24,-263.53 141.73,-259.17\"/>\r\n",
       "<text text-anchor=\"middle\" x=\"129.92\" y=\"-274.66\" font-family=\"Helvetica,sans-Serif\" font-size=\"14.00\">True</text>\r\n",
       "</g>\r\n",
       "<!-- 2 -->\r\n",
       "<g id=\"node3\" class=\"node\">\r\n",
       "<title>2</title>\r\n",
       "<path fill=\"#e8fcf1\" stroke=\"black\" d=\"M347.5,-261C347.5,-261 203.5,-261 203.5,-261 197.5,-261 191.5,-255 191.5,-249 191.5,-249 191.5,-205 191.5,-205 191.5,-199 197.5,-193 203.5,-193 203.5,-193 347.5,-193 347.5,-193 353.5,-193 359.5,-199 359.5,-205 359.5,-205 359.5,-249 359.5,-249 359.5,-255 353.5,-261 347.5,-261\"/>\r\n",
       "<text text-anchor=\"middle\" x=\"275.5\" y=\"-245.8\" font-family=\"Helvetica,sans-Serif\" font-size=\"14.00\">petal width (cm) &lt;= 1.75</text>\r\n",
       "<text text-anchor=\"middle\" x=\"275.5\" y=\"-230.8\" font-family=\"Helvetica,sans-Serif\" font-size=\"14.00\">gini = 0.498</text>\r\n",
       "<text text-anchor=\"middle\" x=\"275.5\" y=\"-215.8\" font-family=\"Helvetica,sans-Serif\" font-size=\"14.00\">samples = 83</text>\r\n",
       "<text text-anchor=\"middle\" x=\"275.5\" y=\"-200.8\" font-family=\"Helvetica,sans-Serif\" font-size=\"14.00\">value = [0, 44, 39]</text>\r\n",
       "</g>\r\n",
       "<!-- 0&#45;&gt;2 -->\r\n",
       "<g id=\"edge2\" class=\"edge\">\r\n",
       "<title>0&#45;&gt;2</title>\r\n",
       "<path fill=\"none\" stroke=\"black\" d=\"M220.12,-296.88C227.21,-288.07 234.96,-278.43 242.35,-269.24\"/>\r\n",
       "<polygon fill=\"black\" stroke=\"black\" points=\"245.19,-271.29 248.73,-261.3 239.74,-266.9 245.19,-271.29\"/>\r\n",
       "<text text-anchor=\"middle\" x=\"251.43\" y=\"-282.45\" font-family=\"Helvetica,sans-Serif\" font-size=\"14.00\">False</text>\r\n",
       "</g>\r\n",
       "<!-- 3 -->\r\n",
       "<g id=\"node4\" class=\"node\">\r\n",
       "<title>3</title>\r\n",
       "<path fill=\"#4be78d\" stroke=\"black\" d=\"M254.5,-157C254.5,-157 104.5,-157 104.5,-157 98.5,-157 92.5,-151 92.5,-145 92.5,-145 92.5,-101 92.5,-101 92.5,-95 98.5,-89 104.5,-89 104.5,-89 254.5,-89 254.5,-89 260.5,-89 266.5,-95 266.5,-101 266.5,-101 266.5,-145 266.5,-145 266.5,-151 260.5,-157 254.5,-157\"/>\r\n",
       "<text text-anchor=\"middle\" x=\"179.5\" y=\"-141.8\" font-family=\"Helvetica,sans-Serif\" font-size=\"14.00\">petal length (cm) &lt;= 5.35</text>\r\n",
       "<text text-anchor=\"middle\" x=\"179.5\" y=\"-126.8\" font-family=\"Helvetica,sans-Serif\" font-size=\"14.00\">gini = 0.156</text>\r\n",
       "<text text-anchor=\"middle\" x=\"179.5\" y=\"-111.8\" font-family=\"Helvetica,sans-Serif\" font-size=\"14.00\">samples = 47</text>\r\n",
       "<text text-anchor=\"middle\" x=\"179.5\" y=\"-96.8\" font-family=\"Helvetica,sans-Serif\" font-size=\"14.00\">value = [0, 43, 4]</text>\r\n",
       "</g>\r\n",
       "<!-- 2&#45;&gt;3 -->\r\n",
       "<g id=\"edge3\" class=\"edge\">\r\n",
       "<title>2&#45;&gt;3</title>\r\n",
       "<path fill=\"none\" stroke=\"black\" d=\"M244.33,-192.88C235.86,-183.89 226.6,-174.04 217.79,-164.68\"/>\r\n",
       "<polygon fill=\"black\" stroke=\"black\" points=\"220.24,-162.18 210.84,-157.3 215.15,-166.98 220.24,-162.18\"/>\r\n",
       "</g>\r\n",
       "<!-- 6 -->\r\n",
       "<g id=\"node7\" class=\"node\">\r\n",
       "<title>6</title>\r\n",
       "<path fill=\"#853fe6\" stroke=\"black\" d=\"M446.5,-157C446.5,-157 296.5,-157 296.5,-157 290.5,-157 284.5,-151 284.5,-145 284.5,-145 284.5,-101 284.5,-101 284.5,-95 290.5,-89 296.5,-89 296.5,-89 446.5,-89 446.5,-89 452.5,-89 458.5,-95 458.5,-101 458.5,-101 458.5,-145 458.5,-145 458.5,-151 452.5,-157 446.5,-157\"/>\r\n",
       "<text text-anchor=\"middle\" x=\"371.5\" y=\"-141.8\" font-family=\"Helvetica,sans-Serif\" font-size=\"14.00\">petal length (cm) &lt;= 4.85</text>\r\n",
       "<text text-anchor=\"middle\" x=\"371.5\" y=\"-126.8\" font-family=\"Helvetica,sans-Serif\" font-size=\"14.00\">gini = 0.054</text>\r\n",
       "<text text-anchor=\"middle\" x=\"371.5\" y=\"-111.8\" font-family=\"Helvetica,sans-Serif\" font-size=\"14.00\">samples = 36</text>\r\n",
       "<text text-anchor=\"middle\" x=\"371.5\" y=\"-96.8\" font-family=\"Helvetica,sans-Serif\" font-size=\"14.00\">value = [0, 1, 35]</text>\r\n",
       "</g>\r\n",
       "<!-- 2&#45;&gt;6 -->\r\n",
       "<g id=\"edge6\" class=\"edge\">\r\n",
       "<title>2&#45;&gt;6</title>\r\n",
       "<path fill=\"none\" stroke=\"black\" d=\"M306.67,-192.88C315.14,-183.89 324.4,-174.04 333.21,-164.68\"/>\r\n",
       "<polygon fill=\"black\" stroke=\"black\" points=\"335.85,-166.98 340.16,-157.3 330.76,-162.18 335.85,-166.98\"/>\r\n",
       "</g>\r\n",
       "<!-- 4 -->\r\n",
       "<g id=\"node5\" class=\"node\">\r\n",
       "<title>4</title>\r\n",
       "<path fill=\"#42e687\" stroke=\"black\" d=\"M109,-53C109,-53 12,-53 12,-53 6,-53 0,-47 0,-41 0,-41 0,-12 0,-12 0,-6 6,0 12,0 12,0 109,0 109,0 115,0 121,-6 121,-12 121,-12 121,-41 121,-41 121,-47 115,-53 109,-53\"/>\r\n",
       "<text text-anchor=\"middle\" x=\"60.5\" y=\"-37.8\" font-family=\"Helvetica,sans-Serif\" font-size=\"14.00\">gini = 0.085</text>\r\n",
       "<text text-anchor=\"middle\" x=\"60.5\" y=\"-22.8\" font-family=\"Helvetica,sans-Serif\" font-size=\"14.00\">samples = 45</text>\r\n",
       "<text text-anchor=\"middle\" x=\"60.5\" y=\"-7.8\" font-family=\"Helvetica,sans-Serif\" font-size=\"14.00\">value = [0, 43, 2]</text>\r\n",
       "</g>\r\n",
       "<!-- 3&#45;&gt;4 -->\r\n",
       "<g id=\"edge4\" class=\"edge\">\r\n",
       "<title>3&#45;&gt;4</title>\r\n",
       "<path fill=\"none\" stroke=\"black\" d=\"M137.88,-88.95C125.9,-79.43 112.85,-69.07 100.94,-59.62\"/>\r\n",
       "<polygon fill=\"black\" stroke=\"black\" points=\"102.92,-56.71 92.91,-53.24 98.56,-62.2 102.92,-56.71\"/>\r\n",
       "</g>\r\n",
       "<!-- 5 -->\r\n",
       "<g id=\"node6\" class=\"node\">\r\n",
       "<title>5</title>\r\n",
       "<path fill=\"#8139e5\" stroke=\"black\" d=\"M240,-53C240,-53 151,-53 151,-53 145,-53 139,-47 139,-41 139,-41 139,-12 139,-12 139,-6 145,0 151,0 151,0 240,0 240,0 246,0 252,-6 252,-12 252,-12 252,-41 252,-41 252,-47 246,-53 240,-53\"/>\r\n",
       "<text text-anchor=\"middle\" x=\"195.5\" y=\"-37.8\" font-family=\"Helvetica,sans-Serif\" font-size=\"14.00\">gini = 0.0</text>\r\n",
       "<text text-anchor=\"middle\" x=\"195.5\" y=\"-22.8\" font-family=\"Helvetica,sans-Serif\" font-size=\"14.00\">samples = 2</text>\r\n",
       "<text text-anchor=\"middle\" x=\"195.5\" y=\"-7.8\" font-family=\"Helvetica,sans-Serif\" font-size=\"14.00\">value = [0, 0, 2]</text>\r\n",
       "</g>\r\n",
       "<!-- 3&#45;&gt;5 -->\r\n",
       "<g id=\"edge5\" class=\"edge\">\r\n",
       "<title>3&#45;&gt;5</title>\r\n",
       "<path fill=\"none\" stroke=\"black\" d=\"M185.1,-88.95C186.51,-80.62 188.02,-71.65 189.46,-63.2\"/>\r\n",
       "<polygon fill=\"black\" stroke=\"black\" points=\"192.92,-63.68 191.14,-53.24 186.02,-62.51 192.92,-63.68\"/>\r\n",
       "</g>\r\n",
       "<!-- 7 -->\r\n",
       "<g id=\"node8\" class=\"node\">\r\n",
       "<title>7</title>\r\n",
       "<path fill=\"#ffffff\" stroke=\"black\" d=\"M401,-53C401,-53 312,-53 312,-53 306,-53 300,-47 300,-41 300,-41 300,-12 300,-12 300,-6 306,0 312,0 312,0 401,0 401,0 407,0 413,-6 413,-12 413,-12 413,-41 413,-41 413,-47 407,-53 401,-53\"/>\r\n",
       "<text text-anchor=\"middle\" x=\"356.5\" y=\"-37.8\" font-family=\"Helvetica,sans-Serif\" font-size=\"14.00\">gini = 0.5</text>\r\n",
       "<text text-anchor=\"middle\" x=\"356.5\" y=\"-22.8\" font-family=\"Helvetica,sans-Serif\" font-size=\"14.00\">samples = 2</text>\r\n",
       "<text text-anchor=\"middle\" x=\"356.5\" y=\"-7.8\" font-family=\"Helvetica,sans-Serif\" font-size=\"14.00\">value = [0, 1, 1]</text>\r\n",
       "</g>\r\n",
       "<!-- 6&#45;&gt;7 -->\r\n",
       "<g id=\"edge7\" class=\"edge\">\r\n",
       "<title>6&#45;&gt;7</title>\r\n",
       "<path fill=\"none\" stroke=\"black\" d=\"M366.25,-88.95C364.93,-80.62 363.51,-71.65 362.17,-63.2\"/>\r\n",
       "<polygon fill=\"black\" stroke=\"black\" points=\"365.61,-62.56 360.59,-53.24 358.7,-63.66 365.61,-62.56\"/>\r\n",
       "</g>\r\n",
       "<!-- 8 -->\r\n",
       "<g id=\"node9\" class=\"node\">\r\n",
       "<title>8</title>\r\n",
       "<path fill=\"#8139e5\" stroke=\"black\" d=\"M540,-53C540,-53 443,-53 443,-53 437,-53 431,-47 431,-41 431,-41 431,-12 431,-12 431,-6 437,0 443,0 443,0 540,0 540,0 546,0 552,-6 552,-12 552,-12 552,-41 552,-41 552,-47 546,-53 540,-53\"/>\r\n",
       "<text text-anchor=\"middle\" x=\"491.5\" y=\"-37.8\" font-family=\"Helvetica,sans-Serif\" font-size=\"14.00\">gini = 0.0</text>\r\n",
       "<text text-anchor=\"middle\" x=\"491.5\" y=\"-22.8\" font-family=\"Helvetica,sans-Serif\" font-size=\"14.00\">samples = 34</text>\r\n",
       "<text text-anchor=\"middle\" x=\"491.5\" y=\"-7.8\" font-family=\"Helvetica,sans-Serif\" font-size=\"14.00\">value = [0, 0, 34]</text>\r\n",
       "</g>\r\n",
       "<!-- 6&#45;&gt;8 -->\r\n",
       "<g id=\"edge8\" class=\"edge\">\r\n",
       "<title>6&#45;&gt;8</title>\r\n",
       "<path fill=\"none\" stroke=\"black\" d=\"M413.47,-88.95C425.55,-79.43 438.71,-69.07 450.72,-59.62\"/>\r\n",
       "<polygon fill=\"black\" stroke=\"black\" points=\"453.13,-62.17 458.82,-53.24 448.8,-56.67 453.13,-62.17\"/>\r\n",
       "</g>\r\n",
       "</g>\r\n",
       "</svg>\r\n"
      ],
      "text/plain": [
       "<graphviz.files.Source at 0x233f3250670>"
      ]
     },
     "metadata": {},
     "output_type": "display_data"
    }
   ],
   "source": [
    "import graphviz\n",
    "from IPython.display import display\n",
    "with open('iris_tree_5.dot') as f5:\n",
    "    dot_graph_5 = f5.read()\n",
    "dot_5 = graphviz.Source(dot_graph_5)\n",
    "dot_5.format = 'png'\n",
    "dot_5.render(filename='iris_tree_5', directory='./',cleanup=True)\n",
    "display(dot_5)"
   ]
  },
  {
   "cell_type": "code",
   "execution_count": 55,
   "metadata": {
    "id": "cxJOp2TnKS7E"
   },
   "outputs": [],
   "source": [
    "tree_6_clf = DecisionTreeClassifier(criterion='gini', max_depth=4)"
   ]
  },
  {
   "cell_type": "code",
   "execution_count": 56,
   "metadata": {
    "colab": {
     "base_uri": "https://localhost:8080/",
     "height": 125
    },
    "id": "Q261nuTgKWXM",
    "outputId": "51bab45a-a423-47a4-c9bf-21d7b02bb754"
   },
   "outputs": [
    {
     "data": {
      "text/plain": [
       "DecisionTreeClassifier(max_depth=4)"
      ]
     },
     "execution_count": 56,
     "metadata": {},
     "output_type": "execute_result"
    }
   ],
   "source": [
    "tree_6_clf.fit(iris_x,iris_y)"
   ]
  },
  {
   "cell_type": "code",
   "execution_count": 57,
   "metadata": {
    "id": "NHGWEYdJKeSP"
   },
   "outputs": [],
   "source": [
    "export_graphviz(\n",
    "    tree_6_clf,\n",
    "    out_file='iris_tree_6.dot',\n",
    "    feature_names=iris_features,\n",
    "    rounded=True,\n",
    "    filled=True\n",
    ")"
   ]
  },
  {
   "cell_type": "code",
   "execution_count": 58,
   "metadata": {
    "colab": {
     "base_uri": "https://localhost:8080/",
     "height": 676
    },
    "id": "GIDLxzrNKgk8",
    "outputId": "e372e3da-70a1-416d-a41a-703c6cef87bf"
   },
   "outputs": [
    {
     "data": {
      "image/svg+xml": [
       "<?xml version=\"1.0\" encoding=\"UTF-8\" standalone=\"no\"?>\r\n",
       "<!DOCTYPE svg PUBLIC \"-//W3C//DTD SVG 1.1//EN\"\r\n",
       " \"http://www.w3.org/Graphics/SVG/1.1/DTD/svg11.dtd\">\r\n",
       "<!-- Generated by graphviz version 2.47.1 (20210417.1919)\r\n",
       " -->\r\n",
       "<!-- Title: Tree Pages: 1 -->\r\n",
       "<svg width=\"671pt\" height=\"477pt\"\r\n",
       " viewBox=\"0.00 0.00 671.00 477.00\" xmlns=\"http://www.w3.org/2000/svg\" xmlns:xlink=\"http://www.w3.org/1999/xlink\">\r\n",
       "<g id=\"graph0\" class=\"graph\" transform=\"scale(1 1) rotate(0) translate(4 473)\">\r\n",
       "<title>Tree</title>\r\n",
       "<polygon fill=\"white\" stroke=\"transparent\" points=\"-4,4 -4,-473 667,-473 667,4 -4,4\"/>\r\n",
       "<!-- 0 -->\r\n",
       "<g id=\"node1\" class=\"node\">\r\n",
       "<title>0</title>\r\n",
       "<path fill=\"#f3fdf7\" stroke=\"black\" d=\"M331.5,-469C331.5,-469 195.5,-469 195.5,-469 189.5,-469 183.5,-463 183.5,-457 183.5,-457 183.5,-413 183.5,-413 183.5,-407 189.5,-401 195.5,-401 195.5,-401 331.5,-401 331.5,-401 337.5,-401 343.5,-407 343.5,-413 343.5,-413 343.5,-457 343.5,-457 343.5,-463 337.5,-469 331.5,-469\"/>\r\n",
       "<text text-anchor=\"middle\" x=\"263.5\" y=\"-453.8\" font-family=\"Helvetica,sans-Serif\" font-size=\"14.00\">petal width (cm) &lt;= 0.8</text>\r\n",
       "<text text-anchor=\"middle\" x=\"263.5\" y=\"-438.8\" font-family=\"Helvetica,sans-Serif\" font-size=\"14.00\">gini = 0.665</text>\r\n",
       "<text text-anchor=\"middle\" x=\"263.5\" y=\"-423.8\" font-family=\"Helvetica,sans-Serif\" font-size=\"14.00\">samples = 120</text>\r\n",
       "<text text-anchor=\"middle\" x=\"263.5\" y=\"-408.8\" font-family=\"Helvetica,sans-Serif\" font-size=\"14.00\">value = [37, 44, 39]</text>\r\n",
       "</g>\r\n",
       "<!-- 1 -->\r\n",
       "<g id=\"node2\" class=\"node\">\r\n",
       "<title>1</title>\r\n",
       "<path fill=\"#e58139\" stroke=\"black\" d=\"M231,-357.5C231,-357.5 134,-357.5 134,-357.5 128,-357.5 122,-351.5 122,-345.5 122,-345.5 122,-316.5 122,-316.5 122,-310.5 128,-304.5 134,-304.5 134,-304.5 231,-304.5 231,-304.5 237,-304.5 243,-310.5 243,-316.5 243,-316.5 243,-345.5 243,-345.5 243,-351.5 237,-357.5 231,-357.5\"/>\r\n",
       "<text text-anchor=\"middle\" x=\"182.5\" y=\"-342.3\" font-family=\"Helvetica,sans-Serif\" font-size=\"14.00\">gini = 0.0</text>\r\n",
       "<text text-anchor=\"middle\" x=\"182.5\" y=\"-327.3\" font-family=\"Helvetica,sans-Serif\" font-size=\"14.00\">samples = 37</text>\r\n",
       "<text text-anchor=\"middle\" x=\"182.5\" y=\"-312.3\" font-family=\"Helvetica,sans-Serif\" font-size=\"14.00\">value = [37, 0, 0]</text>\r\n",
       "</g>\r\n",
       "<!-- 0&#45;&gt;1 -->\r\n",
       "<g id=\"edge1\" class=\"edge\">\r\n",
       "<title>0&#45;&gt;1</title>\r\n",
       "<path fill=\"none\" stroke=\"black\" d=\"M237.2,-400.88C228.21,-389.56 218.14,-376.88 209.12,-365.52\"/>\r\n",
       "<polygon fill=\"black\" stroke=\"black\" points=\"211.73,-363.17 202.77,-357.52 206.24,-367.53 211.73,-363.17\"/>\r\n",
       "<text text-anchor=\"middle\" x=\"199.92\" y=\"-378.66\" font-family=\"Helvetica,sans-Serif\" font-size=\"14.00\">True</text>\r\n",
       "</g>\r\n",
       "<!-- 2 -->\r\n",
       "<g id=\"node3\" class=\"node\">\r\n",
       "<title>2</title>\r\n",
       "<path fill=\"#e8fcf1\" stroke=\"black\" d=\"M417.5,-365C417.5,-365 273.5,-365 273.5,-365 267.5,-365 261.5,-359 261.5,-353 261.5,-353 261.5,-309 261.5,-309 261.5,-303 267.5,-297 273.5,-297 273.5,-297 417.5,-297 417.5,-297 423.5,-297 429.5,-303 429.5,-309 429.5,-309 429.5,-353 429.5,-353 429.5,-359 423.5,-365 417.5,-365\"/>\r\n",
       "<text text-anchor=\"middle\" x=\"345.5\" y=\"-349.8\" font-family=\"Helvetica,sans-Serif\" font-size=\"14.00\">petal width (cm) &lt;= 1.75</text>\r\n",
       "<text text-anchor=\"middle\" x=\"345.5\" y=\"-334.8\" font-family=\"Helvetica,sans-Serif\" font-size=\"14.00\">gini = 0.498</text>\r\n",
       "<text text-anchor=\"middle\" x=\"345.5\" y=\"-319.8\" font-family=\"Helvetica,sans-Serif\" font-size=\"14.00\">samples = 83</text>\r\n",
       "<text text-anchor=\"middle\" x=\"345.5\" y=\"-304.8\" font-family=\"Helvetica,sans-Serif\" font-size=\"14.00\">value = [0, 44, 39]</text>\r\n",
       "</g>\r\n",
       "<!-- 0&#45;&gt;2 -->\r\n",
       "<g id=\"edge2\" class=\"edge\">\r\n",
       "<title>0&#45;&gt;2</title>\r\n",
       "<path fill=\"none\" stroke=\"black\" d=\"M290.12,-400.88C297.21,-392.07 304.96,-382.43 312.35,-373.24\"/>\r\n",
       "<polygon fill=\"black\" stroke=\"black\" points=\"315.19,-375.29 318.73,-365.3 309.74,-370.9 315.19,-375.29\"/>\r\n",
       "<text text-anchor=\"middle\" x=\"321.43\" y=\"-386.45\" font-family=\"Helvetica,sans-Serif\" font-size=\"14.00\">False</text>\r\n",
       "</g>\r\n",
       "<!-- 3 -->\r\n",
       "<g id=\"node4\" class=\"node\">\r\n",
       "<title>3</title>\r\n",
       "<path fill=\"#4be78d\" stroke=\"black\" d=\"M324.5,-261C324.5,-261 174.5,-261 174.5,-261 168.5,-261 162.5,-255 162.5,-249 162.5,-249 162.5,-205 162.5,-205 162.5,-199 168.5,-193 174.5,-193 174.5,-193 324.5,-193 324.5,-193 330.5,-193 336.5,-199 336.5,-205 336.5,-205 336.5,-249 336.5,-249 336.5,-255 330.5,-261 324.5,-261\"/>\r\n",
       "<text text-anchor=\"middle\" x=\"249.5\" y=\"-245.8\" font-family=\"Helvetica,sans-Serif\" font-size=\"14.00\">petal length (cm) &lt;= 5.35</text>\r\n",
       "<text text-anchor=\"middle\" x=\"249.5\" y=\"-230.8\" font-family=\"Helvetica,sans-Serif\" font-size=\"14.00\">gini = 0.156</text>\r\n",
       "<text text-anchor=\"middle\" x=\"249.5\" y=\"-215.8\" font-family=\"Helvetica,sans-Serif\" font-size=\"14.00\">samples = 47</text>\r\n",
       "<text text-anchor=\"middle\" x=\"249.5\" y=\"-200.8\" font-family=\"Helvetica,sans-Serif\" font-size=\"14.00\">value = [0, 43, 4]</text>\r\n",
       "</g>\r\n",
       "<!-- 2&#45;&gt;3 -->\r\n",
       "<g id=\"edge3\" class=\"edge\">\r\n",
       "<title>2&#45;&gt;3</title>\r\n",
       "<path fill=\"none\" stroke=\"black\" d=\"M314.33,-296.88C305.86,-287.89 296.6,-278.04 287.79,-268.68\"/>\r\n",
       "<polygon fill=\"black\" stroke=\"black\" points=\"290.24,-266.18 280.84,-261.3 285.15,-270.98 290.24,-266.18\"/>\r\n",
       "</g>\r\n",
       "<!-- 8 -->\r\n",
       "<g id=\"node9\" class=\"node\">\r\n",
       "<title>8</title>\r\n",
       "<path fill=\"#853fe6\" stroke=\"black\" d=\"M516.5,-261C516.5,-261 366.5,-261 366.5,-261 360.5,-261 354.5,-255 354.5,-249 354.5,-249 354.5,-205 354.5,-205 354.5,-199 360.5,-193 366.5,-193 366.5,-193 516.5,-193 516.5,-193 522.5,-193 528.5,-199 528.5,-205 528.5,-205 528.5,-249 528.5,-249 528.5,-255 522.5,-261 516.5,-261\"/>\r\n",
       "<text text-anchor=\"middle\" x=\"441.5\" y=\"-245.8\" font-family=\"Helvetica,sans-Serif\" font-size=\"14.00\">petal length (cm) &lt;= 4.85</text>\r\n",
       "<text text-anchor=\"middle\" x=\"441.5\" y=\"-230.8\" font-family=\"Helvetica,sans-Serif\" font-size=\"14.00\">gini = 0.054</text>\r\n",
       "<text text-anchor=\"middle\" x=\"441.5\" y=\"-215.8\" font-family=\"Helvetica,sans-Serif\" font-size=\"14.00\">samples = 36</text>\r\n",
       "<text text-anchor=\"middle\" x=\"441.5\" y=\"-200.8\" font-family=\"Helvetica,sans-Serif\" font-size=\"14.00\">value = [0, 1, 35]</text>\r\n",
       "</g>\r\n",
       "<!-- 2&#45;&gt;8 -->\r\n",
       "<g id=\"edge8\" class=\"edge\">\r\n",
       "<title>2&#45;&gt;8</title>\r\n",
       "<path fill=\"none\" stroke=\"black\" d=\"M376.67,-296.88C385.14,-287.89 394.4,-278.04 403.21,-268.68\"/>\r\n",
       "<polygon fill=\"black\" stroke=\"black\" points=\"405.85,-270.98 410.16,-261.3 400.76,-266.18 405.85,-270.98\"/>\r\n",
       "</g>\r\n",
       "<!-- 4 -->\r\n",
       "<g id=\"node5\" class=\"node\">\r\n",
       "<title>4</title>\r\n",
       "<path fill=\"#42e687\" stroke=\"black\" d=\"M169.5,-157C169.5,-157 25.5,-157 25.5,-157 19.5,-157 13.5,-151 13.5,-145 13.5,-145 13.5,-101 13.5,-101 13.5,-95 19.5,-89 25.5,-89 25.5,-89 169.5,-89 169.5,-89 175.5,-89 181.5,-95 181.5,-101 181.5,-101 181.5,-145 181.5,-145 181.5,-151 175.5,-157 169.5,-157\"/>\r\n",
       "<text text-anchor=\"middle\" x=\"97.5\" y=\"-141.8\" font-family=\"Helvetica,sans-Serif\" font-size=\"14.00\">petal width (cm) &lt;= 1.65</text>\r\n",
       "<text text-anchor=\"middle\" x=\"97.5\" y=\"-126.8\" font-family=\"Helvetica,sans-Serif\" font-size=\"14.00\">gini = 0.085</text>\r\n",
       "<text text-anchor=\"middle\" x=\"97.5\" y=\"-111.8\" font-family=\"Helvetica,sans-Serif\" font-size=\"14.00\">samples = 45</text>\r\n",
       "<text text-anchor=\"middle\" x=\"97.5\" y=\"-96.8\" font-family=\"Helvetica,sans-Serif\" font-size=\"14.00\">value = [0, 43, 2]</text>\r\n",
       "</g>\r\n",
       "<!-- 3&#45;&gt;4 -->\r\n",
       "<g id=\"edge4\" class=\"edge\">\r\n",
       "<title>3&#45;&gt;4</title>\r\n",
       "<path fill=\"none\" stroke=\"black\" d=\"M200.15,-192.88C185.87,-183.3 170.16,-172.76 155.42,-162.86\"/>\r\n",
       "<polygon fill=\"black\" stroke=\"black\" points=\"157.12,-159.79 146.86,-157.12 153.22,-165.6 157.12,-159.79\"/>\r\n",
       "</g>\r\n",
       "<!-- 7 -->\r\n",
       "<g id=\"node8\" class=\"node\">\r\n",
       "<title>7</title>\r\n",
       "<path fill=\"#8139e5\" stroke=\"black\" d=\"M301,-149.5C301,-149.5 212,-149.5 212,-149.5 206,-149.5 200,-143.5 200,-137.5 200,-137.5 200,-108.5 200,-108.5 200,-102.5 206,-96.5 212,-96.5 212,-96.5 301,-96.5 301,-96.5 307,-96.5 313,-102.5 313,-108.5 313,-108.5 313,-137.5 313,-137.5 313,-143.5 307,-149.5 301,-149.5\"/>\r\n",
       "<text text-anchor=\"middle\" x=\"256.5\" y=\"-134.3\" font-family=\"Helvetica,sans-Serif\" font-size=\"14.00\">gini = 0.0</text>\r\n",
       "<text text-anchor=\"middle\" x=\"256.5\" y=\"-119.3\" font-family=\"Helvetica,sans-Serif\" font-size=\"14.00\">samples = 2</text>\r\n",
       "<text text-anchor=\"middle\" x=\"256.5\" y=\"-104.3\" font-family=\"Helvetica,sans-Serif\" font-size=\"14.00\">value = [0, 0, 2]</text>\r\n",
       "</g>\r\n",
       "<!-- 3&#45;&gt;7 -->\r\n",
       "<g id=\"edge7\" class=\"edge\">\r\n",
       "<title>3&#45;&gt;7</title>\r\n",
       "<path fill=\"none\" stroke=\"black\" d=\"M251.77,-192.88C252.5,-182.22 253.32,-170.35 254.06,-159.52\"/>\r\n",
       "<polygon fill=\"black\" stroke=\"black\" points=\"257.56,-159.74 254.75,-149.52 250.57,-159.26 257.56,-159.74\"/>\r\n",
       "</g>\r\n",
       "<!-- 5 -->\r\n",
       "<g id=\"node6\" class=\"node\">\r\n",
       "<title>5</title>\r\n",
       "<path fill=\"#3ee684\" stroke=\"black\" d=\"M109,-53C109,-53 12,-53 12,-53 6,-53 0,-47 0,-41 0,-41 0,-12 0,-12 0,-6 6,0 12,0 12,0 109,0 109,0 115,0 121,-6 121,-12 121,-12 121,-41 121,-41 121,-47 115,-53 109,-53\"/>\r\n",
       "<text text-anchor=\"middle\" x=\"60.5\" y=\"-37.8\" font-family=\"Helvetica,sans-Serif\" font-size=\"14.00\">gini = 0.045</text>\r\n",
       "<text text-anchor=\"middle\" x=\"60.5\" y=\"-22.8\" font-family=\"Helvetica,sans-Serif\" font-size=\"14.00\">samples = 43</text>\r\n",
       "<text text-anchor=\"middle\" x=\"60.5\" y=\"-7.8\" font-family=\"Helvetica,sans-Serif\" font-size=\"14.00\">value = [0, 42, 1]</text>\r\n",
       "</g>\r\n",
       "<!-- 4&#45;&gt;5 -->\r\n",
       "<g id=\"edge5\" class=\"edge\">\r\n",
       "<title>4&#45;&gt;5</title>\r\n",
       "<path fill=\"none\" stroke=\"black\" d=\"M84.56,-88.95C81.23,-80.44 77.63,-71.26 74.26,-62.65\"/>\r\n",
       "<polygon fill=\"black\" stroke=\"black\" points=\"77.48,-61.27 70.58,-53.24 70.96,-63.82 77.48,-61.27\"/>\r\n",
       "</g>\r\n",
       "<!-- 6 -->\r\n",
       "<g id=\"node7\" class=\"node\">\r\n",
       "<title>6</title>\r\n",
       "<path fill=\"#ffffff\" stroke=\"black\" d=\"M240,-53C240,-53 151,-53 151,-53 145,-53 139,-47 139,-41 139,-41 139,-12 139,-12 139,-6 145,0 151,0 151,0 240,0 240,0 246,0 252,-6 252,-12 252,-12 252,-41 252,-41 252,-47 246,-53 240,-53\"/>\r\n",
       "<text text-anchor=\"middle\" x=\"195.5\" y=\"-37.8\" font-family=\"Helvetica,sans-Serif\" font-size=\"14.00\">gini = 0.5</text>\r\n",
       "<text text-anchor=\"middle\" x=\"195.5\" y=\"-22.8\" font-family=\"Helvetica,sans-Serif\" font-size=\"14.00\">samples = 2</text>\r\n",
       "<text text-anchor=\"middle\" x=\"195.5\" y=\"-7.8\" font-family=\"Helvetica,sans-Serif\" font-size=\"14.00\">value = [0, 1, 1]</text>\r\n",
       "</g>\r\n",
       "<!-- 4&#45;&gt;6 -->\r\n",
       "<g id=\"edge6\" class=\"edge\">\r\n",
       "<title>4&#45;&gt;6</title>\r\n",
       "<path fill=\"none\" stroke=\"black\" d=\"M131.78,-88.95C141.36,-79.71 151.77,-69.67 161.34,-60.44\"/>\r\n",
       "<polygon fill=\"black\" stroke=\"black\" points=\"164.04,-62.7 168.81,-53.24 159.18,-57.66 164.04,-62.7\"/>\r\n",
       "</g>\r\n",
       "<!-- 9 -->\r\n",
       "<g id=\"node10\" class=\"node\">\r\n",
       "<title>9</title>\r\n",
       "<path fill=\"#ffffff\" stroke=\"black\" d=\"M511.5,-157C511.5,-157 357.5,-157 357.5,-157 351.5,-157 345.5,-151 345.5,-145 345.5,-145 345.5,-101 345.5,-101 345.5,-95 351.5,-89 357.5,-89 357.5,-89 511.5,-89 511.5,-89 517.5,-89 523.5,-95 523.5,-101 523.5,-101 523.5,-145 523.5,-145 523.5,-151 517.5,-157 511.5,-157\"/>\r\n",
       "<text text-anchor=\"middle\" x=\"434.5\" y=\"-141.8\" font-family=\"Helvetica,sans-Serif\" font-size=\"14.00\">sepal length (cm) &lt;= 6.05</text>\r\n",
       "<text text-anchor=\"middle\" x=\"434.5\" y=\"-126.8\" font-family=\"Helvetica,sans-Serif\" font-size=\"14.00\">gini = 0.5</text>\r\n",
       "<text text-anchor=\"middle\" x=\"434.5\" y=\"-111.8\" font-family=\"Helvetica,sans-Serif\" font-size=\"14.00\">samples = 2</text>\r\n",
       "<text text-anchor=\"middle\" x=\"434.5\" y=\"-96.8\" font-family=\"Helvetica,sans-Serif\" font-size=\"14.00\">value = [0, 1, 1]</text>\r\n",
       "</g>\r\n",
       "<!-- 8&#45;&gt;9 -->\r\n",
       "<g id=\"edge9\" class=\"edge\">\r\n",
       "<title>8&#45;&gt;9</title>\r\n",
       "<path fill=\"none\" stroke=\"black\" d=\"M439.23,-192.88C438.67,-184.78 438.07,-175.98 437.48,-167.47\"/>\r\n",
       "<polygon fill=\"black\" stroke=\"black\" points=\"440.96,-167.04 436.79,-157.3 433.98,-167.52 440.96,-167.04\"/>\r\n",
       "</g>\r\n",
       "<!-- 12 -->\r\n",
       "<g id=\"node13\" class=\"node\">\r\n",
       "<title>12</title>\r\n",
       "<path fill=\"#8139e5\" stroke=\"black\" d=\"M651,-149.5C651,-149.5 554,-149.5 554,-149.5 548,-149.5 542,-143.5 542,-137.5 542,-137.5 542,-108.5 542,-108.5 542,-102.5 548,-96.5 554,-96.5 554,-96.5 651,-96.5 651,-96.5 657,-96.5 663,-102.5 663,-108.5 663,-108.5 663,-137.5 663,-137.5 663,-143.5 657,-149.5 651,-149.5\"/>\r\n",
       "<text text-anchor=\"middle\" x=\"602.5\" y=\"-134.3\" font-family=\"Helvetica,sans-Serif\" font-size=\"14.00\">gini = 0.0</text>\r\n",
       "<text text-anchor=\"middle\" x=\"602.5\" y=\"-119.3\" font-family=\"Helvetica,sans-Serif\" font-size=\"14.00\">samples = 34</text>\r\n",
       "<text text-anchor=\"middle\" x=\"602.5\" y=\"-104.3\" font-family=\"Helvetica,sans-Serif\" font-size=\"14.00\">value = [0, 0, 34]</text>\r\n",
       "</g>\r\n",
       "<!-- 8&#45;&gt;12 -->\r\n",
       "<g id=\"edge12\" class=\"edge\">\r\n",
       "<title>8&#45;&gt;12</title>\r\n",
       "<path fill=\"none\" stroke=\"black\" d=\"M493.77,-192.88C513.04,-180.68 534.78,-166.9 553.73,-154.9\"/>\r\n",
       "<polygon fill=\"black\" stroke=\"black\" points=\"555.64,-157.83 562.22,-149.52 551.9,-151.92 555.64,-157.83\"/>\r\n",
       "</g>\r\n",
       "<!-- 10 -->\r\n",
       "<g id=\"node11\" class=\"node\">\r\n",
       "<title>10</title>\r\n",
       "<path fill=\"#39e581\" stroke=\"black\" d=\"M418,-53C418,-53 329,-53 329,-53 323,-53 317,-47 317,-41 317,-41 317,-12 317,-12 317,-6 323,0 329,0 329,0 418,0 418,0 424,0 430,-6 430,-12 430,-12 430,-41 430,-41 430,-47 424,-53 418,-53\"/>\r\n",
       "<text text-anchor=\"middle\" x=\"373.5\" y=\"-37.8\" font-family=\"Helvetica,sans-Serif\" font-size=\"14.00\">gini = 0.0</text>\r\n",
       "<text text-anchor=\"middle\" x=\"373.5\" y=\"-22.8\" font-family=\"Helvetica,sans-Serif\" font-size=\"14.00\">samples = 1</text>\r\n",
       "<text text-anchor=\"middle\" x=\"373.5\" y=\"-7.8\" font-family=\"Helvetica,sans-Serif\" font-size=\"14.00\">value = [0, 1, 0]</text>\r\n",
       "</g>\r\n",
       "<!-- 9&#45;&gt;10 -->\r\n",
       "<g id=\"edge10\" class=\"edge\">\r\n",
       "<title>9&#45;&gt;10</title>\r\n",
       "<path fill=\"none\" stroke=\"black\" d=\"M413.17,-88.95C407.5,-80.17 401.36,-70.66 395.65,-61.82\"/>\r\n",
       "<polygon fill=\"black\" stroke=\"black\" points=\"398.48,-59.74 390.11,-53.24 392.6,-63.54 398.48,-59.74\"/>\r\n",
       "</g>\r\n",
       "<!-- 11 -->\r\n",
       "<g id=\"node12\" class=\"node\">\r\n",
       "<title>11</title>\r\n",
       "<path fill=\"#8139e5\" stroke=\"black\" d=\"M549,-53C549,-53 460,-53 460,-53 454,-53 448,-47 448,-41 448,-41 448,-12 448,-12 448,-6 454,0 460,0 460,0 549,0 549,0 555,0 561,-6 561,-12 561,-12 561,-41 561,-41 561,-47 555,-53 549,-53\"/>\r\n",
       "<text text-anchor=\"middle\" x=\"504.5\" y=\"-37.8\" font-family=\"Helvetica,sans-Serif\" font-size=\"14.00\">gini = 0.0</text>\r\n",
       "<text text-anchor=\"middle\" x=\"504.5\" y=\"-22.8\" font-family=\"Helvetica,sans-Serif\" font-size=\"14.00\">samples = 1</text>\r\n",
       "<text text-anchor=\"middle\" x=\"504.5\" y=\"-7.8\" font-family=\"Helvetica,sans-Serif\" font-size=\"14.00\">value = [0, 0, 1]</text>\r\n",
       "</g>\r\n",
       "<!-- 9&#45;&gt;11 -->\r\n",
       "<g id=\"edge11\" class=\"edge\">\r\n",
       "<title>9&#45;&gt;11</title>\r\n",
       "<path fill=\"none\" stroke=\"black\" d=\"M458.98,-88.95C465.56,-80.07 472.67,-70.46 479.29,-61.54\"/>\r\n",
       "<polygon fill=\"black\" stroke=\"black\" points=\"482.3,-63.36 485.44,-53.24 476.67,-59.19 482.3,-63.36\"/>\r\n",
       "</g>\r\n",
       "</g>\r\n",
       "</svg>\r\n"
      ],
      "text/plain": [
       "<graphviz.files.Source at 0x233f3250280>"
      ]
     },
     "metadata": {},
     "output_type": "display_data"
    }
   ],
   "source": [
    "import graphviz\n",
    "from IPython.display import display\n",
    "with open('iris_tree_6.dot') as f6:\n",
    "    dot_graph_6 = f6.read()\n",
    "dot_6 = graphviz.Source(dot_graph_6)\n",
    "dot_6.format = 'png'\n",
    "dot_6.render(filename='iris_tree_6', directory='./',cleanup=True)\n",
    "display(dot_6)"
   ]
  },
  {
   "cell_type": "markdown",
   "metadata": {
    "id": "9sMzmcF_LfNV"
   },
   "source": [
    "## <h1>TEST</h1>"
   ]
  },
  {
   "cell_type": "code",
   "execution_count": 59,
   "metadata": {
    "id": "o0A2x3mfL_zy"
   },
   "outputs": [],
   "source": [
    "iris_X_test = iris_test_set[iris_features]\n",
    "iris_y_test = iris_test_set['target']"
   ]
  },
  {
   "cell_type": "code",
   "execution_count": 60,
   "metadata": {
    "id": "5pYeodhJMQTt"
   },
   "outputs": [],
   "source": [
    "y_pred_1 = tree_1_clf.predict(iris_X_test)\n",
    "y_pred_2 = tree_2_clf.predict(iris_X_test)\n",
    "y_pred_3 = tree_3_clf.predict(iris_X_test)\n",
    "y_pred_4 = tree_4_clf.predict(iris_X_test)\n",
    "y_pred_5 = tree_5_clf.predict(iris_X_test)\n",
    "y_pred_6 = tree_6_clf.predict(iris_X_test)"
   ]
  },
  {
   "cell_type": "markdown",
   "metadata": {
    "id": "dDE9byv4OC6d"
   },
   "source": [
    "Result 1)<br>\n",
    "entropy & depth = 2"
   ]
  },
  {
   "cell_type": "code",
   "execution_count": 61,
   "metadata": {
    "colab": {
     "base_uri": "https://localhost:8080/",
     "height": 251
    },
    "id": "HiIzf3TYM8WW",
    "outputId": "59544a41-3744-414a-d511-09e569fa4f55"
   },
   "outputs": [
    {
     "name": "stdout",
     "output_type": "stream",
     "text": [
      "[[13  0  0]\n",
      " [ 0  6  0]\n",
      " [ 0  1 10]]\n",
      "              precision    recall  f1-score   support\n",
      "\n",
      "         0.0       1.00      1.00      1.00        13\n",
      "         1.0       0.86      1.00      0.92         6\n",
      "         2.0       1.00      0.91      0.95        11\n",
      "\n",
      "    accuracy                           0.97        30\n",
      "   macro avg       0.95      0.97      0.96        30\n",
      "weighted avg       0.97      0.97      0.97        30\n",
      "\n"
     ]
    }
   ],
   "source": [
    "from sklearn.metrics import classification_report, confusion_matrix\n",
    "print(confusion_matrix(iris_y_test, y_pred_1))\n",
    "print(classification_report(iris_y_test,y_pred_1))"
   ]
  },
  {
   "cell_type": "markdown",
   "metadata": {
    "id": "jGVnkDhPODms"
   },
   "source": [
    "Result 2)<br>\n",
    "entropy & depth = 3"
   ]
  },
  {
   "cell_type": "code",
   "execution_count": 62,
   "metadata": {
    "colab": {
     "base_uri": "https://localhost:8080/",
     "height": 251
    },
    "id": "50A3jgS1OFy8",
    "outputId": "0308fa4c-177d-4892-b9a1-1cc0a8a2d457"
   },
   "outputs": [
    {
     "name": "stdout",
     "output_type": "stream",
     "text": [
      "[[13  0  0]\n",
      " [ 0  6  0]\n",
      " [ 0  1 10]]\n",
      "              precision    recall  f1-score   support\n",
      "\n",
      "         0.0       1.00      1.00      1.00        13\n",
      "         1.0       0.86      1.00      0.92         6\n",
      "         2.0       1.00      0.91      0.95        11\n",
      "\n",
      "    accuracy                           0.97        30\n",
      "   macro avg       0.95      0.97      0.96        30\n",
      "weighted avg       0.97      0.97      0.97        30\n",
      "\n"
     ]
    }
   ],
   "source": [
    "from sklearn.metrics import classification_report, confusion_matrix\n",
    "print(confusion_matrix(iris_y_test, y_pred_2))\n",
    "print(classification_report(iris_y_test,y_pred_2))"
   ]
  },
  {
   "cell_type": "markdown",
   "metadata": {
    "id": "w1ZOw2PiOVcV"
   },
   "source": [
    "Result 3)<br>\n",
    "entropy & depth = 4"
   ]
  },
  {
   "cell_type": "code",
   "execution_count": 63,
   "metadata": {
    "colab": {
     "base_uri": "https://localhost:8080/",
     "height": 251
    },
    "id": "hW4GaWACOVnj",
    "outputId": "c00322a6-6060-46ed-93e3-f287e83e4734"
   },
   "outputs": [
    {
     "name": "stdout",
     "output_type": "stream",
     "text": [
      "[[13  0  0]\n",
      " [ 0  6  0]\n",
      " [ 0  1 10]]\n",
      "              precision    recall  f1-score   support\n",
      "\n",
      "         0.0       1.00      1.00      1.00        13\n",
      "         1.0       0.86      1.00      0.92         6\n",
      "         2.0       1.00      0.91      0.95        11\n",
      "\n",
      "    accuracy                           0.97        30\n",
      "   macro avg       0.95      0.97      0.96        30\n",
      "weighted avg       0.97      0.97      0.97        30\n",
      "\n"
     ]
    }
   ],
   "source": [
    "from sklearn.metrics import classification_report, confusion_matrix\n",
    "print(confusion_matrix(iris_y_test, y_pred_3))\n",
    "print(classification_report(iris_y_test,y_pred_3))"
   ]
  },
  {
   "cell_type": "markdown",
   "metadata": {
    "id": "ypWSdgRxOdZg"
   },
   "source": [
    "Result 4)<br>\n",
    "gini & depth = 2"
   ]
  },
  {
   "cell_type": "code",
   "execution_count": 64,
   "metadata": {
    "colab": {
     "base_uri": "https://localhost:8080/",
     "height": 251
    },
    "id": "6XpUkJ0ZOeC5",
    "outputId": "eb631ed4-3af9-440c-c5c7-fdafb12aeeec"
   },
   "outputs": [
    {
     "name": "stdout",
     "output_type": "stream",
     "text": [
      "[[13  0  0]\n",
      " [ 0  6  0]\n",
      " [ 0  1 10]]\n",
      "              precision    recall  f1-score   support\n",
      "\n",
      "         0.0       1.00      1.00      1.00        13\n",
      "         1.0       0.86      1.00      0.92         6\n",
      "         2.0       1.00      0.91      0.95        11\n",
      "\n",
      "    accuracy                           0.97        30\n",
      "   macro avg       0.95      0.97      0.96        30\n",
      "weighted avg       0.97      0.97      0.97        30\n",
      "\n"
     ]
    }
   ],
   "source": [
    "from sklearn.metrics import classification_report, confusion_matrix\n",
    "print(confusion_matrix(iris_y_test, y_pred_4))\n",
    "print(classification_report(iris_y_test,y_pred_4))"
   ]
  },
  {
   "cell_type": "markdown",
   "metadata": {
    "id": "xSW1_E-bOdu3"
   },
   "source": [
    "Result 5)<br>\n",
    "gini & depth = 3"
   ]
  },
  {
   "cell_type": "code",
   "execution_count": 65,
   "metadata": {
    "colab": {
     "base_uri": "https://localhost:8080/",
     "height": 251
    },
    "id": "O8egf379OeFc",
    "outputId": "0f16d538-0623-4216-eb72-7fc52d87b9cd"
   },
   "outputs": [
    {
     "name": "stdout",
     "output_type": "stream",
     "text": [
      "[[13  0  0]\n",
      " [ 0  6  0]\n",
      " [ 0  2  9]]\n",
      "              precision    recall  f1-score   support\n",
      "\n",
      "         0.0       1.00      1.00      1.00        13\n",
      "         1.0       0.75      1.00      0.86         6\n",
      "         2.0       1.00      0.82      0.90        11\n",
      "\n",
      "    accuracy                           0.93        30\n",
      "   macro avg       0.92      0.94      0.92        30\n",
      "weighted avg       0.95      0.93      0.93        30\n",
      "\n"
     ]
    }
   ],
   "source": [
    "from sklearn.metrics import classification_report, confusion_matrix\n",
    "print(confusion_matrix(iris_y_test, y_pred_5))\n",
    "print(classification_report(iris_y_test,y_pred_5))"
   ]
  },
  {
   "cell_type": "markdown",
   "metadata": {
    "id": "hyCfBpHqOd0u"
   },
   "source": [
    "Result 6)<br>\n",
    "gini & depth = 4"
   ]
  },
  {
   "cell_type": "code",
   "execution_count": 66,
   "metadata": {
    "colab": {
     "base_uri": "https://localhost:8080/",
     "height": 251
    },
    "id": "PRO7GuW9OeHo",
    "outputId": "9fc68bcf-0613-4dbf-f974-54c68bc369fc"
   },
   "outputs": [
    {
     "name": "stdout",
     "output_type": "stream",
     "text": [
      "[[13  0  0]\n",
      " [ 0  6  0]\n",
      " [ 0  2  9]]\n",
      "              precision    recall  f1-score   support\n",
      "\n",
      "         0.0       1.00      1.00      1.00        13\n",
      "         1.0       0.75      1.00      0.86         6\n",
      "         2.0       1.00      0.82      0.90        11\n",
      "\n",
      "    accuracy                           0.93        30\n",
      "   macro avg       0.92      0.94      0.92        30\n",
      "weighted avg       0.95      0.93      0.93        30\n",
      "\n"
     ]
    }
   ],
   "source": [
    "from sklearn.metrics import classification_report, confusion_matrix\n",
    "print(confusion_matrix(iris_y_test, y_pred_6))\n",
    "print(classification_report(iris_y_test,y_pred_6))"
   ]
  },
  {
   "cell_type": "markdown",
   "metadata": {
    "id": "Bp7TOQKLKqU5"
   },
   "source": [
    "# **Fit Function**\n"
   ]
  },
  {
   "cell_type": "markdown",
   "metadata": {
    "id": "qd2virdQCzFu"
   },
   "source": [
    "Sklearn fit함수의 정의및 구현확인<br>\n",
    "과제와 상관 없는 부분"
   ]
  },
  {
   "cell_type": "code",
   "execution_count": 67,
   "metadata": {
    "colab": {
     "base_uri": "https://localhost:8080/",
     "height": 419
    },
    "id": "Z3lpbp_iDDse",
    "outputId": "4dc0f32c-1372-4fad-9c3f-2b31dff1ac48"
   },
   "outputs": [
    {
     "data": {
      "text/html": [
       "<div>\n",
       "<style scoped>\n",
       "    .dataframe tbody tr th:only-of-type {\n",
       "        vertical-align: middle;\n",
       "    }\n",
       "\n",
       "    .dataframe tbody tr th {\n",
       "        vertical-align: top;\n",
       "    }\n",
       "\n",
       "    .dataframe thead th {\n",
       "        text-align: right;\n",
       "    }\n",
       "</style>\n",
       "<table border=\"1\" class=\"dataframe\">\n",
       "  <thead>\n",
       "    <tr style=\"text-align: right;\">\n",
       "      <th></th>\n",
       "      <th>sepal length (cm)</th>\n",
       "      <th>sepal width (cm)</th>\n",
       "      <th>petal length (cm)</th>\n",
       "      <th>petal width (cm)</th>\n",
       "    </tr>\n",
       "  </thead>\n",
       "  <tbody>\n",
       "    <tr>\n",
       "      <th>130</th>\n",
       "      <td>7.4</td>\n",
       "      <td>2.8</td>\n",
       "      <td>6.1</td>\n",
       "      <td>1.9</td>\n",
       "    </tr>\n",
       "    <tr>\n",
       "      <th>119</th>\n",
       "      <td>6.0</td>\n",
       "      <td>2.2</td>\n",
       "      <td>5.0</td>\n",
       "      <td>1.5</td>\n",
       "    </tr>\n",
       "    <tr>\n",
       "      <th>29</th>\n",
       "      <td>4.7</td>\n",
       "      <td>3.2</td>\n",
       "      <td>1.6</td>\n",
       "      <td>0.2</td>\n",
       "    </tr>\n",
       "    <tr>\n",
       "      <th>0</th>\n",
       "      <td>5.1</td>\n",
       "      <td>3.5</td>\n",
       "      <td>1.4</td>\n",
       "      <td>0.2</td>\n",
       "    </tr>\n",
       "    <tr>\n",
       "      <th>62</th>\n",
       "      <td>6.0</td>\n",
       "      <td>2.2</td>\n",
       "      <td>4.0</td>\n",
       "      <td>1.0</td>\n",
       "    </tr>\n",
       "    <tr>\n",
       "      <th>...</th>\n",
       "      <td>...</td>\n",
       "      <td>...</td>\n",
       "      <td>...</td>\n",
       "      <td>...</td>\n",
       "    </tr>\n",
       "    <tr>\n",
       "      <th>17</th>\n",
       "      <td>5.1</td>\n",
       "      <td>3.5</td>\n",
       "      <td>1.4</td>\n",
       "      <td>0.3</td>\n",
       "    </tr>\n",
       "    <tr>\n",
       "      <th>98</th>\n",
       "      <td>5.1</td>\n",
       "      <td>2.5</td>\n",
       "      <td>3.0</td>\n",
       "      <td>1.1</td>\n",
       "    </tr>\n",
       "    <tr>\n",
       "      <th>66</th>\n",
       "      <td>5.6</td>\n",
       "      <td>3.0</td>\n",
       "      <td>4.5</td>\n",
       "      <td>1.5</td>\n",
       "    </tr>\n",
       "    <tr>\n",
       "      <th>126</th>\n",
       "      <td>6.2</td>\n",
       "      <td>2.8</td>\n",
       "      <td>4.8</td>\n",
       "      <td>1.8</td>\n",
       "    </tr>\n",
       "    <tr>\n",
       "      <th>109</th>\n",
       "      <td>7.2</td>\n",
       "      <td>3.6</td>\n",
       "      <td>6.1</td>\n",
       "      <td>2.5</td>\n",
       "    </tr>\n",
       "  </tbody>\n",
       "</table>\n",
       "<p>120 rows × 4 columns</p>\n",
       "</div>"
      ],
      "text/plain": [
       "     sepal length (cm)  sepal width (cm)  petal length (cm)  petal width (cm)\n",
       "130                7.4               2.8                6.1               1.9\n",
       "119                6.0               2.2                5.0               1.5\n",
       "29                 4.7               3.2                1.6               0.2\n",
       "0                  5.1               3.5                1.4               0.2\n",
       "62                 6.0               2.2                4.0               1.0\n",
       "..                 ...               ...                ...               ...\n",
       "17                 5.1               3.5                1.4               0.3\n",
       "98                 5.1               2.5                3.0               1.1\n",
       "66                 5.6               3.0                4.5               1.5\n",
       "126                6.2               2.8                4.8               1.8\n",
       "109                7.2               3.6                6.1               2.5\n",
       "\n",
       "[120 rows x 4 columns]"
      ]
     },
     "execution_count": 67,
     "metadata": {},
     "output_type": "execute_result"
    }
   ],
   "source": [
    "iris_x #X data => 판정을 제외한 나머지 데이터"
   ]
  },
  {
   "cell_type": "code",
   "execution_count": 68,
   "metadata": {
    "colab": {
     "base_uri": "https://localhost:8080/",
     "height": 233
    },
    "id": "uGF9HwDSDULd",
    "outputId": "2013143b-5372-4eb2-9e17-7e48f08b748f"
   },
   "outputs": [
    {
     "data": {
      "text/plain": [
       "130    2.0\n",
       "119    2.0\n",
       "29     0.0\n",
       "0      0.0\n",
       "62     1.0\n",
       "      ... \n",
       "17     0.0\n",
       "98     1.0\n",
       "66     1.0\n",
       "126    2.0\n",
       "109    2.0\n",
       "Name: target, Length: 120, dtype: float64"
      ]
     },
     "execution_count": 68,
     "metadata": {},
     "output_type": "execute_result"
    }
   ],
   "source": [
    "iris_y #y data => 판단 부분"
   ]
  },
  {
   "cell_type": "code",
   "execution_count": 69,
   "metadata": {
    "id": "GNh4-oC5CGjO"
   },
   "outputs": [
    {
     "ename": "IndentationError",
     "evalue": "unexpected indent (<ipython-input-69-327a169585ff>, line 5)",
     "output_type": "error",
     "traceback": [
      "\u001b[1;36m  File \u001b[1;32m\"<ipython-input-69-327a169585ff>\"\u001b[1;36m, line \u001b[1;32m5\u001b[0m\n\u001b[1;33m    def fit(self, X, y, sample_weight=None, check_input=True,\u001b[0m\n\u001b[1;37m    ^\u001b[0m\n\u001b[1;31mIndentationError\u001b[0m\u001b[1;31m:\u001b[0m unexpected indent\n"
     ]
    }
   ],
   "source": [
    "#==================================================================================#\n",
    "#Scikit-learn tree fit function#\n",
    "#usage : xxx_clf.fit(x,y)# x => 대상 데이터 y => 판단 데이터\n",
    "#과제와 관계 X#\n",
    " def fit(self, X, y, sample_weight=None, check_input=True,\n",
    "            X_idx_sorted=None):\n",
    "\n",
    "        random_state = check_random_state(self.random_state)\n",
    "\n",
    "        if self.ccp_alpha < 0.0:\n",
    "            raise ValueError(\"ccp_alpha must be greater than or equal to 0\")\n",
    "\n",
    "        if check_input:\n",
    "            # Need to validate separately here.\n",
    "            # We can't pass multi_ouput=True because that would allow y to be\n",
    "            # csr.\n",
    "            check_X_params = dict(dtype=DTYPE, accept_sparse=\"csc\")\n",
    "            check_y_params = dict(ensure_2d=False, dtype=None)\n",
    "            X, y = self._validate_data(X, y,\n",
    "                                       validate_separately=(check_X_params,\n",
    "                                                            check_y_params))\n",
    "            if issparse(X):\n",
    "                X.sort_indices()\n",
    "\n",
    "                if X.indices.dtype != np.intc or X.indptr.dtype != np.intc:\n",
    "                    raise ValueError(\"No support for np.int64 index based \"\n",
    "                                     \"sparse matrices\")\n",
    "\n",
    "        # Determine output settings\n",
    "        n_samples, self.n_features_ = X.shape\n",
    "        is_classification = is_classifier(self)\n",
    "\n",
    "        y = np.atleast_1d(y)\n",
    "        expanded_class_weight = None\n",
    "\n",
    "        if y.ndim == 1:\n",
    "            # reshape is necessary to preserve the data contiguity against vs\n",
    "            # [:, np.newaxis] that does not.\n",
    "            y = np.reshape(y, (-1, 1))\n",
    "\n",
    "        self.n_outputs_ = y.shape[1]\n",
    "\n",
    "        if is_classification:\n",
    "            check_classification_targets(y)\n",
    "            y = np.copy(y)\n",
    "\n",
    "            self.classes_ = []\n",
    "            self.n_classes_ = []\n",
    "\n",
    "            if self.class_weight is not None:\n",
    "                y_original = np.copy(y)\n",
    "\n",
    "            y_encoded = np.zeros(y.shape, dtype=np.int)\n",
    "            for k in range(self.n_outputs_):\n",
    "                classes_k, y_encoded[:, k] = np.unique(y[:, k],\n",
    "                                                       return_inverse=True)\n",
    "                self.classes_.append(classes_k)\n",
    "                self.n_classes_.append(classes_k.shape[0])\n",
    "            y = y_encoded\n",
    "\n",
    "            if self.class_weight is not None:\n",
    "                expanded_class_weight = compute_sample_weight(\n",
    "                    self.class_weight, y_original)\n",
    "\n",
    "            self.n_classes_ = np.array(self.n_classes_, dtype=np.intp)\n",
    "\n",
    "        if getattr(y, \"dtype\", None) != DOUBLE or not y.flags.contiguous:\n",
    "            y = np.ascontiguousarray(y, dtype=DOUBLE)\n",
    "\n",
    "        # Check parameters\n",
    "        max_depth = (np.iinfo(np.int32).max if self.max_depth is None\n",
    "                     else self.max_depth)\n",
    "        max_leaf_nodes = (-1 if self.max_leaf_nodes is None\n",
    "                          else self.max_leaf_nodes)\n",
    "\n",
    "        if isinstance(self.min_samples_leaf, numbers.Integral):\n",
    "            if not 1 <= self.min_samples_leaf:\n",
    "                raise ValueError(\"min_samples_leaf must be at least 1 \"\n",
    "                                 \"or in (0, 0.5], got %s\"\n",
    "                                 % self.min_samples_leaf)\n",
    "            min_samples_leaf = self.min_samples_leaf\n",
    "        else:  # float\n",
    "            if not 0. < self.min_samples_leaf <= 0.5:\n",
    "                raise ValueError(\"min_samples_leaf must be at least 1 \"\n",
    "                                 \"or in (0, 0.5], got %s\"\n",
    "                                 % self.min_samples_leaf)\n",
    "            min_samples_leaf = int(ceil(self.min_samples_leaf * n_samples))\n",
    "\n",
    "        if isinstance(self.min_samples_split, numbers.Integral):\n",
    "            if not 2 <= self.min_samples_split:\n",
    "                raise ValueError(\"min_samples_split must be an integer \"\n",
    "                                 \"greater than 1 or a float in (0.0, 1.0]; \"\n",
    "                                 \"got the integer %s\"\n",
    "                                 % self.min_samples_split)\n",
    "            min_samples_split = self.min_samples_split\n",
    "        else:  # float\n",
    "            if not 0. < self.min_samples_split <= 1.:\n",
    "                raise ValueError(\"min_samples_split must be an integer \"\n",
    "                                 \"greater than 1 or a float in (0.0, 1.0]; \"\n",
    "                                 \"got the float %s\"\n",
    "                                 % self.min_samples_split)\n",
    "            min_samples_split = int(ceil(self.min_samples_split * n_samples))\n",
    "            min_samples_split = max(2, min_samples_split)\n",
    "\n",
    "        min_samples_split = max(min_samples_split, 2 * min_samples_leaf)\n",
    "\n",
    "        if isinstance(self.max_features, str):\n",
    "            if self.max_features == \"auto\":\n",
    "                if is_classification:\n",
    "                    max_features = max(1, int(np.sqrt(self.n_features_)))\n",
    "                else:\n",
    "                    max_features = self.n_features_\n",
    "            elif self.max_features == \"sqrt\":\n",
    "                max_features = max(1, int(np.sqrt(self.n_features_)))\n",
    "            elif self.max_features == \"log2\":\n",
    "                max_features = max(1, int(np.log2(self.n_features_)))\n",
    "            else:\n",
    "                raise ValueError(\"Invalid value for max_features. \"\n",
    "                                 \"Allowed string values are 'auto', \"\n",
    "                                 \"'sqrt' or 'log2'.\")\n",
    "        elif self.max_features is None:\n",
    "            max_features = self.n_features_\n",
    "        elif isinstance(self.max_features, numbers.Integral):\n",
    "            max_features = self.max_features\n",
    "        else:  # float\n",
    "            if self.max_features > 0.0:\n",
    "                max_features = max(1,\n",
    "                                   int(self.max_features * self.n_features_))\n",
    "            else:\n",
    "                max_features = 0\n",
    "\n",
    "        self.max_features_ = max_features\n",
    "\n",
    "        if len(y) != n_samples:\n",
    "            raise ValueError(\"Number of labels=%d does not match \"\n",
    "                             \"number of samples=%d\" % (len(y), n_samples))\n",
    "        if not 0 <= self.min_weight_fraction_leaf <= 0.5:\n",
    "            raise ValueError(\"min_weight_fraction_leaf must in [0, 0.5]\")\n",
    "        if max_depth <= 0:\n",
    "            raise ValueError(\"max_depth must be greater than zero. \")\n",
    "        if not (0 < max_features <= self.n_features_):\n",
    "            raise ValueError(\"max_features must be in (0, n_features]\")\n",
    "        if not isinstance(max_leaf_nodes, numbers.Integral):\n",
    "            raise ValueError(\"max_leaf_nodes must be integral number but was \"\n",
    "                             \"%r\" % max_leaf_nodes)\n",
    "        if -1 < max_leaf_nodes < 2:\n",
    "            raise ValueError((\"max_leaf_nodes {0} must be either None \"\n",
    "                              \"or larger than 1\").format(max_leaf_nodes))\n",
    "\n",
    "        if sample_weight is not None:\n",
    "            sample_weight = _check_sample_weight(sample_weight, X, DOUBLE)\n",
    "\n",
    "        if expanded_class_weight is not None:\n",
    "            if sample_weight is not None:\n",
    "                sample_weight = sample_weight * expanded_class_weight\n",
    "            else:\n",
    "                sample_weight = expanded_class_weight\n",
    "\n",
    "        # Set min_weight_leaf from min_weight_fraction_leaf\n",
    "        if sample_weight is None:\n",
    "            min_weight_leaf = (self.min_weight_fraction_leaf *\n",
    "                               n_samples)\n",
    "        else:\n",
    "            min_weight_leaf = (self.min_weight_fraction_leaf *\n",
    "                               np.sum(sample_weight))\n",
    "\n",
    "        min_impurity_split = self.min_impurity_split\n",
    "        if min_impurity_split is not None:\n",
    "            warnings.warn(\"The min_impurity_split parameter is deprecated. \"\n",
    "                          \"Its default value has changed from 1e-7 to 0 in \"\n",
    "                          \"version 0.23, and it will be removed in 0.25. \"\n",
    "                          \"Use the min_impurity_decrease parameter instead.\",\n",
    "                          FutureWarning)\n",
    "\n",
    "            if min_impurity_split < 0.:\n",
    "                raise ValueError(\"min_impurity_split must be greater than \"\n",
    "                                 \"or equal to 0\")\n",
    "        else:\n",
    "            min_impurity_split = 0\n",
    "\n",
    "        if self.min_impurity_decrease < 0.:\n",
    "            raise ValueError(\"min_impurity_decrease must be greater than \"\n",
    "                             \"or equal to 0\")\n",
    "\n",
    "        # Build tree\n",
    "        criterion = self.criterion\n",
    "        if not isinstance(criterion, Criterion):\n",
    "            if is_classification:\n",
    "                criterion = CRITERIA_CLF[self.criterion](self.n_outputs_,\n",
    "                                                         self.n_classes_)\n",
    "            else:\n",
    "                criterion = CRITERIA_REG[self.criterion](self.n_outputs_,\n",
    "                                                         n_samples)\n",
    "\n",
    "        SPLITTERS = SPARSE_SPLITTERS if issparse(X) else DENSE_SPLITTERS\n",
    "\n",
    "        splitter = self.splitter\n",
    "        if not isinstance(self.splitter, Splitter):\n",
    "            splitter = SPLITTERS[self.splitter](criterion,\n",
    "                                                self.max_features_,\n",
    "                                                min_samples_leaf,\n",
    "                                                min_weight_leaf,\n",
    "                                                random_state)\n",
    "\n",
    "        if is_classifier(self):\n",
    "            self.tree_ = Tree(self.n_features_,\n",
    "                              self.n_classes_, self.n_outputs_)\n",
    "        else:\n",
    "            self.tree_ = Tree(self.n_features_,\n",
    "                              # TODO: tree should't need this in this case\n",
    "                              np.array([1] * self.n_outputs_, dtype=np.intp),\n",
    "                              self.n_outputs_)\n",
    "\n",
    "        # Use BestFirst if max_leaf_nodes given; use DepthFirst otherwise\n",
    "        if max_leaf_nodes < 0:\n",
    "            builder = DepthFirstTreeBuilder(splitter, min_samples_split,\n",
    "                                            min_samples_leaf,\n",
    "                                            min_weight_leaf,\n",
    "                                            max_depth,\n",
    "                                            self.min_impurity_decrease,\n",
    "                                            min_impurity_split)\n",
    "        else:\n",
    "            builder = BestFirstTreeBuilder(splitter, min_samples_split,\n",
    "                                           min_samples_leaf,\n",
    "                                           min_weight_leaf,\n",
    "                                           max_depth,\n",
    "                                           max_leaf_nodes,\n",
    "                                           self.min_impurity_decrease,\n",
    "                                           min_impurity_split)\n",
    "\n",
    "        builder.build(self.tree_, X, y, sample_weight, X_idx_sorted)\n",
    "\n",
    "        if self.n_outputs_ == 1 and is_classifier(self):\n",
    "            self.n_classes_ = self.n_classes_[0]\n",
    "            self.classes_ = self.classes_[0]\n",
    "\n",
    "        self._prune_tree()\n",
    "\n",
    "        return self"
   ]
  }
 ],
 "metadata": {
  "colab": {
   "name": "Untitled3.ipynb",
   "provenance": []
  },
  "kernelspec": {
   "display_name": "Python 3",
   "language": "python",
   "name": "python3"
  },
  "language_info": {
   "codemirror_mode": {
    "name": "ipython",
    "version": 3
   },
   "file_extension": ".py",
   "mimetype": "text/x-python",
   "name": "python",
   "nbconvert_exporter": "python",
   "pygments_lexer": "ipython3",
   "version": "3.8.9"
  }
 },
 "nbformat": 4,
 "nbformat_minor": 1
}
