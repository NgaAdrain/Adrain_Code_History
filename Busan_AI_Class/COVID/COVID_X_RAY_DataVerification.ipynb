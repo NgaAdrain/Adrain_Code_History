{
 "cells": [
  {
   "cell_type": "markdown",
   "id": "fe827e6a",
   "metadata": {},
   "source": [
    "# X_RAY 사진 기반 코로나 감염 예측 데이터 분석"
   ]
  },
  {
   "cell_type": "markdown",
   "id": "5187969e",
   "metadata": {},
   "source": [
    "우선 데이터는 데이터 이름, 데이터 사진과 판단, 수집기관이 적혀있는 txt파일과 각 X_RAY 이미지 파일로 구성되어 있다.\n",
    "\n",
    "데이터가 12GB나 되서 캐글 데이터 셋 링크로 대체\n",
    "\n",
    "https://www.kaggle.com/andyczhao/covidx-cxr2"
   ]
  },
  {
   "cell_type": "markdown",
   "id": "7cd59ecb",
   "metadata": {},
   "source": [
    "### 1. 먼저 데이터에 대한 정보가 들어있는 파일을 열어보자"
   ]
  },
  {
   "cell_type": "markdown",
   "id": "899ce3f7",
   "metadata": {},
   "source": [
    "txt파일로 저장되어 있어서 read_csv의 sep와 engine을 조절하고 파일에 header가 없기 때문에 가장 첫 줄이 index가 되는 것을 방지하기 위해 header = None를 사용"
   ]
  },
  {
   "cell_type": "code",
   "execution_count": 1,
   "id": "53f377f2",
   "metadata": {},
   "outputs": [],
   "source": [
    "import pandas as pd\n",
    "train = pd.read_csv('./COVID_XRAY/train.txt',sep = \" \", engine='python',header=None)\n",
    "test = pd.read_csv('./COVID_XRAY/test.txt',sep = \" \", engine='python',header= None)\n",
    "train_path = './COVID_XRAY/train/'\n",
    "test_path = './COVID_XRAY/test/'"
   ]
  },
  {
   "cell_type": "markdown",
   "id": "3711cf3a",
   "metadata": {},
   "source": [
    "각 파일별 이름과 라벨을 구분"
   ]
  },
  {
   "cell_type": "code",
   "execution_count": 2,
   "id": "2d896f5e",
   "metadata": {},
   "outputs": [
    {
     "data": {
      "text/html": [
       "<div>\n",
       "<style scoped>\n",
       "    .dataframe tbody tr th:only-of-type {\n",
       "        vertical-align: middle;\n",
       "    }\n",
       "\n",
       "    .dataframe tbody tr th {\n",
       "        vertical-align: top;\n",
       "    }\n",
       "\n",
       "    .dataframe thead th {\n",
       "        text-align: right;\n",
       "    }\n",
       "</style>\n",
       "<table border=\"1\" class=\"dataframe\">\n",
       "  <thead>\n",
       "    <tr style=\"text-align: right;\">\n",
       "      <th></th>\n",
       "      <th>0</th>\n",
       "      <th>1</th>\n",
       "      <th>2</th>\n",
       "      <th>3</th>\n",
       "    </tr>\n",
       "  </thead>\n",
       "  <tbody>\n",
       "    <tr>\n",
       "      <th>0</th>\n",
       "      <td>5</td>\n",
       "      <td>ARDSSevere.png</td>\n",
       "      <td>negative</td>\n",
       "      <td>cohen</td>\n",
       "    </tr>\n",
       "    <tr>\n",
       "      <th>1</th>\n",
       "      <td>25</td>\n",
       "      <td>acute-respiratory-distress-syndrome-ards-1.jpg</td>\n",
       "      <td>negative</td>\n",
       "      <td>cohen</td>\n",
       "    </tr>\n",
       "    <tr>\n",
       "      <th>2</th>\n",
       "      <td>26</td>\n",
       "      <td>acute-respiratory-distress-syndrome-ards.jpg</td>\n",
       "      <td>negative</td>\n",
       "      <td>cohen</td>\n",
       "    </tr>\n",
       "    <tr>\n",
       "      <th>3</th>\n",
       "      <td>27</td>\n",
       "      <td>ards-secondary-to-tiger-snake-bite.png</td>\n",
       "      <td>negative</td>\n",
       "      <td>cohen</td>\n",
       "    </tr>\n",
       "    <tr>\n",
       "      <th>4</th>\n",
       "      <td>28</td>\n",
       "      <td>pneumocystis-pneumonia-2-PA.png</td>\n",
       "      <td>negative</td>\n",
       "      <td>cohen</td>\n",
       "    </tr>\n",
       "  </tbody>\n",
       "</table>\n",
       "</div>"
      ],
      "text/plain": [
       "    0                                               1         2      3\n",
       "0   5                                  ARDSSevere.png  negative  cohen\n",
       "1  25  acute-respiratory-distress-syndrome-ards-1.jpg  negative  cohen\n",
       "2  26    acute-respiratory-distress-syndrome-ards.jpg  negative  cohen\n",
       "3  27          ards-secondary-to-tiger-snake-bite.png  negative  cohen\n",
       "4  28                 pneumocystis-pneumonia-2-PA.png  negative  cohen"
      ]
     },
     "execution_count": 2,
     "metadata": {},
     "output_type": "execute_result"
    }
   ],
   "source": [
    "train.head()"
   ]
  },
  {
   "cell_type": "code",
   "execution_count": 3,
   "id": "f8ced15a",
   "metadata": {},
   "outputs": [
    {
     "data": {
      "text/html": [
       "<div>\n",
       "<style scoped>\n",
       "    .dataframe tbody tr th:only-of-type {\n",
       "        vertical-align: middle;\n",
       "    }\n",
       "\n",
       "    .dataframe tbody tr th {\n",
       "        vertical-align: top;\n",
       "    }\n",
       "\n",
       "    .dataframe thead th {\n",
       "        text-align: right;\n",
       "    }\n",
       "</style>\n",
       "<table border=\"1\" class=\"dataframe\">\n",
       "  <thead>\n",
       "    <tr style=\"text-align: right;\">\n",
       "      <th></th>\n",
       "      <th>0</th>\n",
       "      <th>1</th>\n",
       "      <th>2</th>\n",
       "      <th>3</th>\n",
       "    </tr>\n",
       "  </thead>\n",
       "  <tbody>\n",
       "    <tr>\n",
       "      <th>0</th>\n",
       "      <td>419639-003251</td>\n",
       "      <td>MIDRC-RICORD-1C-419639-003251-46647-0.png</td>\n",
       "      <td>positive</td>\n",
       "      <td>ricord</td>\n",
       "    </tr>\n",
       "    <tr>\n",
       "      <th>1</th>\n",
       "      <td>419639-001464</td>\n",
       "      <td>MIDRC-RICORD-1C-419639-001464-39871-0.png</td>\n",
       "      <td>positive</td>\n",
       "      <td>ricord</td>\n",
       "    </tr>\n",
       "    <tr>\n",
       "      <th>2</th>\n",
       "      <td>419639-000918</td>\n",
       "      <td>MIDRC-RICORD-1C-419639-000918-78965-0.png</td>\n",
       "      <td>positive</td>\n",
       "      <td>ricord</td>\n",
       "    </tr>\n",
       "    <tr>\n",
       "      <th>3</th>\n",
       "      <td>419639-003318</td>\n",
       "      <td>MIDRC-RICORD-1C-419639-003318-64285-0.png</td>\n",
       "      <td>positive</td>\n",
       "      <td>ricord</td>\n",
       "    </tr>\n",
       "    <tr>\n",
       "      <th>4</th>\n",
       "      <td>419639-001015</td>\n",
       "      <td>MIDRC-RICORD-1C-419639-001015-81591-0.png</td>\n",
       "      <td>positive</td>\n",
       "      <td>ricord</td>\n",
       "    </tr>\n",
       "  </tbody>\n",
       "</table>\n",
       "</div>"
      ],
      "text/plain": [
       "               0                                          1         2       3\n",
       "0  419639-003251  MIDRC-RICORD-1C-419639-003251-46647-0.png  positive  ricord\n",
       "1  419639-001464  MIDRC-RICORD-1C-419639-001464-39871-0.png  positive  ricord\n",
       "2  419639-000918  MIDRC-RICORD-1C-419639-000918-78965-0.png  positive  ricord\n",
       "3  419639-003318  MIDRC-RICORD-1C-419639-003318-64285-0.png  positive  ricord\n",
       "4  419639-001015  MIDRC-RICORD-1C-419639-001015-81591-0.png  positive  ricord"
      ]
     },
     "execution_count": 3,
     "metadata": {},
     "output_type": "execute_result"
    }
   ],
   "source": [
    "test.head()"
   ]
  },
  {
   "cell_type": "markdown",
   "id": "2af14a76",
   "metadata": {},
   "source": [
    "**데이터 shuffle(with df.sample)**"
   ]
  },
  {
   "cell_type": "code",
   "execution_count": 4,
   "id": "d9bba20e",
   "metadata": {},
   "outputs": [],
   "source": [
    "train = train.sample(frac=1, replace=True, random_state=123)\n",
    "test = test.sample(frac=1, replace=True, random_state=123)"
   ]
  },
  {
   "cell_type": "code",
   "execution_count": 5,
   "id": "023f9b51",
   "metadata": {},
   "outputs": [
    {
     "data": {
      "text/html": [
       "<div>\n",
       "<style scoped>\n",
       "    .dataframe tbody tr th:only-of-type {\n",
       "        vertical-align: middle;\n",
       "    }\n",
       "\n",
       "    .dataframe tbody tr th {\n",
       "        vertical-align: top;\n",
       "    }\n",
       "\n",
       "    .dataframe thead th {\n",
       "        text-align: right;\n",
       "    }\n",
       "</style>\n",
       "<table border=\"1\" class=\"dataframe\">\n",
       "  <thead>\n",
       "    <tr style=\"text-align: right;\">\n",
       "      <th></th>\n",
       "      <th>0</th>\n",
       "      <th>1</th>\n",
       "      <th>2</th>\n",
       "      <th>3</th>\n",
       "    </tr>\n",
       "  </thead>\n",
       "  <tbody>\n",
       "    <tr>\n",
       "      <th>3582</th>\n",
       "      <td>3ffd6f8f-a701-46b4-8720-806cb7332718</td>\n",
       "      <td>3ffd6f8f-a701-46b4-8720-806cb7332718.png</td>\n",
       "      <td>negative</td>\n",
       "      <td>rsna</td>\n",
       "    </tr>\n",
       "    <tr>\n",
       "      <th>15725</th>\n",
       "      <td>1462ffd1-939b-49b7-9234-eeeb7f4986cc</td>\n",
       "      <td>1462ffd1-939b-49b7-9234-eeeb7f4986cc.png</td>\n",
       "      <td>negative</td>\n",
       "      <td>rsna</td>\n",
       "    </tr>\n",
       "    <tr>\n",
       "      <th>11646</th>\n",
       "      <td>3ddfe89f-2b00-49cc-ad50-30ac45c8aad2</td>\n",
       "      <td>3ddfe89f-2b00-49cc-ad50-30ac45c8aad2.png</td>\n",
       "      <td>negative</td>\n",
       "      <td>rsna</td>\n",
       "    </tr>\n",
       "    <tr>\n",
       "      <th>1346</th>\n",
       "      <td>COVID_641</td>\n",
       "      <td>COVID(641).png</td>\n",
       "      <td>positive</td>\n",
       "      <td>sirm</td>\n",
       "    </tr>\n",
       "    <tr>\n",
       "      <th>12252</th>\n",
       "      <td>65b87566-709e-4b0f-b4bb-55020515f6e7</td>\n",
       "      <td>65b87566-709e-4b0f-b4bb-55020515f6e7.png</td>\n",
       "      <td>negative</td>\n",
       "      <td>rsna</td>\n",
       "    </tr>\n",
       "  </tbody>\n",
       "</table>\n",
       "</div>"
      ],
      "text/plain": [
       "                                          0  \\\n",
       "3582   3ffd6f8f-a701-46b4-8720-806cb7332718   \n",
       "15725  1462ffd1-939b-49b7-9234-eeeb7f4986cc   \n",
       "11646  3ddfe89f-2b00-49cc-ad50-30ac45c8aad2   \n",
       "1346                              COVID_641   \n",
       "12252  65b87566-709e-4b0f-b4bb-55020515f6e7   \n",
       "\n",
       "                                              1         2     3  \n",
       "3582   3ffd6f8f-a701-46b4-8720-806cb7332718.png  negative  rsna  \n",
       "15725  1462ffd1-939b-49b7-9234-eeeb7f4986cc.png  negative  rsna  \n",
       "11646  3ddfe89f-2b00-49cc-ad50-30ac45c8aad2.png  negative  rsna  \n",
       "1346                             COVID(641).png  positive  sirm  \n",
       "12252  65b87566-709e-4b0f-b4bb-55020515f6e7.png  negative  rsna  "
      ]
     },
     "execution_count": 5,
     "metadata": {},
     "output_type": "execute_result"
    }
   ],
   "source": [
    "train.head()"
   ]
  },
  {
   "cell_type": "code",
   "execution_count": 6,
   "id": "e0681a75",
   "metadata": {},
   "outputs": [
    {
     "data": {
      "text/html": [
       "<div>\n",
       "<style scoped>\n",
       "    .dataframe tbody tr th:only-of-type {\n",
       "        vertical-align: middle;\n",
       "    }\n",
       "\n",
       "    .dataframe tbody tr th {\n",
       "        vertical-align: top;\n",
       "    }\n",
       "\n",
       "    .dataframe thead th {\n",
       "        text-align: right;\n",
       "    }\n",
       "</style>\n",
       "<table border=\"1\" class=\"dataframe\">\n",
       "  <thead>\n",
       "    <tr style=\"text-align: right;\">\n",
       "      <th></th>\n",
       "      <th>0</th>\n",
       "      <th>1</th>\n",
       "      <th>2</th>\n",
       "      <th>3</th>\n",
       "    </tr>\n",
       "  </thead>\n",
       "  <tbody>\n",
       "    <tr>\n",
       "      <th>365</th>\n",
       "      <td>8ae822ae-a656-47ba-ac5b-848ce2256575</td>\n",
       "      <td>8ae822ae-a656-47ba-ac5b-848ce2256575.png</td>\n",
       "      <td>negative</td>\n",
       "      <td>rsna</td>\n",
       "    </tr>\n",
       "    <tr>\n",
       "      <th>382</th>\n",
       "      <td>a6236ddd-6367-4569-b5f1-07d2df9390ad</td>\n",
       "      <td>a6236ddd-6367-4569-b5f1-07d2df9390ad.png</td>\n",
       "      <td>negative</td>\n",
       "      <td>rsna</td>\n",
       "    </tr>\n",
       "    <tr>\n",
       "      <th>322</th>\n",
       "      <td>e1d5a233-39ca-41dc-a289-b07c3e78cdb1</td>\n",
       "      <td>e1d5a233-39ca-41dc-a289-b07c3e78cdb1.png</td>\n",
       "      <td>negative</td>\n",
       "      <td>rsna</td>\n",
       "    </tr>\n",
       "    <tr>\n",
       "      <th>98</th>\n",
       "      <td>419639-003060</td>\n",
       "      <td>MIDRC-RICORD-1C-419639-003060-04928-0.png</td>\n",
       "      <td>positive</td>\n",
       "      <td>ricord</td>\n",
       "    </tr>\n",
       "    <tr>\n",
       "      <th>230</th>\n",
       "      <td>d3ad2915-af30-426c-ad2d-1634df8c1b5f</td>\n",
       "      <td>d3ad2915-af30-426c-ad2d-1634df8c1b5f.png</td>\n",
       "      <td>negative</td>\n",
       "      <td>rsna</td>\n",
       "    </tr>\n",
       "  </tbody>\n",
       "</table>\n",
       "</div>"
      ],
      "text/plain": [
       "                                        0  \\\n",
       "365  8ae822ae-a656-47ba-ac5b-848ce2256575   \n",
       "382  a6236ddd-6367-4569-b5f1-07d2df9390ad   \n",
       "322  e1d5a233-39ca-41dc-a289-b07c3e78cdb1   \n",
       "98                          419639-003060   \n",
       "230  d3ad2915-af30-426c-ad2d-1634df8c1b5f   \n",
       "\n",
       "                                             1         2       3  \n",
       "365   8ae822ae-a656-47ba-ac5b-848ce2256575.png  negative    rsna  \n",
       "382   a6236ddd-6367-4569-b5f1-07d2df9390ad.png  negative    rsna  \n",
       "322   e1d5a233-39ca-41dc-a289-b07c3e78cdb1.png  negative    rsna  \n",
       "98   MIDRC-RICORD-1C-419639-003060-04928-0.png  positive  ricord  \n",
       "230   d3ad2915-af30-426c-ad2d-1634df8c1b5f.png  negative    rsna  "
      ]
     },
     "execution_count": 6,
     "metadata": {},
     "output_type": "execute_result"
    }
   ],
   "source": [
    "test.head()"
   ]
  },
  {
   "cell_type": "markdown",
   "id": "55d0d934",
   "metadata": {},
   "source": [
    "**데이터의 구성**을 분석해 보면\n",
    "\n",
    "\\[patient id\\] \\[filename\\] \\[class\\] \\[data source\\]  from kaggle\n",
    "\n",
    "0. name(number? data id?)(파일이름에서 확장자가 빠진경우가 많음 -> 대략 데이터 ID정도로 생각됨)\n",
    "1. file name(파일 이름)\n",
    "2. covid decision(positive vs negative)(판정)\n",
    "3. Academy(학회)\n",
    "\n",
    "우리는 여기에서 1,2만 사용한다!\n",
    "\n",
    "1은 파일 호출용 2는 예측 결과용"
   ]
  },
  {
   "cell_type": "code",
   "execution_count": 7,
   "id": "07481933",
   "metadata": {},
   "outputs": [],
   "source": [
    "train_name = train.iloc[:,1]\n",
    "train_label = train.iloc[:,2]\n",
    "test_name = test.iloc[:,1]\n",
    "test_label = test.iloc[:,2]"
   ]
  },
  {
   "cell_type": "markdown",
   "id": "1a70ea3f",
   "metadata": {},
   "source": [
    "이미지 읽어들이기 연습 cv2 모듈을 사용."
   ]
  },
  {
   "cell_type": "code",
   "execution_count": 8,
   "id": "b365e2a9",
   "metadata": {},
   "outputs": [
    {
     "name": "stdout",
     "output_type": "stream",
     "text": [
      "Requirement already satisfied: memory_profiler in c:\\users\\ad\\appdata\\local\\programs\\python\\python38\\lib\\site-packages (0.58.0)\n",
      "Requirement already satisfied: psutil in c:\\users\\ad\\appdata\\local\\programs\\python\\python38\\lib\\site-packages (from memory_profiler) (5.8.0)\n"
     ]
    },
    {
     "name": "stderr",
     "output_type": "stream",
     "text": [
      "WARNING: You are using pip version 21.0.1; however, version 21.1.2 is available.\n",
      "You should consider upgrading via the 'c:\\users\\ad\\appdata\\local\\programs\\python\\python38\\python.exe -m pip install --upgrade pip' command.\n"
     ]
    }
   ],
   "source": [
    "!pip install memory_profiler"
   ]
  },
  {
   "cell_type": "markdown",
   "id": "ddda31a2",
   "metadata": {},
   "source": [
    "데이터가 상당히 크니까 메모리 사용량을 추적해야 한다."
   ]
  },
  {
   "cell_type": "code",
   "execution_count": 9,
   "id": "6aa43841",
   "metadata": {},
   "outputs": [
    {
     "name": "stdout",
     "output_type": "stream",
     "text": [
      "peak memory: 88.00 MiB, increment: 0.07 MiB\n"
     ]
    }
   ],
   "source": [
    "%load_ext memory_profiler\n",
    "%memit"
   ]
  },
  {
   "cell_type": "markdown",
   "id": "05c5a5e9",
   "metadata": {},
   "source": [
    "train데이터는 15951개 개당 500,500으로 줄여서 부르면 개당 0.7MB\n",
    "\n",
    "-> 1000개를 부르면 820.29MB -> 87.74 => 차이는 732.55 => 개당 0.73255MB"
   ]
  },
  {
   "cell_type": "code",
   "execution_count": 10,
   "id": "f509caa8",
   "metadata": {},
   "outputs": [
    {
     "name": "stdout",
     "output_type": "stream",
     "text": [
      "15951\n"
     ]
    }
   ],
   "source": [
    "print(len(train_name))"
   ]
  },
  {
   "cell_type": "code",
   "execution_count": 11,
   "id": "40e0aa5d",
   "metadata": {},
   "outputs": [
    {
     "name": "stdout",
     "output_type": "stream",
     "text": [
      "400\n"
     ]
    }
   ],
   "source": [
    "print(len(test_name))"
   ]
  },
  {
   "cell_type": "markdown",
   "id": "877932ba",
   "metadata": {},
   "source": [
    "Resize\n",
    "~~~\n",
    "import cv2\n",
    "data = cv2.imread(train_path+train_name[15],cv2.IMREAD_COLOR)\n",
    "cv2.imshow('Original', data)\n",
    "data = cv2.resize(data, (500,500), interpolation = cv2.INTER_AREA)\n",
    "data_r = data[:,:,0]\n",
    "data_g = data[:,:,1]\n",
    "data_b = data[:,:,2]\n",
    "cv2.imshow('r_channel', data_r)\n",
    "cv2.imshow('g_channel', data_g)\n",
    "cv2.imshow('b_channel', data_b)\n",
    "cv2.waitKey(0)\n",
    "cv2.destroyAllWindows()\n",
    "~~~"
   ]
  },
  {
   "cell_type": "code",
   "execution_count": 13,
   "id": "de320b3b",
   "metadata": {},
   "outputs": [
    {
     "name": "stdout",
     "output_type": "stream",
     "text": [
      "peak memory: 813.52 MiB, increment: 0.00 MiB\n",
      "Time Eleapsed: 20.27ms\n"
     ]
    }
   ],
   "source": [
    "import cv2\n",
    "import time\n",
    "\n",
    "# 데이터 shuffle을 하고 1000개씩 묶어서 학습진행 해보자.\n",
    "image = []\n",
    "batch_size = 1000\n",
    "block = 1\n",
    "\n",
    "start = time.time()\n",
    "for i, name in enumerate(train_name):\n",
    "    if i > batch_size * block:\n",
    "        break;\n",
    "    fname = train_path + name\n",
    "    data = cv2.imread(fname,cv2.IMREAD_COLOR)\n",
    "    data = cv2.resize(data, (500,500), interpolation = cv2.INTER_AREA)\n",
    "    image.append(data)\n",
    "#     %memit\n",
    "%memit\n",
    "\n",
    "print('Time Eleapsed: {0:.4}ms'.format(time.time()-start))\n",
    "# cv2.imshow('Original', original)\n",
    "# cv2.imshow('Gray', gray)\n",
    "# cv2.imshow('Unchange', unchange)\n",
    "\n",
    "# cv2.waitKey(0)\n",
    "# cv2.destroyAllWindows()"
   ]
  },
  {
   "cell_type": "markdown",
   "id": "070a207f",
   "metadata": {},
   "source": [
    "데이터의 편향성이 보인다 -> __13793 음성 vs 2158 양성__"
   ]
  },
  {
   "cell_type": "code",
   "execution_count": 14,
   "id": "4fcd7d34",
   "metadata": {},
   "outputs": [
    {
     "data": {
      "text/plain": [
       "negative    13759\n",
       "positive     2192\n",
       "Name: 2, dtype: int64"
      ]
     },
     "execution_count": 14,
     "metadata": {},
     "output_type": "execute_result"
    }
   ],
   "source": [
    "train[2].value_counts()"
   ]
  },
  {
   "cell_type": "code",
   "execution_count": 15,
   "id": "53bd513b",
   "metadata": {},
   "outputs": [
    {
     "data": {
      "text/plain": [
       "negative    202\n",
       "positive    198\n",
       "Name: 2, dtype: int64"
      ]
     },
     "execution_count": 15,
     "metadata": {},
     "output_type": "execute_result"
    }
   ],
   "source": [
    "test[2].value_counts()"
   ]
  },
  {
   "cell_type": "markdown",
   "id": "07bf75a6",
   "metadata": {},
   "source": [
    "데이터 크기가 제각각이다. 크기를 다룰 필요가 있다."
   ]
  },
  {
   "cell_type": "code",
   "execution_count": 16,
   "id": "59c3f107",
   "metadata": {},
   "outputs": [],
   "source": [
    "data = cv2.resize(data, (500,500), interpolation = cv2.INTER_AREA)"
   ]
  },
  {
   "cell_type": "markdown",
   "id": "6c8dabe6",
   "metadata": {},
   "source": [
    "image들을 list에 넣어서 이를 ndarray로 바꾸려고 시도를 했으나 dimention이 32가 최대라는 에러를 퉤 뱉어냄\n",
    "\n",
    "=> 이는 그냥 리스트에 넣은 것을 호출해서 사용하는 것으로 해결해야하나..?\n",
    "\n",
    "SOLVED: np.ndarray가 아니라 np.array를 호출해야 한다."
   ]
  },
  {
   "cell_type": "code",
   "execution_count": 17,
   "id": "ee147429",
   "metadata": {},
   "outputs": [
    {
     "name": "stdout",
     "output_type": "stream",
     "text": [
      "(1001, 500, 500, 3)\n"
     ]
    }
   ],
   "source": [
    "import numpy as np\n",
    "dataset_block = np.array(image)\n",
    "print(dataset_block.shape)\n",
    "image = []"
   ]
  },
  {
   "cell_type": "markdown",
   "id": "17a31513",
   "metadata": {},
   "source": [
    "데이터는 __너비x높이x채널__로 구성되어 있다.\n",
    "\n",
    "데이터 중 하나를 예시로 보자"
   ]
  },
  {
   "cell_type": "code",
   "execution_count": 18,
   "id": "2d2104f6",
   "metadata": {},
   "outputs": [],
   "source": [
    "data_r = data[:,:,0]\n",
    "data_g = data[:,:,1]\n",
    "data_b = data[:,:,2]"
   ]
  },
  {
   "cell_type": "code",
   "execution_count": 19,
   "id": "c6ac79cd",
   "metadata": {},
   "outputs": [],
   "source": [
    "cv2.imshow('r_channel', data_r)\n",
    "cv2.imshow('g_channel', data_g)\n",
    "cv2.imshow('b_channel', data_b)\n",
    "cv2.waitKey(0)\n",
    "cv2.destroyAllWindows()"
   ]
  },
  {
   "cell_type": "code",
   "execution_count": 20,
   "id": "f2e0fc7a",
   "metadata": {},
   "outputs": [
    {
     "name": "stdout",
     "output_type": "stream",
     "text": [
      "500 500 3\n"
     ]
    }
   ],
   "source": [
    "height,width, channel = data.shape\n",
    "print(height,width, channel)"
   ]
  },
  {
   "cell_type": "markdown",
   "id": "b8cf6bbd",
   "metadata": {},
   "source": [
    "**데이터 하나에 500x500의 픽셀데이터가 있는데 이 값들은 0 ~ 255의 값 이므로 255로 나눠서 0~1사이의 값으로 정규화를 진행해보자.**"
   ]
  },
  {
   "cell_type": "markdown",
   "id": "b1f1c3c8",
   "metadata": {},
   "source": [
    "### 중간 점검\n",
    "1. 먼저 __데이터의 개수__는 \n",
    "- train은 15951 그 중 양성: 2158 음성: 13793\n",
    "- test는 400 그 중 양성 198 음성: 202\n",
    "2. __사진 데이터의 크기__는 제각각 -> 이는 500 x 500의 BGR 3채널 데이터로 resize를 진행한다.\n",
    "3. __사진 데이터 1개를 resize__해서 메모리에 올리면 대략 0.73MB가 증가 -> 1000개를 불러서 array에 저장했을 때 732.55MB\n",
    "4. __학습 컨테이너를 만들자.__ 학습 컨테이너에서 데이터를 읽어서 저장(block_size) -> 학습 함수 호출 -> 반복\n",
    "5. __학습 함수__를 만들어서 parameter로 각종 정보를 가지는 dict 자료형을 사용해보자\n",
    "6. __학습 함수__에는 모델, batch_size(한번에 학습시킬 데이터 수), 학습 데이터를 받아서 사용\n",
    "- 여기에서 sci-kit learn의 train_test_split을 사용해보자!\n",
    "- split하고 train은 기존 데이터를 사용하고 test데이터를 validation 데이터로 사용\n",
    "- ex) 1000개 중 200개를 validation 데이터로 사용하되 학습은 1000개 모두 사용."
   ]
  },
  {
   "attachments": {
    "train.png": {
     "image/png": "[encoded data removed]"
    }
   },
   "cell_type": "markdown",
   "id": "fef24bb7",
   "metadata": {},
   "source": [
    "![train.png](attachment:train.png)"
   ]
  },
  {
   "cell_type": "markdown",
   "id": "ac2940af",
   "metadata": {},
   "source": [
    "```%memit``` 로 계속 메모리 체크해줘야 함."
   ]
  }
 ],
 "metadata": {
  "kernelspec": {
   "display_name": "Python 3",
   "language": "python",
   "name": "python3"
  },
  "language_info": {
   "codemirror_mode": {
    "name": "ipython",
    "version": 3
   },
   "file_extension": ".py",
   "mimetype": "text/x-python",
   "name": "python",
   "nbconvert_exporter": "python",
   "pygments_lexer": "ipython3",
   "version": "3.8.9"
  }
 },
 "nbformat": 4,
 "nbformat_minor": 5
}
