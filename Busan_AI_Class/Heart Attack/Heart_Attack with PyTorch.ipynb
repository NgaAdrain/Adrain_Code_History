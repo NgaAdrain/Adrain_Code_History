{
 "cells": [
  {
   "cell_type": "code",
   "execution_count": 1,
   "id": "84e5ea63",
   "metadata": {},
   "outputs": [],
   "source": [
    "import os\n",
    "import pandas as pd\n",
    "import numpy as np\n",
    "\n",
    "import torch\n",
    "import torch.nn as nn\n",
    "import torch.nn.functional as F\n",
    "import torch.optim as optim\n",
    "from torch.autograd import Variable\n",
    "\n",
    "from torch.nn import init"
   ]
  },
  {
   "cell_type": "code",
   "execution_count": 2,
   "id": "3c641db8",
   "metadata": {},
   "outputs": [],
   "source": [
    "heart = pd.read_csv('./heart.csv')"
   ]
  },
  {
   "cell_type": "markdown",
   "id": "26ce7d39",
   "metadata": {},
   "source": [
    "__About this dataset__\n",
    "\n",
    "1. Age : Age of the patient\n",
    "\n",
    "2. Sex : Sex of the patient\n",
    "\n",
    "3. cp : Chest Pain type chest pain type\n",
    "\n",
    "- Value 0: typical angina\n",
    "- Value 1: atypical angina\n",
    "- Value 2: non-anginal pain 비심장성 통증: 이런 경우, 흉통은 분명히 존재하지만, 심장에 이상이 없다고 판명이 날 때, 비심장성 흉통이라고 한다.\n",
    "- Value 3: asymptomatic\n",
    "\n",
    "4. trtbps : resting blood pressure (in mm Hg)\n",
    "\n",
    "5. chol : cholestoral in mg/dl fetched via BMI sensor\n",
    "\n",
    "6. fbs : (fasting blood sugar > 120 mg/dl) (1 = true; 0 = false)\n",
    "\n",
    "7. rest_ecg : resting electrocardiographic results\n",
    "\n",
    "- Value 0: normal\n",
    "- Value 1: having ST-T wave abnormality (T wave inversions and/or ST elevation or depression of > 0.05 mV)\n",
    "- Value 2: showing probable or definite left ventricular hypertrophy by Estes' criteria\n",
    "\n",
    "8. thalach : maximum heart rate achieved\n",
    "\n",
    "9. exng: exercise induced angina (1 = yes; 0 = no)\n",
    "\n",
    "10. oldpeak: Previous peak | ST depression induced by exercise relative to rest\n",
    "\n",
    "11. slp: Slope | the slope of the peak exercise ST segment (0 = upsloping; 1 = flat; 2 = downsloping)\n",
    "\n",
    "12. caa: number of major vessels (0-3)\n",
    "\n",
    "13. thall: Thal rate (0-3) \n",
    "\n",
    "fixed defect - 고정 관류 결손 \n",
    "\n",
    "reversible defect - 가역적인 관류 결손\n",
    "\n",
    "target : \n",
    "- 0 = less chance of heart attack \n",
    "- 1 = more chance of heart attack\n",
    "\n",
    "http://rstudio-pubs-static.s3.amazonaws.com/24341_184a58191486470cab97acdbbfe78ed5.html"
   ]
  },
  {
   "cell_type": "markdown",
   "id": "3b5a214e",
   "metadata": {},
   "source": [
    "### 데이터 분석"
   ]
  },
  {
   "cell_type": "code",
   "execution_count": 3,
   "id": "b7642efc",
   "metadata": {},
   "outputs": [
    {
     "name": "stdout",
     "output_type": "stream",
     "text": [
      "<class 'pandas.core.frame.DataFrame'>\n",
      "RangeIndex: 303 entries, 0 to 302\n",
      "Data columns (total 14 columns):\n",
      " #   Column    Non-Null Count  Dtype  \n",
      "---  ------    --------------  -----  \n",
      " 0   age       303 non-null    int64  \n",
      " 1   sex       303 non-null    int64  \n",
      " 2   cp        303 non-null    int64  \n",
      " 3   trtbps    303 non-null    int64  \n",
      " 4   chol      303 non-null    int64  \n",
      " 5   fbs       303 non-null    int64  \n",
      " 6   restecg   303 non-null    int64  \n",
      " 7   thalachh  303 non-null    int64  \n",
      " 8   exng      303 non-null    int64  \n",
      " 9   oldpeak   303 non-null    float64\n",
      " 10  slp       303 non-null    int64  \n",
      " 11  caa       303 non-null    int64  \n",
      " 12  thall     303 non-null    int64  \n",
      " 13  output    303 non-null    int64  \n",
      "dtypes: float64(1), int64(13)\n",
      "memory usage: 33.3 KB\n",
      "None\n"
     ]
    }
   ],
   "source": [
    "print(heart.info())"
   ]
  },
  {
   "cell_type": "code",
   "execution_count": 4,
   "id": "53d00997",
   "metadata": {},
   "outputs": [
    {
     "data": {
      "text/plain": [
       "<AxesSubplot:ylabel='Frequency'>"
      ]
     },
     "execution_count": 4,
     "metadata": {},
     "output_type": "execute_result"
    },
    {
     "data": {
      "image/png": "[encoded data removed]",
      "text/plain": [
       "<Figure size 432x288 with 1 Axes>"
      ]
     },
     "metadata": {
      "needs_background": "light"
     },
     "output_type": "display_data"
    }
   ],
   "source": [
    "heart['age'].plot(kind='hist') # 나이"
   ]
  },
  {
   "cell_type": "code",
   "execution_count": 5,
   "id": "96ad0c02",
   "metadata": {},
   "outputs": [
    {
     "name": "stdout",
     "output_type": "stream",
     "text": [
      "1    207\n",
      "0     96\n",
      "Name: sex, dtype: int64\n"
     ]
    }
   ],
   "source": [
    "print(heart['sex'].value_counts()) # 성별"
   ]
  },
  {
   "cell_type": "code",
   "execution_count": 6,
   "id": "31074289",
   "metadata": {},
   "outputs": [
    {
     "name": "stdout",
     "output_type": "stream",
     "text": [
      "0    143\n",
      "2     87\n",
      "1     50\n",
      "3     23\n",
      "Name: cp, dtype: int64\n"
     ]
    }
   ],
   "source": [
    "print(heart['cp'].value_counts()) # 흉통 정도"
   ]
  },
  {
   "cell_type": "code",
   "execution_count": 7,
   "id": "3e9021ac",
   "metadata": {},
   "outputs": [
    {
     "data": {
      "text/plain": [
       "<AxesSubplot:ylabel='Frequency'>"
      ]
     },
     "execution_count": 7,
     "metadata": {},
     "output_type": "execute_result"
    },
    {
     "data": {
      "image/png": "[encoded data removed]",
      "text/plain": [
       "<Figure size 432x288 with 1 Axes>"
      ]
     },
     "metadata": {
      "needs_background": "light"
     },
     "output_type": "display_data"
    }
   ],
   "source": [
    "heart['trtbps'].plot(kind='hist') # 휴식기 혈압"
   ]
  },
  {
   "cell_type": "code",
   "execution_count": 8,
   "id": "5cd9a4de",
   "metadata": {},
   "outputs": [
    {
     "data": {
      "text/plain": [
       "<AxesSubplot:ylabel='Frequency'>"
      ]
     },
     "execution_count": 8,
     "metadata": {},
     "output_type": "execute_result"
    },
    {
     "data": {
      "image/png": "[encoded data removed]",
      "text/plain": [
       "<Figure size 432x288 with 1 Axes>"
      ]
     },
     "metadata": {
      "needs_background": "light"
     },
     "output_type": "display_data"
    }
   ],
   "source": [
    "heart['chol'].plot(kind='hist') # 콜레스테롤"
   ]
  },
  {
   "cell_type": "code",
   "execution_count": 9,
   "id": "3b1c1876",
   "metadata": {},
   "outputs": [
    {
     "name": "stdout",
     "output_type": "stream",
     "text": [
      "0    258\n",
      "1     45\n",
      "Name: fbs, dtype: int64\n"
     ]
    }
   ],
   "source": [
    "print(heart['fbs'].value_counts()) # 공복 혈당 수치 >120 over => 1"
   ]
  },
  {
   "cell_type": "code",
   "execution_count": 10,
   "id": "039353d0",
   "metadata": {},
   "outputs": [
    {
     "name": "stdout",
     "output_type": "stream",
     "text": [
      "2    166\n",
      "3    117\n",
      "1     18\n",
      "0      2\n",
      "Name: thall, dtype: int64\n"
     ]
    }
   ],
   "source": [
    "print(heart['thall'].value_counts()) # Thallium Test 결과 -> 운동부하 심전도 테스트"
   ]
  },
  {
   "cell_type": "code",
   "execution_count": 11,
   "id": "d88ac876",
   "metadata": {},
   "outputs": [
    {
     "name": "stdout",
     "output_type": "stream",
     "text": [
      "2    166\n",
      "3    117\n",
      "1     18\n",
      "0      2\n",
      "Name: thall, dtype: int64\n"
     ]
    }
   ],
   "source": [
    "print(heart['thall'].value_counts()) # fixed defect - 고정 관류 결손 reversible defect - 가역적인 관류 결손"
   ]
  },
  {
   "cell_type": "code",
   "execution_count": 12,
   "id": "5b189f02",
   "metadata": {},
   "outputs": [
    {
     "name": "stdout",
     "output_type": "stream",
     "text": [
      "1    152\n",
      "0    147\n",
      "2      4\n",
      "Name: restecg, dtype: int64\n"
     ]
    }
   ],
   "source": [
    "print(heart['restecg'].value_counts()) # 심전도 0: 정상 1 : ST-T 분절 2 : 좌심실 비대"
   ]
  },
  {
   "cell_type": "code",
   "execution_count": 13,
   "id": "1be8b482",
   "metadata": {},
   "outputs": [
    {
     "data": {
      "text/plain": [
       "<AxesSubplot:ylabel='Frequency'>"
      ]
     },
     "execution_count": 13,
     "metadata": {},
     "output_type": "execute_result"
    },
    {
     "data": {
      "image/png": "[encoded data removed]",
      "text/plain": [
       "<Figure size 432x288 with 1 Axes>"
      ]
     },
     "metadata": {
      "needs_background": "light"
     },
     "output_type": "display_data"
    }
   ],
   "source": [
    "heart['thalachh'].plot(kind='hist') # 최대 심장 박동수 도달 횟수"
   ]
  },
  {
   "cell_type": "code",
   "execution_count": 14,
   "id": "405aa437",
   "metadata": {},
   "outputs": [
    {
     "name": "stdout",
     "output_type": "stream",
     "text": [
      "0    204\n",
      "1     99\n",
      "Name: exng, dtype: int64\n"
     ]
    }
   ],
   "source": [
    "print(heart['exng'].value_counts()) # 협심증을 유발하는 운동 여부"
   ]
  },
  {
   "cell_type": "code",
   "execution_count": 15,
   "id": "e5c1acf0",
   "metadata": {},
   "outputs": [
    {
     "data": {
      "text/plain": [
       "<AxesSubplot:ylabel='Frequency'>"
      ]
     },
     "execution_count": 15,
     "metadata": {},
     "output_type": "execute_result"
    },
    {
     "data": {
      "image/png": "[encoded data removed]",
      "text/plain": [
       "<Figure size 432x288 with 1 Axes>"
      ]
     },
     "metadata": {
      "needs_background": "light"
     },
     "output_type": "display_data"
    }
   ],
   "source": [
    "heart['oldpeak'].plot(kind='hist')"
   ]
  },
  {
   "cell_type": "code",
   "execution_count": 16,
   "id": "492e58fe",
   "metadata": {},
   "outputs": [
    {
     "name": "stdout",
     "output_type": "stream",
     "text": [
      "2    142\n",
      "1    140\n",
      "0     21\n",
      "Name: slp, dtype: int64\n"
     ]
    }
   ],
   "source": [
    "print(heart['slp'].value_counts()) # 운동 후 ST segment의 최대치의 움직임 (0 = upsloping; 1 = flat; 2 = downsloping)"
   ]
  },
  {
   "cell_type": "code",
   "execution_count": 17,
   "id": "fcf20067",
   "metadata": {},
   "outputs": [
    {
     "name": "stdout",
     "output_type": "stream",
     "text": [
      "0    175\n",
      "1     65\n",
      "2     38\n",
      "3     20\n",
      "4      5\n",
      "Name: caa, dtype: int64\n"
     ]
    }
   ],
   "source": [
    "print(heart['caa'].value_counts())  # 심장의 주요 혈관 개수 number of major vessels"
   ]
  },
  {
   "cell_type": "code",
   "execution_count": 18,
   "id": "c09447f4",
   "metadata": {},
   "outputs": [
    {
     "name": "stdout",
     "output_type": "stream",
     "text": [
      "1    165\n",
      "0    138\n",
      "Name: output, dtype: int64\n"
     ]
    }
   ],
   "source": [
    "print(heart['output'].value_counts()) # 1: 발생가능 고위험군 0: 문제 없음"
   ]
  },
  {
   "cell_type": "markdown",
   "id": "f4bcee5e",
   "metadata": {},
   "source": [
    "데이터는 0과 1로 나누는 binary_classification이다.\n",
    "\n",
    "-> Decision Tree, Random Forest, Logistic Regression, DNN을 사용해 볼 수 있겠다."
   ]
  },
  {
   "cell_type": "markdown",
   "id": "ff530f6d",
   "metadata": {},
   "source": [
    "## 1. 데이터 전처리 X"
   ]
  },
  {
   "cell_type": "markdown",
   "id": "d3449c4d",
   "metadata": {},
   "source": [
    "with sci-kit learn machine learning classifier"
   ]
  },
  {
   "cell_type": "code",
   "execution_count": 19,
   "id": "1ad27d31",
   "metadata": {},
   "outputs": [],
   "source": [
    "heart_data = heart.iloc[:,:-1] # 데이터\n",
    "heart_label = heart.iloc[:,-1] # 라벨"
   ]
  },
  {
   "cell_type": "code",
   "execution_count": 20,
   "id": "e48db7f1",
   "metadata": {},
   "outputs": [],
   "source": [
    "from sklearn.model_selection import train_test_split\n",
    "# 학습, 테스트 데이터 분리\n",
    "train_X, test_X, train_Y, test_Y = train_test_split(heart_data, heart_label, test_size=0.3, random_state=15000) "
   ]
  },
  {
   "cell_type": "code",
   "execution_count": 21,
   "id": "b8d0732f",
   "metadata": {},
   "outputs": [],
   "source": [
    "## 구현\n",
    "class mymodel(nn.Module): \n",
    "    def __init__(self, is_train=True):        \n",
    "        super(mymodel, self).__init__()\n",
    "        ################################\n",
    "        # 간단한 DNN모델 작성 \n",
    "        self.l1 = nn.Sequential(\n",
    "            torch.nn.Linear(13, 32),\n",
    "            nn.ReLU(True),\n",
    "            torch.nn.Linear(32, 64),\n",
    "            nn.ReLU(True),\n",
    "            nn.Dropout(0.2),\n",
    "            torch.nn.Linear(64, 32),\n",
    "            nn.ReLU(True),\n",
    "            torch.nn.Linear(32, 16),\n",
    "            nn.ReLU(True),\n",
    "            torch.nn.Linear(16, 1))\n",
    "        ################################\n",
    "                        \n",
    "    def forward(self, x):        \n",
    "        ################################\n",
    "        x = self.l1(x)\n",
    "        x = torch.sigmoid(x) # 최종 결과 값이 0 ~ 1 사이 값이 되도록 하기 위해 sigmoid activation 함수 사용.\n",
    "        # 기본 값: softmax로 추정\n",
    "        ################################        \n",
    "        return x\n",
    "\n",
    "my_model = mymodel() # 모델 생성"
   ]
  },
  {
   "cell_type": "code",
   "execution_count": 22,
   "id": "afd75c78",
   "metadata": {
    "scrolled": true
   },
   "outputs": [
    {
     "name": "stdout",
     "output_type": "stream",
     "text": [
      "Network structure: mymodel, with parameters: 5,185\n",
      "mymodel(\n",
      "  (l1): Sequential(\n",
      "    (0): Linear(in_features=13, out_features=32, bias=True)\n",
      "    (1): ReLU(inplace=True)\n",
      "    (2): Linear(in_features=32, out_features=64, bias=True)\n",
      "    (3): ReLU(inplace=True)\n",
      "    (4): Dropout(p=0.2, inplace=False)\n",
      "    (5): Linear(in_features=64, out_features=32, bias=True)\n",
      "    (6): ReLU(inplace=True)\n",
      "    (7): Linear(in_features=32, out_features=16, bias=True)\n",
      "    (8): ReLU(inplace=True)\n",
      "    (9): Linear(in_features=16, out_features=1, bias=True)\n",
      "  )\n",
      ")\n"
     ]
    }
   ],
   "source": [
    "def print_network(model): # driver\n",
    "    # 모델 모양 출력\n",
    "    def _get_network_description(network): # workhorse\n",
    "        '''Get the string and total parameters of the network'''\n",
    "        if isinstance(network, nn.DataParallel):\n",
    "            network = network.module\n",
    "        s = str(network)\n",
    "        n = sum(map(lambda x: x.numel(), network.parameters()))\n",
    "        return s, n\n",
    "    s, n = _get_network_description(model)\n",
    "    if isinstance(model, nn.DataParallel):\n",
    "        net_struc_str = '{} - {}'.format(model.__class__.__name__, model.module.__class__.__name__)\n",
    "    else: net_struc_str = '{}'.format(model.__class__.__name__)\n",
    "    log = 'Network structure: {}, with parameters: {:,d}'.format(net_struc_str, n)\n",
    "    return log, s\n",
    "\n",
    "\n",
    "log, architecture = print_network(my_model)\n",
    "print(log)\n",
    "print(architecture)"
   ]
  },
  {
   "cell_type": "code",
   "execution_count": 23,
   "id": "38658e44",
   "metadata": {},
   "outputs": [],
   "source": [
    "def train(model, train_data, train_label,test_data, test_label, epochs = 100):\n",
    "    # 학습 진행\n",
    "    running_loss = 0.0 # 손실 함수 값.\n",
    "    criterion = nn.BCELoss() # 손실함수 -> Binary Cross Entropy Loss\n",
    "    optimizer = optim.Adam(model.parameters(), lr=0.001) # Optimizer로 Adam을 사용. Learning rate = 0.001\n",
    "    for epoch in range(epochs): # 학습 횟수동안 학습을 반복\n",
    "        total = 0; # 정확도 확인용 전체 데이터 개수\n",
    "        correct = 0; # 예측과 일치하는 데이터 개수\n",
    "        for index, data in enumerate(train_data.values): # 데이터 1개씩 학습 진행.\n",
    "            # 데이터가 학습 모델에 들어갈 수 있는 Tensor로 변환 모양은 -> Tensor [13]\n",
    "            data = torch.from_numpy(data) \n",
    "            # 손실 계산이 가능하도록 라벨 역시 Tensor로 변환 모양은 T-ensor -> [1]\n",
    "            label = torch.Tensor([float(train_label.values[index])]) \n",
    "            data = data.float() # float형으로 강제 변환\n",
    "            optimizer.zero_grad() # 학습을 위해 grad값 초기화\n",
    "            output = model(data) # 모델에 데이터를 넣어서 예측(Forward Propagation)\n",
    "            loss = criterion(output, label) # 예측과 실제를 비교해서 손실값 계산\n",
    "            loss.backward() # 오차 역전파(Back Propagation)\n",
    "            optimizer.step() # 다음 step 진행\n",
    "            running_loss += loss.item() # 현재 손실값 추가 => 학습 당 손실 값 출력을 위함\n",
    "            pred = [0. if output < 0.5 else 1.] # 확률 반올림을 통해 판단\n",
    "            total = total + 1 # 전체 데이터 개수 세기\n",
    "            if(pred[0] == label[0]): # 예측 데이터와 실제 데이터 일치하는 경우\n",
    "                correct = correct + 1 # 정답 + 1\n",
    "        print(\"epoch {0}: 정확도:{1:.4}, 손실:{2:.6}\".format(epoch,correct/total, running_loss)) # 정확도와 손실 출력\n",
    "        running_loss = 0.0\n",
    "        if epoch > 0 and epoch % 10 == 0:\n",
    "            test(model,test_data, test_label) # epoch 10번마다 테스트 실행\n",
    "    print(\"End Training!\")"
   ]
  },
  {
   "cell_type": "code",
   "execution_count": 24,
   "id": "ee0188c5",
   "metadata": {},
   "outputs": [],
   "source": [
    "def test(model,test_data, test_label):\n",
    "    total = len(test_data) # 테스트 데이터 전체 개수\n",
    "    correct = 0 # 정답 개수\n",
    "    with torch.no_grad(): # grad 미실시 -> train이 아니기 때문\n",
    "        for index, data in enumerate(test_data.values):# 데이터 1개씩 예측 진행.\n",
    "            # 데이터가 학습 모델에 들어갈 수 있는 Tensor로 변환 모양은 -> Tensor [13]\n",
    "            data = torch.from_numpy(data) \n",
    "            # 라벨 역시 Tensor로 변환 모양은 T-ensor -> [1]\n",
    "            label = torch.Tensor([float(test_label.values[index])])\n",
    "            data = data.float() # float형으로 강제 변환\n",
    "            output = model(data) # 모델에 데이터를 넣어서 예측(Forward Propagation)\n",
    "            pred = [0. if output < 0.5 else 1.] # 확률 반올림을 통해 판단\n",
    "            if(pred[0] == label[0]): # 예측 데이터와 실제 데이터 일치하는 경우\n",
    "                correct = correct + 1 # 정답 + 1\n",
    "        print(\"테스트 데이터 정확도:{0:.4}\".format(correct/total)) # 정확도 출력"
   ]
  },
  {
   "cell_type": "code",
   "execution_count": 25,
   "id": "f5bfbcc1",
   "metadata": {},
   "outputs": [
    {
     "name": "stdout",
     "output_type": "stream",
     "text": [
      "epoch 0: 정확도:0.5142, 손실:156.338\n",
      "epoch 1: 정확도:0.6132, 손실:144.238\n",
      "epoch 2: 정확도:0.6557, 손실:136.3\n",
      "epoch 3: 정확도:0.6651, 손실:134.063\n",
      "epoch 4: 정확도:0.7075, 손실:127.877\n",
      "epoch 5: 정확도:0.7075, 손실:125.428\n",
      "epoch 6: 정확도:0.7028, 손실:122.03\n",
      "epoch 7: 정확도:0.7406, 손실:117.862\n",
      "epoch 8: 정확도:0.7642, 손실:113.667\n",
      "epoch 9: 정확도:0.75, 손실:116.646\n",
      "epoch 10: 정확도:0.7972, 손실:108.818\n",
      "테스트 데이터 정확도:0.6484\n",
      "epoch 11: 정확도:0.7783, 손실:105.391\n",
      "epoch 12: 정확도:0.783, 손실:108.154\n",
      "epoch 13: 정확도:0.8066, 손실:101.261\n",
      "epoch 14: 정확도:0.8066, 손실:99.3231\n",
      "epoch 15: 정확도:0.7925, 손실:98.6617\n",
      "epoch 16: 정확도:0.7925, 손실:96.9722\n",
      "epoch 17: 정확도:0.816, 손실:97.129\n",
      "epoch 18: 정확도:0.8255, 손실:96.0009\n",
      "epoch 19: 정확도:0.8302, 손실:92.337\n",
      "epoch 20: 정확도:0.816, 손실:92.5272\n",
      "테스트 데이터 정확도:0.7033\n",
      "epoch 21: 정확도:0.8113, 손실:89.9134\n",
      "epoch 22: 정확도:0.8302, 손실:90.325\n",
      "epoch 23: 정확도:0.8019, 손실:90.2602\n",
      "epoch 24: 정확도:0.8208, 손실:87.2689\n",
      "epoch 25: 정확도:0.8396, 손실:85.3861\n",
      "epoch 26: 정확도:0.816, 손실:86.7794\n",
      "epoch 27: 정확도:0.8302, 손실:83.0393\n",
      "epoch 28: 정확도:0.8208, 손실:82.1063\n",
      "epoch 29: 정확도:0.8302, 손실:81.7327\n",
      "epoch 30: 정확도:0.8349, 손실:80.035\n",
      "테스트 데이터 정확도:0.7363\n",
      "epoch 31: 정확도:0.8208, 손실:78.9024\n",
      "epoch 32: 정확도:0.8396, 손실:73.9551\n",
      "epoch 33: 정확도:0.8349, 손실:78.6944\n",
      "epoch 34: 정확도:0.8302, 손실:73.0412\n",
      "epoch 35: 정확도:0.8349, 손실:75.9241\n",
      "epoch 36: 정확도:0.8302, 손실:82.1136\n",
      "epoch 37: 정확도:0.8349, 손실:75.241\n",
      "epoch 38: 정확도:0.8491, 손실:73.701\n",
      "epoch 39: 정확도:0.8349, 손실:75.3096\n",
      "epoch 40: 정확도:0.8349, 손실:73.4819\n",
      "테스트 데이터 정확도:0.6923\n",
      "epoch 41: 정확도:0.8349, 손실:71.4014\n",
      "epoch 42: 정확도:0.8443, 손실:72.0753\n",
      "epoch 43: 정확도:0.8396, 손실:68.2551\n",
      "epoch 44: 정확도:0.8443, 손실:68.0334\n",
      "epoch 45: 정확도:0.8538, 손실:67.2293\n",
      "epoch 46: 정확도:0.8255, 손실:76.7842\n",
      "epoch 47: 정확도:0.8349, 손실:66.9505\n",
      "epoch 48: 정확도:0.8349, 손실:73.7845\n",
      "epoch 49: 정확도:0.8349, 손실:74.5727\n",
      "epoch 50: 정확도:0.8302, 손실:79.8523\n",
      "테스트 데이터 정확도:0.7033\n",
      "epoch 51: 정확도:0.8679, 손실:71.1735\n",
      "epoch 52: 정확도:0.8632, 손실:66.1789\n",
      "epoch 53: 정확도:0.8491, 손실:65.8\n",
      "epoch 54: 정확도:0.8443, 손실:67.4151\n",
      "epoch 55: 정확도:0.816, 손실:67.7293\n",
      "epoch 56: 정확도:0.8113, 손실:75.9727\n",
      "epoch 57: 정확도:0.8396, 손실:65.7556\n",
      "epoch 58: 정확도:0.8302, 손실:65.3368\n",
      "epoch 59: 정확도:0.8491, 손실:66.2853\n",
      "epoch 60: 정확도:0.8208, 손실:70.623\n",
      "테스트 데이터 정확도:0.6923\n",
      "epoch 61: 정확도:0.8491, 손실:73.8757\n",
      "epoch 62: 정확도:0.8679, 손실:70.4679\n",
      "epoch 63: 정확도:0.8396, 손실:77.5174\n",
      "epoch 64: 정확도:0.8491, 손실:61.0844\n",
      "epoch 65: 정확도:0.8726, 손실:65.7746\n",
      "epoch 66: 정확도:0.8726, 손실:64.7833\n",
      "epoch 67: 정확도:0.8585, 손실:65.131\n",
      "epoch 68: 정확도:0.8208, 손실:76.5287\n",
      "epoch 69: 정확도:0.8066, 손실:67.3107\n",
      "epoch 70: 정확도:0.8443, 손실:71.6738\n",
      "테스트 데이터 정확도:0.7253\n",
      "epoch 71: 정확도:0.8066, 손실:70.5005\n",
      "epoch 72: 정확도:0.8396, 손실:72.0141\n",
      "epoch 73: 정확도:0.8302, 손실:69.6338\n",
      "epoch 74: 정확도:0.8679, 손실:60.1443\n",
      "epoch 75: 정확도:0.8679, 손실:59.8717\n",
      "epoch 76: 정확도:0.8632, 손실:62.4058\n",
      "epoch 77: 정확도:0.8396, 손실:64.4225\n",
      "epoch 78: 정확도:0.8349, 손실:69.5372\n",
      "epoch 79: 정확도:0.8255, 손실:71.5883\n",
      "epoch 80: 정확도:0.8585, 손실:63.1634\n",
      "테스트 데이터 정확도:0.6813\n",
      "epoch 81: 정확도:0.8349, 손실:61.9853\n",
      "epoch 82: 정확도:0.8491, 손실:71.4404\n",
      "epoch 83: 정확도:0.8443, 손실:69.6687\n",
      "epoch 84: 정확도:0.8491, 손실:61.8879\n",
      "epoch 85: 정확도:0.816, 손실:64.994\n",
      "epoch 86: 정확도:0.8585, 손실:62.9858\n",
      "epoch 87: 정확도:0.8538, 손실:66.5488\n",
      "epoch 88: 정확도:0.8538, 손실:65.1467\n",
      "epoch 89: 정확도:0.8255, 손실:62.1635\n",
      "epoch 90: 정확도:0.8255, 손실:60.2346\n",
      "테스트 데이터 정확도:0.7143\n",
      "epoch 91: 정확도:0.8208, 손실:62.6912\n",
      "epoch 92: 정확도:0.8726, 손실:57.6921\n",
      "epoch 93: 정확도:0.8302, 손실:70.5138\n",
      "epoch 94: 정확도:0.8538, 손실:58.4469\n",
      "epoch 95: 정확도:0.8538, 손실:62.8848\n",
      "epoch 96: 정확도:0.8491, 손실:65.519\n",
      "epoch 97: 정확도:0.8349, 손실:58.4269\n",
      "epoch 98: 정확도:0.8443, 손실:61.9467\n",
      "epoch 99: 정확도:0.8349, 손실:65.4727\n",
      "End Training!\n"
     ]
    }
   ],
   "source": [
    "train(my_model,train_X, train_Y,test_X,test_Y)"
   ]
  },
  {
   "cell_type": "code",
   "execution_count": 26,
   "id": "8a675cc1",
   "metadata": {},
   "outputs": [
    {
     "name": "stdout",
     "output_type": "stream",
     "text": [
      "테스트 데이터 정확도:0.7253\n"
     ]
    }
   ],
   "source": [
    "test(my_model,test_X, test_Y)"
   ]
  },
  {
   "cell_type": "markdown",
   "id": "9cbcebfc",
   "metadata": {},
   "source": [
    "출처: https://rfriend.tistory.com/257 [R, Python 분석과 프로그래밍의 친구 (by R Friend)]"
   ]
  },
  {
   "cell_type": "markdown",
   "id": "d60034dc",
   "metadata": {},
   "source": [
    "## 2. 데이터 정규화 진행"
   ]
  },
  {
   "cell_type": "markdown",
   "id": "0eb43b2f",
   "metadata": {},
   "source": [
    "1. thalachh\n",
    "\n",
    "2. trtbps\n",
    "\n",
    "3. chol\n",
    "\n",
    "에 대해 정규화 진행"
   ]
  },
  {
   "cell_type": "code",
   "execution_count": 27,
   "id": "e22243ea",
   "metadata": {},
   "outputs": [],
   "source": [
    "from sklearn.preprocessing import StandardScaler\n",
    "from sklearn.preprocessing import MinMaxScaler"
   ]
  },
  {
   "cell_type": "code",
   "execution_count": 28,
   "id": "f3767fd3",
   "metadata": {},
   "outputs": [],
   "source": [
    "# Pandas Series로 뽑으면 데이터가 1차원 데이터가 된다 -> Scaler에 넣기 위해서는 Pandas DataFrame을 만들어야 하는데\n",
    "# DataFrame 만드는 방법에 Series를 넣어서 만드는 방법이 있네... to_frame...\n",
    "# 아래 방식은 Pandas Series로 부터 nparray를 추출, 이를 Scaler에 fit & tranform하여 데이터 프레임으로 만들어서\n",
    "# 기존 DataFrame에 update로 데이터 바꾸는 방식\n",
    "thalachh = heart['thalachh'].values.reshape(-1,1)\n",
    "trtbps = heart['trtbps'].values.reshape(-1,1)\n",
    "chol = heart['chol'].values.reshape(-1,1)"
   ]
  },
  {
   "cell_type": "markdown",
   "id": "9e5688ed",
   "metadata": {},
   "source": [
    "1. MinMaxScaler"
   ]
  },
  {
   "cell_type": "code",
   "execution_count": 29,
   "id": "ea43c641",
   "metadata": {},
   "outputs": [],
   "source": [
    "mm_norm = MinMaxScaler() # 최소-최대 스케일러"
   ]
  },
  {
   "cell_type": "code",
   "execution_count": 30,
   "id": "355f1a92",
   "metadata": {},
   "outputs": [],
   "source": [
    "# 스케일러 적용\n",
    "mm_thalachh = mm_norm.fit_transform(thalachh) \n",
    "mm_trtbps = mm_norm.fit_transform(trtbps)\n",
    "mm_chol = mm_norm.fit_transform(chol)"
   ]
  },
  {
   "cell_type": "code",
   "execution_count": 31,
   "id": "1bd11a8d",
   "metadata": {},
   "outputs": [],
   "source": [
    "# 각각의 스케일링 된 데이터를 데이터 프레임으로 만듬.\n",
    "thalachh = pd.DataFrame(mm_thalachh,columns=['thalachh'])\n",
    "trtbps = pd.DataFrame(mm_thalachh,columns=['trtbps'])\n",
    "chol = pd.DataFrame(mm_thalachh,columns=['chol'])"
   ]
  },
  {
   "cell_type": "code",
   "execution_count": 32,
   "id": "464df21a",
   "metadata": {},
   "outputs": [],
   "source": [
    "# 기존 데이터에서 deep copy로 dataframe을 복사하여 새 dataframe을 만듬\n",
    "mm_heart = heart.copy()"
   ]
  },
  {
   "cell_type": "code",
   "execution_count": 33,
   "id": "53536ce7",
   "metadata": {},
   "outputs": [
    {
     "data": {
      "text/html": [
       "<div>\n",
       "<style scoped>\n",
       "    .dataframe tbody tr th:only-of-type {\n",
       "        vertical-align: middle;\n",
       "    }\n",
       "\n",
       "    .dataframe tbody tr th {\n",
       "        vertical-align: top;\n",
       "    }\n",
       "\n",
       "    .dataframe thead th {\n",
       "        text-align: right;\n",
       "    }\n",
       "</style>\n",
       "<table border=\"1\" class=\"dataframe\">\n",
       "  <thead>\n",
       "    <tr style=\"text-align: right;\">\n",
       "      <th></th>\n",
       "      <th>age</th>\n",
       "      <th>sex</th>\n",
       "      <th>cp</th>\n",
       "      <th>trtbps</th>\n",
       "      <th>chol</th>\n",
       "      <th>fbs</th>\n",
       "      <th>restecg</th>\n",
       "      <th>thalachh</th>\n",
       "      <th>exng</th>\n",
       "      <th>oldpeak</th>\n",
       "      <th>slp</th>\n",
       "      <th>caa</th>\n",
       "      <th>thall</th>\n",
       "      <th>output</th>\n",
       "    </tr>\n",
       "  </thead>\n",
       "  <tbody>\n",
       "    <tr>\n",
       "      <th>0</th>\n",
       "      <td>63</td>\n",
       "      <td>1</td>\n",
       "      <td>3</td>\n",
       "      <td>145</td>\n",
       "      <td>233</td>\n",
       "      <td>1</td>\n",
       "      <td>0</td>\n",
       "      <td>150</td>\n",
       "      <td>0</td>\n",
       "      <td>2.3</td>\n",
       "      <td>0</td>\n",
       "      <td>0</td>\n",
       "      <td>1</td>\n",
       "      <td>1</td>\n",
       "    </tr>\n",
       "    <tr>\n",
       "      <th>1</th>\n",
       "      <td>37</td>\n",
       "      <td>1</td>\n",
       "      <td>2</td>\n",
       "      <td>130</td>\n",
       "      <td>250</td>\n",
       "      <td>0</td>\n",
       "      <td>1</td>\n",
       "      <td>187</td>\n",
       "      <td>0</td>\n",
       "      <td>3.5</td>\n",
       "      <td>0</td>\n",
       "      <td>0</td>\n",
       "      <td>2</td>\n",
       "      <td>1</td>\n",
       "    </tr>\n",
       "    <tr>\n",
       "      <th>2</th>\n",
       "      <td>41</td>\n",
       "      <td>0</td>\n",
       "      <td>1</td>\n",
       "      <td>130</td>\n",
       "      <td>204</td>\n",
       "      <td>0</td>\n",
       "      <td>0</td>\n",
       "      <td>172</td>\n",
       "      <td>0</td>\n",
       "      <td>1.4</td>\n",
       "      <td>2</td>\n",
       "      <td>0</td>\n",
       "      <td>2</td>\n",
       "      <td>1</td>\n",
       "    </tr>\n",
       "    <tr>\n",
       "      <th>3</th>\n",
       "      <td>56</td>\n",
       "      <td>1</td>\n",
       "      <td>1</td>\n",
       "      <td>120</td>\n",
       "      <td>236</td>\n",
       "      <td>0</td>\n",
       "      <td>1</td>\n",
       "      <td>178</td>\n",
       "      <td>0</td>\n",
       "      <td>0.8</td>\n",
       "      <td>2</td>\n",
       "      <td>0</td>\n",
       "      <td>2</td>\n",
       "      <td>1</td>\n",
       "    </tr>\n",
       "    <tr>\n",
       "      <th>4</th>\n",
       "      <td>57</td>\n",
       "      <td>0</td>\n",
       "      <td>0</td>\n",
       "      <td>120</td>\n",
       "      <td>354</td>\n",
       "      <td>0</td>\n",
       "      <td>1</td>\n",
       "      <td>163</td>\n",
       "      <td>1</td>\n",
       "      <td>0.6</td>\n",
       "      <td>2</td>\n",
       "      <td>0</td>\n",
       "      <td>2</td>\n",
       "      <td>1</td>\n",
       "    </tr>\n",
       "  </tbody>\n",
       "</table>\n",
       "</div>"
      ],
      "text/plain": [
       "   age  sex  cp  trtbps  chol  fbs  restecg  thalachh  exng  oldpeak  slp  \\\n",
       "0   63    1   3     145   233    1        0       150     0      2.3    0   \n",
       "1   37    1   2     130   250    0        1       187     0      3.5    0   \n",
       "2   41    0   1     130   204    0        0       172     0      1.4    2   \n",
       "3   56    1   1     120   236    0        1       178     0      0.8    2   \n",
       "4   57    0   0     120   354    0        1       163     1      0.6    2   \n",
       "\n",
       "   caa  thall  output  \n",
       "0    0      1       1  \n",
       "1    0      2       1  \n",
       "2    0      2       1  \n",
       "3    0      2       1  \n",
       "4    0      2       1  "
      ]
     },
     "execution_count": 33,
     "metadata": {},
     "output_type": "execute_result"
    }
   ],
   "source": [
    "mm_heart.head() # 복사 확인"
   ]
  },
  {
   "cell_type": "code",
   "execution_count": 34,
   "id": "ae48885c",
   "metadata": {},
   "outputs": [
    {
     "data": {
      "text/html": [
       "<div>\n",
       "<style scoped>\n",
       "    .dataframe tbody tr th:only-of-type {\n",
       "        vertical-align: middle;\n",
       "    }\n",
       "\n",
       "    .dataframe tbody tr th {\n",
       "        vertical-align: top;\n",
       "    }\n",
       "\n",
       "    .dataframe thead th {\n",
       "        text-align: right;\n",
       "    }\n",
       "</style>\n",
       "<table border=\"1\" class=\"dataframe\">\n",
       "  <thead>\n",
       "    <tr style=\"text-align: right;\">\n",
       "      <th></th>\n",
       "      <th>age</th>\n",
       "      <th>sex</th>\n",
       "      <th>cp</th>\n",
       "      <th>trtbps</th>\n",
       "      <th>chol</th>\n",
       "      <th>fbs</th>\n",
       "      <th>restecg</th>\n",
       "      <th>thalachh</th>\n",
       "      <th>exng</th>\n",
       "      <th>oldpeak</th>\n",
       "      <th>slp</th>\n",
       "      <th>caa</th>\n",
       "      <th>thall</th>\n",
       "      <th>output</th>\n",
       "    </tr>\n",
       "  </thead>\n",
       "  <tbody>\n",
       "    <tr>\n",
       "      <th>0</th>\n",
       "      <td>63</td>\n",
       "      <td>1</td>\n",
       "      <td>3</td>\n",
       "      <td>0.603053</td>\n",
       "      <td>0.603053</td>\n",
       "      <td>1</td>\n",
       "      <td>0</td>\n",
       "      <td>0.603053</td>\n",
       "      <td>0</td>\n",
       "      <td>2.3</td>\n",
       "      <td>0</td>\n",
       "      <td>0</td>\n",
       "      <td>1</td>\n",
       "      <td>1</td>\n",
       "    </tr>\n",
       "    <tr>\n",
       "      <th>1</th>\n",
       "      <td>37</td>\n",
       "      <td>1</td>\n",
       "      <td>2</td>\n",
       "      <td>0.885496</td>\n",
       "      <td>0.885496</td>\n",
       "      <td>0</td>\n",
       "      <td>1</td>\n",
       "      <td>0.885496</td>\n",
       "      <td>0</td>\n",
       "      <td>3.5</td>\n",
       "      <td>0</td>\n",
       "      <td>0</td>\n",
       "      <td>2</td>\n",
       "      <td>1</td>\n",
       "    </tr>\n",
       "    <tr>\n",
       "      <th>2</th>\n",
       "      <td>41</td>\n",
       "      <td>0</td>\n",
       "      <td>1</td>\n",
       "      <td>0.770992</td>\n",
       "      <td>0.770992</td>\n",
       "      <td>0</td>\n",
       "      <td>0</td>\n",
       "      <td>0.770992</td>\n",
       "      <td>0</td>\n",
       "      <td>1.4</td>\n",
       "      <td>2</td>\n",
       "      <td>0</td>\n",
       "      <td>2</td>\n",
       "      <td>1</td>\n",
       "    </tr>\n",
       "    <tr>\n",
       "      <th>3</th>\n",
       "      <td>56</td>\n",
       "      <td>1</td>\n",
       "      <td>1</td>\n",
       "      <td>0.816794</td>\n",
       "      <td>0.816794</td>\n",
       "      <td>0</td>\n",
       "      <td>1</td>\n",
       "      <td>0.816794</td>\n",
       "      <td>0</td>\n",
       "      <td>0.8</td>\n",
       "      <td>2</td>\n",
       "      <td>0</td>\n",
       "      <td>2</td>\n",
       "      <td>1</td>\n",
       "    </tr>\n",
       "    <tr>\n",
       "      <th>4</th>\n",
       "      <td>57</td>\n",
       "      <td>0</td>\n",
       "      <td>0</td>\n",
       "      <td>0.702290</td>\n",
       "      <td>0.702290</td>\n",
       "      <td>0</td>\n",
       "      <td>1</td>\n",
       "      <td>0.702290</td>\n",
       "      <td>1</td>\n",
       "      <td>0.6</td>\n",
       "      <td>2</td>\n",
       "      <td>0</td>\n",
       "      <td>2</td>\n",
       "      <td>1</td>\n",
       "    </tr>\n",
       "  </tbody>\n",
       "</table>\n",
       "</div>"
      ],
      "text/plain": [
       "   age  sex  cp    trtbps      chol  fbs  restecg  thalachh  exng  oldpeak  \\\n",
       "0   63    1   3  0.603053  0.603053    1        0  0.603053     0      2.3   \n",
       "1   37    1   2  0.885496  0.885496    0        1  0.885496     0      3.5   \n",
       "2   41    0   1  0.770992  0.770992    0        0  0.770992     0      1.4   \n",
       "3   56    1   1  0.816794  0.816794    0        1  0.816794     0      0.8   \n",
       "4   57    0   0  0.702290  0.702290    0        1  0.702290     1      0.6   \n",
       "\n",
       "   slp  caa  thall  output  \n",
       "0    0    0      1       1  \n",
       "1    0    0      2       1  \n",
       "2    2    0      2       1  \n",
       "3    2    0      2       1  \n",
       "4    2    0      2       1  "
      ]
     },
     "execution_count": 34,
     "metadata": {},
     "output_type": "execute_result"
    }
   ],
   "source": [
    " # 3개의 column에 대해 각각 update를 통해 값을 갱신\n",
    "mm_heart.update(thalachh)\n",
    "mm_heart.update(trtbps)\n",
    "mm_heart.update(chol)\n",
    "mm_heart.head() # 변경 확인."
   ]
  },
  {
   "cell_type": "code",
   "execution_count": 35,
   "id": "14cd750a",
   "metadata": {},
   "outputs": [],
   "source": [
    "mm_heart_data = mm_heart.iloc[:,:-1] # 데이터\n",
    "mm_heart_label = mm_heart.iloc[:,-1] # 라벨"
   ]
  },
  {
   "cell_type": "code",
   "execution_count": 36,
   "id": "2c7ceaeb",
   "metadata": {},
   "outputs": [],
   "source": [
    "from sklearn.model_selection import train_test_split\n",
    "# 학습, 테스트 데이터 분리\n",
    "mm_train_X, mm_test_X, mm_train_Y, mm_test_Y = train_test_split(mm_heart_data, mm_heart_label, test_size=0.3, random_state=123 ,stratify = mm_heart_label)"
   ]
  },
  {
   "cell_type": "code",
   "execution_count": 37,
   "id": "aa097b24",
   "metadata": {},
   "outputs": [],
   "source": [
    "mm_model = mymodel() # 모델 생성"
   ]
  },
  {
   "cell_type": "code",
   "execution_count": 38,
   "id": "7fd801b1",
   "metadata": {},
   "outputs": [
    {
     "name": "stdout",
     "output_type": "stream",
     "text": [
      "epoch 0: 정확도:0.5519, 손실:147.171\n",
      "epoch 1: 정확도:0.6132, 손실:143.074\n",
      "epoch 2: 정확도:0.6745, 손실:130.91\n",
      "epoch 3: 정확도:0.7736, 손실:106.774\n",
      "epoch 4: 정확도:0.8019, 손실:95.3315\n",
      "epoch 5: 정확도:0.8113, 손실:91.8787\n",
      "epoch 6: 정확도:0.8396, 손실:87.5452\n",
      "epoch 7: 정확도:0.8443, 손실:86.4197\n",
      "epoch 8: 정확도:0.8349, 손실:84.5154\n",
      "epoch 9: 정확도:0.8255, 손실:84.9352\n",
      "epoch 10: 정확도:0.8396, 손실:83.6129\n",
      "테스트 데이터 정확도:0.7802\n",
      "epoch 11: 정확도:0.8302, 손실:87.1995\n",
      "epoch 12: 정확도:0.816, 손실:89.3702\n",
      "epoch 13: 정확도:0.8208, 손실:86.7962\n",
      "epoch 14: 정확도:0.8443, 손실:84.7012\n",
      "epoch 15: 정확도:0.8255, 손실:86.4679\n",
      "epoch 16: 정확도:0.8396, 손실:84.6137\n",
      "epoch 17: 정확도:0.8538, 손실:83.333\n",
      "epoch 18: 정확도:0.8255, 손실:83.7303\n",
      "epoch 19: 정확도:0.8443, 손실:83.0986\n",
      "epoch 20: 정확도:0.8491, 손실:80.9036\n",
      "테스트 데이터 정확도:0.8022\n",
      "epoch 21: 정확도:0.8538, 손실:79.48\n",
      "epoch 22: 정확도:0.8491, 손실:82.5426\n",
      "epoch 23: 정확도:0.8302, 손실:81.8228\n",
      "epoch 24: 정확도:0.8396, 손실:82.4013\n",
      "epoch 25: 정확도:0.8349, 손실:82.825\n",
      "epoch 26: 정확도:0.8255, 손실:84.144\n",
      "epoch 27: 정확도:0.8443, 손실:79.9906\n",
      "epoch 28: 정확도:0.8585, 손실:80.7309\n",
      "epoch 29: 정확도:0.8396, 손실:80.7759\n",
      "epoch 30: 정확도:0.8349, 손실:82.6748\n",
      "테스트 데이터 정확도:0.8022\n",
      "epoch 31: 정확도:0.8396, 손실:82.5082\n",
      "epoch 32: 정확도:0.8396, 손실:83.5481\n",
      "epoch 33: 정확도:0.8632, 손실:82.331\n",
      "epoch 34: 정확도:0.8302, 손실:81.5369\n",
      "epoch 35: 정확도:0.8679, 손실:81.6282\n",
      "epoch 36: 정확도:0.8396, 손실:81.4699\n",
      "epoch 37: 정확도:0.8491, 손실:81.1121\n",
      "epoch 38: 정확도:0.8538, 손실:80.3808\n",
      "epoch 39: 정확도:0.8443, 손실:80.6283\n",
      "epoch 40: 정확도:0.8491, 손실:81.3749\n",
      "테스트 데이터 정확도:0.7912\n",
      "epoch 41: 정확도:0.8538, 손실:77.7025\n",
      "epoch 42: 정확도:0.8538, 손실:78.0416\n",
      "epoch 43: 정확도:0.8491, 손실:78.4595\n",
      "epoch 44: 정확도:0.8585, 손실:79.7384\n",
      "epoch 45: 정확도:0.8443, 손실:81.3934\n",
      "epoch 46: 정확도:0.8491, 손실:81.2568\n",
      "epoch 47: 정확도:0.8491, 손실:79.5802\n",
      "epoch 48: 정확도:0.8396, 손실:80.2828\n",
      "epoch 49: 정확도:0.8349, 손실:83.791\n",
      "epoch 50: 정확도:0.8349, 손실:79.4404\n",
      "테스트 데이터 정확도:0.7802\n",
      "epoch 51: 정확도:0.8396, 손실:80.9183\n",
      "epoch 52: 정확도:0.8443, 손실:81.4012\n",
      "epoch 53: 정확도:0.8349, 손실:81.7458\n",
      "epoch 54: 정확도:0.8302, 손실:81.9773\n",
      "epoch 55: 정확도:0.8491, 손실:79.0097\n",
      "epoch 56: 정확도:0.8302, 손실:81.3804\n",
      "epoch 57: 정확도:0.8349, 손실:79.9798\n",
      "epoch 58: 정확도:0.8491, 손실:78.2605\n",
      "epoch 59: 정확도:0.8396, 손실:78.5765\n",
      "epoch 60: 정확도:0.8491, 손실:78.5262\n",
      "테스트 데이터 정확도:0.7473\n",
      "epoch 61: 정확도:0.8632, 손실:76.9965\n",
      "epoch 62: 정확도:0.8396, 손실:79.6491\n",
      "epoch 63: 정확도:0.8585, 손실:74.1099\n",
      "epoch 64: 정확도:0.8396, 손실:78.5211\n",
      "epoch 65: 정확도:0.8538, 손실:76.5054\n",
      "epoch 66: 정확도:0.8443, 손실:79.8241\n",
      "epoch 67: 정확도:0.8538, 손실:73.3456\n",
      "epoch 68: 정확도:0.8632, 손실:76.7048\n",
      "epoch 69: 정확도:0.8443, 손실:75.9872\n",
      "epoch 70: 정확도:0.8632, 손실:72.8156\n",
      "테스트 데이터 정확도:0.7912\n",
      "epoch 71: 정확도:0.8491, 손실:77.421\n",
      "epoch 72: 정확도:0.8679, 손실:73.2071\n",
      "epoch 73: 정확도:0.8726, 손실:72.3636\n",
      "epoch 74: 정확도:0.8679, 손실:70.8155\n",
      "epoch 75: 정확도:0.8726, 손실:69.5505\n",
      "epoch 76: 정확도:0.8679, 손실:72.1115\n",
      "epoch 77: 정확도:0.8726, 손실:66.9297\n",
      "epoch 78: 정확도:0.8632, 손실:73.6282\n",
      "epoch 79: 정확도:0.8726, 손실:64.198\n",
      "epoch 80: 정확도:0.8679, 손실:65.4427\n",
      "테스트 데이터 정확도:0.8352\n",
      "epoch 81: 정확도:0.8774, 손실:64.9477\n",
      "epoch 82: 정확도:0.8726, 손실:65.5685\n",
      "epoch 83: 정확도:0.8774, 손실:65.3279\n",
      "epoch 84: 정확도:0.8679, 손실:66.7971\n",
      "epoch 85: 정확도:0.8868, 손실:61.0426\n",
      "epoch 86: 정확도:0.8679, 손실:69.6124\n",
      "epoch 87: 정확도:0.8632, 손실:64.2941\n",
      "epoch 88: 정확도:0.8726, 손실:65.1561\n",
      "epoch 89: 정확도:0.8726, 손실:66.1375\n",
      "epoch 90: 정확도:0.8774, 손실:62.0691\n",
      "테스트 데이터 정확도:0.8352\n",
      "epoch 91: 정확도:0.8821, 손실:61.6398\n",
      "epoch 92: 정확도:0.8679, 손실:67.0906\n",
      "epoch 93: 정확도:0.8726, 손실:65.4726\n",
      "epoch 94: 정확도:0.8821, 손실:64.6849\n",
      "epoch 95: 정확도:0.8915, 손실:61.3328\n",
      "epoch 96: 정확도:0.8632, 손실:66.6638\n",
      "epoch 97: 정확도:0.8821, 손실:57.8349\n",
      "epoch 98: 정확도:0.8868, 손실:64.2103\n",
      "epoch 99: 정확도:0.8774, 손실:63.5065\n",
      "End Training!\n"
     ]
    }
   ],
   "source": [
    "train(mm_model,mm_train_X, mm_train_Y,mm_test_X, mm_test_Y) # 모델 학습"
   ]
  },
  {
   "cell_type": "code",
   "execution_count": 39,
   "id": "1567a62d",
   "metadata": {},
   "outputs": [
    {
     "name": "stdout",
     "output_type": "stream",
     "text": [
      "테스트 데이터 정확도:0.7692\n"
     ]
    }
   ],
   "source": [
    "test(mm_model,mm_test_X, mm_test_Y) # 모델 테스트"
   ]
  },
  {
   "cell_type": "markdown",
   "id": "d170ebc1",
   "metadata": {},
   "source": [
    "2. StandardScaler"
   ]
  },
  {
   "cell_type": "code",
   "execution_count": 40,
   "id": "8a873fbf",
   "metadata": {},
   "outputs": [],
   "source": [
    "# Pandas Series로 뽑으면 데이터가 1차원 데이터가 된다 -> Scaler에 넣기 위해서는 Pandas DataFrame을 만들어야 하는데\n",
    "# DataFrame 만드는 방법에 Series를 넣어서 만드는 방법이 있네... to_frame...\n",
    "# 아래 방식은 Pandas Series로 부터 nparray를 추출, 이를 Scaler에 fit & tranform하여 데이터 프레임으로 만들어서\n",
    "# 기존 DataFrame에 update로 데이터 바꾸는 방식\n",
    "thalachh = heart['thalachh'].values.reshape(-1,1)\n",
    "trtbps = heart['trtbps'].values.reshape(-1,1)\n",
    "chol = heart['chol'].values.reshape(-1,1)"
   ]
  },
  {
   "cell_type": "code",
   "execution_count": 41,
   "id": "22c91d2c",
   "metadata": {},
   "outputs": [],
   "source": [
    "std_norm = StandardScaler() # 정규화 스케일러"
   ]
  },
  {
   "cell_type": "code",
   "execution_count": 42,
   "id": "6e845f8b",
   "metadata": {},
   "outputs": [],
   "source": [
    "# 스케일러 적용\n",
    "std_thalachh = std_norm.fit_transform(thalachh)\n",
    "std_trtbps = std_norm.fit_transform(trtbps)\n",
    "std_chol = std_norm.fit_transform(chol)"
   ]
  },
  {
   "cell_type": "code",
   "execution_count": 43,
   "id": "9b9e6cab",
   "metadata": {},
   "outputs": [],
   "source": [
    "# 각각의 스케일링 된 데이터를 데이터 프레임으로 만듬.\n",
    "thalachh = pd.DataFrame(std_thalachh,columns=['thalachh'])\n",
    "trtbps = pd.DataFrame(std_trtbps,columns=['trtbps'])\n",
    "chol = pd.DataFrame(std_chol,columns=['chol'])"
   ]
  },
  {
   "cell_type": "code",
   "execution_count": 44,
   "id": "729c0c9c",
   "metadata": {},
   "outputs": [],
   "source": [
    "# 기존 데이터에서 deep copy로 dataframe을 복사하여 새 dataframe을 만듬\n",
    "std_heart = heart.copy()"
   ]
  },
  {
   "cell_type": "code",
   "execution_count": 45,
   "id": "77dc0c5f",
   "metadata": {},
   "outputs": [
    {
     "data": {
      "text/html": [
       "<div>\n",
       "<style scoped>\n",
       "    .dataframe tbody tr th:only-of-type {\n",
       "        vertical-align: middle;\n",
       "    }\n",
       "\n",
       "    .dataframe tbody tr th {\n",
       "        vertical-align: top;\n",
       "    }\n",
       "\n",
       "    .dataframe thead th {\n",
       "        text-align: right;\n",
       "    }\n",
       "</style>\n",
       "<table border=\"1\" class=\"dataframe\">\n",
       "  <thead>\n",
       "    <tr style=\"text-align: right;\">\n",
       "      <th></th>\n",
       "      <th>age</th>\n",
       "      <th>sex</th>\n",
       "      <th>cp</th>\n",
       "      <th>trtbps</th>\n",
       "      <th>chol</th>\n",
       "      <th>fbs</th>\n",
       "      <th>restecg</th>\n",
       "      <th>thalachh</th>\n",
       "      <th>exng</th>\n",
       "      <th>oldpeak</th>\n",
       "      <th>slp</th>\n",
       "      <th>caa</th>\n",
       "      <th>thall</th>\n",
       "      <th>output</th>\n",
       "    </tr>\n",
       "  </thead>\n",
       "  <tbody>\n",
       "    <tr>\n",
       "      <th>0</th>\n",
       "      <td>63</td>\n",
       "      <td>1</td>\n",
       "      <td>3</td>\n",
       "      <td>145</td>\n",
       "      <td>233</td>\n",
       "      <td>1</td>\n",
       "      <td>0</td>\n",
       "      <td>150</td>\n",
       "      <td>0</td>\n",
       "      <td>2.3</td>\n",
       "      <td>0</td>\n",
       "      <td>0</td>\n",
       "      <td>1</td>\n",
       "      <td>1</td>\n",
       "    </tr>\n",
       "    <tr>\n",
       "      <th>1</th>\n",
       "      <td>37</td>\n",
       "      <td>1</td>\n",
       "      <td>2</td>\n",
       "      <td>130</td>\n",
       "      <td>250</td>\n",
       "      <td>0</td>\n",
       "      <td>1</td>\n",
       "      <td>187</td>\n",
       "      <td>0</td>\n",
       "      <td>3.5</td>\n",
       "      <td>0</td>\n",
       "      <td>0</td>\n",
       "      <td>2</td>\n",
       "      <td>1</td>\n",
       "    </tr>\n",
       "    <tr>\n",
       "      <th>2</th>\n",
       "      <td>41</td>\n",
       "      <td>0</td>\n",
       "      <td>1</td>\n",
       "      <td>130</td>\n",
       "      <td>204</td>\n",
       "      <td>0</td>\n",
       "      <td>0</td>\n",
       "      <td>172</td>\n",
       "      <td>0</td>\n",
       "      <td>1.4</td>\n",
       "      <td>2</td>\n",
       "      <td>0</td>\n",
       "      <td>2</td>\n",
       "      <td>1</td>\n",
       "    </tr>\n",
       "    <tr>\n",
       "      <th>3</th>\n",
       "      <td>56</td>\n",
       "      <td>1</td>\n",
       "      <td>1</td>\n",
       "      <td>120</td>\n",
       "      <td>236</td>\n",
       "      <td>0</td>\n",
       "      <td>1</td>\n",
       "      <td>178</td>\n",
       "      <td>0</td>\n",
       "      <td>0.8</td>\n",
       "      <td>2</td>\n",
       "      <td>0</td>\n",
       "      <td>2</td>\n",
       "      <td>1</td>\n",
       "    </tr>\n",
       "    <tr>\n",
       "      <th>4</th>\n",
       "      <td>57</td>\n",
       "      <td>0</td>\n",
       "      <td>0</td>\n",
       "      <td>120</td>\n",
       "      <td>354</td>\n",
       "      <td>0</td>\n",
       "      <td>1</td>\n",
       "      <td>163</td>\n",
       "      <td>1</td>\n",
       "      <td>0.6</td>\n",
       "      <td>2</td>\n",
       "      <td>0</td>\n",
       "      <td>2</td>\n",
       "      <td>1</td>\n",
       "    </tr>\n",
       "  </tbody>\n",
       "</table>\n",
       "</div>"
      ],
      "text/plain": [
       "   age  sex  cp  trtbps  chol  fbs  restecg  thalachh  exng  oldpeak  slp  \\\n",
       "0   63    1   3     145   233    1        0       150     0      2.3    0   \n",
       "1   37    1   2     130   250    0        1       187     0      3.5    0   \n",
       "2   41    0   1     130   204    0        0       172     0      1.4    2   \n",
       "3   56    1   1     120   236    0        1       178     0      0.8    2   \n",
       "4   57    0   0     120   354    0        1       163     1      0.6    2   \n",
       "\n",
       "   caa  thall  output  \n",
       "0    0      1       1  \n",
       "1    0      2       1  \n",
       "2    0      2       1  \n",
       "3    0      2       1  \n",
       "4    0      2       1  "
      ]
     },
     "execution_count": 45,
     "metadata": {},
     "output_type": "execute_result"
    }
   ],
   "source": [
    "std_heart.head() # 복사 확인"
   ]
  },
  {
   "cell_type": "code",
   "execution_count": 46,
   "id": "46c5c252",
   "metadata": {},
   "outputs": [
    {
     "data": {
      "text/html": [
       "<div>\n",
       "<style scoped>\n",
       "    .dataframe tbody tr th:only-of-type {\n",
       "        vertical-align: middle;\n",
       "    }\n",
       "\n",
       "    .dataframe tbody tr th {\n",
       "        vertical-align: top;\n",
       "    }\n",
       "\n",
       "    .dataframe thead th {\n",
       "        text-align: right;\n",
       "    }\n",
       "</style>\n",
       "<table border=\"1\" class=\"dataframe\">\n",
       "  <thead>\n",
       "    <tr style=\"text-align: right;\">\n",
       "      <th></th>\n",
       "      <th>age</th>\n",
       "      <th>sex</th>\n",
       "      <th>cp</th>\n",
       "      <th>trtbps</th>\n",
       "      <th>chol</th>\n",
       "      <th>fbs</th>\n",
       "      <th>restecg</th>\n",
       "      <th>thalachh</th>\n",
       "      <th>exng</th>\n",
       "      <th>oldpeak</th>\n",
       "      <th>slp</th>\n",
       "      <th>caa</th>\n",
       "      <th>thall</th>\n",
       "      <th>output</th>\n",
       "    </tr>\n",
       "  </thead>\n",
       "  <tbody>\n",
       "    <tr>\n",
       "      <th>0</th>\n",
       "      <td>63</td>\n",
       "      <td>1</td>\n",
       "      <td>3</td>\n",
       "      <td>0.763956</td>\n",
       "      <td>-0.256334</td>\n",
       "      <td>1</td>\n",
       "      <td>0</td>\n",
       "      <td>0.015443</td>\n",
       "      <td>0</td>\n",
       "      <td>2.3</td>\n",
       "      <td>0</td>\n",
       "      <td>0</td>\n",
       "      <td>1</td>\n",
       "      <td>1</td>\n",
       "    </tr>\n",
       "    <tr>\n",
       "      <th>1</th>\n",
       "      <td>37</td>\n",
       "      <td>1</td>\n",
       "      <td>2</td>\n",
       "      <td>-0.092738</td>\n",
       "      <td>0.072199</td>\n",
       "      <td>0</td>\n",
       "      <td>1</td>\n",
       "      <td>1.633471</td>\n",
       "      <td>0</td>\n",
       "      <td>3.5</td>\n",
       "      <td>0</td>\n",
       "      <td>0</td>\n",
       "      <td>2</td>\n",
       "      <td>1</td>\n",
       "    </tr>\n",
       "    <tr>\n",
       "      <th>2</th>\n",
       "      <td>41</td>\n",
       "      <td>0</td>\n",
       "      <td>1</td>\n",
       "      <td>-0.092738</td>\n",
       "      <td>-0.816773</td>\n",
       "      <td>0</td>\n",
       "      <td>0</td>\n",
       "      <td>0.977514</td>\n",
       "      <td>0</td>\n",
       "      <td>1.4</td>\n",
       "      <td>2</td>\n",
       "      <td>0</td>\n",
       "      <td>2</td>\n",
       "      <td>1</td>\n",
       "    </tr>\n",
       "    <tr>\n",
       "      <th>3</th>\n",
       "      <td>56</td>\n",
       "      <td>1</td>\n",
       "      <td>1</td>\n",
       "      <td>-0.663867</td>\n",
       "      <td>-0.198357</td>\n",
       "      <td>0</td>\n",
       "      <td>1</td>\n",
       "      <td>1.239897</td>\n",
       "      <td>0</td>\n",
       "      <td>0.8</td>\n",
       "      <td>2</td>\n",
       "      <td>0</td>\n",
       "      <td>2</td>\n",
       "      <td>1</td>\n",
       "    </tr>\n",
       "    <tr>\n",
       "      <th>4</th>\n",
       "      <td>57</td>\n",
       "      <td>0</td>\n",
       "      <td>0</td>\n",
       "      <td>-0.663867</td>\n",
       "      <td>2.082050</td>\n",
       "      <td>0</td>\n",
       "      <td>1</td>\n",
       "      <td>0.583939</td>\n",
       "      <td>1</td>\n",
       "      <td>0.6</td>\n",
       "      <td>2</td>\n",
       "      <td>0</td>\n",
       "      <td>2</td>\n",
       "      <td>1</td>\n",
       "    </tr>\n",
       "  </tbody>\n",
       "</table>\n",
       "</div>"
      ],
      "text/plain": [
       "   age  sex  cp    trtbps      chol  fbs  restecg  thalachh  exng  oldpeak  \\\n",
       "0   63    1   3  0.763956 -0.256334    1        0  0.015443     0      2.3   \n",
       "1   37    1   2 -0.092738  0.072199    0        1  1.633471     0      3.5   \n",
       "2   41    0   1 -0.092738 -0.816773    0        0  0.977514     0      1.4   \n",
       "3   56    1   1 -0.663867 -0.198357    0        1  1.239897     0      0.8   \n",
       "4   57    0   0 -0.663867  2.082050    0        1  0.583939     1      0.6   \n",
       "\n",
       "   slp  caa  thall  output  \n",
       "0    0    0      1       1  \n",
       "1    0    0      2       1  \n",
       "2    2    0      2       1  \n",
       "3    2    0      2       1  \n",
       "4    2    0      2       1  "
      ]
     },
     "execution_count": 46,
     "metadata": {},
     "output_type": "execute_result"
    }
   ],
   "source": [
    " # 3개의 column에 대해 각각 update를 통해 값을 갱신\n",
    "std_heart.update(thalachh)\n",
    "std_heart.update(trtbps)\n",
    "std_heart.update(chol)\n",
    "std_heart.head() # 변경 확인."
   ]
  },
  {
   "cell_type": "code",
   "execution_count": 47,
   "id": "c13076ae",
   "metadata": {},
   "outputs": [],
   "source": [
    "std_heart_data = std_heart.iloc[:,:-1] # 데이터\n",
    "std_heart_label = std_heart.iloc[:,-1] # 라벨"
   ]
  },
  {
   "cell_type": "code",
   "execution_count": 48,
   "id": "c26694be",
   "metadata": {},
   "outputs": [],
   "source": [
    "from sklearn.model_selection import train_test_split\n",
    "# 학습, 테스트 데이터 분리\n",
    "std_train_X, std_test_X, std_train_Y, std_test_Y = train_test_split(std_heart_data, std_heart_label, test_size=0.3, random_state=123 ,stratify = std_heart_label)"
   ]
  },
  {
   "cell_type": "code",
   "execution_count": 49,
   "id": "dac49107",
   "metadata": {},
   "outputs": [],
   "source": [
    "std_model = mymodel() # 모델 생성"
   ]
  },
  {
   "cell_type": "code",
   "execution_count": 50,
   "id": "d7a1fea6",
   "metadata": {},
   "outputs": [
    {
     "name": "stdout",
     "output_type": "stream",
     "text": [
      "epoch 0: 정확도:0.533, 손실:147.798\n",
      "epoch 1: 정확도:0.5566, 손실:146.57\n",
      "epoch 2: 정확도:0.5708, 손실:146.144\n",
      "epoch 3: 정확도:0.6038, 손실:143.838\n",
      "epoch 4: 정확도:0.75, 손실:122.25\n",
      "epoch 5: 정확도:0.8019, 손실:98.2933\n",
      "epoch 6: 정확도:0.7972, 손실:93.5536\n",
      "epoch 7: 정확도:0.8019, 손실:93.2858\n",
      "epoch 8: 정확도:0.7925, 손실:93.536\n",
      "epoch 9: 정확도:0.7972, 손실:95.2127\n",
      "epoch 10: 정확도:0.7877, 손실:93.7152\n",
      "테스트 데이터 정확도:0.7363\n",
      "epoch 11: 정확도:0.783, 손실:91.3892\n",
      "epoch 12: 정확도:0.8019, 손실:92.3812\n",
      "epoch 13: 정확도:0.7783, 손실:99.6596\n",
      "epoch 14: 정확도:0.7925, 손실:93.381\n",
      "epoch 15: 정확도:0.816, 손실:85.5608\n",
      "epoch 16: 정확도:0.816, 손실:83.7269\n",
      "epoch 17: 정확도:0.8066, 손실:86.8739\n",
      "epoch 18: 정확도:0.8208, 손실:86.0286\n",
      "epoch 19: 정확도:0.8443, 손실:80.3063\n",
      "epoch 20: 정확도:0.8396, 손실:80.7627\n",
      "테스트 데이터 정확도:0.7692\n",
      "epoch 21: 정확도:0.8491, 손실:82.293\n",
      "epoch 22: 정확도:0.8349, 손실:79.8273\n",
      "epoch 23: 정확도:0.8491, 손실:77.5527\n",
      "epoch 24: 정확도:0.8255, 손실:81.0402\n",
      "epoch 25: 정확도:0.8443, 손실:80.5075\n",
      "epoch 26: 정확도:0.8349, 손실:81.2097\n",
      "epoch 27: 정확도:0.8113, 손실:83.5036\n",
      "epoch 28: 정확도:0.8443, 손실:78.1816\n",
      "epoch 29: 정확도:0.8349, 손실:79.4138\n",
      "epoch 30: 정확도:0.8113, 손실:85.2708\n",
      "테스트 데이터 정확도:0.7692\n",
      "epoch 31: 정확도:0.8255, 손실:86.2046\n",
      "epoch 32: 정확도:0.8302, 손실:79.0907\n",
      "epoch 33: 정확도:0.8396, 손실:79.1372\n",
      "epoch 34: 정확도:0.8208, 손실:82.4464\n",
      "epoch 35: 정확도:0.8113, 손실:83.4766\n",
      "epoch 36: 정확도:0.8443, 손실:79.0022\n",
      "epoch 37: 정확도:0.8302, 손실:79.2172\n",
      "epoch 38: 정확도:0.8443, 손실:77.9097\n",
      "epoch 39: 정확도:0.8585, 손실:76.379\n",
      "epoch 40: 정확도:0.8679, 손실:75.3642\n",
      "테스트 데이터 정확도:0.8022\n",
      "epoch 41: 정확도:0.8491, 손실:75.3222\n",
      "epoch 42: 정확도:0.8066, 손실:79.7626\n",
      "epoch 43: 정확도:0.8396, 손실:75.724\n",
      "epoch 44: 정확도:0.8302, 손실:77.4943\n",
      "epoch 45: 정확도:0.8491, 손실:72.8207\n",
      "epoch 46: 정확도:0.8396, 손실:76.5543\n",
      "epoch 47: 정확도:0.8208, 손실:81.8328\n",
      "epoch 48: 정확도:0.8349, 손실:78.4326\n",
      "epoch 49: 정확도:0.8208, 손실:76.3216\n",
      "epoch 50: 정확도:0.8302, 손실:75.1605\n",
      "테스트 데이터 정확도:0.7912\n",
      "epoch 51: 정확도:0.8538, 손실:76.5847\n",
      "epoch 52: 정확도:0.816, 손실:75.5766\n",
      "epoch 53: 정확도:0.8585, 손실:71.2995\n",
      "epoch 54: 정확도:0.8491, 손실:72.0524\n",
      "epoch 55: 정확도:0.8491, 손실:72.2352\n",
      "epoch 56: 정확도:0.8491, 손실:74.7031\n",
      "epoch 57: 정확도:0.8302, 손실:76.86\n",
      "epoch 58: 정확도:0.8585, 손실:73.3183\n",
      "epoch 59: 정확도:0.8491, 손실:71.3801\n",
      "epoch 60: 정확도:0.8585, 손실:71.6454\n",
      "테스트 데이터 정확도:0.7912\n",
      "epoch 61: 정확도:0.8443, 손실:74.2222\n",
      "epoch 62: 정확도:0.8208, 손실:84.0471\n",
      "epoch 63: 정확도:0.8396, 손실:75.1572\n",
      "epoch 64: 정확도:0.8585, 손실:70.8976\n",
      "epoch 65: 정확도:0.8679, 손실:72.6898\n",
      "epoch 66: 정확도:0.8585, 손실:69.3295\n",
      "epoch 67: 정확도:0.8491, 손실:69.6466\n",
      "epoch 68: 정확도:0.8585, 손실:68.031\n",
      "epoch 69: 정확도:0.8679, 손실:69.5753\n",
      "epoch 70: 정확도:0.8491, 손실:68.7925\n",
      "테스트 데이터 정확도:0.8132\n",
      "epoch 71: 정확도:0.8726, 손실:67.8721\n",
      "epoch 72: 정확도:0.8679, 손실:69.1196\n",
      "epoch 73: 정확도:0.8538, 손실:69.4131\n",
      "epoch 74: 정확도:0.8679, 손실:66.1605\n",
      "epoch 75: 정확도:0.8585, 손실:66.9197\n",
      "epoch 76: 정확도:0.8585, 손실:67.7248\n",
      "epoch 77: 정확도:0.8491, 손실:68.9454\n",
      "epoch 78: 정확도:0.8632, 손실:65.1511\n",
      "epoch 79: 정확도:0.8726, 손실:61.408\n",
      "epoch 80: 정확도:0.8774, 손실:64.1411\n",
      "테스트 데이터 정확도:0.8022\n",
      "epoch 81: 정확도:0.8538, 손실:69.1392\n",
      "epoch 82: 정확도:0.8774, 손실:62.826\n",
      "epoch 83: 정확도:0.8962, 손실:56.776\n",
      "epoch 84: 정확도:0.8821, 손실:57.5509\n",
      "epoch 85: 정확도:0.8774, 손실:62.2464\n",
      "epoch 86: 정확도:0.8585, 손실:65.1894\n",
      "epoch 87: 정확도:0.8726, 손실:62.8368\n",
      "epoch 88: 정확도:0.8774, 손실:61.1141\n",
      "epoch 89: 정확도:0.8679, 손실:61.3738\n",
      "epoch 90: 정확도:0.8821, 손실:58.9332\n",
      "테스트 데이터 정확도:0.8352\n",
      "epoch 91: 정확도:0.8774, 손실:57.6805\n",
      "epoch 92: 정확도:0.8679, 손실:63.4103\n",
      "epoch 93: 정확도:0.8962, 손실:56.2218\n",
      "epoch 94: 정확도:0.8538, 손실:66.8801\n",
      "epoch 95: 정확도:0.8915, 손실:57.3894\n",
      "epoch 96: 정확도:0.8962, 손실:58.954\n",
      "epoch 97: 정확도:0.8491, 손실:64.1844\n",
      "epoch 98: 정확도:0.8821, 손실:56.8103\n",
      "epoch 99: 정확도:0.8821, 손실:63.8148\n",
      "End Training!\n"
     ]
    }
   ],
   "source": [
    "train(std_model,std_train_X, std_train_Y,std_test_X, std_test_Y) # 모델 학습"
   ]
  },
  {
   "cell_type": "code",
   "execution_count": 51,
   "id": "225b8047",
   "metadata": {},
   "outputs": [
    {
     "name": "stdout",
     "output_type": "stream",
     "text": [
      "테스트 데이터 정확도:0.7912\n"
     ]
    }
   ],
   "source": [
    "test(std_model,std_test_X, std_test_Y)  # 모델 테스트"
   ]
  }
 ],
 "metadata": {
  "kernelspec": {
   "display_name": "Python 3",
   "language": "python",
   "name": "python3"
  },
  "language_info": {
   "codemirror_mode": {
    "name": "ipython",
    "version": 3
   },
   "file_extension": ".py",
   "mimetype": "text/x-python",
   "name": "python",
   "nbconvert_exporter": "python",
   "pygments_lexer": "ipython3",
   "version": "3.8.9"
  }
 },
 "nbformat": 4,
 "nbformat_minor": 5
}
