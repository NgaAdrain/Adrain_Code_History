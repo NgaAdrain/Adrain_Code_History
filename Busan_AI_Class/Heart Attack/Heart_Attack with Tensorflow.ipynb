{
 "cells": [
  {
   "cell_type": "code",
   "execution_count": 1,
   "id": "93bb07c6",
   "metadata": {},
   "outputs": [],
   "source": [
    "import pandas as pd\n",
    "import numpy as np\n",
    "import tensorflow as tf\n",
    "from tensorflow import keras"
   ]
  },
  {
   "cell_type": "code",
   "execution_count": 2,
   "id": "0c171973",
   "metadata": {},
   "outputs": [],
   "source": [
    "heart = pd.read_csv('./heart.csv')"
   ]
  },
  {
   "cell_type": "markdown",
   "id": "64bb854b",
   "metadata": {},
   "source": [
    "__About this dataset__\n",
    "\n",
    "1. Age : Age of the patient\n",
    "\n",
    "2. Sex : Sex of the patient\n",
    "\n",
    "3. cp : Chest Pain type chest pain type\n",
    "\n",
    "- Value 0: typical angina\n",
    "- Value 1: atypical angina\n",
    "- Value 2: non-anginal pain 비심장성 통증: 이런 경우, 흉통은 분명히 존재하지만, 심장에 이상이 없다고 판명이 날 때, 비심장성 흉통이라고 한다.\n",
    "- Value 3: asymptomatic\n",
    "\n",
    "4. trtbps : resting blood pressure (in mm Hg)\n",
    "\n",
    "5. chol : cholestoral in mg/dl fetched via BMI sensor\n",
    "\n",
    "6. fbs : (fasting blood sugar > 120 mg/dl) (1 = true; 0 = false)\n",
    "\n",
    "7. rest_ecg : resting electrocardiographic results\n",
    "\n",
    "- Value 0: normal\n",
    "- Value 1: having ST-T wave abnormality (T wave inversions and/or ST elevation or depression of > 0.05 mV)\n",
    "- Value 2: showing probable or definite left ventricular hypertrophy by Estes' criteria\n",
    "\n",
    "8. thalach : maximum heart rate achieved\n",
    "\n",
    "9. exng: exercise induced angina (1 = yes; 0 = no)\n",
    "\n",
    "10. oldpeak: Previous peak | ST depression induced by exercise relative to rest\n",
    "\n",
    "11. slp: Slope | the slope of the peak exercise ST segment (0 = upsloping; 1 = flat; 2 = downsloping)\n",
    "\n",
    "12. caa: number of major vessels (0-3)\n",
    "\n",
    "13. thall: Thal rate (0-3) \n",
    "\n",
    "fixed defect - 고정 관류 결손 \n",
    "\n",
    "reversible defect - 가역적인 관류 결손\n",
    "\n",
    "target : \n",
    "- 0 = less chance of heart attack \n",
    "- 1 = more chance of heart attack\n",
    "\n",
    "http://rstudio-pubs-static.s3.amazonaws.com/24341_184a58191486470cab97acdbbfe78ed5.html"
   ]
  },
  {
   "cell_type": "markdown",
   "id": "95845c0e",
   "metadata": {},
   "source": [
    "### 데이터 분석"
   ]
  },
  {
   "cell_type": "code",
   "execution_count": 3,
   "id": "d9c2defd",
   "metadata": {},
   "outputs": [
    {
     "name": "stdout",
     "output_type": "stream",
     "text": [
      "<class 'pandas.core.frame.DataFrame'>\n",
      "RangeIndex: 303 entries, 0 to 302\n",
      "Data columns (total 14 columns):\n",
      " #   Column    Non-Null Count  Dtype  \n",
      "---  ------    --------------  -----  \n",
      " 0   age       303 non-null    int64  \n",
      " 1   sex       303 non-null    int64  \n",
      " 2   cp        303 non-null    int64  \n",
      " 3   trtbps    303 non-null    int64  \n",
      " 4   chol      303 non-null    int64  \n",
      " 5   fbs       303 non-null    int64  \n",
      " 6   restecg   303 non-null    int64  \n",
      " 7   thalachh  303 non-null    int64  \n",
      " 8   exng      303 non-null    int64  \n",
      " 9   oldpeak   303 non-null    float64\n",
      " 10  slp       303 non-null    int64  \n",
      " 11  caa       303 non-null    int64  \n",
      " 12  thall     303 non-null    int64  \n",
      " 13  output    303 non-null    int64  \n",
      "dtypes: float64(1), int64(13)\n",
      "memory usage: 33.3 KB\n",
      "None\n"
     ]
    }
   ],
   "source": [
    "print(heart.info())"
   ]
  },
  {
   "cell_type": "code",
   "execution_count": 4,
   "id": "bc5fa380",
   "metadata": {},
   "outputs": [
    {
     "data": {
      "text/plain": [
       "<AxesSubplot:ylabel='Frequency'>"
      ]
     },
     "execution_count": 4,
     "metadata": {},
     "output_type": "execute_result"
    },
    {
     "data": {
      "image/png": "[encoded data removed]",
      "text/plain": [
       "<Figure size 432x288 with 1 Axes>"
      ]
     },
     "metadata": {
      "needs_background": "light"
     },
     "output_type": "display_data"
    }
   ],
   "source": [
    "heart['age'].plot(kind='hist')"
   ]
  },
  {
   "cell_type": "code",
   "execution_count": 5,
   "id": "fee712c0",
   "metadata": {},
   "outputs": [
    {
     "name": "stdout",
     "output_type": "stream",
     "text": [
      "1    207\n",
      "0     96\n",
      "Name: sex, dtype: int64\n"
     ]
    }
   ],
   "source": [
    "print(heart['sex'].value_counts())"
   ]
  },
  {
   "cell_type": "code",
   "execution_count": 6,
   "id": "5aadbc5f",
   "metadata": {},
   "outputs": [
    {
     "name": "stdout",
     "output_type": "stream",
     "text": [
      "0    143\n",
      "2     87\n",
      "1     50\n",
      "3     23\n",
      "Name: cp, dtype: int64\n"
     ]
    }
   ],
   "source": [
    "print(heart['cp'].value_counts())"
   ]
  },
  {
   "cell_type": "code",
   "execution_count": 7,
   "id": "3d46ad41",
   "metadata": {},
   "outputs": [
    {
     "data": {
      "text/plain": [
       "<AxesSubplot:ylabel='Frequency'>"
      ]
     },
     "execution_count": 7,
     "metadata": {},
     "output_type": "execute_result"
    },
    {
     "data": {
      "image/png": "[encoded data removed]",
      "text/plain": [
       "<Figure size 432x288 with 1 Axes>"
      ]
     },
     "metadata": {
      "needs_background": "light"
     },
     "output_type": "display_data"
    }
   ],
   "source": [
    "heart['trtbps'].plot(kind='hist')"
   ]
  },
  {
   "cell_type": "code",
   "execution_count": 8,
   "id": "ba6e1b10",
   "metadata": {},
   "outputs": [
    {
     "data": {
      "text/plain": [
       "<AxesSubplot:ylabel='Frequency'>"
      ]
     },
     "execution_count": 8,
     "metadata": {},
     "output_type": "execute_result"
    },
    {
     "data": {
      "image/png": "[encoded data removed]",
      "text/plain": [
       "<Figure size 432x288 with 1 Axes>"
      ]
     },
     "metadata": {
      "needs_background": "light"
     },
     "output_type": "display_data"
    }
   ],
   "source": [
    "heart['chol'].plot(kind='hist')"
   ]
  },
  {
   "cell_type": "code",
   "execution_count": 9,
   "id": "0a04b0ee",
   "metadata": {},
   "outputs": [
    {
     "name": "stdout",
     "output_type": "stream",
     "text": [
      "0    258\n",
      "1     45\n",
      "Name: fbs, dtype: int64\n"
     ]
    }
   ],
   "source": [
    "print(heart['fbs'].value_counts())"
   ]
  },
  {
   "cell_type": "code",
   "execution_count": 10,
   "id": "18c5599f",
   "metadata": {},
   "outputs": [
    {
     "name": "stdout",
     "output_type": "stream",
     "text": [
      "2    166\n",
      "3    117\n",
      "1     18\n",
      "0      2\n",
      "Name: thall, dtype: int64\n"
     ]
    }
   ],
   "source": [
    "print(heart['thall'].value_counts())"
   ]
  },
  {
   "cell_type": "code",
   "execution_count": 11,
   "id": "cfda412c",
   "metadata": {},
   "outputs": [
    {
     "name": "stdout",
     "output_type": "stream",
     "text": [
      "1    152\n",
      "0    147\n",
      "2      4\n",
      "Name: restecg, dtype: int64\n"
     ]
    }
   ],
   "source": [
    "print(heart['restecg'].value_counts())"
   ]
  },
  {
   "cell_type": "code",
   "execution_count": 12,
   "id": "24300217",
   "metadata": {},
   "outputs": [
    {
     "data": {
      "text/plain": [
       "<AxesSubplot:ylabel='Frequency'>"
      ]
     },
     "execution_count": 12,
     "metadata": {},
     "output_type": "execute_result"
    },
    {
     "data": {
      "image/png": "[encoded data removed]",
      "text/plain": [
       "<Figure size 432x288 with 1 Axes>"
      ]
     },
     "metadata": {
      "needs_background": "light"
     },
     "output_type": "display_data"
    }
   ],
   "source": [
    "heart['thalachh'].plot(kind='hist')"
   ]
  },
  {
   "cell_type": "code",
   "execution_count": 13,
   "id": "f253a2f4",
   "metadata": {},
   "outputs": [
    {
     "name": "stdout",
     "output_type": "stream",
     "text": [
      "0    204\n",
      "1     99\n",
      "Name: exng, dtype: int64\n"
     ]
    }
   ],
   "source": [
    "print(heart['exng'].value_counts())"
   ]
  },
  {
   "cell_type": "code",
   "execution_count": 14,
   "id": "d9d8ba82",
   "metadata": {},
   "outputs": [
    {
     "data": {
      "text/plain": [
       "<AxesSubplot:ylabel='Frequency'>"
      ]
     },
     "execution_count": 14,
     "metadata": {},
     "output_type": "execute_result"
    },
    {
     "data": {
      "image/png": "[encoded data removed]",
      "text/plain": [
       "<Figure size 432x288 with 1 Axes>"
      ]
     },
     "metadata": {
      "needs_background": "light"
     },
     "output_type": "display_data"
    }
   ],
   "source": [
    "heart['oldpeak'].plot(kind='hist')"
   ]
  },
  {
   "cell_type": "code",
   "execution_count": 15,
   "id": "1e41238f",
   "metadata": {},
   "outputs": [
    {
     "name": "stdout",
     "output_type": "stream",
     "text": [
      "2    142\n",
      "1    140\n",
      "0     21\n",
      "Name: slp, dtype: int64\n"
     ]
    }
   ],
   "source": [
    "print(heart['slp'].value_counts())"
   ]
  },
  {
   "cell_type": "code",
   "execution_count": 16,
   "id": "77dc9e71",
   "metadata": {},
   "outputs": [
    {
     "name": "stdout",
     "output_type": "stream",
     "text": [
      "0    175\n",
      "1     65\n",
      "2     38\n",
      "3     20\n",
      "4      5\n",
      "Name: caa, dtype: int64\n"
     ]
    }
   ],
   "source": [
    "print(heart['caa'].value_counts())"
   ]
  },
  {
   "cell_type": "code",
   "execution_count": 17,
   "id": "bd53d6e8",
   "metadata": {},
   "outputs": [
    {
     "name": "stdout",
     "output_type": "stream",
     "text": [
      "2    166\n",
      "3    117\n",
      "1     18\n",
      "0      2\n",
      "Name: thall, dtype: int64\n"
     ]
    }
   ],
   "source": [
    "print(heart['thall'].value_counts())"
   ]
  },
  {
   "cell_type": "code",
   "execution_count": 18,
   "id": "e4635526",
   "metadata": {},
   "outputs": [
    {
     "name": "stdout",
     "output_type": "stream",
     "text": [
      "1    165\n",
      "0    138\n",
      "Name: output, dtype: int64\n"
     ]
    }
   ],
   "source": [
    "print(heart['output'].value_counts())"
   ]
  },
  {
   "cell_type": "markdown",
   "id": "815afc2e",
   "metadata": {},
   "source": [
    "데이터는 0과 1로 나누는 binary_classification이다.\n",
    "\n",
    "-> Decision Tree, Random Forest, Logistic Regression, DNN을 사용해 볼 수 있겠다."
   ]
  },
  {
   "cell_type": "markdown",
   "id": "1d507af1",
   "metadata": {},
   "source": [
    "## 1. 데이터 전처리 X"
   ]
  },
  {
   "cell_type": "markdown",
   "id": "f93f1a8f",
   "metadata": {},
   "source": [
    "with sci-kit learn machine learning classifier"
   ]
  },
  {
   "cell_type": "code",
   "execution_count": 19,
   "id": "7627db86",
   "metadata": {},
   "outputs": [],
   "source": [
    "heart_data = heart.iloc[:,:-1] # 데이터\n",
    "heart_label = heart.iloc[:,-1] # 라벨"
   ]
  },
  {
   "cell_type": "code",
   "execution_count": 20,
   "id": "218803af",
   "metadata": {},
   "outputs": [],
   "source": [
    "from sklearn.model_selection import train_test_split\n",
    "# 학습, 테스트 데이터 분리\n",
    "train_X, test_X, train_Y, test_Y = train_test_split(heart_data, heart_label, test_size=0.3, random_state=15000) "
   ]
  },
  {
   "cell_type": "code",
   "execution_count": 21,
   "id": "3aa2083e",
   "metadata": {},
   "outputs": [],
   "source": [
    "## 구현\n",
    "# 간단한 DNN모델 작성 \n",
    "model = keras.models.Sequential()\n",
    "model.add(keras.layers.Dense(32, input_dim=13, activation='relu' ))\n",
    "model.add(keras.layers.Dense(64, activation='relu'))\n",
    "model.add(keras.layers.Dropout(0.2))\n",
    "model.add(keras.layers.Dense(32, activation='relu'))\n",
    "model.add(keras.layers.Dense(16, activation='relu'))\n",
    "model.add(keras.layers.Dense(1, activation='sigmoid'))"
   ]
  },
  {
   "cell_type": "code",
   "execution_count": 22,
   "id": "a3293106",
   "metadata": {},
   "outputs": [
    {
     "name": "stdout",
     "output_type": "stream",
     "text": [
      "Model: \"sequential\"\n",
      "_________________________________________________________________\n",
      "Layer (type)                 Output Shape              Param #   \n",
      "=================================================================\n",
      "dense (Dense)                (None, 32)                448       \n",
      "_________________________________________________________________\n",
      "dense_1 (Dense)              (None, 64)                2112      \n",
      "_________________________________________________________________\n",
      "dropout (Dropout)            (None, 64)                0         \n",
      "_________________________________________________________________\n",
      "dense_2 (Dense)              (None, 32)                2080      \n",
      "_________________________________________________________________\n",
      "dense_3 (Dense)              (None, 16)                528       \n",
      "_________________________________________________________________\n",
      "dense_4 (Dense)              (None, 1)                 17        \n",
      "=================================================================\n",
      "Total params: 5,185\n",
      "Trainable params: 5,185\n",
      "Non-trainable params: 0\n",
      "_________________________________________________________________\n"
     ]
    }
   ],
   "source": [
    "model.summary()\n",
    "model.compile(loss='binary_crossentropy', # 손실함수 -> Binary Cross Entropy Loss\n",
    "             optimizer='adam', # Optimizer로 Adam을 사용. 기본 값: Learning rate = 0.001\n",
    "             metrics=['accuracy','Recall','Precision']) # 정확도, 재현율, 정밀도"
   ]
  },
  {
   "cell_type": "code",
   "execution_count": 23,
   "id": "c2f83be4",
   "metadata": {},
   "outputs": [
    {
     "data": {
      "image/png": "[encoded data removed]",
      "text/plain": [
       "<IPython.core.display.Image object>"
      ]
     },
     "execution_count": 23,
     "metadata": {},
     "output_type": "execute_result"
    }
   ],
   "source": [
    "tf.keras.utils.plot_model(model, show_shapes=True) #입력, 출력 데이터의 틀을 보여준다"
   ]
  },
  {
   "cell_type": "code",
   "execution_count": 24,
   "id": "224c1c24",
   "metadata": {},
   "outputs": [
    {
     "name": "stdout",
     "output_type": "stream",
     "text": [
      "Epoch 1/100\n",
      "212/212 [==============================] - 2s 7ms/step - loss: 2.4534 - accuracy: 0.5330 - recall: 0.4914 - precision: 0.4736 - val_loss: 0.6947 - val_accuracy: 0.4835 - val_recall: 0.4107 - val_precision: 0.6216\n",
      "Epoch 2/100\n",
      "212/212 [==============================] - 0s 1ms/step - loss: 0.7388 - accuracy: 0.4983 - recall: 0.4543 - precision: 0.5373 - val_loss: 0.6816 - val_accuracy: 0.6154 - val_recall: 1.0000 - val_precision: 0.6154\n",
      "Epoch 3/100\n",
      "212/212 [==============================] - 0s 1ms/step - loss: 0.7449 - accuracy: 0.5321 - recall: 0.7257 - precision: 0.5555 - val_loss: 0.6663 - val_accuracy: 0.6154 - val_recall: 1.0000 - val_precision: 0.6154\n",
      "Epoch 4/100\n",
      "212/212 [==============================] - 0s 1ms/step - loss: 0.7327 - accuracy: 0.5416 - recall: 0.6417 - precision: 0.5523 - val_loss: 0.6811 - val_accuracy: 0.6484 - val_recall: 0.6964 - val_precision: 0.7222\n",
      "Epoch 5/100\n",
      "212/212 [==============================] - 0s 1ms/step - loss: 0.6731 - accuracy: 0.6210 - recall: 0.4805 - precision: 0.5947 - val_loss: 0.6458 - val_accuracy: 0.6374 - val_recall: 1.0000 - val_precision: 0.6292\n",
      "Epoch 6/100\n",
      "212/212 [==============================] - 0s 1ms/step - loss: 0.6739 - accuracy: 0.5559 - recall: 0.6410 - precision: 0.5702 - val_loss: 0.6522 - val_accuracy: 0.6593 - val_recall: 0.7321 - val_precision: 0.7193\n",
      "Epoch 7/100\n",
      "212/212 [==============================] - 0s 1ms/step - loss: 0.6862 - accuracy: 0.5682 - recall: 0.6165 - precision: 0.6039 - val_loss: 0.6408 - val_accuracy: 0.6374 - val_recall: 0.7143 - val_precision: 0.7018\n",
      "Epoch 8/100\n",
      "212/212 [==============================] - 0s 1ms/step - loss: 0.6947 - accuracy: 0.5888 - recall: 0.5084 - precision: 0.5180 - val_loss: 0.6456 - val_accuracy: 0.6374 - val_recall: 0.6964 - val_precision: 0.7091\n",
      "Epoch 9/100\n",
      "212/212 [==============================] - 0s 1ms/step - loss: 0.6352 - accuracy: 0.7138 - recall: 0.7237 - precision: 0.7112 - val_loss: 0.6196 - val_accuracy: 0.6154 - val_recall: 0.8393 - val_precision: 0.6438\n",
      "Epoch 10/100\n",
      "212/212 [==============================] - 0s 1ms/step - loss: 0.6402 - accuracy: 0.6824 - recall: 0.6511 - precision: 0.6889 - val_loss: 0.6325 - val_accuracy: 0.6484 - val_recall: 0.9107 - val_precision: 0.6538\n",
      "Epoch 11/100\n",
      "212/212 [==============================] - 0s 1ms/step - loss: 0.6550 - accuracy: 0.6352 - recall: 0.5653 - precision: 0.6255 - val_loss: 0.6245 - val_accuracy: 0.6154 - val_recall: 0.8393 - val_precision: 0.6438\n",
      "Epoch 12/100\n",
      "212/212 [==============================] - 0s 1ms/step - loss: 0.6204 - accuracy: 0.6937 - recall: 0.7457 - precision: 0.6871 - val_loss: 0.6473 - val_accuracy: 0.6484 - val_recall: 0.6786 - val_precision: 0.7308\n",
      "Epoch 13/100\n",
      "212/212 [==============================] - 0s 1ms/step - loss: 0.5276 - accuracy: 0.7355 - recall: 0.7349 - precision: 0.7435 - val_loss: 0.6331 - val_accuracy: 0.6374 - val_recall: 0.6964 - val_precision: 0.7091\n",
      "Epoch 14/100\n",
      "212/212 [==============================] - 0s 1ms/step - loss: 0.5988 - accuracy: 0.6623 - recall: 0.6832 - precision: 0.6770 - val_loss: 0.6223 - val_accuracy: 0.6374 - val_recall: 0.6964 - val_precision: 0.7091\n",
      "Epoch 15/100\n",
      "212/212 [==============================] - 0s 1ms/step - loss: 0.6249 - accuracy: 0.6767 - recall: 0.7247 - precision: 0.6730 - val_loss: 0.6480 - val_accuracy: 0.6484 - val_recall: 0.7143 - val_precision: 0.7143\n",
      "Epoch 16/100\n",
      "212/212 [==============================] - 0s 1ms/step - loss: 0.6033 - accuracy: 0.6439 - recall: 0.6503 - precision: 0.6182 - val_loss: 0.6447 - val_accuracy: 0.6484 - val_recall: 0.8750 - val_precision: 0.6622\n",
      "Epoch 17/100\n",
      "212/212 [==============================] - 0s 1ms/step - loss: 0.5692 - accuracy: 0.7232 - recall: 0.7986 - precision: 0.6807 - val_loss: 0.6421 - val_accuracy: 0.6374 - val_recall: 0.6250 - val_precision: 0.7447\n",
      "Epoch 18/100\n",
      "212/212 [==============================] - 0s 1ms/step - loss: 0.6138 - accuracy: 0.6516 - recall: 0.6979 - precision: 0.6691 - val_loss: 0.6205 - val_accuracy: 0.6813 - val_recall: 0.8036 - val_precision: 0.7143\n",
      "Epoch 19/100\n",
      "212/212 [==============================] - 0s 1ms/step - loss: 0.5513 - accuracy: 0.7049 - recall: 0.7196 - precision: 0.6607 - val_loss: 0.6100 - val_accuracy: 0.6593 - val_recall: 0.7500 - val_precision: 0.7119\n",
      "Epoch 20/100\n",
      "212/212 [==============================] - 0s 1ms/step - loss: 0.5578 - accuracy: 0.6957 - recall: 0.7377 - precision: 0.6596 - val_loss: 0.6210 - val_accuracy: 0.6593 - val_recall: 0.7500 - val_precision: 0.7119\n",
      "Epoch 21/100\n",
      "212/212 [==============================] - 0s 2ms/step - loss: 0.5281 - accuracy: 0.7679 - recall: 0.8214 - precision: 0.7623 - val_loss: 0.6071 - val_accuracy: 0.6484 - val_recall: 0.8036 - val_precision: 0.6818\n",
      "Epoch 22/100\n",
      "212/212 [==============================] - 0s 1ms/step - loss: 0.5402 - accuracy: 0.7224 - recall: 0.7591 - precision: 0.6872 - val_loss: 0.6384 - val_accuracy: 0.6593 - val_recall: 0.8036 - val_precision: 0.6923\n",
      "Epoch 23/100\n",
      "212/212 [==============================] - 0s 1ms/step - loss: 0.5987 - accuracy: 0.6824 - recall: 0.7232 - precision: 0.7001 - val_loss: 0.6987 - val_accuracy: 0.6813 - val_recall: 0.8036 - val_precision: 0.7143\n",
      "Epoch 24/100\n",
      "212/212 [==============================] - 0s 1ms/step - loss: 0.5381 - accuracy: 0.7808 - recall: 0.7555 - precision: 0.8135 - val_loss: 0.6491 - val_accuracy: 0.6703 - val_recall: 0.7143 - val_precision: 0.7407\n",
      "Epoch 25/100\n",
      "212/212 [==============================] - 0s 1ms/step - loss: 0.5255 - accuracy: 0.7261 - recall: 0.7718 - precision: 0.7252 - val_loss: 0.6389 - val_accuracy: 0.6593 - val_recall: 0.9107 - val_precision: 0.6623\n",
      "Epoch 26/100\n",
      "212/212 [==============================] - 0s 1ms/step - loss: 0.4974 - accuracy: 0.7674 - recall: 0.8754 - precision: 0.7388 - val_loss: 0.6881 - val_accuracy: 0.6593 - val_recall: 0.6964 - val_precision: 0.7358\n",
      "Epoch 27/100\n",
      "212/212 [==============================] - 0s 1ms/step - loss: 0.5275 - accuracy: 0.7341 - recall: 0.7597 - precision: 0.7389 - val_loss: 0.6513 - val_accuracy: 0.6593 - val_recall: 0.8036 - val_precision: 0.6923\n",
      "Epoch 28/100\n",
      "212/212 [==============================] - 0s 1ms/step - loss: 0.5129 - accuracy: 0.7680 - recall: 0.7806 - precision: 0.7534 - val_loss: 0.6587 - val_accuracy: 0.6703 - val_recall: 0.7143 - val_precision: 0.7407\n",
      "Epoch 29/100\n",
      "212/212 [==============================] - 0s 1ms/step - loss: 0.4877 - accuracy: 0.7315 - recall: 0.7004 - precision: 0.7419 - val_loss: 0.6044 - val_accuracy: 0.7033 - val_recall: 0.8036 - val_precision: 0.7377\n",
      "Epoch 30/100\n",
      "212/212 [==============================] - 0s 1ms/step - loss: 0.5306 - accuracy: 0.7127 - recall: 0.7404 - precision: 0.7258 - val_loss: 0.6487 - val_accuracy: 0.6923 - val_recall: 0.7500 - val_precision: 0.7500\n",
      "Epoch 31/100\n",
      "212/212 [==============================] - 0s 1ms/step - loss: 0.4869 - accuracy: 0.7832 - recall: 0.8799 - precision: 0.7422 - val_loss: 0.6356 - val_accuracy: 0.6813 - val_recall: 0.8929 - val_precision: 0.6849\n",
      "Epoch 32/100\n",
      "212/212 [==============================] - 0s 1ms/step - loss: 0.5056 - accuracy: 0.7861 - recall: 0.8214 - precision: 0.7137 - val_loss: 0.6524 - val_accuracy: 0.6703 - val_recall: 0.7143 - val_precision: 0.7407\n",
      "Epoch 33/100\n",
      "212/212 [==============================] - 0s 2ms/step - loss: 0.4968 - accuracy: 0.7384 - recall: 0.8301 - precision: 0.7187 - val_loss: 0.6232 - val_accuracy: 0.6703 - val_recall: 0.8214 - val_precision: 0.6970\n",
      "Epoch 34/100\n",
      "212/212 [==============================] - 0s 1ms/step - loss: 0.5075 - accuracy: 0.7596 - recall: 0.7912 - precision: 0.7327 - val_loss: 0.6817 - val_accuracy: 0.6813 - val_recall: 0.8571 - val_precision: 0.6957\n",
      "Epoch 35/100\n",
      "212/212 [==============================] - 0s 1ms/step - loss: 0.4526 - accuracy: 0.7919 - recall: 0.8868 - precision: 0.7356 - val_loss: 0.8367 - val_accuracy: 0.6923 - val_recall: 0.8036 - val_precision: 0.7258\n",
      "Epoch 36/100\n",
      "212/212 [==============================] - 0s 1ms/step - loss: 0.5660 - accuracy: 0.8049 - recall: 0.8424 - precision: 0.8016 - val_loss: 0.6472 - val_accuracy: 0.6374 - val_recall: 0.6429 - val_precision: 0.7347\n",
      "Epoch 37/100\n"
     ]
    },
    {
     "name": "stdout",
     "output_type": "stream",
     "text": [
      "212/212 [==============================] - 0s 1ms/step - loss: 0.4675 - accuracy: 0.7904 - recall: 0.7299 - precision: 0.7719 - val_loss: 0.6533 - val_accuracy: 0.7143 - val_recall: 0.8571 - val_precision: 0.7273\n",
      "Epoch 38/100\n",
      "212/212 [==============================] - 0s 2ms/step - loss: 0.4792 - accuracy: 0.7957 - recall: 0.8372 - precision: 0.7515 - val_loss: 0.6083 - val_accuracy: 0.6813 - val_recall: 0.7143 - val_precision: 0.7547\n",
      "Epoch 39/100\n",
      "212/212 [==============================] - 0s 1ms/step - loss: 0.4443 - accuracy: 0.7751 - recall: 0.7803 - precision: 0.8120 - val_loss: 0.7085 - val_accuracy: 0.6923 - val_recall: 0.7321 - val_precision: 0.7593\n",
      "Epoch 40/100\n",
      "212/212 [==============================] - 0s 1ms/step - loss: 0.4330 - accuracy: 0.7768 - recall: 0.8365 - precision: 0.7611 - val_loss: 0.7137 - val_accuracy: 0.6593 - val_recall: 0.6429 - val_precision: 0.7660\n",
      "Epoch 41/100\n",
      "212/212 [==============================] - 0s 1ms/step - loss: 0.4101 - accuracy: 0.8129 - recall: 0.8641 - precision: 0.7930 - val_loss: 0.6680 - val_accuracy: 0.7033 - val_recall: 0.7500 - val_precision: 0.7636\n",
      "Epoch 42/100\n",
      "212/212 [==============================] - 0s 1ms/step - loss: 0.3962 - accuracy: 0.8160 - recall: 0.8498 - precision: 0.7781 - val_loss: 0.7550 - val_accuracy: 0.7253 - val_recall: 0.8214 - val_precision: 0.7541\n",
      "Epoch 43/100\n",
      "212/212 [==============================] - 0s 1ms/step - loss: 0.4423 - accuracy: 0.7998 - recall: 0.8503 - precision: 0.7967 - val_loss: 0.6829 - val_accuracy: 0.6813 - val_recall: 0.7143 - val_precision: 0.7547\n",
      "Epoch 44/100\n",
      "212/212 [==============================] - 0s 1ms/step - loss: 0.4197 - accuracy: 0.8124 - recall: 0.8522 - precision: 0.7883 - val_loss: 0.9047 - val_accuracy: 0.6593 - val_recall: 0.6607 - val_precision: 0.7551\n",
      "Epoch 45/100\n",
      "212/212 [==============================] - 0s 1ms/step - loss: 0.5889 - accuracy: 0.7483 - recall: 0.8626 - precision: 0.7436 - val_loss: 0.6026 - val_accuracy: 0.7253 - val_recall: 0.8571 - val_precision: 0.7385\n",
      "Epoch 46/100\n",
      "212/212 [==============================] - 0s 1ms/step - loss: 0.4404 - accuracy: 0.7670 - recall: 0.7924 - precision: 0.7374 - val_loss: 0.6000 - val_accuracy: 0.7143 - val_recall: 0.8036 - val_precision: 0.7500\n",
      "Epoch 47/100\n",
      "212/212 [==============================] - 0s 1ms/step - loss: 0.3948 - accuracy: 0.8452 - recall: 0.9009 - precision: 0.8322 - val_loss: 0.6910 - val_accuracy: 0.6593 - val_recall: 0.6429 - val_precision: 0.7660\n",
      "Epoch 48/100\n",
      "212/212 [==============================] - 0s 1ms/step - loss: 0.4095 - accuracy: 0.8212 - recall: 0.7865 - precision: 0.8496 - val_loss: 0.6519 - val_accuracy: 0.6813 - val_recall: 0.7321 - val_precision: 0.7455\n",
      "Epoch 49/100\n",
      "212/212 [==============================] - 0s 1ms/step - loss: 0.4139 - accuracy: 0.8163 - recall: 0.8574 - precision: 0.8159 - val_loss: 0.9659 - val_accuracy: 0.7033 - val_recall: 0.7321 - val_precision: 0.7736\n",
      "Epoch 50/100\n",
      "212/212 [==============================] - 0s 1ms/step - loss: 0.3610 - accuracy: 0.8207 - recall: 0.8688 - precision: 0.7947 - val_loss: 0.5416 - val_accuracy: 0.7253 - val_recall: 0.8750 - val_precision: 0.7313\n",
      "Epoch 51/100\n",
      "212/212 [==============================] - 0s 1ms/step - loss: 0.3708 - accuracy: 0.8098 - recall: 0.9042 - precision: 0.7432 - val_loss: 0.7885 - val_accuracy: 0.7363 - val_recall: 0.8393 - val_precision: 0.7581\n",
      "Epoch 52/100\n",
      "212/212 [==============================] - 0s 1ms/step - loss: 0.5024 - accuracy: 0.7623 - recall: 0.8587 - precision: 0.7375 - val_loss: 0.5490 - val_accuracy: 0.7363 - val_recall: 0.9286 - val_precision: 0.7222\n",
      "Epoch 53/100\n",
      "212/212 [==============================] - 0s 1ms/step - loss: 0.3901 - accuracy: 0.8201 - recall: 0.9461 - precision: 0.7567 - val_loss: 0.6050 - val_accuracy: 0.6813 - val_recall: 0.9464 - val_precision: 0.6709\n",
      "Epoch 54/100\n",
      "212/212 [==============================] - 0s 1ms/step - loss: 0.3676 - accuracy: 0.8247 - recall: 0.9149 - precision: 0.7681 - val_loss: 0.5873 - val_accuracy: 0.6813 - val_recall: 0.9464 - val_precision: 0.6709\n",
      "Epoch 55/100\n",
      "212/212 [==============================] - 0s 1ms/step - loss: 0.4628 - accuracy: 0.7776 - recall: 0.9008 - precision: 0.7164 - val_loss: 0.6220 - val_accuracy: 0.7033 - val_recall: 0.9464 - val_precision: 0.6883\n",
      "Epoch 56/100\n",
      "212/212 [==============================] - 0s 1ms/step - loss: 0.4084 - accuracy: 0.7923 - recall: 0.9360 - precision: 0.7300 - val_loss: 0.6466 - val_accuracy: 0.7253 - val_recall: 0.9286 - val_precision: 0.7123\n",
      "Epoch 57/100\n",
      "212/212 [==============================] - 0s 1ms/step - loss: 0.2733 - accuracy: 0.8817 - recall: 0.9001 - precision: 0.8789 - val_loss: 0.6728 - val_accuracy: 0.7253 - val_recall: 0.7143 - val_precision: 0.8163\n",
      "Epoch 58/100\n",
      "212/212 [==============================] - 0s 1ms/step - loss: 0.3363 - accuracy: 0.8500 - recall: 0.8687 - precision: 0.8328 - val_loss: 0.6539 - val_accuracy: 0.7692 - val_recall: 0.8393 - val_precision: 0.7966\n",
      "Epoch 59/100\n",
      "212/212 [==============================] - 0s 1ms/step - loss: 0.3538 - accuracy: 0.8483 - recall: 0.9026 - precision: 0.8242 - val_loss: 1.0745 - val_accuracy: 0.7692 - val_recall: 0.8393 - val_precision: 0.7966\n",
      "Epoch 60/100\n",
      "212/212 [==============================] - 0s 1ms/step - loss: 0.3990 - accuracy: 0.8371 - recall: 0.8840 - precision: 0.8248 - val_loss: 0.5364 - val_accuracy: 0.7473 - val_recall: 0.9107 - val_precision: 0.7391\n",
      "Epoch 61/100\n",
      "212/212 [==============================] - 0s 1ms/step - loss: 0.3637 - accuracy: 0.8226 - recall: 0.9036 - precision: 0.7915 - val_loss: 0.6077 - val_accuracy: 0.7912 - val_recall: 0.8571 - val_precision: 0.8136\n",
      "Epoch 62/100\n",
      "212/212 [==============================] - 0s 1ms/step - loss: 0.3782 - accuracy: 0.8065 - recall: 0.8421 - precision: 0.7961 - val_loss: 0.5784 - val_accuracy: 0.7692 - val_recall: 0.8750 - val_precision: 0.7778\n",
      "Epoch 63/100\n",
      "212/212 [==============================] - 0s 1ms/step - loss: 0.3706 - accuracy: 0.8478 - recall: 0.9119 - precision: 0.7807 - val_loss: 0.7608 - val_accuracy: 0.7582 - val_recall: 0.8750 - val_precision: 0.7656\n",
      "Epoch 64/100\n",
      "212/212 [==============================] - 0s 2ms/step - loss: 0.3979 - accuracy: 0.7745 - recall: 0.8721 - precision: 0.7608 - val_loss: 0.7005 - val_accuracy: 0.7692 - val_recall: 0.8750 - val_precision: 0.7778\n",
      "Epoch 65/100\n",
      "212/212 [==============================] - 0s 1ms/step - loss: 0.3664 - accuracy: 0.8315 - recall: 0.8952 - precision: 0.7678 - val_loss: 0.5556 - val_accuracy: 0.7692 - val_recall: 0.8750 - val_precision: 0.7778\n",
      "Epoch 66/100\n",
      "212/212 [==============================] - 0s 1ms/step - loss: 0.3809 - accuracy: 0.8463 - recall: 0.8692 - precision: 0.8417 - val_loss: 0.6002 - val_accuracy: 0.7473 - val_recall: 0.9107 - val_precision: 0.7391\n",
      "Epoch 67/100\n",
      "212/212 [==============================] - 0s 1ms/step - loss: 0.3559 - accuracy: 0.8151 - recall: 0.8888 - precision: 0.7799 - val_loss: 0.7019 - val_accuracy: 0.7802 - val_recall: 0.8036 - val_precision: 0.8333\n",
      "Epoch 68/100\n",
      "212/212 [==============================] - 0s 1ms/step - loss: 0.3345 - accuracy: 0.8432 - recall: 0.8082 - precision: 0.8716 - val_loss: 0.5504 - val_accuracy: 0.7912 - val_recall: 0.8393 - val_precision: 0.8246\n",
      "Epoch 69/100\n",
      "212/212 [==============================] - 0s 1ms/step - loss: 0.3358 - accuracy: 0.8482 - recall: 0.8024 - precision: 0.8673 - val_loss: 0.5647 - val_accuracy: 0.7253 - val_recall: 0.9107 - val_precision: 0.7183\n",
      "Epoch 70/100\n",
      "212/212 [==============================] - 0s 1ms/step - loss: 0.3777 - accuracy: 0.8064 - recall: 0.9111 - precision: 0.7479 - val_loss: 0.8412 - val_accuracy: 0.7582 - val_recall: 0.9107 - val_precision: 0.7500\n",
      "Epoch 71/100\n",
      "212/212 [==============================] - 0s 1ms/step - loss: 0.2817 - accuracy: 0.8370 - recall: 0.9082 - precision: 0.7964 - val_loss: 0.7277 - val_accuracy: 0.7473 - val_recall: 0.8929 - val_precision: 0.7463\n",
      "Epoch 72/100\n",
      "212/212 [==============================] - 0s 1ms/step - loss: 0.3876 - accuracy: 0.8367 - recall: 0.9187 - precision: 0.7890 - val_loss: 0.9193 - val_accuracy: 0.7473 - val_recall: 0.7143 - val_precision: 0.8511\n",
      "Epoch 73/100\n"
     ]
    },
    {
     "name": "stdout",
     "output_type": "stream",
     "text": [
      "212/212 [==============================] - 0s 1ms/step - loss: 0.3503 - accuracy: 0.8407 - recall: 0.8653 - precision: 0.8429 - val_loss: 0.6278 - val_accuracy: 0.7802 - val_recall: 0.9107 - val_precision: 0.7727\n",
      "Epoch 74/100\n",
      "212/212 [==============================] - 0s 1ms/step - loss: 0.3783 - accuracy: 0.8232 - recall: 0.8984 - precision: 0.7460 - val_loss: 0.4806 - val_accuracy: 0.8022 - val_recall: 0.8929 - val_precision: 0.8065\n",
      "Epoch 75/100\n",
      "212/212 [==============================] - 0s 1ms/step - loss: 0.3111 - accuracy: 0.8937 - recall: 0.8858 - precision: 0.8858 - val_loss: 0.5822 - val_accuracy: 0.7692 - val_recall: 0.8571 - val_precision: 0.7869\n",
      "Epoch 76/100\n",
      "212/212 [==============================] - 0s 1ms/step - loss: 0.3382 - accuracy: 0.8127 - recall: 0.8582 - precision: 0.7703 - val_loss: 0.5622 - val_accuracy: 0.7473 - val_recall: 0.8929 - val_precision: 0.7463\n",
      "Epoch 77/100\n",
      "212/212 [==============================] - 0s 1ms/step - loss: 0.2707 - accuracy: 0.8785 - recall: 0.9319 - precision: 0.8536 - val_loss: 0.6441 - val_accuracy: 0.7802 - val_recall: 0.8750 - val_precision: 0.7903\n",
      "Epoch 78/100\n",
      "212/212 [==============================] - 0s 1ms/step - loss: 0.2575 - accuracy: 0.8932 - recall: 0.9356 - precision: 0.8562 - val_loss: 0.6162 - val_accuracy: 0.7473 - val_recall: 0.7321 - val_precision: 0.8367\n",
      "Epoch 79/100\n",
      "212/212 [==============================] - 0s 1ms/step - loss: 0.2794 - accuracy: 0.8785 - recall: 0.9352 - precision: 0.8408 - val_loss: 0.6335 - val_accuracy: 0.7692 - val_recall: 0.9107 - val_precision: 0.7612\n",
      "Epoch 80/100\n",
      "212/212 [==============================] - 0s 1ms/step - loss: 0.3423 - accuracy: 0.8575 - recall: 0.9345 - precision: 0.8254 - val_loss: 0.7044 - val_accuracy: 0.7473 - val_recall: 0.9107 - val_precision: 0.7391\n",
      "Epoch 81/100\n",
      "212/212 [==============================] - 0s 1ms/step - loss: 0.3150 - accuracy: 0.8766 - recall: 0.9350 - precision: 0.8472 - val_loss: 0.5236 - val_accuracy: 0.7912 - val_recall: 0.7857 - val_precision: 0.8627\n",
      "Epoch 82/100\n",
      "212/212 [==============================] - 0s 1ms/step - loss: 0.3275 - accuracy: 0.8692 - recall: 0.8470 - precision: 0.8308 - val_loss: 0.7094 - val_accuracy: 0.7473 - val_recall: 0.9107 - val_precision: 0.7391\n",
      "Epoch 83/100\n",
      "212/212 [==============================] - 0s 1ms/step - loss: 0.3789 - accuracy: 0.8286 - recall: 0.8907 - precision: 0.8206 - val_loss: 0.5787 - val_accuracy: 0.7802 - val_recall: 0.9107 - val_precision: 0.7727\n",
      "Epoch 84/100\n",
      "212/212 [==============================] - 0s 1ms/step - loss: 0.2906 - accuracy: 0.8372 - recall: 0.9061 - precision: 0.7863 - val_loss: 0.5511 - val_accuracy: 0.7692 - val_recall: 0.9107 - val_precision: 0.7612\n",
      "Epoch 85/100\n",
      "212/212 [==============================] - 0s 1ms/step - loss: 0.2627 - accuracy: 0.8953 - recall: 0.9357 - precision: 0.8765 - val_loss: 0.5406 - val_accuracy: 0.7802 - val_recall: 0.8750 - val_precision: 0.7903\n",
      "Epoch 86/100\n",
      "212/212 [==============================] - 0s 1ms/step - loss: 0.2922 - accuracy: 0.8676 - recall: 0.8925 - precision: 0.7896 - val_loss: 0.6187 - val_accuracy: 0.7912 - val_recall: 0.8750 - val_precision: 0.8033\n",
      "Epoch 87/100\n",
      "212/212 [==============================] - 0s 1ms/step - loss: 0.2946 - accuracy: 0.8837 - recall: 0.8933 - precision: 0.8762 - val_loss: 0.7288 - val_accuracy: 0.7692 - val_recall: 0.8750 - val_precision: 0.7778\n",
      "Epoch 88/100\n",
      "212/212 [==============================] - 0s 1ms/step - loss: 0.3195 - accuracy: 0.8467 - recall: 0.9397 - precision: 0.8191 - val_loss: 1.2880 - val_accuracy: 0.6264 - val_recall: 0.4643 - val_precision: 0.8667\n",
      "Epoch 89/100\n",
      "212/212 [==============================] - 0s 1ms/step - loss: 0.3100 - accuracy: 0.8682 - recall: 0.8258 - precision: 0.8690 - val_loss: 0.8561 - val_accuracy: 0.7802 - val_recall: 0.8750 - val_precision: 0.7903\n",
      "Epoch 90/100\n",
      "212/212 [==============================] - 0s 1ms/step - loss: 0.4481 - accuracy: 0.7918 - recall: 0.8297 - precision: 0.7618 - val_loss: 0.5848 - val_accuracy: 0.7582 - val_recall: 0.8750 - val_precision: 0.7656\n",
      "Epoch 91/100\n",
      "212/212 [==============================] - 0s 1ms/step - loss: 0.4227 - accuracy: 0.7886 - recall: 0.8313 - precision: 0.7604 - val_loss: 0.6306 - val_accuracy: 0.7692 - val_recall: 0.8929 - val_precision: 0.7692\n",
      "Epoch 92/100\n",
      "212/212 [==============================] - 0s 1ms/step - loss: 0.3529 - accuracy: 0.8582 - recall: 0.8729 - precision: 0.8645 - val_loss: 0.5913 - val_accuracy: 0.7692 - val_recall: 0.8750 - val_precision: 0.7778\n",
      "Epoch 93/100\n",
      "212/212 [==============================] - 0s 1ms/step - loss: 0.3608 - accuracy: 0.8193 - recall: 0.8998 - precision: 0.8056 - val_loss: 0.6992 - val_accuracy: 0.7912 - val_recall: 0.8750 - val_precision: 0.8033\n",
      "Epoch 94/100\n",
      "212/212 [==============================] - 0s 1ms/step - loss: 0.2927 - accuracy: 0.8774 - recall: 0.9353 - precision: 0.8470 - val_loss: 0.6933 - val_accuracy: 0.7802 - val_recall: 0.8929 - val_precision: 0.7812\n",
      "Epoch 95/100\n",
      "212/212 [==============================] - 0s 1ms/step - loss: 0.3703 - accuracy: 0.8093 - recall: 0.8738 - precision: 0.8115 - val_loss: 1.4486 - val_accuracy: 0.7912 - val_recall: 0.8036 - val_precision: 0.8491\n",
      "Epoch 96/100\n",
      "212/212 [==============================] - 0s 1ms/step - loss: 0.2809 - accuracy: 0.8934 - recall: 0.9474 - precision: 0.8745 - val_loss: 1.3465 - val_accuracy: 0.7692 - val_recall: 0.8750 - val_precision: 0.7778\n",
      "Epoch 97/100\n",
      "212/212 [==============================] - 0s 1ms/step - loss: 0.3226 - accuracy: 0.8428 - recall: 0.8613 - precision: 0.8164 - val_loss: 1.5320 - val_accuracy: 0.7912 - val_recall: 0.8750 - val_precision: 0.8033\n",
      "Epoch 98/100\n",
      "212/212 [==============================] - 0s 1ms/step - loss: 0.3109 - accuracy: 0.8575 - recall: 0.9141 - precision: 0.8410 - val_loss: 1.0847 - val_accuracy: 0.8132 - val_recall: 0.8214 - val_precision: 0.8679\n",
      "Epoch 99/100\n",
      "212/212 [==============================] - 0s 1ms/step - loss: 0.3071 - accuracy: 0.8635 - recall: 0.8849 - precision: 0.8362 - val_loss: 0.7274 - val_accuracy: 0.7033 - val_recall: 0.9107 - val_precision: 0.6986\n",
      "Epoch 100/100\n",
      "212/212 [==============================] - 0s 1ms/step - loss: 0.2786 - accuracy: 0.8859 - recall: 0.8633 - precision: 0.8461 - val_loss: 0.7902 - val_accuracy: 0.7802 - val_recall: 0.9107 - val_precision: 0.7727\n"
     ]
    }
   ],
   "source": [
    "# 모델을 실행합니다.\n",
    "# 학습데이터 & 테스트데이터로 계속 확인\n",
    "history_1 = model.fit(train_X, train_Y, epochs=100, batch_size=1,validation_data=(test_X,test_Y)) # batch_size"
   ]
  },
  {
   "cell_type": "markdown",
   "id": "cd0677e8",
   "metadata": {},
   "source": [
    "## 2. 데이터 정규화 진행"
   ]
  },
  {
   "cell_type": "markdown",
   "id": "99b97004",
   "metadata": {},
   "source": [
    "1. thalachh\n",
    "\n",
    "2. trtbps\n",
    "\n",
    "3. chol\n",
    "\n",
    "에 대해 정규화 진행"
   ]
  },
  {
   "cell_type": "code",
   "execution_count": 25,
   "id": "806627b2",
   "metadata": {},
   "outputs": [],
   "source": [
    "from sklearn.preprocessing import StandardScaler\n",
    "from sklearn.preprocessing import MinMaxScaler"
   ]
  },
  {
   "cell_type": "code",
   "execution_count": 26,
   "id": "ef5c984a",
   "metadata": {},
   "outputs": [],
   "source": [
    "# Pandas Series로 뽑으면 데이터가 1차원 데이터가 된다 -> Scaler에 넣기 위해서는 Pandas DataFrame을 만들어야 하는데\n",
    "# DataFrame 만드는 방법에 Series를 넣어서 만드는 방법이 있네... to_frame...\n",
    "# 아래 방식은 Pandas Series로 부터 nparray를 추출, 이를 Scaler에 fit & tranform하여 데이터 프레임으로 만들어서\n",
    "# 기존 DataFrame에 update로 데이터 바꾸는 방식\n",
    "thalachh = heart['thalachh'].values.reshape(-1,1)\n",
    "trtbps = heart['trtbps'].values.reshape(-1,1)\n",
    "chol = heart['chol'].values.reshape(-1,1)"
   ]
  },
  {
   "cell_type": "markdown",
   "id": "c840dd6f",
   "metadata": {},
   "source": [
    "1. MinMaxScaler"
   ]
  },
  {
   "cell_type": "code",
   "execution_count": 27,
   "id": "f29c0a22",
   "metadata": {},
   "outputs": [],
   "source": [
    "mm_norm = MinMaxScaler() # 최소-최대 스케일러"
   ]
  },
  {
   "cell_type": "code",
   "execution_count": 28,
   "id": "cbaa6e57",
   "metadata": {},
   "outputs": [],
   "source": [
    "# 스케일러 적용\n",
    "mm_thalachh = mm_norm.fit_transform(thalachh) \n",
    "mm_trtbps = mm_norm.fit_transform(trtbps)\n",
    "mm_chol = mm_norm.fit_transform(chol)"
   ]
  },
  {
   "cell_type": "code",
   "execution_count": 29,
   "id": "7fb065cf",
   "metadata": {},
   "outputs": [],
   "source": [
    "# 각각의 스케일링 된 데이터를 데이터 프레임으로 만듬.\n",
    "thalachh = pd.DataFrame(mm_thalachh,columns=['thalachh'])\n",
    "trtbps = pd.DataFrame(mm_thalachh,columns=['trtbps'])\n",
    "chol = pd.DataFrame(mm_thalachh,columns=['chol'])"
   ]
  },
  {
   "cell_type": "code",
   "execution_count": 30,
   "id": "4e0918ae",
   "metadata": {},
   "outputs": [],
   "source": [
    "# 기존 데이터에서 deep copy로 dataframe을 복사하여 새 dataframe을 만듬\n",
    "mm_heart = heart.copy()"
   ]
  },
  {
   "cell_type": "code",
   "execution_count": 31,
   "id": "20d0e96e",
   "metadata": {},
   "outputs": [
    {
     "data": {
      "text/html": [
       "<div>\n",
       "<style scoped>\n",
       "    .dataframe tbody tr th:only-of-type {\n",
       "        vertical-align: middle;\n",
       "    }\n",
       "\n",
       "    .dataframe tbody tr th {\n",
       "        vertical-align: top;\n",
       "    }\n",
       "\n",
       "    .dataframe thead th {\n",
       "        text-align: right;\n",
       "    }\n",
       "</style>\n",
       "<table border=\"1\" class=\"dataframe\">\n",
       "  <thead>\n",
       "    <tr style=\"text-align: right;\">\n",
       "      <th></th>\n",
       "      <th>age</th>\n",
       "      <th>sex</th>\n",
       "      <th>cp</th>\n",
       "      <th>trtbps</th>\n",
       "      <th>chol</th>\n",
       "      <th>fbs</th>\n",
       "      <th>restecg</th>\n",
       "      <th>thalachh</th>\n",
       "      <th>exng</th>\n",
       "      <th>oldpeak</th>\n",
       "      <th>slp</th>\n",
       "      <th>caa</th>\n",
       "      <th>thall</th>\n",
       "      <th>output</th>\n",
       "    </tr>\n",
       "  </thead>\n",
       "  <tbody>\n",
       "    <tr>\n",
       "      <th>0</th>\n",
       "      <td>63</td>\n",
       "      <td>1</td>\n",
       "      <td>3</td>\n",
       "      <td>145</td>\n",
       "      <td>233</td>\n",
       "      <td>1</td>\n",
       "      <td>0</td>\n",
       "      <td>150</td>\n",
       "      <td>0</td>\n",
       "      <td>2.3</td>\n",
       "      <td>0</td>\n",
       "      <td>0</td>\n",
       "      <td>1</td>\n",
       "      <td>1</td>\n",
       "    </tr>\n",
       "    <tr>\n",
       "      <th>1</th>\n",
       "      <td>37</td>\n",
       "      <td>1</td>\n",
       "      <td>2</td>\n",
       "      <td>130</td>\n",
       "      <td>250</td>\n",
       "      <td>0</td>\n",
       "      <td>1</td>\n",
       "      <td>187</td>\n",
       "      <td>0</td>\n",
       "      <td>3.5</td>\n",
       "      <td>0</td>\n",
       "      <td>0</td>\n",
       "      <td>2</td>\n",
       "      <td>1</td>\n",
       "    </tr>\n",
       "    <tr>\n",
       "      <th>2</th>\n",
       "      <td>41</td>\n",
       "      <td>0</td>\n",
       "      <td>1</td>\n",
       "      <td>130</td>\n",
       "      <td>204</td>\n",
       "      <td>0</td>\n",
       "      <td>0</td>\n",
       "      <td>172</td>\n",
       "      <td>0</td>\n",
       "      <td>1.4</td>\n",
       "      <td>2</td>\n",
       "      <td>0</td>\n",
       "      <td>2</td>\n",
       "      <td>1</td>\n",
       "    </tr>\n",
       "    <tr>\n",
       "      <th>3</th>\n",
       "      <td>56</td>\n",
       "      <td>1</td>\n",
       "      <td>1</td>\n",
       "      <td>120</td>\n",
       "      <td>236</td>\n",
       "      <td>0</td>\n",
       "      <td>1</td>\n",
       "      <td>178</td>\n",
       "      <td>0</td>\n",
       "      <td>0.8</td>\n",
       "      <td>2</td>\n",
       "      <td>0</td>\n",
       "      <td>2</td>\n",
       "      <td>1</td>\n",
       "    </tr>\n",
       "    <tr>\n",
       "      <th>4</th>\n",
       "      <td>57</td>\n",
       "      <td>0</td>\n",
       "      <td>0</td>\n",
       "      <td>120</td>\n",
       "      <td>354</td>\n",
       "      <td>0</td>\n",
       "      <td>1</td>\n",
       "      <td>163</td>\n",
       "      <td>1</td>\n",
       "      <td>0.6</td>\n",
       "      <td>2</td>\n",
       "      <td>0</td>\n",
       "      <td>2</td>\n",
       "      <td>1</td>\n",
       "    </tr>\n",
       "  </tbody>\n",
       "</table>\n",
       "</div>"
      ],
      "text/plain": [
       "   age  sex  cp  trtbps  chol  fbs  restecg  thalachh  exng  oldpeak  slp  \\\n",
       "0   63    1   3     145   233    1        0       150     0      2.3    0   \n",
       "1   37    1   2     130   250    0        1       187     0      3.5    0   \n",
       "2   41    0   1     130   204    0        0       172     0      1.4    2   \n",
       "3   56    1   1     120   236    0        1       178     0      0.8    2   \n",
       "4   57    0   0     120   354    0        1       163     1      0.6    2   \n",
       "\n",
       "   caa  thall  output  \n",
       "0    0      1       1  \n",
       "1    0      2       1  \n",
       "2    0      2       1  \n",
       "3    0      2       1  \n",
       "4    0      2       1  "
      ]
     },
     "execution_count": 31,
     "metadata": {},
     "output_type": "execute_result"
    }
   ],
   "source": [
    "mm_heart.head() # 복사 확인"
   ]
  },
  {
   "cell_type": "code",
   "execution_count": 32,
   "id": "5248f15e",
   "metadata": {},
   "outputs": [
    {
     "data": {
      "text/html": [
       "<div>\n",
       "<style scoped>\n",
       "    .dataframe tbody tr th:only-of-type {\n",
       "        vertical-align: middle;\n",
       "    }\n",
       "\n",
       "    .dataframe tbody tr th {\n",
       "        vertical-align: top;\n",
       "    }\n",
       "\n",
       "    .dataframe thead th {\n",
       "        text-align: right;\n",
       "    }\n",
       "</style>\n",
       "<table border=\"1\" class=\"dataframe\">\n",
       "  <thead>\n",
       "    <tr style=\"text-align: right;\">\n",
       "      <th></th>\n",
       "      <th>age</th>\n",
       "      <th>sex</th>\n",
       "      <th>cp</th>\n",
       "      <th>trtbps</th>\n",
       "      <th>chol</th>\n",
       "      <th>fbs</th>\n",
       "      <th>restecg</th>\n",
       "      <th>thalachh</th>\n",
       "      <th>exng</th>\n",
       "      <th>oldpeak</th>\n",
       "      <th>slp</th>\n",
       "      <th>caa</th>\n",
       "      <th>thall</th>\n",
       "      <th>output</th>\n",
       "    </tr>\n",
       "  </thead>\n",
       "  <tbody>\n",
       "    <tr>\n",
       "      <th>0</th>\n",
       "      <td>63</td>\n",
       "      <td>1</td>\n",
       "      <td>3</td>\n",
       "      <td>0.603053</td>\n",
       "      <td>0.603053</td>\n",
       "      <td>1</td>\n",
       "      <td>0</td>\n",
       "      <td>0.603053</td>\n",
       "      <td>0</td>\n",
       "      <td>2.3</td>\n",
       "      <td>0</td>\n",
       "      <td>0</td>\n",
       "      <td>1</td>\n",
       "      <td>1</td>\n",
       "    </tr>\n",
       "    <tr>\n",
       "      <th>1</th>\n",
       "      <td>37</td>\n",
       "      <td>1</td>\n",
       "      <td>2</td>\n",
       "      <td>0.885496</td>\n",
       "      <td>0.885496</td>\n",
       "      <td>0</td>\n",
       "      <td>1</td>\n",
       "      <td>0.885496</td>\n",
       "      <td>0</td>\n",
       "      <td>3.5</td>\n",
       "      <td>0</td>\n",
       "      <td>0</td>\n",
       "      <td>2</td>\n",
       "      <td>1</td>\n",
       "    </tr>\n",
       "    <tr>\n",
       "      <th>2</th>\n",
       "      <td>41</td>\n",
       "      <td>0</td>\n",
       "      <td>1</td>\n",
       "      <td>0.770992</td>\n",
       "      <td>0.770992</td>\n",
       "      <td>0</td>\n",
       "      <td>0</td>\n",
       "      <td>0.770992</td>\n",
       "      <td>0</td>\n",
       "      <td>1.4</td>\n",
       "      <td>2</td>\n",
       "      <td>0</td>\n",
       "      <td>2</td>\n",
       "      <td>1</td>\n",
       "    </tr>\n",
       "    <tr>\n",
       "      <th>3</th>\n",
       "      <td>56</td>\n",
       "      <td>1</td>\n",
       "      <td>1</td>\n",
       "      <td>0.816794</td>\n",
       "      <td>0.816794</td>\n",
       "      <td>0</td>\n",
       "      <td>1</td>\n",
       "      <td>0.816794</td>\n",
       "      <td>0</td>\n",
       "      <td>0.8</td>\n",
       "      <td>2</td>\n",
       "      <td>0</td>\n",
       "      <td>2</td>\n",
       "      <td>1</td>\n",
       "    </tr>\n",
       "    <tr>\n",
       "      <th>4</th>\n",
       "      <td>57</td>\n",
       "      <td>0</td>\n",
       "      <td>0</td>\n",
       "      <td>0.702290</td>\n",
       "      <td>0.702290</td>\n",
       "      <td>0</td>\n",
       "      <td>1</td>\n",
       "      <td>0.702290</td>\n",
       "      <td>1</td>\n",
       "      <td>0.6</td>\n",
       "      <td>2</td>\n",
       "      <td>0</td>\n",
       "      <td>2</td>\n",
       "      <td>1</td>\n",
       "    </tr>\n",
       "  </tbody>\n",
       "</table>\n",
       "</div>"
      ],
      "text/plain": [
       "   age  sex  cp    trtbps      chol  fbs  restecg  thalachh  exng  oldpeak  \\\n",
       "0   63    1   3  0.603053  0.603053    1        0  0.603053     0      2.3   \n",
       "1   37    1   2  0.885496  0.885496    0        1  0.885496     0      3.5   \n",
       "2   41    0   1  0.770992  0.770992    0        0  0.770992     0      1.4   \n",
       "3   56    1   1  0.816794  0.816794    0        1  0.816794     0      0.8   \n",
       "4   57    0   0  0.702290  0.702290    0        1  0.702290     1      0.6   \n",
       "\n",
       "   slp  caa  thall  output  \n",
       "0    0    0      1       1  \n",
       "1    0    0      2       1  \n",
       "2    2    0      2       1  \n",
       "3    2    0      2       1  \n",
       "4    2    0      2       1  "
      ]
     },
     "execution_count": 32,
     "metadata": {},
     "output_type": "execute_result"
    }
   ],
   "source": [
    " # 3개의 column에 대해 각각 update를 통해 값을 갱신\n",
    "mm_heart.update(thalachh)\n",
    "mm_heart.update(trtbps)\n",
    "mm_heart.update(chol)\n",
    "mm_heart.head() # 변경 확인."
   ]
  },
  {
   "cell_type": "code",
   "execution_count": 33,
   "id": "a6c229f4",
   "metadata": {},
   "outputs": [],
   "source": [
    "mm_heart_data = mm_heart.iloc[:,:-1] # 데이터\n",
    "mm_heart_label = mm_heart.iloc[:,-1] # 라벨"
   ]
  },
  {
   "cell_type": "code",
   "execution_count": 34,
   "id": "dfea0e59",
   "metadata": {},
   "outputs": [],
   "source": [
    "from sklearn.model_selection import train_test_split\n",
    "# 학습, 테스트 데이터 분리\n",
    "mm_train_X, mm_test_X, mm_train_Y, mm_test_Y = train_test_split(mm_heart_data, mm_heart_label, test_size=0.3, random_state=123 ,stratify = mm_heart_label)"
   ]
  },
  {
   "cell_type": "code",
   "execution_count": 35,
   "id": "7b4179c1",
   "metadata": {},
   "outputs": [],
   "source": [
    "## 구현\n",
    "# 간단한 DNN모델 작성 \n",
    "mm_model = keras.models.Sequential()\n",
    "mm_model.add(keras.layers.Dense(32, input_dim=13, activation='relu' ))\n",
    "mm_model.add(keras.layers.Dense(64, activation='relu'))\n",
    "mm_model.add(keras.layers.Dropout(0.2))\n",
    "mm_model.add(keras.layers.Dense(32, activation='relu'))\n",
    "mm_model.add(keras.layers.Dense(16, activation='relu'))\n",
    "mm_model.add(keras.layers.Dense(1, activation='sigmoid'))"
   ]
  },
  {
   "cell_type": "code",
   "execution_count": 36,
   "id": "7be18fd8",
   "metadata": {},
   "outputs": [
    {
     "name": "stdout",
     "output_type": "stream",
     "text": [
      "Model: \"sequential_1\"\n",
      "_________________________________________________________________\n",
      "Layer (type)                 Output Shape              Param #   \n",
      "=================================================================\n",
      "dense_5 (Dense)              (None, 32)                448       \n",
      "_________________________________________________________________\n",
      "dense_6 (Dense)              (None, 64)                2112      \n",
      "_________________________________________________________________\n",
      "dropout_1 (Dropout)          (None, 64)                0         \n",
      "_________________________________________________________________\n",
      "dense_7 (Dense)              (None, 32)                2080      \n",
      "_________________________________________________________________\n",
      "dense_8 (Dense)              (None, 16)                528       \n",
      "_________________________________________________________________\n",
      "dense_9 (Dense)              (None, 1)                 17        \n",
      "=================================================================\n",
      "Total params: 5,185\n",
      "Trainable params: 5,185\n",
      "Non-trainable params: 0\n",
      "_________________________________________________________________\n"
     ]
    }
   ],
   "source": [
    "mm_model.summary()\n",
    "mm_model.compile(loss='binary_crossentropy', # 손실함수 -> Binary Cross Entropy Loss\n",
    "             optimizer='adam', # Optimizer로 Adam을 사용. 기본 값: Learning rate = 0.001\n",
    "             metrics=['accuracy','Recall','Precision']) # 정확도, 재현율, 정밀도"
   ]
  },
  {
   "cell_type": "code",
   "execution_count": 37,
   "id": "49519350",
   "metadata": {},
   "outputs": [
    {
     "data": {
      "image/png": "[encoded data removed]",
      "text/plain": [
       "<IPython.core.display.Image object>"
      ]
     },
     "execution_count": 37,
     "metadata": {},
     "output_type": "execute_result"
    }
   ],
   "source": [
    "tf.keras.utils.plot_model(mm_model, show_shapes=True) #입력, 출력 데이터의 틀을 보여준다"
   ]
  },
  {
   "cell_type": "code",
   "execution_count": 38,
   "id": "00abf6d9",
   "metadata": {},
   "outputs": [
    {
     "name": "stdout",
     "output_type": "stream",
     "text": [
      "Epoch 1/100\n",
      "212/212 [==============================] - 1s 3ms/step - loss: 0.8525 - accuracy: 0.4507 - recall: 0.3822 - precision: 0.4706 - val_loss: 0.7059 - val_accuracy: 0.5495 - val_recall: 1.0000 - val_precision: 0.5495\n",
      "Epoch 2/100\n",
      "212/212 [==============================] - 0s 1ms/step - loss: 0.6685 - accuracy: 0.5916 - recall: 0.6077 - precision: 0.6339 - val_loss: 0.6660 - val_accuracy: 0.5495 - val_recall: 1.0000 - val_precision: 0.5495\n",
      "Epoch 3/100\n",
      "212/212 [==============================] - 0s 1ms/step - loss: 0.6665 - accuracy: 0.6479 - recall: 0.7774 - precision: 0.6499 - val_loss: 0.6379 - val_accuracy: 0.5824 - val_recall: 0.2400 - val_precision: 1.0000\n",
      "Epoch 4/100\n",
      "212/212 [==============================] - 0s 1ms/step - loss: 0.6148 - accuracy: 0.6736 - recall: 0.7501 - precision: 0.6792 - val_loss: 0.4926 - val_accuracy: 0.7912 - val_recall: 0.9000 - val_precision: 0.7627\n",
      "Epoch 5/100\n",
      "212/212 [==============================] - 0s 1ms/step - loss: 0.5413 - accuracy: 0.7317 - recall: 0.7365 - precision: 0.7280 - val_loss: 0.4536 - val_accuracy: 0.8242 - val_recall: 0.9000 - val_precision: 0.8036\n",
      "Epoch 6/100\n",
      "212/212 [==============================] - 0s 1ms/step - loss: 0.4966 - accuracy: 0.7038 - recall: 0.7197 - precision: 0.7285 - val_loss: 0.4407 - val_accuracy: 0.8242 - val_recall: 0.9000 - val_precision: 0.8036\n",
      "Epoch 7/100\n",
      "212/212 [==============================] - 0s 1ms/step - loss: 0.4933 - accuracy: 0.7963 - recall: 0.9044 - precision: 0.7864 - val_loss: 0.4416 - val_accuracy: 0.7692 - val_recall: 0.7400 - val_precision: 0.8222\n",
      "Epoch 8/100\n",
      "212/212 [==============================] - 0s 1ms/step - loss: 0.4739 - accuracy: 0.7619 - recall: 0.7653 - precision: 0.7577 - val_loss: 0.4287 - val_accuracy: 0.7912 - val_recall: 0.8000 - val_precision: 0.8163\n",
      "Epoch 9/100\n",
      "212/212 [==============================] - 0s 1ms/step - loss: 0.4342 - accuracy: 0.8158 - recall: 0.8677 - precision: 0.7983 - val_loss: 0.4115 - val_accuracy: 0.8352 - val_recall: 0.9000 - val_precision: 0.8182\n",
      "Epoch 10/100\n",
      "212/212 [==============================] - 0s 1ms/step - loss: 0.4282 - accuracy: 0.8361 - recall: 0.9384 - precision: 0.7971 - val_loss: 0.4456 - val_accuracy: 0.7582 - val_recall: 0.7000 - val_precision: 0.8333\n",
      "Epoch 11/100\n",
      "212/212 [==============================] - 0s 1ms/step - loss: 0.4561 - accuracy: 0.8222 - recall: 0.8901 - precision: 0.7940 - val_loss: 0.4250 - val_accuracy: 0.8022 - val_recall: 0.8200 - val_precision: 0.8200\n",
      "Epoch 12/100\n",
      "212/212 [==============================] - 0s 1ms/step - loss: 0.4656 - accuracy: 0.7912 - recall: 0.8881 - precision: 0.7615 - val_loss: 0.4123 - val_accuracy: 0.7582 - val_recall: 0.7200 - val_precision: 0.8182\n",
      "Epoch 13/100\n",
      "212/212 [==============================] - 0s 1ms/step - loss: 0.4100 - accuracy: 0.8325 - recall: 0.8366 - precision: 0.8164 - val_loss: 0.4250 - val_accuracy: 0.7582 - val_recall: 0.7000 - val_precision: 0.8333\n",
      "Epoch 14/100\n",
      "212/212 [==============================] - 0s 1ms/step - loss: 0.4457 - accuracy: 0.8407 - recall: 0.8942 - precision: 0.8295 - val_loss: 0.4328 - val_accuracy: 0.8132 - val_recall: 0.9200 - val_precision: 0.7797\n",
      "Epoch 15/100\n",
      "212/212 [==============================] - 0s 1ms/step - loss: 0.5337 - accuracy: 0.7626 - recall: 0.8597 - precision: 0.7379 - val_loss: 0.4205 - val_accuracy: 0.7802 - val_recall: 0.7800 - val_precision: 0.8125\n",
      "Epoch 16/100\n",
      "212/212 [==============================] - 0s 1ms/step - loss: 0.4386 - accuracy: 0.8249 - recall: 0.8753 - precision: 0.7991 - val_loss: 0.4546 - val_accuracy: 0.7473 - val_recall: 0.6600 - val_precision: 0.8462\n",
      "Epoch 17/100\n",
      "212/212 [==============================] - 0s 1ms/step - loss: 0.4092 - accuracy: 0.8670 - recall: 0.9327 - precision: 0.8249 - val_loss: 0.4560 - val_accuracy: 0.7912 - val_recall: 0.9200 - val_precision: 0.7541\n",
      "Epoch 18/100\n",
      "212/212 [==============================] - 0s 1ms/step - loss: 0.4080 - accuracy: 0.8404 - recall: 0.9134 - precision: 0.8295 - val_loss: 0.4142 - val_accuracy: 0.8022 - val_recall: 0.8000 - val_precision: 0.8333\n",
      "Epoch 19/100\n",
      "212/212 [==============================] - 0s 1ms/step - loss: 0.3680 - accuracy: 0.8517 - recall: 0.8485 - precision: 0.8787 - val_loss: 0.3965 - val_accuracy: 0.8462 - val_recall: 0.9200 - val_precision: 0.8214\n",
      "Epoch 20/100\n",
      "212/212 [==============================] - 0s 1ms/step - loss: 0.3844 - accuracy: 0.8331 - recall: 0.9126 - precision: 0.8181 - val_loss: 0.4631 - val_accuracy: 0.7473 - val_recall: 0.6200 - val_precision: 0.8857\n",
      "Epoch 21/100\n",
      "212/212 [==============================] - 0s 1ms/step - loss: 0.4179 - accuracy: 0.8033 - recall: 0.8272 - precision: 0.8388 - val_loss: 0.4052 - val_accuracy: 0.8022 - val_recall: 0.8000 - val_precision: 0.8333\n",
      "Epoch 22/100\n",
      "212/212 [==============================] - 0s 1ms/step - loss: 0.4627 - accuracy: 0.8137 - recall: 0.8836 - precision: 0.7981 - val_loss: 0.4161 - val_accuracy: 0.8132 - val_recall: 0.8000 - val_precision: 0.8511\n",
      "Epoch 23/100\n",
      "212/212 [==============================] - 0s 1ms/step - loss: 0.3684 - accuracy: 0.8485 - recall: 0.8447 - precision: 0.8283 - val_loss: 0.4253 - val_accuracy: 0.8352 - val_recall: 0.9200 - val_precision: 0.8070\n",
      "Epoch 24/100\n",
      "212/212 [==============================] - 0s 1ms/step - loss: 0.3285 - accuracy: 0.8650 - recall: 0.8985 - precision: 0.8549 - val_loss: 0.4682 - val_accuracy: 0.7582 - val_recall: 0.6400 - val_precision: 0.8889\n",
      "Epoch 25/100\n",
      "212/212 [==============================] - 0s 1ms/step - loss: 0.3355 - accuracy: 0.8938 - recall: 0.9110 - precision: 0.8867 - val_loss: 0.4202 - val_accuracy: 0.7692 - val_recall: 0.7200 - val_precision: 0.8372\n",
      "Epoch 26/100\n",
      "212/212 [==============================] - 0s 1ms/step - loss: 0.3289 - accuracy: 0.8799 - recall: 0.8961 - precision: 0.8662 - val_loss: 0.4048 - val_accuracy: 0.8242 - val_recall: 0.9200 - val_precision: 0.7931\n",
      "Epoch 27/100\n",
      "212/212 [==============================] - 0s 1ms/step - loss: 0.4093 - accuracy: 0.8397 - recall: 0.8955 - precision: 0.8206 - val_loss: 0.4088 - val_accuracy: 0.8352 - val_recall: 0.9200 - val_precision: 0.8070\n",
      "Epoch 28/100\n",
      "212/212 [==============================] - 0s 1ms/step - loss: 0.3566 - accuracy: 0.8592 - recall: 0.9073 - precision: 0.8468 - val_loss: 0.4127 - val_accuracy: 0.7692 - val_recall: 0.7200 - val_precision: 0.8372\n",
      "Epoch 29/100\n",
      "212/212 [==============================] - 0s 1ms/step - loss: 0.3723 - accuracy: 0.8628 - recall: 0.8985 - precision: 0.8211 - val_loss: 0.4077 - val_accuracy: 0.8242 - val_recall: 0.9200 - val_precision: 0.7931\n",
      "Epoch 30/100\n",
      "212/212 [==============================] - 0s 1ms/step - loss: 0.3694 - accuracy: 0.8521 - recall: 0.9149 - precision: 0.8301 - val_loss: 0.4061 - val_accuracy: 0.8022 - val_recall: 0.7800 - val_precision: 0.8478\n",
      "Epoch 31/100\n",
      "212/212 [==============================] - 0s 1ms/step - loss: 0.3413 - accuracy: 0.8821 - recall: 0.8960 - precision: 0.8943 - val_loss: 0.3957 - val_accuracy: 0.8242 - val_recall: 0.8400 - val_precision: 0.8400\n",
      "Epoch 32/100\n",
      "212/212 [==============================] - 0s 1ms/step - loss: 0.3593 - accuracy: 0.8410 - recall: 0.8443 - precision: 0.8616 - val_loss: 0.4004 - val_accuracy: 0.8242 - val_recall: 0.9000 - val_precision: 0.8036\n",
      "Epoch 33/100\n",
      "212/212 [==============================] - 0s 1ms/step - loss: 0.3350 - accuracy: 0.8518 - recall: 0.8854 - precision: 0.8492 - val_loss: 0.3999 - val_accuracy: 0.8132 - val_recall: 0.8400 - val_precision: 0.8235\n",
      "Epoch 34/100\n",
      "212/212 [==============================] - 0s 1ms/step - loss: 0.3912 - accuracy: 0.8780 - recall: 0.9182 - precision: 0.8517 - val_loss: 0.3923 - val_accuracy: 0.8242 - val_recall: 0.9000 - val_precision: 0.8036\n",
      "Epoch 35/100\n",
      "212/212 [==============================] - 0s 1ms/step - loss: 0.3254 - accuracy: 0.8776 - recall: 0.9386 - precision: 0.8578 - val_loss: 0.4615 - val_accuracy: 0.7582 - val_recall: 0.6400 - val_precision: 0.8889\n",
      "Epoch 36/100\n",
      "212/212 [==============================] - 0s 1ms/step - loss: 0.4111 - accuracy: 0.8094 - recall: 0.8367 - precision: 0.8614 - val_loss: 0.4168 - val_accuracy: 0.7582 - val_recall: 0.7000 - val_precision: 0.8333\n",
      "Epoch 37/100\n"
     ]
    },
    {
     "name": "stdout",
     "output_type": "stream",
     "text": [
      "212/212 [==============================] - 0s 1ms/step - loss: 0.3750 - accuracy: 0.8523 - recall: 0.9121 - precision: 0.8482 - val_loss: 0.3974 - val_accuracy: 0.8242 - val_recall: 0.9000 - val_precision: 0.8036\n",
      "Epoch 38/100\n",
      "212/212 [==============================] - 0s 1ms/step - loss: 0.3783 - accuracy: 0.8565 - recall: 0.8928 - precision: 0.8451 - val_loss: 0.4236 - val_accuracy: 0.7912 - val_recall: 0.7600 - val_precision: 0.8444\n",
      "Epoch 39/100\n",
      "212/212 [==============================] - 0s 1ms/step - loss: 0.4308 - accuracy: 0.8472 - recall: 0.9238 - precision: 0.8305 - val_loss: 0.4511 - val_accuracy: 0.7582 - val_recall: 0.7000 - val_precision: 0.8333\n",
      "Epoch 40/100\n",
      "212/212 [==============================] - 0s 1ms/step - loss: 0.3625 - accuracy: 0.8648 - recall: 0.8960 - precision: 0.8727 - val_loss: 0.4269 - val_accuracy: 0.8242 - val_recall: 0.9000 - val_precision: 0.8036\n",
      "Epoch 41/100\n",
      "212/212 [==============================] - 0s 1ms/step - loss: 0.3005 - accuracy: 0.9073 - recall: 0.9123 - precision: 0.9142 - val_loss: 0.3955 - val_accuracy: 0.8242 - val_recall: 0.9000 - val_precision: 0.8036\n",
      "Epoch 42/100\n",
      "212/212 [==============================] - 0s 2ms/step - loss: 0.4168 - accuracy: 0.8197 - recall: 0.8771 - precision: 0.8208 - val_loss: 0.3912 - val_accuracy: 0.8132 - val_recall: 0.8400 - val_precision: 0.8235\n",
      "Epoch 43/100\n",
      "212/212 [==============================] - 0s 1ms/step - loss: 0.3579 - accuracy: 0.8934 - recall: 0.9411 - precision: 0.8698 - val_loss: 0.3902 - val_accuracy: 0.8132 - val_recall: 0.8400 - val_precision: 0.8235\n",
      "Epoch 44/100\n",
      "212/212 [==============================] - 0s 1ms/step - loss: 0.3557 - accuracy: 0.8224 - recall: 0.8600 - precision: 0.7913 - val_loss: 0.4341 - val_accuracy: 0.7473 - val_recall: 0.6600 - val_precision: 0.8462\n",
      "Epoch 45/100\n",
      "212/212 [==============================] - 0s 1ms/step - loss: 0.3483 - accuracy: 0.8436 - recall: 0.8744 - precision: 0.8477 - val_loss: 0.3962 - val_accuracy: 0.8132 - val_recall: 0.8000 - val_precision: 0.8511\n",
      "Epoch 46/100\n",
      "212/212 [==============================] - 0s 1ms/step - loss: 0.4354 - accuracy: 0.8183 - recall: 0.8558 - precision: 0.8271 - val_loss: 0.4021 - val_accuracy: 0.8132 - val_recall: 0.8000 - val_precision: 0.8511\n",
      "Epoch 47/100\n",
      "212/212 [==============================] - 0s 1ms/step - loss: 0.3281 - accuracy: 0.8776 - recall: 0.8980 - precision: 0.8676 - val_loss: 0.4097 - val_accuracy: 0.8132 - val_recall: 0.8000 - val_precision: 0.8511\n",
      "Epoch 48/100\n",
      "212/212 [==============================] - 0s 1ms/step - loss: 0.3822 - accuracy: 0.8468 - recall: 0.8538 - precision: 0.8662 - val_loss: 0.4342 - val_accuracy: 0.8242 - val_recall: 0.8400 - val_precision: 0.8400\n",
      "Epoch 49/100\n",
      "212/212 [==============================] - 0s 1ms/step - loss: 0.3349 - accuracy: 0.8739 - recall: 0.9356 - precision: 0.8119 - val_loss: 0.3852 - val_accuracy: 0.8242 - val_recall: 0.9000 - val_precision: 0.8036\n",
      "Epoch 50/100\n",
      "212/212 [==============================] - 0s 1ms/step - loss: 0.3655 - accuracy: 0.8647 - recall: 0.8666 - precision: 0.8666 - val_loss: 0.3909 - val_accuracy: 0.8352 - val_recall: 0.9000 - val_precision: 0.8182\n",
      "Epoch 51/100\n",
      "212/212 [==============================] - 0s 1ms/step - loss: 0.3132 - accuracy: 0.8734 - recall: 0.8885 - precision: 0.8606 - val_loss: 0.3996 - val_accuracy: 0.8242 - val_recall: 0.8800 - val_precision: 0.8148\n",
      "Epoch 52/100\n",
      "212/212 [==============================] - 0s 1ms/step - loss: 0.3465 - accuracy: 0.8783 - recall: 0.9299 - precision: 0.8594 - val_loss: 0.4847 - val_accuracy: 0.7473 - val_recall: 0.6200 - val_precision: 0.8857\n",
      "Epoch 53/100\n",
      "212/212 [==============================] - 0s 1ms/step - loss: 0.4172 - accuracy: 0.8195 - recall: 0.8157 - precision: 0.8243 - val_loss: 0.5038 - val_accuracy: 0.7473 - val_recall: 0.6400 - val_precision: 0.8649\n",
      "Epoch 54/100\n",
      "212/212 [==============================] - 0s 1ms/step - loss: 0.3206 - accuracy: 0.8563 - recall: 0.8451 - precision: 0.8854 - val_loss: 0.4120 - val_accuracy: 0.8022 - val_recall: 0.7800 - val_precision: 0.8478\n",
      "Epoch 55/100\n",
      "212/212 [==============================] - 0s 2ms/step - loss: 0.3053 - accuracy: 0.8870 - recall: 0.8921 - precision: 0.9125 - val_loss: 0.4051 - val_accuracy: 0.8132 - val_recall: 0.8000 - val_precision: 0.8511\n",
      "Epoch 56/100\n",
      "212/212 [==============================] - 0s 2ms/step - loss: 0.3602 - accuracy: 0.8711 - recall: 0.9224 - precision: 0.8676 - val_loss: 0.4093 - val_accuracy: 0.8132 - val_recall: 0.8800 - val_precision: 0.8000\n",
      "Epoch 57/100\n",
      "212/212 [==============================] - 0s 1ms/step - loss: 0.4107 - accuracy: 0.8327 - recall: 0.8925 - precision: 0.8101 - val_loss: 0.4335 - val_accuracy: 0.8242 - val_recall: 0.8200 - val_precision: 0.8542\n",
      "Epoch 58/100\n",
      "212/212 [==============================] - 0s 1ms/step - loss: 0.2741 - accuracy: 0.9122 - recall: 0.8954 - precision: 0.8698 - val_loss: 0.4096 - val_accuracy: 0.8352 - val_recall: 0.8400 - val_precision: 0.8571\n",
      "Epoch 59/100\n",
      "212/212 [==============================] - 0s 1ms/step - loss: 0.3078 - accuracy: 0.8934 - recall: 0.9050 - precision: 0.8951 - val_loss: 0.4279 - val_accuracy: 0.8242 - val_recall: 0.8400 - val_precision: 0.8400\n",
      "Epoch 60/100\n",
      "212/212 [==============================] - 0s 1ms/step - loss: 0.2630 - accuracy: 0.8935 - recall: 0.9083 - precision: 0.8931 - val_loss: 0.4325 - val_accuracy: 0.8242 - val_recall: 0.8200 - val_precision: 0.8542\n",
      "Epoch 61/100\n",
      "212/212 [==============================] - 0s 1ms/step - loss: 0.3331 - accuracy: 0.8273 - recall: 0.8610 - precision: 0.8315 - val_loss: 0.4822 - val_accuracy: 0.7473 - val_recall: 0.6600 - val_precision: 0.8462\n",
      "Epoch 62/100\n",
      "212/212 [==============================] - 0s 1ms/step - loss: 0.3862 - accuracy: 0.8556 - recall: 0.8455 - precision: 0.8959 - val_loss: 0.4245 - val_accuracy: 0.8242 - val_recall: 0.8400 - val_precision: 0.8400\n",
      "Epoch 63/100\n",
      "212/212 [==============================] - 0s 1ms/step - loss: 0.3238 - accuracy: 0.8968 - recall: 0.9310 - precision: 0.8936 - val_loss: 0.4961 - val_accuracy: 0.7582 - val_recall: 0.6400 - val_precision: 0.8889\n",
      "Epoch 64/100\n",
      "212/212 [==============================] - 0s 1ms/step - loss: 0.2818 - accuracy: 0.8579 - recall: 0.8736 - precision: 0.8658 - val_loss: 0.4369 - val_accuracy: 0.8132 - val_recall: 0.7800 - val_precision: 0.8667\n",
      "Epoch 65/100\n",
      "212/212 [==============================] - 0s 1ms/step - loss: 0.2801 - accuracy: 0.8829 - recall: 0.9131 - precision: 0.8879 - val_loss: 0.4542 - val_accuracy: 0.8352 - val_recall: 0.8400 - val_precision: 0.8571\n",
      "Epoch 66/100\n",
      "212/212 [==============================] - 0s 1ms/step - loss: 0.2867 - accuracy: 0.9017 - recall: 0.9283 - precision: 0.8694 - val_loss: 0.4370 - val_accuracy: 0.8022 - val_recall: 0.7600 - val_precision: 0.8636\n",
      "Epoch 67/100\n",
      "212/212 [==============================] - 0s 1ms/step - loss: 0.2439 - accuracy: 0.9084 - recall: 0.9255 - precision: 0.9200 - val_loss: 0.4288 - val_accuracy: 0.8132 - val_recall: 0.8400 - val_precision: 0.8235\n",
      "Epoch 68/100\n",
      "212/212 [==============================] - 0s 1ms/step - loss: 0.3420 - accuracy: 0.8808 - recall: 0.9319 - precision: 0.8640 - val_loss: 0.4870 - val_accuracy: 0.7802 - val_recall: 0.7200 - val_precision: 0.8571\n",
      "Epoch 69/100\n",
      "212/212 [==============================] - 0s 1ms/step - loss: 0.2970 - accuracy: 0.8596 - recall: 0.8975 - precision: 0.8534 - val_loss: 0.4939 - val_accuracy: 0.8352 - val_recall: 0.8400 - val_precision: 0.8571\n",
      "Epoch 70/100\n",
      "212/212 [==============================] - 0s 1ms/step - loss: 0.2751 - accuracy: 0.8992 - recall: 0.8989 - precision: 0.9288 - val_loss: 0.4906 - val_accuracy: 0.7802 - val_recall: 0.7200 - val_precision: 0.8571\n",
      "Epoch 71/100\n",
      "212/212 [==============================] - 0s 1ms/step - loss: 0.3063 - accuracy: 0.8833 - recall: 0.9104 - precision: 0.8886 - val_loss: 0.5070 - val_accuracy: 0.7802 - val_recall: 0.7200 - val_precision: 0.8571\n",
      "Epoch 72/100\n",
      "212/212 [==============================] - 0s 1ms/step - loss: 0.3661 - accuracy: 0.8034 - recall: 0.8715 - precision: 0.8039 - val_loss: 0.4374 - val_accuracy: 0.8132 - val_recall: 0.8800 - val_precision: 0.8000\n",
      "Epoch 73/100\n"
     ]
    },
    {
     "name": "stdout",
     "output_type": "stream",
     "text": [
      "212/212 [==============================] - 0s 1ms/step - loss: 0.3985 - accuracy: 0.7978 - recall: 0.8729 - precision: 0.7480 - val_loss: 0.4571 - val_accuracy: 0.8242 - val_recall: 0.8200 - val_precision: 0.8542\n",
      "Epoch 74/100\n",
      "212/212 [==============================] - 0s 1ms/step - loss: 0.3130 - accuracy: 0.8576 - recall: 0.8720 - precision: 0.8295 - val_loss: 0.4841 - val_accuracy: 0.7912 - val_recall: 0.7400 - val_precision: 0.8605\n",
      "Epoch 75/100\n",
      "212/212 [==============================] - 0s 1ms/step - loss: 0.2467 - accuracy: 0.8882 - recall: 0.9044 - precision: 0.8942 - val_loss: 0.5027 - val_accuracy: 0.7692 - val_recall: 0.7000 - val_precision: 0.8537\n",
      "Epoch 76/100\n",
      "212/212 [==============================] - 0s 1ms/step - loss: 0.2776 - accuracy: 0.8879 - recall: 0.9099 - precision: 0.9008 - val_loss: 0.4778 - val_accuracy: 0.8132 - val_recall: 0.8200 - val_precision: 0.8367\n",
      "Epoch 77/100\n",
      "212/212 [==============================] - 0s 1ms/step - loss: 0.3132 - accuracy: 0.8713 - recall: 0.8975 - precision: 0.8798 - val_loss: 0.5076 - val_accuracy: 0.7912 - val_recall: 0.7200 - val_precision: 0.8780\n",
      "Epoch 78/100\n",
      "212/212 [==============================] - 0s 1ms/step - loss: 0.2643 - accuracy: 0.9002 - recall: 0.9063 - precision: 0.9058 - val_loss: 0.5198 - val_accuracy: 0.8022 - val_recall: 0.7800 - val_precision: 0.8478\n",
      "Epoch 79/100\n",
      "212/212 [==============================] - 0s 1ms/step - loss: 0.2686 - accuracy: 0.8905 - recall: 0.9359 - precision: 0.8717 - val_loss: 0.5188 - val_accuracy: 0.7692 - val_recall: 0.7000 - val_precision: 0.8537\n",
      "Epoch 80/100\n",
      "212/212 [==============================] - 0s 1ms/step - loss: 0.3278 - accuracy: 0.8777 - recall: 0.8529 - precision: 0.9146 - val_loss: 0.5041 - val_accuracy: 0.8242 - val_recall: 0.7800 - val_precision: 0.8864\n",
      "Epoch 81/100\n",
      "212/212 [==============================] - 0s 1ms/step - loss: 0.3304 - accuracy: 0.8666 - recall: 0.8644 - precision: 0.9070 - val_loss: 0.5051 - val_accuracy: 0.8132 - val_recall: 0.8400 - val_precision: 0.8235\n",
      "Epoch 82/100\n",
      "212/212 [==============================] - 0s 1ms/step - loss: 0.2754 - accuracy: 0.8973 - recall: 0.9018 - precision: 0.9002 - val_loss: 0.5448 - val_accuracy: 0.8132 - val_recall: 0.7800 - val_precision: 0.8667\n",
      "Epoch 83/100\n",
      "212/212 [==============================] - 0s 1ms/step - loss: 0.2547 - accuracy: 0.8933 - recall: 0.8991 - precision: 0.8602 - val_loss: 0.5588 - val_accuracy: 0.7692 - val_recall: 0.6800 - val_precision: 0.8718\n",
      "Epoch 84/100\n",
      "212/212 [==============================] - 0s 1ms/step - loss: 0.3427 - accuracy: 0.8784 - recall: 0.8824 - precision: 0.8752 - val_loss: 0.5850 - val_accuracy: 0.7473 - val_recall: 0.6000 - val_precision: 0.9091\n",
      "Epoch 85/100\n",
      "212/212 [==============================] - 0s 1ms/step - loss: 0.3081 - accuracy: 0.8689 - recall: 0.8461 - precision: 0.9190 - val_loss: 0.5298 - val_accuracy: 0.7912 - val_recall: 0.7400 - val_precision: 0.8605\n",
      "Epoch 86/100\n",
      "212/212 [==============================] - 0s 1ms/step - loss: 0.2543 - accuracy: 0.8943 - recall: 0.9280 - precision: 0.8821 - val_loss: 0.4862 - val_accuracy: 0.8022 - val_recall: 0.8200 - val_precision: 0.8200\n",
      "Epoch 87/100\n",
      "212/212 [==============================] - 0s 1ms/step - loss: 0.3642 - accuracy: 0.8596 - recall: 0.8813 - precision: 0.8485 - val_loss: 0.5226 - val_accuracy: 0.8022 - val_recall: 0.7600 - val_precision: 0.8636\n",
      "Epoch 88/100\n",
      "212/212 [==============================] - 0s 1ms/step - loss: 0.2351 - accuracy: 0.9098 - recall: 0.9282 - precision: 0.9047 - val_loss: 0.5868 - val_accuracy: 0.8242 - val_recall: 0.8000 - val_precision: 0.8696\n",
      "Epoch 89/100\n",
      "212/212 [==============================] - 0s 1ms/step - loss: 0.2193 - accuracy: 0.9072 - recall: 0.9344 - precision: 0.8927 - val_loss: 0.5098 - val_accuracy: 0.7692 - val_recall: 0.7000 - val_precision: 0.8537\n",
      "Epoch 90/100\n",
      "212/212 [==============================] - 0s 1ms/step - loss: 0.3074 - accuracy: 0.8424 - recall: 0.7989 - precision: 0.8731 - val_loss: 0.5412 - val_accuracy: 0.7473 - val_recall: 0.6600 - val_precision: 0.8462\n",
      "Epoch 91/100\n",
      "212/212 [==============================] - 0s 1ms/step - loss: 0.3200 - accuracy: 0.8539 - recall: 0.8264 - precision: 0.8864 - val_loss: 0.6441 - val_accuracy: 0.8242 - val_recall: 0.8800 - val_precision: 0.8148\n",
      "Epoch 92/100\n",
      "212/212 [==============================] - 0s 1ms/step - loss: 0.3123 - accuracy: 0.8608 - recall: 0.8485 - precision: 0.8358 - val_loss: 0.6038 - val_accuracy: 0.8022 - val_recall: 0.7600 - val_precision: 0.8636\n",
      "Epoch 93/100\n",
      "212/212 [==============================] - 0s 1ms/step - loss: 0.2357 - accuracy: 0.9047 - recall: 0.9036 - precision: 0.9133 - val_loss: 0.5709 - val_accuracy: 0.7912 - val_recall: 0.7600 - val_precision: 0.8444\n",
      "Epoch 94/100\n",
      "212/212 [==============================] - 0s 1ms/step - loss: 0.2311 - accuracy: 0.8989 - recall: 0.9146 - precision: 0.8684 - val_loss: 0.5386 - val_accuracy: 0.8022 - val_recall: 0.7600 - val_precision: 0.8636\n",
      "Epoch 95/100\n",
      "212/212 [==============================] - 0s 1ms/step - loss: 0.2887 - accuracy: 0.9031 - recall: 0.9029 - precision: 0.9269 - val_loss: 0.5926 - val_accuracy: 0.8132 - val_recall: 0.7800 - val_precision: 0.8667\n",
      "Epoch 96/100\n",
      "212/212 [==============================] - 0s 1ms/step - loss: 0.2757 - accuracy: 0.8743 - recall: 0.8932 - precision: 0.8554 - val_loss: 0.6138 - val_accuracy: 0.7912 - val_recall: 0.7600 - val_precision: 0.8444\n",
      "Epoch 97/100\n",
      "212/212 [==============================] - 0s 1ms/step - loss: 0.2823 - accuracy: 0.8517 - recall: 0.8890 - precision: 0.8587 - val_loss: 0.6614 - val_accuracy: 0.8022 - val_recall: 0.7600 - val_precision: 0.8636\n",
      "Epoch 98/100\n",
      "212/212 [==============================] - 0s 1ms/step - loss: 0.3235 - accuracy: 0.9109 - recall: 0.9322 - precision: 0.9006 - val_loss: 0.6159 - val_accuracy: 0.8022 - val_recall: 0.7800 - val_precision: 0.8478\n",
      "Epoch 99/100\n",
      "212/212 [==============================] - 0s 1ms/step - loss: 0.2683 - accuracy: 0.8891 - recall: 0.9136 - precision: 0.8874 - val_loss: 0.6498 - val_accuracy: 0.8022 - val_recall: 0.7400 - val_precision: 0.8810\n",
      "Epoch 100/100\n",
      "212/212 [==============================] - 0s 1ms/step - loss: 0.3013 - accuracy: 0.8751 - recall: 0.8660 - precision: 0.9053 - val_loss: 0.6462 - val_accuracy: 0.7912 - val_recall: 0.7600 - val_precision: 0.8444\n"
     ]
    }
   ],
   "source": [
    "# 모델을 실행합니다.\n",
    "history_mm = mm_model.fit(mm_train_X, mm_train_Y, epochs=100, batch_size=1,validation_data=(mm_test_X,mm_test_Y)) # batch_size #확인을 위해서 20번만"
   ]
  },
  {
   "cell_type": "markdown",
   "id": "0dbb44b0",
   "metadata": {},
   "source": [
    "2. StandardScaler"
   ]
  },
  {
   "cell_type": "code",
   "execution_count": 39,
   "id": "29656124",
   "metadata": {},
   "outputs": [],
   "source": [
    "# Pandas Series로 뽑으면 데이터가 1차원 데이터가 된다 -> Scaler에 넣기 위해서는 Pandas DataFrame을 만들어야 하는데\n",
    "# DataFrame 만드는 방법에 Series를 넣어서 만드는 방법이 있네... to_frame...\n",
    "# 아래 방식은 Pandas Series로 부터 nparray를 추출, 이를 Scaler에 fit & tranform하여 데이터 프레임으로 만들어서\n",
    "# 기존 DataFrame에 update로 데이터 바꾸는 방식\n",
    "thalachh = heart['thalachh'].values.reshape(-1,1)\n",
    "trtbps = heart['trtbps'].values.reshape(-1,1)\n",
    "chol = heart['chol'].values.reshape(-1,1)"
   ]
  },
  {
   "cell_type": "code",
   "execution_count": 40,
   "id": "c17394ea",
   "metadata": {},
   "outputs": [],
   "source": [
    "std_norm = StandardScaler()  # 정규화 스케일러"
   ]
  },
  {
   "cell_type": "code",
   "execution_count": 41,
   "id": "000d6f1d",
   "metadata": {},
   "outputs": [],
   "source": [
    "# 스케일러 적용\n",
    "std_thalachh = std_norm.fit_transform(thalachh)\n",
    "std_trtbps = std_norm.fit_transform(trtbps)\n",
    "std_chol = std_norm.fit_transform(chol)"
   ]
  },
  {
   "cell_type": "code",
   "execution_count": 42,
   "id": "eedef5e5",
   "metadata": {},
   "outputs": [],
   "source": [
    "# 각각의 스케일링 된 데이터를 데이터 프레임으로 만듬.\n",
    "thalachh = pd.DataFrame(std_thalachh,columns=['thalachh'])\n",
    "trtbps = pd.DataFrame(std_trtbps,columns=['trtbps'])\n",
    "chol = pd.DataFrame(std_chol,columns=['chol'])"
   ]
  },
  {
   "cell_type": "code",
   "execution_count": 43,
   "id": "7a85e743",
   "metadata": {},
   "outputs": [],
   "source": [
    "# 기존 데이터에서 deep copy로 dataframe을 복사하여 새 dataframe을 만듬\n",
    "std_heart = heart.copy()"
   ]
  },
  {
   "cell_type": "code",
   "execution_count": 44,
   "id": "3d4d108c",
   "metadata": {},
   "outputs": [
    {
     "data": {
      "text/html": [
       "<div>\n",
       "<style scoped>\n",
       "    .dataframe tbody tr th:only-of-type {\n",
       "        vertical-align: middle;\n",
       "    }\n",
       "\n",
       "    .dataframe tbody tr th {\n",
       "        vertical-align: top;\n",
       "    }\n",
       "\n",
       "    .dataframe thead th {\n",
       "        text-align: right;\n",
       "    }\n",
       "</style>\n",
       "<table border=\"1\" class=\"dataframe\">\n",
       "  <thead>\n",
       "    <tr style=\"text-align: right;\">\n",
       "      <th></th>\n",
       "      <th>age</th>\n",
       "      <th>sex</th>\n",
       "      <th>cp</th>\n",
       "      <th>trtbps</th>\n",
       "      <th>chol</th>\n",
       "      <th>fbs</th>\n",
       "      <th>restecg</th>\n",
       "      <th>thalachh</th>\n",
       "      <th>exng</th>\n",
       "      <th>oldpeak</th>\n",
       "      <th>slp</th>\n",
       "      <th>caa</th>\n",
       "      <th>thall</th>\n",
       "      <th>output</th>\n",
       "    </tr>\n",
       "  </thead>\n",
       "  <tbody>\n",
       "    <tr>\n",
       "      <th>0</th>\n",
       "      <td>63</td>\n",
       "      <td>1</td>\n",
       "      <td>3</td>\n",
       "      <td>145</td>\n",
       "      <td>233</td>\n",
       "      <td>1</td>\n",
       "      <td>0</td>\n",
       "      <td>150</td>\n",
       "      <td>0</td>\n",
       "      <td>2.3</td>\n",
       "      <td>0</td>\n",
       "      <td>0</td>\n",
       "      <td>1</td>\n",
       "      <td>1</td>\n",
       "    </tr>\n",
       "    <tr>\n",
       "      <th>1</th>\n",
       "      <td>37</td>\n",
       "      <td>1</td>\n",
       "      <td>2</td>\n",
       "      <td>130</td>\n",
       "      <td>250</td>\n",
       "      <td>0</td>\n",
       "      <td>1</td>\n",
       "      <td>187</td>\n",
       "      <td>0</td>\n",
       "      <td>3.5</td>\n",
       "      <td>0</td>\n",
       "      <td>0</td>\n",
       "      <td>2</td>\n",
       "      <td>1</td>\n",
       "    </tr>\n",
       "    <tr>\n",
       "      <th>2</th>\n",
       "      <td>41</td>\n",
       "      <td>0</td>\n",
       "      <td>1</td>\n",
       "      <td>130</td>\n",
       "      <td>204</td>\n",
       "      <td>0</td>\n",
       "      <td>0</td>\n",
       "      <td>172</td>\n",
       "      <td>0</td>\n",
       "      <td>1.4</td>\n",
       "      <td>2</td>\n",
       "      <td>0</td>\n",
       "      <td>2</td>\n",
       "      <td>1</td>\n",
       "    </tr>\n",
       "    <tr>\n",
       "      <th>3</th>\n",
       "      <td>56</td>\n",
       "      <td>1</td>\n",
       "      <td>1</td>\n",
       "      <td>120</td>\n",
       "      <td>236</td>\n",
       "      <td>0</td>\n",
       "      <td>1</td>\n",
       "      <td>178</td>\n",
       "      <td>0</td>\n",
       "      <td>0.8</td>\n",
       "      <td>2</td>\n",
       "      <td>0</td>\n",
       "      <td>2</td>\n",
       "      <td>1</td>\n",
       "    </tr>\n",
       "    <tr>\n",
       "      <th>4</th>\n",
       "      <td>57</td>\n",
       "      <td>0</td>\n",
       "      <td>0</td>\n",
       "      <td>120</td>\n",
       "      <td>354</td>\n",
       "      <td>0</td>\n",
       "      <td>1</td>\n",
       "      <td>163</td>\n",
       "      <td>1</td>\n",
       "      <td>0.6</td>\n",
       "      <td>2</td>\n",
       "      <td>0</td>\n",
       "      <td>2</td>\n",
       "      <td>1</td>\n",
       "    </tr>\n",
       "  </tbody>\n",
       "</table>\n",
       "</div>"
      ],
      "text/plain": [
       "   age  sex  cp  trtbps  chol  fbs  restecg  thalachh  exng  oldpeak  slp  \\\n",
       "0   63    1   3     145   233    1        0       150     0      2.3    0   \n",
       "1   37    1   2     130   250    0        1       187     0      3.5    0   \n",
       "2   41    0   1     130   204    0        0       172     0      1.4    2   \n",
       "3   56    1   1     120   236    0        1       178     0      0.8    2   \n",
       "4   57    0   0     120   354    0        1       163     1      0.6    2   \n",
       "\n",
       "   caa  thall  output  \n",
       "0    0      1       1  \n",
       "1    0      2       1  \n",
       "2    0      2       1  \n",
       "3    0      2       1  \n",
       "4    0      2       1  "
      ]
     },
     "execution_count": 44,
     "metadata": {},
     "output_type": "execute_result"
    }
   ],
   "source": [
    "std_heart.head() # 복사 확인"
   ]
  },
  {
   "cell_type": "code",
   "execution_count": 45,
   "id": "6e916aea",
   "metadata": {},
   "outputs": [
    {
     "data": {
      "text/html": [
       "<div>\n",
       "<style scoped>\n",
       "    .dataframe tbody tr th:only-of-type {\n",
       "        vertical-align: middle;\n",
       "    }\n",
       "\n",
       "    .dataframe tbody tr th {\n",
       "        vertical-align: top;\n",
       "    }\n",
       "\n",
       "    .dataframe thead th {\n",
       "        text-align: right;\n",
       "    }\n",
       "</style>\n",
       "<table border=\"1\" class=\"dataframe\">\n",
       "  <thead>\n",
       "    <tr style=\"text-align: right;\">\n",
       "      <th></th>\n",
       "      <th>age</th>\n",
       "      <th>sex</th>\n",
       "      <th>cp</th>\n",
       "      <th>trtbps</th>\n",
       "      <th>chol</th>\n",
       "      <th>fbs</th>\n",
       "      <th>restecg</th>\n",
       "      <th>thalachh</th>\n",
       "      <th>exng</th>\n",
       "      <th>oldpeak</th>\n",
       "      <th>slp</th>\n",
       "      <th>caa</th>\n",
       "      <th>thall</th>\n",
       "      <th>output</th>\n",
       "    </tr>\n",
       "  </thead>\n",
       "  <tbody>\n",
       "    <tr>\n",
       "      <th>0</th>\n",
       "      <td>63</td>\n",
       "      <td>1</td>\n",
       "      <td>3</td>\n",
       "      <td>0.763956</td>\n",
       "      <td>-0.256334</td>\n",
       "      <td>1</td>\n",
       "      <td>0</td>\n",
       "      <td>0.015443</td>\n",
       "      <td>0</td>\n",
       "      <td>2.3</td>\n",
       "      <td>0</td>\n",
       "      <td>0</td>\n",
       "      <td>1</td>\n",
       "      <td>1</td>\n",
       "    </tr>\n",
       "    <tr>\n",
       "      <th>1</th>\n",
       "      <td>37</td>\n",
       "      <td>1</td>\n",
       "      <td>2</td>\n",
       "      <td>-0.092738</td>\n",
       "      <td>0.072199</td>\n",
       "      <td>0</td>\n",
       "      <td>1</td>\n",
       "      <td>1.633471</td>\n",
       "      <td>0</td>\n",
       "      <td>3.5</td>\n",
       "      <td>0</td>\n",
       "      <td>0</td>\n",
       "      <td>2</td>\n",
       "      <td>1</td>\n",
       "    </tr>\n",
       "    <tr>\n",
       "      <th>2</th>\n",
       "      <td>41</td>\n",
       "      <td>0</td>\n",
       "      <td>1</td>\n",
       "      <td>-0.092738</td>\n",
       "      <td>-0.816773</td>\n",
       "      <td>0</td>\n",
       "      <td>0</td>\n",
       "      <td>0.977514</td>\n",
       "      <td>0</td>\n",
       "      <td>1.4</td>\n",
       "      <td>2</td>\n",
       "      <td>0</td>\n",
       "      <td>2</td>\n",
       "      <td>1</td>\n",
       "    </tr>\n",
       "    <tr>\n",
       "      <th>3</th>\n",
       "      <td>56</td>\n",
       "      <td>1</td>\n",
       "      <td>1</td>\n",
       "      <td>-0.663867</td>\n",
       "      <td>-0.198357</td>\n",
       "      <td>0</td>\n",
       "      <td>1</td>\n",
       "      <td>1.239897</td>\n",
       "      <td>0</td>\n",
       "      <td>0.8</td>\n",
       "      <td>2</td>\n",
       "      <td>0</td>\n",
       "      <td>2</td>\n",
       "      <td>1</td>\n",
       "    </tr>\n",
       "    <tr>\n",
       "      <th>4</th>\n",
       "      <td>57</td>\n",
       "      <td>0</td>\n",
       "      <td>0</td>\n",
       "      <td>-0.663867</td>\n",
       "      <td>2.082050</td>\n",
       "      <td>0</td>\n",
       "      <td>1</td>\n",
       "      <td>0.583939</td>\n",
       "      <td>1</td>\n",
       "      <td>0.6</td>\n",
       "      <td>2</td>\n",
       "      <td>0</td>\n",
       "      <td>2</td>\n",
       "      <td>1</td>\n",
       "    </tr>\n",
       "  </tbody>\n",
       "</table>\n",
       "</div>"
      ],
      "text/plain": [
       "   age  sex  cp    trtbps      chol  fbs  restecg  thalachh  exng  oldpeak  \\\n",
       "0   63    1   3  0.763956 -0.256334    1        0  0.015443     0      2.3   \n",
       "1   37    1   2 -0.092738  0.072199    0        1  1.633471     0      3.5   \n",
       "2   41    0   1 -0.092738 -0.816773    0        0  0.977514     0      1.4   \n",
       "3   56    1   1 -0.663867 -0.198357    0        1  1.239897     0      0.8   \n",
       "4   57    0   0 -0.663867  2.082050    0        1  0.583939     1      0.6   \n",
       "\n",
       "   slp  caa  thall  output  \n",
       "0    0    0      1       1  \n",
       "1    0    0      2       1  \n",
       "2    2    0      2       1  \n",
       "3    2    0      2       1  \n",
       "4    2    0      2       1  "
      ]
     },
     "execution_count": 45,
     "metadata": {},
     "output_type": "execute_result"
    }
   ],
   "source": [
    " # 3개의 column에 대해 각각 update를 통해 값을 갱신\n",
    "std_heart.update(thalachh)\n",
    "std_heart.update(trtbps)\n",
    "std_heart.update(chol)\n",
    "std_heart.head() # 변경 확인."
   ]
  },
  {
   "cell_type": "code",
   "execution_count": 46,
   "id": "fd642c97",
   "metadata": {},
   "outputs": [],
   "source": [
    "std_heart_data = std_heart.iloc[:,:-1] # 데이터\n",
    "std_heart_label = std_heart.iloc[:,-1] # 라벨"
   ]
  },
  {
   "cell_type": "code",
   "execution_count": 47,
   "id": "47e911ca",
   "metadata": {},
   "outputs": [],
   "source": [
    "from sklearn.model_selection import train_test_split\n",
    "# 학습, 테스트 데이터 분리\n",
    "std_train_X, std_test_X, std_train_Y, std_test_Y = train_test_split(std_heart_data, std_heart_label, test_size=0.3, random_state=123 ,stratify = std_heart_label)"
   ]
  },
  {
   "cell_type": "code",
   "execution_count": 48,
   "id": "1d18cf2d",
   "metadata": {},
   "outputs": [],
   "source": [
    "## 구현\n",
    "# 간단한 DNN모델 작성 \n",
    "std_model = keras.models.Sequential()\n",
    "std_model.add(keras.layers.Dense(32, input_dim=13, activation='relu' ))\n",
    "std_model.add(keras.layers.Dense(64, activation='relu'))\n",
    "std_model.add(keras.layers.Dropout(0.2))\n",
    "std_model.add(keras.layers.Dense(32, activation='relu'))\n",
    "std_model.add(keras.layers.Dense(16, activation='relu'))\n",
    "std_model.add(keras.layers.Dense(1, activation='sigmoid'))"
   ]
  },
  {
   "cell_type": "code",
   "execution_count": 49,
   "id": "62765095",
   "metadata": {},
   "outputs": [
    {
     "name": "stdout",
     "output_type": "stream",
     "text": [
      "Model: \"sequential_2\"\n",
      "_________________________________________________________________\n",
      "Layer (type)                 Output Shape              Param #   \n",
      "=================================================================\n",
      "dense_10 (Dense)             (None, 32)                448       \n",
      "_________________________________________________________________\n",
      "dense_11 (Dense)             (None, 64)                2112      \n",
      "_________________________________________________________________\n",
      "dropout_2 (Dropout)          (None, 64)                0         \n",
      "_________________________________________________________________\n",
      "dense_12 (Dense)             (None, 32)                2080      \n",
      "_________________________________________________________________\n",
      "dense_13 (Dense)             (None, 16)                528       \n",
      "_________________________________________________________________\n",
      "dense_14 (Dense)             (None, 1)                 17        \n",
      "=================================================================\n",
      "Total params: 5,185\n",
      "Trainable params: 5,185\n",
      "Non-trainable params: 0\n",
      "_________________________________________________________________\n"
     ]
    }
   ],
   "source": [
    "std_model.summary()\n",
    "std_model.compile(loss='binary_crossentropy', # 손실함수 -> Binary Cross Entropy Loss\n",
    "             optimizer='adam', # Optimizer로 Adam을 사용. 기본 값: Learning rate = 0.001\n",
    "             metrics=['accuracy','Recall','Precision']) # 정확도, 재현율, 정밀도"
   ]
  },
  {
   "cell_type": "code",
   "execution_count": 50,
   "id": "5dc96d25",
   "metadata": {},
   "outputs": [
    {
     "data": {
      "image/png": "[encoded data removed]",
      "text/plain": [
       "<IPython.core.display.Image object>"
      ]
     },
     "execution_count": 50,
     "metadata": {},
     "output_type": "execute_result"
    }
   ],
   "source": [
    "tf.keras.utils.plot_model(std_model, show_shapes=True) #입력, 출력 데이터의 틀을 보여준다"
   ]
  },
  {
   "cell_type": "code",
   "execution_count": 51,
   "id": "d8043e7b",
   "metadata": {},
   "outputs": [
    {
     "name": "stdout",
     "output_type": "stream",
     "text": [
      "Epoch 1/100\n",
      "212/212 [==============================] - 1s 3ms/step - loss: 1.0804 - accuracy: 0.4769 - recall: 0.5010 - precision: 0.4408 - val_loss: 0.6861 - val_accuracy: 0.5495 - val_recall: 1.0000 - val_precision: 0.5495\n",
      "Epoch 2/100\n",
      "212/212 [==============================] - 0s 1ms/step - loss: 0.7205 - accuracy: 0.5704 - recall: 0.7444 - precision: 0.5468 - val_loss: 0.6801 - val_accuracy: 0.7033 - val_recall: 0.6200 - val_precision: 0.7949\n",
      "Epoch 3/100\n",
      "212/212 [==============================] - 0s 1ms/step - loss: 0.7169 - accuracy: 0.4824 - recall: 0.4050 - precision: 0.5238 - val_loss: 0.6733 - val_accuracy: 0.5714 - val_recall: 1.0000 - val_precision: 0.5618\n",
      "Epoch 4/100\n",
      "212/212 [==============================] - 0s 1ms/step - loss: 0.6710 - accuracy: 0.5810 - recall: 0.7226 - precision: 0.5875 - val_loss: 0.6608 - val_accuracy: 0.4835 - val_recall: 0.0600 - val_precision: 1.0000\n",
      "Epoch 5/100\n",
      "212/212 [==============================] - 0s 1ms/step - loss: 0.6747 - accuracy: 0.5772 - recall: 0.6843 - precision: 0.6018 - val_loss: 0.6049 - val_accuracy: 0.7582 - val_recall: 1.0000 - val_precision: 0.6944\n",
      "Epoch 6/100\n",
      "212/212 [==============================] - 0s 2ms/step - loss: 0.6138 - accuracy: 0.6814 - recall: 0.8199 - precision: 0.6675 - val_loss: 0.5644 - val_accuracy: 0.7473 - val_recall: 1.0000 - val_precision: 0.6849\n",
      "Epoch 7/100\n",
      "212/212 [==============================] - 0s 1ms/step - loss: 0.5463 - accuracy: 0.7287 - recall: 0.8629 - precision: 0.7041 - val_loss: 0.4153 - val_accuracy: 0.7692 - val_recall: 0.7800 - val_precision: 0.7959\n",
      "Epoch 8/100\n",
      "212/212 [==============================] - 0s 1ms/step - loss: 0.5470 - accuracy: 0.7781 - recall: 0.7353 - precision: 0.7443 - val_loss: 0.4501 - val_accuracy: 0.7802 - val_recall: 0.9600 - val_precision: 0.7273\n",
      "Epoch 9/100\n",
      "212/212 [==============================] - 0s 1ms/step - loss: 0.4566 - accuracy: 0.8435 - recall: 0.9002 - precision: 0.8332 - val_loss: 0.4609 - val_accuracy: 0.8132 - val_recall: 0.9400 - val_precision: 0.7705\n",
      "Epoch 10/100\n",
      "212/212 [==============================] - 0s 1ms/step - loss: 0.4326 - accuracy: 0.8120 - recall: 0.9326 - precision: 0.7879 - val_loss: 0.6934 - val_accuracy: 0.6813 - val_recall: 0.4200 - val_precision: 1.0000\n",
      "Epoch 11/100\n",
      "212/212 [==============================] - 0s 1ms/step - loss: 0.5431 - accuracy: 0.7631 - recall: 0.7775 - precision: 0.7756 - val_loss: 0.4812 - val_accuracy: 0.7912 - val_recall: 0.9600 - val_precision: 0.7385\n",
      "Epoch 12/100\n",
      "212/212 [==============================] - 0s 1ms/step - loss: 0.4552 - accuracy: 0.7597 - recall: 0.8692 - precision: 0.7417 - val_loss: 0.4101 - val_accuracy: 0.8242 - val_recall: 0.9400 - val_precision: 0.7833\n",
      "Epoch 13/100\n",
      "212/212 [==============================] - 0s 1ms/step - loss: 0.4822 - accuracy: 0.7885 - recall: 0.9105 - precision: 0.7478 - val_loss: 0.4458 - val_accuracy: 0.7802 - val_recall: 0.9400 - val_precision: 0.7344\n",
      "Epoch 14/100\n",
      "212/212 [==============================] - 0s 1ms/step - loss: 0.4669 - accuracy: 0.7902 - recall: 0.8444 - precision: 0.7786 - val_loss: 0.3987 - val_accuracy: 0.8242 - val_recall: 0.8800 - val_precision: 0.8148\n",
      "Epoch 15/100\n",
      "212/212 [==============================] - 0s 1ms/step - loss: 0.4304 - accuracy: 0.8104 - recall: 0.9140 - precision: 0.7773 - val_loss: 0.4486 - val_accuracy: 0.7802 - val_recall: 0.6800 - val_precision: 0.8947\n",
      "Epoch 16/100\n",
      "212/212 [==============================] - 0s 1ms/step - loss: 0.4011 - accuracy: 0.8315 - recall: 0.8708 - precision: 0.8281 - val_loss: 0.4114 - val_accuracy: 0.8242 - val_recall: 0.9400 - val_precision: 0.7833\n",
      "Epoch 17/100\n",
      "212/212 [==============================] - 0s 1ms/step - loss: 0.3804 - accuracy: 0.8478 - recall: 0.8712 - precision: 0.8389 - val_loss: 0.4443 - val_accuracy: 0.8242 - val_recall: 0.9400 - val_precision: 0.7833\n",
      "Epoch 18/100\n",
      "212/212 [==============================] - 0s 1ms/step - loss: 0.4299 - accuracy: 0.8296 - recall: 0.9104 - precision: 0.7933 - val_loss: 0.4123 - val_accuracy: 0.8242 - val_recall: 0.9400 - val_precision: 0.7833\n",
      "Epoch 19/100\n",
      "212/212 [==============================] - 0s 1ms/step - loss: 0.4543 - accuracy: 0.8315 - recall: 0.8776 - precision: 0.8018 - val_loss: 0.4024 - val_accuracy: 0.8242 - val_recall: 0.8600 - val_precision: 0.8269\n",
      "Epoch 20/100\n",
      "212/212 [==============================] - 0s 1ms/step - loss: 0.4000 - accuracy: 0.8341 - recall: 0.8882 - precision: 0.8113 - val_loss: 0.4030 - val_accuracy: 0.8242 - val_recall: 0.8600 - val_precision: 0.8269\n",
      "Epoch 21/100\n",
      "212/212 [==============================] - 0s 1ms/step - loss: 0.4015 - accuracy: 0.7628 - recall: 0.8031 - precision: 0.7727 - val_loss: 0.4031 - val_accuracy: 0.7912 - val_recall: 0.7600 - val_precision: 0.8444\n",
      "Epoch 22/100\n",
      "212/212 [==============================] - 0s 1ms/step - loss: 0.4169 - accuracy: 0.7834 - recall: 0.7532 - precision: 0.8079 - val_loss: 0.4205 - val_accuracy: 0.8352 - val_recall: 0.8600 - val_precision: 0.8431\n",
      "Epoch 23/100\n",
      "212/212 [==============================] - 0s 1ms/step - loss: 0.4685 - accuracy: 0.8027 - recall: 0.8805 - precision: 0.8008 - val_loss: 0.4022 - val_accuracy: 0.8352 - val_recall: 0.8600 - val_precision: 0.8431\n",
      "Epoch 24/100\n",
      "212/212 [==============================] - 0s 1ms/step - loss: 0.3920 - accuracy: 0.8221 - recall: 0.8492 - precision: 0.8069 - val_loss: 0.4092 - val_accuracy: 0.8132 - val_recall: 0.9000 - val_precision: 0.7895\n",
      "Epoch 25/100\n",
      "212/212 [==============================] - 0s 1ms/step - loss: 0.3558 - accuracy: 0.8382 - recall: 0.8869 - precision: 0.8384 - val_loss: 0.4144 - val_accuracy: 0.8352 - val_recall: 0.8600 - val_precision: 0.8431\n",
      "Epoch 26/100\n",
      "212/212 [==============================] - 0s 1ms/step - loss: 0.3868 - accuracy: 0.8153 - recall: 0.8550 - precision: 0.8170 - val_loss: 0.4107 - val_accuracy: 0.8132 - val_recall: 0.8200 - val_precision: 0.8367\n",
      "Epoch 27/100\n",
      "212/212 [==============================] - 0s 1ms/step - loss: 0.3202 - accuracy: 0.8740 - recall: 0.8706 - precision: 0.8321 - val_loss: 0.4076 - val_accuracy: 0.8242 - val_recall: 0.8400 - val_precision: 0.8400\n",
      "Epoch 28/100\n",
      "212/212 [==============================] - 0s 1ms/step - loss: 0.3576 - accuracy: 0.8579 - recall: 0.8957 - precision: 0.8479 - val_loss: 0.4541 - val_accuracy: 0.7582 - val_recall: 0.6600 - val_precision: 0.8684\n",
      "Epoch 29/100\n",
      "212/212 [==============================] - 0s 1ms/step - loss: 0.3381 - accuracy: 0.8531 - recall: 0.8326 - precision: 0.8860 - val_loss: 0.4330 - val_accuracy: 0.7802 - val_recall: 0.7000 - val_precision: 0.8750\n",
      "Epoch 30/100\n",
      "212/212 [==============================] - 0s 1ms/step - loss: 0.3413 - accuracy: 0.8304 - recall: 0.8229 - precision: 0.8489 - val_loss: 0.4918 - val_accuracy: 0.6923 - val_recall: 0.5000 - val_precision: 0.8929\n",
      "Epoch 31/100\n",
      "212/212 [==============================] - 0s 1ms/step - loss: 0.4028 - accuracy: 0.8238 - recall: 0.7962 - precision: 0.8601 - val_loss: 0.4009 - val_accuracy: 0.8242 - val_recall: 0.8600 - val_precision: 0.8269\n",
      "Epoch 32/100\n",
      "212/212 [==============================] - 0s 1ms/step - loss: 0.3753 - accuracy: 0.8107 - recall: 0.8893 - precision: 0.8196 - val_loss: 0.4246 - val_accuracy: 0.8242 - val_recall: 0.7800 - val_precision: 0.8864\n",
      "Epoch 33/100\n",
      "212/212 [==============================] - 0s 1ms/step - loss: 0.4781 - accuracy: 0.7764 - recall: 0.7399 - precision: 0.8244 - val_loss: 0.4165 - val_accuracy: 0.8132 - val_recall: 0.8000 - val_precision: 0.8511\n",
      "Epoch 34/100\n",
      "212/212 [==============================] - 0s 1ms/step - loss: 0.4095 - accuracy: 0.8321 - recall: 0.8350 - precision: 0.8435 - val_loss: 0.4171 - val_accuracy: 0.8132 - val_recall: 0.8000 - val_precision: 0.8511\n",
      "Epoch 35/100\n",
      "212/212 [==============================] - 0s 1ms/step - loss: 0.3425 - accuracy: 0.8354 - recall: 0.7899 - precision: 0.8378 - val_loss: 0.5699 - val_accuracy: 0.7802 - val_recall: 0.9600 - val_precision: 0.7273\n",
      "Epoch 36/100\n",
      "212/212 [==============================] - 0s 1ms/step - loss: 0.4888 - accuracy: 0.8121 - recall: 0.9329 - precision: 0.7827 - val_loss: 0.4494 - val_accuracy: 0.7692 - val_recall: 0.6800 - val_precision: 0.8718\n",
      "Epoch 37/100\n"
     ]
    },
    {
     "name": "stdout",
     "output_type": "stream",
     "text": [
      "212/212 [==============================] - 0s 1ms/step - loss: 0.4142 - accuracy: 0.8428 - recall: 0.9172 - precision: 0.8282 - val_loss: 0.4870 - val_accuracy: 0.8132 - val_recall: 0.9400 - val_precision: 0.7705\n",
      "Epoch 38/100\n",
      "212/212 [==============================] - 0s 1ms/step - loss: 0.3839 - accuracy: 0.8393 - recall: 0.9118 - precision: 0.8025 - val_loss: 0.4098 - val_accuracy: 0.8352 - val_recall: 0.8600 - val_precision: 0.8431\n",
      "Epoch 39/100\n",
      "212/212 [==============================] - 0s 1ms/step - loss: 0.3618 - accuracy: 0.8271 - recall: 0.8051 - precision: 0.8385 - val_loss: 0.4183 - val_accuracy: 0.8022 - val_recall: 0.7600 - val_precision: 0.8636\n",
      "Epoch 40/100\n",
      "212/212 [==============================] - 0s 1ms/step - loss: 0.3210 - accuracy: 0.8408 - recall: 0.8530 - precision: 0.8526 - val_loss: 0.4030 - val_accuracy: 0.8132 - val_recall: 0.8200 - val_precision: 0.8367\n",
      "Epoch 41/100\n",
      "212/212 [==============================] - 0s 1ms/step - loss: 0.3272 - accuracy: 0.8817 - recall: 0.9027 - precision: 0.8497 - val_loss: 0.4338 - val_accuracy: 0.8242 - val_recall: 0.8000 - val_precision: 0.8696\n",
      "Epoch 42/100\n",
      "212/212 [==============================] - 0s 1ms/step - loss: 0.4037 - accuracy: 0.8516 - recall: 0.8583 - precision: 0.8743 - val_loss: 0.4023 - val_accuracy: 0.8352 - val_recall: 0.8800 - val_precision: 0.8302\n",
      "Epoch 43/100\n",
      "212/212 [==============================] - 0s 1ms/step - loss: 0.3471 - accuracy: 0.8520 - recall: 0.9091 - precision: 0.8549 - val_loss: 0.4016 - val_accuracy: 0.8462 - val_recall: 0.8800 - val_precision: 0.8462\n",
      "Epoch 44/100\n",
      "212/212 [==============================] - 0s 1ms/step - loss: 0.3555 - accuracy: 0.8693 - recall: 0.8964 - precision: 0.8566 - val_loss: 0.4137 - val_accuracy: 0.8132 - val_recall: 0.8200 - val_precision: 0.8367\n",
      "Epoch 45/100\n",
      "212/212 [==============================] - 0s 1ms/step - loss: 0.3668 - accuracy: 0.8756 - recall: 0.8983 - precision: 0.8816 - val_loss: 0.4122 - val_accuracy: 0.8352 - val_recall: 0.8600 - val_precision: 0.8431\n",
      "Epoch 46/100\n",
      "212/212 [==============================] - 0s 1ms/step - loss: 0.3419 - accuracy: 0.8252 - recall: 0.8668 - precision: 0.8117 - val_loss: 0.4491 - val_accuracy: 0.8242 - val_recall: 0.9200 - val_precision: 0.7931\n",
      "Epoch 47/100\n",
      "212/212 [==============================] - 0s 1ms/step - loss: 0.3773 - accuracy: 0.8281 - recall: 0.8871 - precision: 0.8155 - val_loss: 0.4145 - val_accuracy: 0.8132 - val_recall: 0.8200 - val_precision: 0.8367\n",
      "Epoch 48/100\n",
      "212/212 [==============================] - 0s 1ms/step - loss: 0.4003 - accuracy: 0.8549 - recall: 0.9162 - precision: 0.8391 - val_loss: 0.4230 - val_accuracy: 0.8242 - val_recall: 0.8200 - val_precision: 0.8542\n",
      "Epoch 49/100\n",
      "212/212 [==============================] - 0s 1ms/step - loss: 0.3870 - accuracy: 0.8306 - recall: 0.8391 - precision: 0.8413 - val_loss: 0.4426 - val_accuracy: 0.8022 - val_recall: 0.8600 - val_precision: 0.7963\n",
      "Epoch 50/100\n",
      "212/212 [==============================] - 0s 1ms/step - loss: 0.3363 - accuracy: 0.8697 - recall: 0.9277 - precision: 0.8394 - val_loss: 0.4385 - val_accuracy: 0.8462 - val_recall: 0.9000 - val_precision: 0.8333\n",
      "Epoch 51/100\n",
      "212/212 [==============================] - 0s 1ms/step - loss: 0.4799 - accuracy: 0.8253 - recall: 0.8721 - precision: 0.8086 - val_loss: 0.4412 - val_accuracy: 0.8132 - val_recall: 0.8200 - val_precision: 0.8367\n",
      "Epoch 52/100\n",
      "212/212 [==============================] - 0s 1ms/step - loss: 0.3290 - accuracy: 0.8546 - recall: 0.8849 - precision: 0.8678 - val_loss: 0.4288 - val_accuracy: 0.8352 - val_recall: 0.8600 - val_precision: 0.8431\n",
      "Epoch 53/100\n",
      "212/212 [==============================] - 0s 1ms/step - loss: 0.3687 - accuracy: 0.8923 - recall: 0.9329 - precision: 0.8968 - val_loss: 0.4175 - val_accuracy: 0.8132 - val_recall: 0.8200 - val_precision: 0.8367\n",
      "Epoch 54/100\n",
      "212/212 [==============================] - 0s 1ms/step - loss: 0.2948 - accuracy: 0.8553 - recall: 0.8432 - precision: 0.8755 - val_loss: 0.4083 - val_accuracy: 0.8571 - val_recall: 0.9000 - val_precision: 0.8491\n",
      "Epoch 55/100\n",
      "212/212 [==============================] - 0s 1ms/step - loss: 0.3377 - accuracy: 0.8649 - recall: 0.8838 - precision: 0.8682 - val_loss: 0.4440 - val_accuracy: 0.8022 - val_recall: 0.7200 - val_precision: 0.9000\n",
      "Epoch 56/100\n",
      "212/212 [==============================] - 0s 1ms/step - loss: 0.3313 - accuracy: 0.8648 - recall: 0.8552 - precision: 0.8878 - val_loss: 0.5825 - val_accuracy: 0.6813 - val_recall: 0.4600 - val_precision: 0.9200\n",
      "Epoch 57/100\n",
      "212/212 [==============================] - 0s 1ms/step - loss: 0.3894 - accuracy: 0.8331 - recall: 0.7554 - precision: 0.9133 - val_loss: 0.4262 - val_accuracy: 0.8242 - val_recall: 0.8400 - val_precision: 0.8400\n",
      "Epoch 58/100\n",
      "212/212 [==============================] - 0s 1ms/step - loss: 0.3264 - accuracy: 0.8403 - recall: 0.8542 - precision: 0.8402 - val_loss: 0.4220 - val_accuracy: 0.8462 - val_recall: 0.8800 - val_precision: 0.8462\n",
      "Epoch 59/100\n",
      "212/212 [==============================] - 0s 1ms/step - loss: 0.3197 - accuracy: 0.8333 - recall: 0.8827 - precision: 0.8365 - val_loss: 0.4833 - val_accuracy: 0.8352 - val_recall: 0.8800 - val_precision: 0.8302\n",
      "Epoch 60/100\n",
      "212/212 [==============================] - 0s 1ms/step - loss: 0.3714 - accuracy: 0.8500 - recall: 0.8796 - precision: 0.8348 - val_loss: 0.4764 - val_accuracy: 0.8132 - val_recall: 0.8000 - val_precision: 0.8511\n",
      "Epoch 61/100\n",
      "212/212 [==============================] - 0s 1ms/step - loss: 0.2859 - accuracy: 0.8931 - recall: 0.9084 - precision: 0.8864 - val_loss: 0.4571 - val_accuracy: 0.8352 - val_recall: 0.8000 - val_precision: 0.8889\n",
      "Epoch 62/100\n",
      "212/212 [==============================] - 0s 1ms/step - loss: 0.3722 - accuracy: 0.8661 - recall: 0.8829 - precision: 0.8714 - val_loss: 0.4269 - val_accuracy: 0.8352 - val_recall: 0.8000 - val_precision: 0.8889\n",
      "Epoch 63/100\n",
      "212/212 [==============================] - 0s 1ms/step - loss: 0.3547 - accuracy: 0.8542 - recall: 0.8298 - precision: 0.8723 - val_loss: 0.4340 - val_accuracy: 0.8132 - val_recall: 0.8200 - val_precision: 0.8367\n",
      "Epoch 64/100\n",
      "212/212 [==============================] - 0s 1ms/step - loss: 0.3312 - accuracy: 0.8667 - recall: 0.8362 - precision: 0.8895 - val_loss: 0.4460 - val_accuracy: 0.8352 - val_recall: 0.8200 - val_precision: 0.8723\n",
      "Epoch 65/100\n",
      "212/212 [==============================] - 0s 1ms/step - loss: 0.3846 - accuracy: 0.8027 - recall: 0.7673 - precision: 0.8030 - val_loss: 0.4366 - val_accuracy: 0.8352 - val_recall: 0.8000 - val_precision: 0.8889\n",
      "Epoch 66/100\n",
      "212/212 [==============================] - 0s 1ms/step - loss: 0.2827 - accuracy: 0.8817 - recall: 0.9278 - precision: 0.8594 - val_loss: 0.5945 - val_accuracy: 0.8132 - val_recall: 0.9400 - val_precision: 0.7705\n",
      "Epoch 67/100\n",
      "212/212 [==============================] - 0s 1ms/step - loss: 0.3905 - accuracy: 0.8474 - recall: 0.8687 - precision: 0.8588 - val_loss: 0.5167 - val_accuracy: 0.8132 - val_recall: 0.8200 - val_precision: 0.8367\n",
      "Epoch 68/100\n",
      "212/212 [==============================] - 0s 1ms/step - loss: 0.3386 - accuracy: 0.8559 - recall: 0.8405 - precision: 0.8481 - val_loss: 0.5165 - val_accuracy: 0.8132 - val_recall: 0.7800 - val_precision: 0.8667\n",
      "Epoch 69/100\n",
      "212/212 [==============================] - 0s 1ms/step - loss: 0.2783 - accuracy: 0.8668 - recall: 0.8488 - precision: 0.9221 - val_loss: 0.4526 - val_accuracy: 0.8242 - val_recall: 0.8200 - val_precision: 0.8542\n",
      "Epoch 70/100\n",
      "212/212 [==============================] - 0s 1ms/step - loss: 0.3522 - accuracy: 0.8484 - recall: 0.8167 - precision: 0.8700 - val_loss: 0.4372 - val_accuracy: 0.8132 - val_recall: 0.8200 - val_precision: 0.8367\n",
      "Epoch 71/100\n",
      "212/212 [==============================] - 0s 1ms/step - loss: 0.2842 - accuracy: 0.8905 - recall: 0.8936 - precision: 0.8828 - val_loss: 0.4892 - val_accuracy: 0.8352 - val_recall: 0.8600 - val_precision: 0.8431\n",
      "Epoch 72/100\n",
      "212/212 [==============================] - 0s 1ms/step - loss: 0.3055 - accuracy: 0.8544 - recall: 0.8710 - precision: 0.8542 - val_loss: 0.4275 - val_accuracy: 0.8242 - val_recall: 0.8000 - val_precision: 0.8696\n",
      "Epoch 73/100\n"
     ]
    },
    {
     "name": "stdout",
     "output_type": "stream",
     "text": [
      "212/212 [==============================] - 0s 1ms/step - loss: 0.3073 - accuracy: 0.8561 - recall: 0.8442 - precision: 0.8641 - val_loss: 0.4616 - val_accuracy: 0.8132 - val_recall: 0.8200 - val_precision: 0.8367\n",
      "Epoch 74/100\n",
      "212/212 [==============================] - 0s 1ms/step - loss: 0.3183 - accuracy: 0.8835 - recall: 0.9151 - precision: 0.8881 - val_loss: 0.4402 - val_accuracy: 0.8352 - val_recall: 0.8800 - val_precision: 0.8302\n",
      "Epoch 75/100\n",
      "212/212 [==============================] - 0s 1ms/step - loss: 0.3014 - accuracy: 0.8650 - recall: 0.9292 - precision: 0.8507 - val_loss: 0.4679 - val_accuracy: 0.7912 - val_recall: 0.7000 - val_precision: 0.8974\n",
      "Epoch 76/100\n",
      "212/212 [==============================] - 0s 1ms/step - loss: 0.2982 - accuracy: 0.8564 - recall: 0.8644 - precision: 0.8710 - val_loss: 0.4486 - val_accuracy: 0.8242 - val_recall: 0.8000 - val_precision: 0.8696\n",
      "Epoch 77/100\n",
      "212/212 [==============================] - 0s 1ms/step - loss: 0.2751 - accuracy: 0.9000 - recall: 0.9046 - precision: 0.8803 - val_loss: 0.5441 - val_accuracy: 0.8571 - val_recall: 0.9400 - val_precision: 0.8246\n",
      "Epoch 78/100\n",
      "212/212 [==============================] - 0s 1ms/step - loss: 0.3467 - accuracy: 0.8977 - recall: 0.9220 - precision: 0.8801 - val_loss: 0.4855 - val_accuracy: 0.8242 - val_recall: 0.8000 - val_precision: 0.8696\n",
      "Epoch 79/100\n",
      "212/212 [==============================] - 0s 1ms/step - loss: 0.2858 - accuracy: 0.8855 - recall: 0.9271 - precision: 0.8686 - val_loss: 0.4219 - val_accuracy: 0.8242 - val_recall: 0.8400 - val_precision: 0.8400\n",
      "Epoch 80/100\n",
      "212/212 [==============================] - 0s 1ms/step - loss: 0.3294 - accuracy: 0.8683 - recall: 0.9120 - precision: 0.8512 - val_loss: 0.4421 - val_accuracy: 0.8242 - val_recall: 0.7600 - val_precision: 0.9048\n",
      "Epoch 81/100\n",
      "212/212 [==============================] - 0s 1ms/step - loss: 0.3023 - accuracy: 0.8726 - recall: 0.9066 - precision: 0.8283 - val_loss: 0.5112 - val_accuracy: 0.8242 - val_recall: 0.8400 - val_precision: 0.8400\n",
      "Epoch 82/100\n",
      "212/212 [==============================] - 0s 1ms/step - loss: 0.2507 - accuracy: 0.9034 - recall: 0.9174 - precision: 0.9023 - val_loss: 0.4264 - val_accuracy: 0.8242 - val_recall: 0.7800 - val_precision: 0.8864\n",
      "Epoch 83/100\n",
      "212/212 [==============================] - 0s 1ms/step - loss: 0.2802 - accuracy: 0.8562 - recall: 0.8533 - precision: 0.8749 - val_loss: 0.5314 - val_accuracy: 0.7692 - val_recall: 0.6600 - val_precision: 0.8919\n",
      "Epoch 84/100\n",
      "212/212 [==============================] - 0s 1ms/step - loss: 0.2608 - accuracy: 0.8568 - recall: 0.8334 - precision: 0.9157 - val_loss: 0.4757 - val_accuracy: 0.8132 - val_recall: 0.8200 - val_precision: 0.8367\n",
      "Epoch 85/100\n",
      "212/212 [==============================] - 0s 1ms/step - loss: 0.3070 - accuracy: 0.8700 - recall: 0.8586 - precision: 0.8718 - val_loss: 0.5508 - val_accuracy: 0.8132 - val_recall: 0.8200 - val_precision: 0.8367\n",
      "Epoch 86/100\n",
      "212/212 [==============================] - 0s 1ms/step - loss: 0.2593 - accuracy: 0.8717 - recall: 0.8744 - precision: 0.8632 - val_loss: 0.5164 - val_accuracy: 0.8242 - val_recall: 0.7600 - val_precision: 0.9048\n",
      "Epoch 87/100\n",
      "212/212 [==============================] - 0s 1ms/step - loss: 0.2707 - accuracy: 0.8683 - recall: 0.8555 - precision: 0.8947 - val_loss: 0.5329 - val_accuracy: 0.8132 - val_recall: 0.8200 - val_precision: 0.8367\n",
      "Epoch 88/100\n",
      "212/212 [==============================] - 0s 1ms/step - loss: 0.2682 - accuracy: 0.8980 - recall: 0.8669 - precision: 0.9201 - val_loss: 0.4521 - val_accuracy: 0.8242 - val_recall: 0.8000 - val_precision: 0.8696\n",
      "Epoch 89/100\n",
      "212/212 [==============================] - 0s 1ms/step - loss: 0.3078 - accuracy: 0.8689 - recall: 0.8465 - precision: 0.9008 - val_loss: 0.4888 - val_accuracy: 0.8132 - val_recall: 0.8000 - val_precision: 0.8511\n",
      "Epoch 90/100\n",
      "212/212 [==============================] - 0s 1ms/step - loss: 0.2609 - accuracy: 0.8722 - recall: 0.8536 - precision: 0.8904 - val_loss: 0.5225 - val_accuracy: 0.8132 - val_recall: 0.8200 - val_precision: 0.8367\n",
      "Epoch 91/100\n",
      "212/212 [==============================] - 0s 1ms/step - loss: 0.2677 - accuracy: 0.8816 - recall: 0.8814 - precision: 0.8987 - val_loss: 0.5313 - val_accuracy: 0.8132 - val_recall: 0.8200 - val_precision: 0.8367\n",
      "Epoch 92/100\n",
      "212/212 [==============================] - 0s 1ms/step - loss: 0.3120 - accuracy: 0.8786 - recall: 0.9056 - precision: 0.8619 - val_loss: 0.6969 - val_accuracy: 0.7692 - val_recall: 0.6600 - val_precision: 0.8919\n",
      "Epoch 93/100\n",
      "212/212 [==============================] - 0s 1ms/step - loss: 0.2455 - accuracy: 0.8874 - recall: 0.8717 - precision: 0.9136 - val_loss: 0.5367 - val_accuracy: 0.8022 - val_recall: 0.7400 - val_precision: 0.8810\n",
      "Epoch 94/100\n",
      "212/212 [==============================] - 0s 1ms/step - loss: 0.2907 - accuracy: 0.8756 - recall: 0.9042 - precision: 0.8654 - val_loss: 0.6019 - val_accuracy: 0.8132 - val_recall: 0.7800 - val_precision: 0.8667\n",
      "Epoch 95/100\n",
      "212/212 [==============================] - 0s 1ms/step - loss: 0.2993 - accuracy: 0.8593 - recall: 0.8785 - precision: 0.8734 - val_loss: 0.6055 - val_accuracy: 0.8022 - val_recall: 0.8000 - val_precision: 0.8333\n",
      "Epoch 96/100\n",
      "212/212 [==============================] - 0s 1ms/step - loss: 0.2692 - accuracy: 0.8829 - recall: 0.8694 - precision: 0.8776 - val_loss: 0.6311 - val_accuracy: 0.8352 - val_recall: 0.8600 - val_precision: 0.8431\n",
      "Epoch 97/100\n",
      "212/212 [==============================] - ETA: 0s - loss: 0.2482 - accuracy: 0.9061 - recall: 0.9286 - precision: 0.875 - 0s 1ms/step - loss: 0.2489 - accuracy: 0.9054 - recall: 0.9281 - precision: 0.8750 - val_loss: 0.4832 - val_accuracy: 0.8242 - val_recall: 0.8400 - val_precision: 0.8400\n",
      "Epoch 98/100\n",
      "212/212 [==============================] - 0s 1ms/step - loss: 0.3115 - accuracy: 0.8759 - recall: 0.9008 - precision: 0.8547 - val_loss: 0.5425 - val_accuracy: 0.8242 - val_recall: 0.8400 - val_precision: 0.8400\n",
      "Epoch 99/100\n",
      "212/212 [==============================] - 0s 1ms/step - loss: 0.2547 - accuracy: 0.8699 - recall: 0.8968 - precision: 0.8609 - val_loss: 0.5808 - val_accuracy: 0.8132 - val_recall: 0.8000 - val_precision: 0.8511\n",
      "Epoch 100/100\n",
      "212/212 [==============================] - 0s 1ms/step - loss: 0.2343 - accuracy: 0.8874 - recall: 0.8754 - precision: 0.8967 - val_loss: 0.5895 - val_accuracy: 0.8242 - val_recall: 0.8200 - val_precision: 0.8542\n"
     ]
    }
   ],
   "source": [
    "# 모델을 실행합니다.\n",
    "history_std = std_model.fit(std_train_X, std_train_Y, epochs=100, batch_size=1,validation_data=(std_test_X,std_test_Y)) # batch_size #확인을 위해서 20번만"
   ]
  }
 ],
 "metadata": {
  "kernelspec": {
   "display_name": "Python 3",
   "language": "python",
   "name": "python3"
  },
  "language_info": {
   "codemirror_mode": {
    "name": "ipython",
    "version": 3
   },
   "file_extension": ".py",
   "mimetype": "text/x-python",
   "name": "python",
   "nbconvert_exporter": "python",
   "pygments_lexer": "ipython3",
   "version": "3.8.9"
  }
 },
 "nbformat": 4,
 "nbformat_minor": 5
}
