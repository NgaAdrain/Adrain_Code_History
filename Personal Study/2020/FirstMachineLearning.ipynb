{
  "nbformat": 4,
  "nbformat_minor": 0,
  "metadata": {
    "colab": {
      "name": "FirstMachineLearning.ipynb",
      "provenance": [],
      "collapsed_sections": []
    },
    "kernelspec": {
      "name": "python3",
      "display_name": "Python 3"
    }
  },
  "cells": [
    {
      "cell_type": "markdown",
      "metadata": {
        "id": "JeaRUtr5yoev",
        "colab_type": "text"
      },
      "source": [
        "TensorFlow MNIST 예제 코드 분석\n",
        "\n",
        "TensorFlow 버전은 2.x로 사용.\n",
        "\n",
        "그리고 python 2,x버전과의 호환성을 위해 future에서 import\n",
        "\n",
        "tensorflow를 import"
      ]
    },
    {
      "cell_type": "code",
      "metadata": {
        "id": "uV7wpcdRkR-f",
        "colab_type": "code",
        "colab": {
          "base_uri": "https://localhost:8080/",
          "height": 35
        },
        "outputId": "80715d84-4b07-4e0a-8a3b-0ad575669453"
      },
      "source": [
        "# Import the TensorFlow\n",
        "try:\n",
        "  # Colab only\n",
        "  %tensorflow_version 2.x\n",
        "except Exception:\n",
        "  pass\n",
        "\n",
        "from __future__ import absolute_import, division, print_function, unicode_literals\n",
        "\n",
        "import tensorflow as tf"
      ],
      "execution_count": null,
      "outputs": [
        {
          "output_type": "stream",
          "text": [
            "TensorFlow 2.x selected.\n"
          ],
          "name": "stdout"
        }
      ]
    },
    {
      "cell_type": "markdown",
      "metadata": {
        "id": "vWW144CsypVA",
        "colab_type": "text"
      },
      "source": [
        "손그림 확인용으로 mnist dataset을 사용\n",
        "\n",
        "tensorflow 2.x버전에서는 keras의 dataset에 mnist dataset이 존재\n",
        "\n"
      ]
    },
    {
      "cell_type": "code",
      "metadata": {
        "id": "9gwY_sB4ymEQ",
        "colab_type": "code",
        "colab": {
          "base_uri": "https://localhost:8080/",
          "height": 53
        },
        "outputId": "6c27efc0-83be-429b-c11d-5a6cb63bdedd"
      },
      "source": [
        "#머신 러닝용 dataset을 호출\n",
        "mnist = tf.keras.datasets.mnist\n",
        "# 당연히 해당 dataset이 어떻게 되어있는지는 알아야겠지.\n",
        "# 해당 mnist dataset은 55000개의 training image, 5000개의 certification image -> x_train\n",
        "# 해당 image에 매칭되는 학습 set label (=일종의 태그) -> y_train\n",
        "# 테스트용 image 10000개 -> x_test\n",
        "# 해당 image에 매칭되는 테스트 set label -> y_test\n",
        "# Load and prepare the MNIST dataset. \n",
        "(x_train, y_train), (x_test, y_test) = mnist.load_data()\n",
        "x_train, x_test = x_train / 255.0, x_test / 255.0\n",
        "# 픽셀은 0~255사이의 값이므로 255로 나눠서 각 pixel이 0~1의 값을 갖도록 함."
      ],
      "execution_count": null,
      "outputs": [
        {
          "output_type": "stream",
          "text": [
            "Downloading data from https://storage.googleapis.com/tensorflow/tf-keras-datasets/mnist.npz\n",
            "11493376/11490434 [==============================] - 0s 0us/step\n"
          ],
          "name": "stdout"
        }
      ]
    },
    {
      "cell_type": "markdown",
      "metadata": {
        "id": "iiEal4dDyZ1P",
        "colab_type": "text"
      },
      "source": [
        "dataset을 불러왔으니 이제는 모델을 생성해야한다.\n",
        "\n",
        "모델은 Sequential 모델(선형 layer 모델)을 채택\n",
        "\n",
        "(Original Layer)--->(2nd Layer)--->...(nth Layer)...--->(Goal Layer)식으로 연결\n",
        "\n",
        "Flatten은 2차원 평면을 1차원 행렬로 바꿔주는 역할\n",
        "\n",
        "여기서 28x28 -> 784로 바꿔주는 역할\n",
        "\n",
        "Dense는 2차원 Layer이다.\n",
        "\n",
        "즉 아래의 코드는\n",
        "\n",
        "각 layer의 뉴런의 갯수가\n",
        "\n",
        "784->256->256->10으로 784개의 원소가 10개(0~9의 수)로 mapping\n",
        "\n",
        "위의 모델을 생성"
      ]
    },
    {
      "cell_type": "code",
      "metadata": {
        "id": "n-aTepOfybo3",
        "colab_type": "code",
        "colab": {}
      },
      "source": [
        "# Build the tf.keras.Sequential model by stacking layers.\n",
        "# 선형 layer 모델 -> 층별로 layer를 쌓는다고 생각하면 됨!\n",
        "model = tf.keras.models.Sequential([\n",
        "  tf.keras.layers.Flatten(input_shape=(28, 28)),\n",
        "  tf.keras.layers.Dense(256, activation='relu'),#2D Layer\n",
        "  tf.keras.layers.Dropout(0.2),\n",
        "  tf.keras.layers.Dense(256, activation='relu'),\n",
        "  tf.keras.layers.Dense(10, activation='softmax')\n",
        "])"
      ],
      "execution_count": null,
      "outputs": []
    },
    {
      "cell_type": "markdown",
      "metadata": {
        "id": "tkqps1Jz0PU2",
        "colab_type": "text"
      },
      "source": [
        "모델을 생성했으면 해당 모델을 Compile해야 사용이 가능하다!\n",
        "\n",
        "model의 compile은 TensorFlow 2.x부터 사용하는 기능이다.\n",
        "\n",
        "compile후에는 학습을 해야한다. 이때 model.fit을 사용!\n",
        "\n",
        "그리고 model.evaluate를 이용해서 test set에 대해 정확성을 check!"
      ]
    },
    {
      "cell_type": "code",
      "metadata": {
        "id": "83qTT1500PMo",
        "colab_type": "code",
        "colab": {
          "base_uri": "https://localhost:8080/",
          "height": 251
        },
        "outputId": "9289833f-4897-4114-c475-13f89bc15af2"
      },
      "source": [
        "model.compile(optimizer='adam',#정규화기\n",
        "              loss='sparse_categorical_crossentropy', #손실함수\n",
        "              metrics=['accuracy']) #기준리스트\n",
        "# Train and evaluate model:\n",
        "model.fit(x_train, y_train, epochs=5)\n",
        "model.evaluate(x_test, y_test)"
      ],
      "execution_count": null,
      "outputs": [
        {
          "output_type": "stream",
          "text": [
            "Train on 60000 samples\n",
            "Epoch 1/5\n",
            "60000/60000 [==============================] - 9s 150us/sample - loss: 0.2280 - accuracy: 0.9301\n",
            "Epoch 2/5\n",
            "60000/60000 [==============================] - 8s 140us/sample - loss: 0.1087 - accuracy: 0.9664\n",
            "Epoch 3/5\n",
            "60000/60000 [==============================] - 8s 131us/sample - loss: 0.0833 - accuracy: 0.9735\n",
            "Epoch 4/5\n",
            "60000/60000 [==============================] - 8s 133us/sample - loss: 0.0670 - accuracy: 0.9785\n",
            "Epoch 5/5\n",
            "60000/60000 [==============================] - 8s 139us/sample - loss: 0.0568 - accuracy: 0.9817\n",
            "10000/10000 [==============================] - 1s 63us/sample - loss: 0.0805 - accuracy: 0.9760\n"
          ],
          "name": "stdout"
        },
        {
          "output_type": "execute_result",
          "data": {
            "text/plain": [
              "[0.0804953612458252, 0.976]"
            ]
          },
          "metadata": {
            "tags": []
          },
          "execution_count": 4
        }
      ]
    },
    {
      "cell_type": "markdown",
      "metadata": {
        "id": "3_gz2Yat0rRI",
        "colab_type": "text"
      },
      "source": [
        "여기까지 데이터 집합으로부터 데이터를 받아서 학습모델 생성 및 학습,\n",
        "\n",
        "테스트 과정을 진행하였다.\n",
        "\n",
        "이제 모델이 완성 되었으면 실제로 데이터를 넣어서 예측해보아야 한다.\n",
        "\n",
        "이때 사용하는 것이 model.predict이다."
      ]
    },
    {
      "cell_type": "code",
      "metadata": {
        "id": "4_9GpOnGr_ai",
        "colab_type": "code",
        "colab": {}
      },
      "source": [
        "######################################333\n",
        "predictions = model.predict(x_test)\n",
        "print(np.argmax(predictions[2]))\n",
        "print(y_test[2])"
      ],
      "execution_count": null,
      "outputs": []
    },
    {
      "cell_type": "markdown",
      "metadata": {
        "id": "MmrsA__R1L1t",
        "colab_type": "text"
      },
      "source": [
        "label과 예측결과를 비교했을 때 제대로 된 예측이 나오는 것을 확인할 수 있었다."
      ]
    },
    {
      "cell_type": "code",
      "metadata": {
        "id": "NZsgNBKUnc_1",
        "colab_type": "code",
        "colab": {}
      },
      "source": [
        ""
      ],
      "execution_count": null,
      "outputs": []
    },
    {
      "cell_type": "code",
      "metadata": {
        "id": "9oOBMHtMnYHF",
        "colab_type": "code",
        "colab": {}
      },
      "source": [
        ""
      ],
      "execution_count": null,
      "outputs": []
    },
    {
      "cell_type": "code",
      "metadata": {
        "id": "4YrMJaZbnVu2",
        "colab_type": "code",
        "colab": {}
      },
      "source": [
        ""
      ],
      "execution_count": null,
      "outputs": []
    }
  ]
}